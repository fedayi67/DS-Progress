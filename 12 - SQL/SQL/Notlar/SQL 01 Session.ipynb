{
 "cells": [
  {
   "cell_type": "code",
   "execution_count": 1,
   "metadata": {},
   "outputs": [
    {
     "data": {
      "text/plain": [
       "' SQL Structured Query Language'"
      ]
     },
     "execution_count": 1,
     "metadata": {},
     "output_type": "execute_result"
    }
   ],
   "source": [
    "\"\"\" \n",
    "SQL Structured Query Language\n",
    "yapilandirilmis sorgu dili\n",
    "IDE Integrated Development Environment\n",
    "CRUD Create,Read,Update,Delete\n",
    "DBMS like IDE\n",
    "DB Validation Test\n",
    "Relational db also sql database\n",
    "SCHAMA\n",
    "NoSQL Non relational\n",
    "SQL komutlari 4 ana gruba ayrilir: 1.Select(DQL) Data query language\n",
    "Veri sorgulama dili, DBdeki datayi alir(tanimlanan kosullara gore,\n",
    "bir kismini ya tamamini)\n",
    "2. INSERT,UPDATE,DELETE (DML) Data manipulation language(IC MIMARI gibi \n",
    "Manipulation = Mimar dusun)\n",
    "3. DDL Data definition language:Database, Tables create,alter or drop\n",
    "Create,Alter,Drop\n",
    "4. Data Control Language - DCL. Used to give and take control of  DB and\n",
    "tables to user\n",
    "GRANT : Grants the control of DB to a user \n",
    "REVOKE : Revokes the control of a DB from a user\n",
    "Primary Key: The identifier for every Record, doensn't accept null or \n",
    "empty value doesn't repeat, (Constraint) and Unique, primarykeys \n",
    "can be created by  multiple alan\n",
    "Not every uniqe data can be primary\n",
    "Can contain any type of data\n",
    "Not every table has primary key\n",
    "Natural Key : dis dunyada gercek veri temsil ediyorsa, email,passport no\n",
    "Surrogate Key : bizim kurdugumuz, genel olarak kayit eklenmeden once \n",
    "uretilen sira numarasi gibi sayisal degerlere: College ID, can be similar\n",
    "between colleges\n",
    "Foreign Key: used to build relation among tables\n",
    "from child tablerelated to other(parent) table's primary key\n",
    "* Foregin key can be repeated and can accept null\n",
    "* A table can have multiple foreign key\n",
    "* A parent table can have only one primary key, but we can combine\n",
    "two columns(fields) and make them primary key (composite key)\n",
    "* Foreign key Tablonun kendi icinde bir relation olusturabilir\n",
    "* Composite Key : can be created by combination of fields\n",
    "Differences between Unique and primary keys\n",
    "U/P\n",
    "Bir tabloda birden fazla olabilir/ Bir tane olur\n",
    "Null kabul eder / Null degeri kabul etmez\n",
    "* ortak ozellikleri(Dublication'a yani cift kullanima izin vermez)\n",
    "one - to - one relation: and one to many relation can be build among tables\n",
    "also many to many(in order to reach from one table to other\n",
    "there has to be another table in between)(ara tablo)\n",
    "String Data Types:\n",
    " - char(size or len) uzunlugunu bildigim veriler icin Kimliknumarasi gibi\n",
    " az yazsak bile, yine de sizea gore yer kaplar ei.phone number if you write\n",
    " less than 10 it'll take same size\n",
    " - nchar(size or len), farkli dillerdeki karakterler icin kullanilir\n",
    " uzunlugu belli\n",
    " - varchar(size or len) girdigin sizea gore yer kaplar,size max yeri \n",
    " gosterir\n",
    " - nvarchar(size or len)\n",
    " Numeric Data Types: (in oracle number)\n",
    "numeric(p,s) precision(p): rakam, range from 1-38\n",
    "scale(s):virgulden sonraki bolum -84 to 127\n",
    "numeric(4,2) 12,24\n",
    "numeric(7) 7 basamakli, ondalik kismi yok\n",
    "Numeric Data Types:\n",
    "BLOB in oracle, BYTEA in postgre. used to convert image, vdo to binary\n",
    "\n",
    "\"\"\""
   ]
  },
  {
   "cell_type": "code",
   "execution_count": null,
   "metadata": {},
   "outputs": [],
   "source": []
  }
 ],
 "metadata": {
  "kernelspec": {
   "display_name": "Python 3",
   "language": "python",
   "name": "python3"
  },
  "language_info": {
   "codemirror_mode": {
    "name": "ipython",
    "version": 3
   },
   "file_extension": ".py",
   "mimetype": "text/x-python",
   "name": "python",
   "nbconvert_exporter": "python",
   "pygments_lexer": "ipython3",
   "version": "3.11.1"
  },
  "orig_nbformat": 4
 },
 "nbformat": 4,
 "nbformat_minor": 2
}
