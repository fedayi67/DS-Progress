{
 "cells": [
  {
   "attachments": {
    "logo.png": {
     "image/png": "[encoded data removed]"
    }
   },
   "cell_type": "markdown",
   "id": "61f0657b",
   "metadata": {},
   "source": [
    "![logo.png](attachment:logo.png)"
   ]
  },
  {
   "cell_type": "markdown",
   "id": "95f61b17-f2e4-41cb-9318-8154c4cfba00",
   "metadata": {},
   "source": [
    "# NumPy Assignment"
   ]
  },
  {
   "cell_type": "markdown",
   "id": "0b956e8b-c012-4b7d-9fe1-be68fe668606",
   "metadata": {},
   "source": [
    "## Import the numpy package under the name as np & print the numpy version"
   ]
  },
  {
   "cell_type": "code",
   "execution_count": 1,
   "id": "668e8221",
   "metadata": {},
   "outputs": [],
   "source": [
    "import numpy as np"
   ]
  },
  {
   "cell_type": "code",
   "execution_count": 2,
   "id": "406a8d36",
   "metadata": {},
   "outputs": [
    {
     "data": {
      "text/plain": [
       "'1.23.5'"
      ]
     },
     "execution_count": 2,
     "metadata": {},
     "output_type": "execute_result"
    }
   ],
   "source": [
    "np.__version__"
   ]
  },
  {
   "cell_type": "markdown",
   "id": "8c171220-e212-4057-ad4c-e809ba8961fd",
   "metadata": {},
   "source": [
    "## Create a null vector of size 10"
   ]
  },
  {
   "cell_type": "code",
   "execution_count": 6,
   "id": "db1493f9",
   "metadata": {},
   "outputs": [
    {
     "data": {
      "text/plain": [
       "array([0., 0., 0., 0., 0., 0., 0., 0., 0., 0.])"
      ]
     },
     "execution_count": 6,
     "metadata": {},
     "output_type": "execute_result"
    }
   ],
   "source": [
    "np.zeros(10)"
   ]
  },
  {
   "cell_type": "code",
   "execution_count": 18,
   "id": "851ba885",
   "metadata": {},
   "outputs": [
    {
     "data": {
      "text/plain": [
       "array([[0, 0, 0, 0, 0, 0, 0, 0, 0, 0]], dtype=int64)"
      ]
     },
     "execution_count": 18,
     "metadata": {},
     "output_type": "execute_result"
    }
   ],
   "source": [
    "arr = np.zeros((1,10),dtype = \"int64\")\n",
    "arr"
   ]
  },
  {
   "cell_type": "markdown",
   "id": "2891b252-a1db-4ab4-a164-47c9cce9a271",
   "metadata": {},
   "source": [
    "## Create a null vector of size 10 but the fifth value which is 1"
   ]
  },
  {
   "cell_type": "code",
   "execution_count": 20,
   "id": "51e58682",
   "metadata": {},
   "outputs": [
    {
     "data": {
      "text/plain": [
       "array([[0, 0, 0, 0, 1, 0, 0, 0, 0, 0]], dtype=int64)"
      ]
     },
     "execution_count": 20,
     "metadata": {},
     "output_type": "execute_result"
    }
   ],
   "source": [
    "arr[0][4] = 1\n",
    "arr"
   ]
  },
  {
   "cell_type": "code",
   "execution_count": 7,
   "id": "33bf60e5",
   "metadata": {},
   "outputs": [
    {
     "data": {
      "text/plain": [
       "array([0, 0, 0, 0, 1, 0, 0, 0, 0, 0])"
      ]
     },
     "execution_count": 7,
     "metadata": {},
     "output_type": "execute_result"
    }
   ],
   "source": [
    "np.array([int(x==4) for x in range(10)])"
   ]
  },
  {
   "cell_type": "code",
   "execution_count": 8,
   "id": "21418454",
   "metadata": {},
   "outputs": [
    {
     "data": {
      "text/plain": [
       "array([0, 0, 0, 0, 1, 0, 0, 0, 0, 0])"
      ]
     },
     "execution_count": 8,
     "metadata": {},
     "output_type": "execute_result"
    }
   ],
   "source": [
    "(np.arange(10) == 4) * 1"
   ]
  },
  {
   "cell_type": "markdown",
   "id": "491e5318-b216-48d8-8f35-82cd66594408",
   "metadata": {},
   "source": [
    "## Create a vector with values ranging from 10 to 49"
   ]
  },
  {
   "cell_type": "code",
   "execution_count": 23,
   "id": "c9e64ec2",
   "metadata": {},
   "outputs": [
    {
     "data": {
      "text/plain": [
       "array([37, 32, 21, 28, 39, 35, 45, 39, 27, 31])"
      ]
     },
     "execution_count": 23,
     "metadata": {},
     "output_type": "execute_result"
    }
   ],
   "source": [
    "arr2 = np.random.randint(10,49,10)\n",
    "arr2"
   ]
  },
  {
   "cell_type": "code",
   "execution_count": 9,
   "id": "c65b35a2",
   "metadata": {},
   "outputs": [
    {
     "data": {
      "text/plain": [
       "array([10, 11, 12, 13, 14, 15, 16, 17, 18, 19, 20, 21, 22, 23, 24, 25, 26,\n",
       "       27, 28, 29, 30, 31, 32, 33, 34, 35, 36, 37, 38, 39, 40, 41, 42, 43,\n",
       "       44, 45, 46, 47, 48, 49])"
      ]
     },
     "execution_count": 9,
     "metadata": {},
     "output_type": "execute_result"
    }
   ],
   "source": [
    "a = np.arange(10,50)\n",
    "a"
   ]
  },
  {
   "cell_type": "markdown",
   "id": "b7818669-03a5-4f61-b08f-b85b8dd94372",
   "metadata": {},
   "source": [
    "## Reverse a vector (first element becomes last)"
   ]
  },
  {
   "cell_type": "code",
   "execution_count": 10,
   "id": "0525c74f",
   "metadata": {},
   "outputs": [
    {
     "data": {
      "text/plain": [
       "array([49, 48, 47, 46, 45, 44, 43, 42, 41, 40, 39, 38, 37, 36, 35, 34, 33,\n",
       "       32, 31, 30, 29, 28, 27, 26, 25, 24, 23, 22, 21, 20, 19, 18, 17, 16,\n",
       "       15, 14, 13, 12, 11, 10])"
      ]
     },
     "execution_count": 10,
     "metadata": {},
     "output_type": "execute_result"
    }
   ],
   "source": [
    "a[::-1]"
   ]
  },
  {
   "cell_type": "markdown",
   "id": "5f4a94e4-596a-4c85-8356-7eb86d6cacbe",
   "metadata": {},
   "source": [
    "## Create a 3x3 matrix with values ranging from 0 to 8"
   ]
  },
  {
   "cell_type": "code",
   "execution_count": 37,
   "id": "6bc73f48",
   "metadata": {
    "scrolled": true
   },
   "outputs": [
    {
     "data": {
      "text/plain": [
       "array([[0, 1, 2],\n",
       "       [3, 4, 5],\n",
       "       [6, 7, 0]])"
      ]
     },
     "execution_count": 37,
     "metadata": {},
     "output_type": "execute_result"
    }
   ],
   "source": [
    "arr3 = np.arange(8)\n",
    "np.resize(arr3,(3,3))"
   ]
  },
  {
   "cell_type": "code",
   "execution_count": 11,
   "id": "02d7f4c9",
   "metadata": {},
   "outputs": [
    {
     "data": {
      "text/plain": [
       "array([[0, 1, 2],\n",
       "       [3, 4, 5],\n",
       "       [6, 7, 8]])"
      ]
     },
     "execution_count": 11,
     "metadata": {},
     "output_type": "execute_result"
    }
   ],
   "source": [
    "np.arange(0,9).reshape(3,3)"
   ]
  },
  {
   "cell_type": "markdown",
   "id": "0df95fd1-f316-4976-849b-756f927f382c",
   "metadata": {},
   "source": [
    "## Find indices of non­zero elements from [1,2,0,0,4,0]"
   ]
  },
  {
   "cell_type": "code",
   "execution_count": 14,
   "id": "95edf755",
   "metadata": {},
   "outputs": [
    {
     "data": {
      "text/plain": [
       "array([1, 2, 4])"
      ]
     },
     "execution_count": 14,
     "metadata": {},
     "output_type": "execute_result"
    }
   ],
   "source": [
    "arr4 = np.array([1,2,0,0,4,0])\n",
    "boolarr = arr4 != 0\n",
    "arr4[boolarr] # incorrect"
   ]
  },
  {
   "cell_type": "code",
   "execution_count": 12,
   "id": "a92b9f31",
   "metadata": {},
   "outputs": [
    {
     "data": {
      "text/plain": [
       "(array([0, 1, 4], dtype=int64),)"
      ]
     },
     "execution_count": 12,
     "metadata": {},
     "output_type": "execute_result"
    }
   ],
   "source": [
    "np.nonzero([1,2,0,0,4,0]) # the correct way of doing it"
   ]
  },
  {
   "cell_type": "code",
   "execution_count": 16,
   "id": "d0adc3dd",
   "metadata": {},
   "outputs": [
    {
     "data": {
      "text/plain": [
       "(array([0, 1, 4], dtype=int64),)"
      ]
     },
     "execution_count": 16,
     "metadata": {},
     "output_type": "execute_result"
    }
   ],
   "source": [
    "arr = np.array([1,2,0,0,4,0])\n",
    "np.where(arr != 0) # we can use all conditionals instead of !="
   ]
  },
  {
   "cell_type": "markdown",
   "id": "efc45ac3-9297-4ea0-9fd8-8534c46935e4",
   "metadata": {},
   "source": [
    "## Create a 3x3 identity matrix\n",
    "Identity matrix, kare matrisler için özel bir türdür. Diagonalindeki tüm elemanlar 1, diğer elemanlar ise 0 olan kare matrisdir."
   ]
  },
  {
   "cell_type": "code",
   "execution_count": 41,
   "id": "bb3b3ade",
   "metadata": {
    "scrolled": true
   },
   "outputs": [
    {
     "data": {
      "text/plain": [
       "array([[1., 0., 0.],\n",
       "       [0., 1., 0.],\n",
       "       [0., 0., 1.]])"
      ]
     },
     "execution_count": 41,
     "metadata": {},
     "output_type": "execute_result"
    }
   ],
   "source": [
    "np.eye(3,3)"
   ]
  },
  {
   "cell_type": "code",
   "execution_count": 17,
   "id": "811f2d86",
   "metadata": {},
   "outputs": [
    {
     "data": {
      "text/plain": [
       "array([[1., 0., 0.],\n",
       "       [0., 1., 0.],\n",
       "       [0., 0., 1.]])"
      ]
     },
     "execution_count": 17,
     "metadata": {},
     "output_type": "execute_result"
    }
   ],
   "source": [
    "np.identity(3)"
   ]
  },
  {
   "cell_type": "markdown",
   "id": "aa19488a-0613-48f3-8604-4499afe134e8",
   "metadata": {},
   "source": [
    "## Create a 3x3x3 array with random values"
   ]
  },
  {
   "cell_type": "code",
   "execution_count": 1,
   "id": "0465ead9",
   "metadata": {},
   "outputs": [
    {
     "data": {
      "text/plain": [
       "array([[[0.07579131, 0.75195932, 0.47545871],\n",
       "        [0.3969508 , 0.45936265, 0.66474823],\n",
       "        [0.81458675, 0.06205201, 0.90722587]],\n",
       "\n",
       "       [[0.23509783, 0.46927807, 0.59940927],\n",
       "        [0.18947816, 0.21778116, 0.49290683],\n",
       "        [0.75936519, 0.3524341 , 0.09304728]],\n",
       "\n",
       "       [[0.82581638, 0.07583002, 0.86991855],\n",
       "        [0.32746757, 0.29917347, 0.69230732],\n",
       "        [0.11498736, 0.40706626, 0.90837707]]])"
      ]
     },
     "execution_count": 1,
     "metadata": {},
     "output_type": "execute_result"
    }
   ],
   "source": [
    "np.random.rand(3, 3, 3)"
   ]
  },
  {
   "cell_type": "code",
   "execution_count": 2,
   "id": "10e3ac98",
   "metadata": {},
   "outputs": [
    {
     "data": {
      "text/plain": [
       "array([[[14.75839569, 12.60231347, 14.25903546],\n",
       "        [ 2.60820929,  2.94134973,  3.82502786],\n",
       "        [ 6.00554435,  7.72909275,  9.71674082]],\n",
       "\n",
       "       [[10.52381268,  8.65071544,  7.21059956],\n",
       "        [10.73586745,  2.39006399,  9.37338899],\n",
       "        [ 2.51500249,  7.42405043,  6.38129391]],\n",
       "\n",
       "       [[ 7.04745393, 11.14028422,  4.74532666],\n",
       "        [ 0.59636898,  2.18101438,  7.17831556],\n",
       "        [12.31795138,  6.19831193, 11.07745761]]])"
      ]
     },
     "execution_count": 2,
     "metadata": {},
     "output_type": "execute_result"
    }
   ],
   "source": [
    "np.random.rand(3, 3, 3) * 15"
   ]
  },
  {
   "cell_type": "code",
   "execution_count": 3,
   "id": "a4b01f17",
   "metadata": {
    "scrolled": true
   },
   "outputs": [
    {
     "data": {
      "text/plain": [
       "array([[[3, 0, 6],\n",
       "        [3, 3, 2],\n",
       "        [2, 9, 6]],\n",
       "\n",
       "       [[5, 9, 2],\n",
       "        [1, 6, 3],\n",
       "        [6, 8, 7]],\n",
       "\n",
       "       [[2, 7, 0],\n",
       "        [8, 9, 0],\n",
       "        [5, 5, 4]]])"
      ]
     },
     "execution_count": 3,
     "metadata": {},
     "output_type": "execute_result"
    }
   ],
   "source": [
    "np.random.randint(0, 10, size=(3, 3, 3))"
   ]
  },
  {
   "cell_type": "code",
   "execution_count": 19,
   "id": "4adc90b7",
   "metadata": {},
   "outputs": [],
   "source": [
    "np.random.seed(42) # in order to make the random values not change"
   ]
  },
  {
   "cell_type": "code",
   "execution_count": 4,
   "id": "cdfc7775",
   "metadata": {},
   "outputs": [
    {
     "data": {
      "text/plain": [
       "array([[[60, 10, 98],\n",
       "        [84,  6,  9],\n",
       "        [40,  7, 70]],\n",
       "\n",
       "       [[37, 97, 76],\n",
       "        [15, 55, 79],\n",
       "        [92, 76,  3]],\n",
       "\n",
       "       [[72, 66, 62],\n",
       "        [94, 22, 81],\n",
       "        [16, 25, 81]]])"
      ]
     },
     "execution_count": 4,
     "metadata": {},
     "output_type": "execute_result"
    }
   ],
   "source": [
    "np.random.randint(0, 100, size=(3, 3, 3))"
   ]
  },
  {
   "cell_type": "markdown",
   "id": "456bd772-149a-410a-9c86-04f1b19c6ae1",
   "metadata": {},
   "source": [
    "## Create a 10x10 array with random values and find the minimum and maximum values"
   ]
  },
  {
   "cell_type": "code",
   "execution_count": 23,
   "id": "d5f4cd08",
   "metadata": {},
   "outputs": [
    {
     "name": "stdout",
     "output_type": "stream",
     "text": [
      "[[709 415 246 835 438 202 183 122 400 766]\n",
      " [293 279 836 883 609 197 981 906 510 751]\n",
      " [143 608 200 123 186 325 463 348 770 659]\n",
      " [763 954 931 402 345 962 510 146 147 863]\n",
      " [710 819 488 928 935 639 550 337 871 640]\n",
      " [778 987 952 472 945 150 414 989 297 610]\n",
      " [262 763 143 345 623 571 880   1 896 303]\n",
      " [253 651 452  36 159   8 232  98 658 815]\n",
      " [207 130 403 151  53 119 672 919 627 586]\n",
      " [624 967 419 421 103 851 253 226 111 509]]\n",
      "1\n",
      "989\n"
     ]
    }
   ],
   "source": [
    "a = np.random.randint(0,1000,100).reshape(10,10)\n",
    "print(a)\n",
    "print(a.min())\n",
    "print(a.max())"
   ]
  },
  {
   "cell_type": "code",
   "execution_count": 5,
   "id": "ec01322d",
   "metadata": {
    "scrolled": true
   },
   "outputs": [
    {
     "data": {
      "text/plain": [
       "array([[5.25417756e-01, 7.37023736e-01, 7.79753318e-01, 3.66502165e-01,\n",
       "        8.50744207e-01, 7.19171715e-01, 8.82942244e-01, 5.23209298e-01,\n",
       "        5.55278214e-01, 9.37594867e-01],\n",
       "       [4.58864623e-01, 7.39370892e-01, 9.00247382e-01, 3.00757341e-01,\n",
       "        7.20769536e-01, 4.94244724e-01, 7.27122459e-01, 6.73339845e-01,\n",
       "        4.27228220e-01, 8.15410095e-01],\n",
       "       [3.30384962e-01, 6.91909796e-01, 9.38878271e-01, 3.03184487e-01,\n",
       "        9.46590426e-01, 5.80034156e-01, 4.37633163e-01, 7.00182420e-02,\n",
       "        1.55794620e-01, 3.65791576e-01],\n",
       "       [3.03138676e-01, 2.79373859e-01, 2.15992178e-01, 7.48313128e-01,\n",
       "        9.73152186e-01, 3.65841110e-01, 5.83079854e-01, 4.80679095e-01,\n",
       "        5.03399830e-02, 1.81276148e-01],\n",
       "       [6.14247989e-01, 1.92070782e-02, 6.78865721e-01, 3.00610783e-01,\n",
       "        3.48894648e-01, 5.62875928e-01, 3.44524562e-01, 8.62962369e-01,\n",
       "        5.41033955e-01, 4.18455479e-01],\n",
       "       [5.33248336e-01, 9.58415602e-01, 4.07236416e-01, 3.30517597e-02,\n",
       "        5.91691594e-01, 1.91483639e-01, 4.44294621e-01, 6.98451308e-01,\n",
       "        8.19387274e-02, 7.80309905e-01],\n",
       "       [3.35043607e-02, 7.76345486e-01, 3.16517840e-01, 7.85089812e-01,\n",
       "        7.83507335e-01, 3.62829622e-01, 8.19387542e-01, 7.20992911e-01,\n",
       "        4.55961614e-01, 3.10165992e-01],\n",
       "       [3.56279745e-01, 8.91027276e-01, 5.44049552e-01, 7.72886075e-01,\n",
       "        8.76679071e-01, 4.22390010e-01, 7.46774913e-01, 9.04332963e-01,\n",
       "        7.85160034e-01, 1.31567961e-01],\n",
       "       [8.65930193e-01, 2.74417874e-01, 9.46743154e-01, 5.94541360e-01,\n",
       "        1.90954382e-01, 9.19179882e-01, 7.54637940e-01, 5.97827018e-01,\n",
       "        6.70387906e-01, 1.72037638e-01],\n",
       "       [4.57080929e-01, 3.53651875e-01, 9.55690155e-01, 1.79763258e-01,\n",
       "        2.60303293e-05, 3.41325356e-01, 6.12286773e-01, 7.30744904e-01,\n",
       "        6.94569324e-01, 2.33901203e-01]])"
      ]
     },
     "execution_count": 5,
     "metadata": {},
     "output_type": "execute_result"
    }
   ],
   "source": [
    "arr = np.random.rand(10,10)\n",
    "arr"
   ]
  },
  {
   "cell_type": "code",
   "execution_count": 6,
   "id": "7efec103",
   "metadata": {},
   "outputs": [
    {
     "data": {
      "text/plain": [
       "0.9731521863241157"
      ]
     },
     "execution_count": 6,
     "metadata": {},
     "output_type": "execute_result"
    }
   ],
   "source": [
    "np.max(arr)"
   ]
  },
  {
   "cell_type": "code",
   "execution_count": 7,
   "id": "eb1f501e",
   "metadata": {},
   "outputs": [
    {
     "data": {
      "text/plain": [
       "2.603032926107307e-05"
      ]
     },
     "execution_count": 7,
     "metadata": {},
     "output_type": "execute_result"
    }
   ],
   "source": [
    "np.min(arr)"
   ]
  },
  {
   "cell_type": "code",
   "execution_count": 8,
   "id": "e40256a6",
   "metadata": {},
   "outputs": [
    {
     "data": {
      "text/plain": [
       "array([[710, 678, 505, 217, 659, 604,  36, 907, 995, 201],\n",
       "       [688,  15,  85, 971, 733, 639, 746, 787, 742, 676],\n",
       "       [159, 319, 617, 740, 299, 122, 232, 258, 471, 415],\n",
       "       [647,  60, 619,  15, 553, 871, 381, 856, 561,  49],\n",
       "       [337, 849, 377, 362, 490, 243, 502, 988, 954, 635],\n",
       "       [651, 973, 417, 951, 480, 289,  87, 836, 320, 692],\n",
       "       [666, 975, 470,  39, 115, 110, 680, 895, 551, 456],\n",
       "       [ 43, 744, 253, 711,  42, 596, 979, 814, 271, 676],\n",
       "       [571, 672, 318,  75, 549, 874, 613, 465, 863, 167],\n",
       "       [441, 400, 662, 773, 798, 145, 662, 879, 167, 110]])"
      ]
     },
     "execution_count": 8,
     "metadata": {},
     "output_type": "execute_result"
    }
   ],
   "source": [
    "arr2 = np.random.randint(0, 1000, size=(10,10))\n",
    "arr2"
   ]
  },
  {
   "cell_type": "code",
   "execution_count": 9,
   "id": "be801338",
   "metadata": {},
   "outputs": [
    {
     "data": {
      "text/plain": [
       "995"
      ]
     },
     "execution_count": 9,
     "metadata": {},
     "output_type": "execute_result"
    }
   ],
   "source": [
    "np.max(arr2)"
   ]
  },
  {
   "cell_type": "code",
   "execution_count": 10,
   "id": "015e2583",
   "metadata": {},
   "outputs": [
    {
     "data": {
      "text/plain": [
       "15"
      ]
     },
     "execution_count": 10,
     "metadata": {},
     "output_type": "execute_result"
    }
   ],
   "source": [
    "np.min(arr2)"
   ]
  },
  {
   "cell_type": "markdown",
   "id": "8cbf0c5f-e2dd-4418-b923-a52bbda70b7e",
   "metadata": {},
   "source": [
    "## Create a random vector of size 30 and find the mean value"
   ]
  },
  {
   "cell_type": "code",
   "execution_count": 13,
   "id": "625f82b7",
   "metadata": {},
   "outputs": [
    {
     "name": "stdout",
     "output_type": "stream",
     "text": [
      "[0.83133643 0.25495392 0.83321221 0.20240041 0.13803724 0.00634908\n",
      " 0.35398604 0.02554709 0.04069433 0.90434928 0.45046259 0.52442968\n",
      " 0.08218613 0.68321868 0.34028329 0.66757381 0.15725175 0.0857774\n",
      " 0.55690591 0.96553562 0.25450874 0.14970481 0.49543203 0.13517904\n",
      " 0.67584547 0.01738753 0.69551684 0.01313582 0.64201984 0.6647611 ]\n",
      "0.39493273765639253\n"
     ]
    }
   ],
   "source": [
    "vektor = np.random.rand(30)\n",
    "mean = np.mean(vektor) \n",
    "print(vektor)\n",
    "print(mean)"
   ]
  },
  {
   "cell_type": "markdown",
   "id": "7cc5ba2a-7b21-4c76-9d9c-cd84ecb98875",
   "metadata": {},
   "source": [
    "## Create a 2d array with 1 on the border and 0 inside"
   ]
  },
  {
   "cell_type": "code",
   "execution_count": 24,
   "id": "4daf1589",
   "metadata": {
    "scrolled": true
   },
   "outputs": [
    {
     "data": {
      "text/plain": [
       "array([[1., 1., 1., 1., 1.],\n",
       "       [1., 1., 1., 1., 1.],\n",
       "       [1., 1., 1., 1., 1.],\n",
       "       [1., 1., 1., 1., 1.],\n",
       "       [1., 1., 1., 1., 1.]])"
      ]
     },
     "execution_count": 24,
     "metadata": {},
     "output_type": "execute_result"
    }
   ],
   "source": [
    "a = np.ones((5,5))\n",
    "a"
   ]
  },
  {
   "cell_type": "code",
   "execution_count": 25,
   "id": "3edacc8a",
   "metadata": {},
   "outputs": [
    {
     "data": {
      "text/plain": [
       "array([[1., 1., 1.],\n",
       "       [1., 0., 1.],\n",
       "       [1., 1., 1.]])"
      ]
     },
     "execution_count": 25,
     "metadata": {},
     "output_type": "execute_result"
    }
   ],
   "source": [
    "arr=np.ones([3,3])\n",
    "arr[1,1]=0\n",
    "arr"
   ]
  },
  {
   "cell_type": "code",
   "execution_count": 27,
   "id": "cb567edc",
   "metadata": {},
   "outputs": [
    {
     "data": {
      "text/plain": [
       "array([[1., 1., 1., 1., 1.],\n",
       "       [1., 0., 0., 0., 1.],\n",
       "       [1., 0., 0., 0., 1.],\n",
       "       [1., 0., 0., 0., 1.],\n",
       "       [1., 1., 1., 1., 1.]])"
      ]
     },
     "execution_count": 27,
     "metadata": {},
     "output_type": "execute_result"
    }
   ],
   "source": [
    "arr = np.zeros((5, 5))\n",
    "arr[0,  : ] = arr[-1, : ] = arr[ : , 0] = arr [ : , -1 ] = 1\n",
    "arr"
   ]
  },
  {
   "cell_type": "code",
   "execution_count": 14,
   "id": "4e984821",
   "metadata": {},
   "outputs": [
    {
     "data": {
      "text/plain": [
       "array([[1., 1., 1., 1., 1., 1., 1., 1., 1., 1.],\n",
       "       [1., 0., 0., 0., 0., 0., 0., 0., 0., 1.],\n",
       "       [1., 0., 0., 0., 0., 0., 0., 0., 0., 1.],\n",
       "       [1., 0., 0., 0., 0., 0., 0., 0., 0., 1.],\n",
       "       [1., 0., 0., 0., 0., 0., 0., 0., 0., 1.],\n",
       "       [1., 0., 0., 0., 0., 0., 0., 0., 0., 1.],\n",
       "       [1., 0., 0., 0., 0., 0., 0., 0., 0., 1.],\n",
       "       [1., 0., 0., 0., 0., 0., 0., 0., 0., 1.],\n",
       "       [1., 0., 0., 0., 0., 0., 0., 0., 0., 1.],\n",
       "       [1., 1., 1., 1., 1., 1., 1., 1., 1., 1.]])"
      ]
     },
     "execution_count": 14,
     "metadata": {},
     "output_type": "execute_result"
    }
   ],
   "source": [
    "a = np.ones((10,10))\n",
    "a[1:-1,1:-1] = 0\n",
    "a"
   ]
  },
  {
   "cell_type": "markdown",
   "id": "b0b05e7c-7eb0-486d-8b17-2a1f48b392a6",
   "metadata": {},
   "source": [
    "## Create a 5x5 matrix with values 1,2,3,4 just below the diagonal"
   ]
  },
  {
   "attachments": {
    "image.png": {
     "image/png": "[encoded data removed]"
    }
   },
   "cell_type": "markdown",
   "id": "f9f12720",
   "metadata": {},
   "source": [
    "![image.png](attachment:image.png)"
   ]
  },
  {
   "cell_type": "code",
   "execution_count": 17,
   "id": "15281c7d",
   "metadata": {},
   "outputs": [
    {
     "data": {
      "text/plain": [
       "array([[0, 0, 0, 0, 0],\n",
       "       [1, 0, 0, 0, 0],\n",
       "       [0, 2, 0, 0, 0],\n",
       "       [0, 0, 3, 0, 0],\n",
       "       [0, 0, 0, 4, 0]])"
      ]
     },
     "execution_count": 17,
     "metadata": {},
     "output_type": "execute_result"
    }
   ],
   "source": [
    "np.eye(5,5,k=-1,dtype = int) * np.arange(1,6)"
   ]
  },
  {
   "cell_type": "code",
   "execution_count": 28,
   "id": "e93d4b9d",
   "metadata": {},
   "outputs": [
    {
     "data": {
      "text/plain": [
       "array([[0, 0, 0, 0, 0],\n",
       "       [1, 0, 0, 0, 0],\n",
       "       [0, 2, 0, 0, 0],\n",
       "       [0, 0, 3, 0, 0],\n",
       "       [0, 0, 0, 4, 0]])"
      ]
     },
     "execution_count": 28,
     "metadata": {},
     "output_type": "execute_result"
    }
   ],
   "source": [
    "np.diag([1,2,3,4],k=-1)"
   ]
  },
  {
   "cell_type": "code",
   "execution_count": 29,
   "id": "8fc56055",
   "metadata": {},
   "outputs": [
    {
     "name": "stdout",
     "output_type": "stream",
     "text": [
      "[[0 0 0 0 0]\n",
      " [1 0 0 0 0]\n",
      " [0 2 0 0 0]\n",
      " [0 0 3 0 0]\n",
      " [0 0 0 4 0]]\n"
     ]
    }
   ],
   "source": [
    "A = np.diag(1+np.arange(4),k=-1)\n",
    "print(A)"
   ]
  },
  {
   "cell_type": "code",
   "execution_count": 30,
   "id": "c8f3d1d2",
   "metadata": {
    "scrolled": true
   },
   "outputs": [
    {
     "data": {
      "text/plain": [
       "array([[0, 0, 0, 0, 0],\n",
       "       [1, 0, 0, 0, 0],\n",
       "       [0, 2, 0, 0, 0],\n",
       "       [0, 0, 3, 0, 0],\n",
       "       [0, 0, 0, 4, 0]])"
      ]
     },
     "execution_count": 30,
     "metadata": {},
     "output_type": "execute_result"
    }
   ],
   "source": [
    "arr = np.zeros([5, 5])\n",
    "for i in range(1, 5):\n",
    "    arr[i, i-1] = i\n",
    "arr.astype(\"int\")"
   ]
  },
  {
   "cell_type": "code",
   "execution_count": 31,
   "id": "8b1affa3",
   "metadata": {},
   "outputs": [
    {
     "data": {
      "text/plain": [
       "array([[0, 0, 0, 0, 0],\n",
       "       [1, 0, 0, 0, 0],\n",
       "       [0, 2, 0, 0, 0],\n",
       "       [0, 0, 3, 0, 0],\n",
       "       [0, 0, 0, 4, 0]])"
      ]
     },
     "execution_count": 31,
     "metadata": {},
     "output_type": "execute_result"
    }
   ],
   "source": [
    "arr=np.eye(5,k=-1)\n",
    "bool_arr=arr>0\n",
    "arr[bool_arr]=np.arange(1,5)\n",
    "arr[bool_arr]\n",
    "arr.astype(int)"
   ]
  },
  {
   "cell_type": "code",
   "execution_count": 32,
   "id": "6c1a2002",
   "metadata": {},
   "outputs": [
    {
     "data": {
      "text/plain": [
       "array([[0, 0, 0, 0, 0],\n",
       "       [1, 0, 0, 0, 0],\n",
       "       [0, 2, 0, 0, 0],\n",
       "       [0, 0, 3, 0, 0],\n",
       "       [0, 0, 0, 4, 0]])"
      ]
     },
     "execution_count": 32,
     "metadata": {},
     "output_type": "execute_result"
    }
   ],
   "source": [
    "np.eye(5,5,k=-1,dtype=int) * np.arange(1,6)"
   ]
  },
  {
   "cell_type": "markdown",
   "id": "f22a8d4f-4061-46dc-96c5-f963eba56d40",
   "metadata": {},
   "source": [
    "## Create a 8x8 matrix and fill it with a checkerboard pattern"
   ]
  },
  {
   "cell_type": "code",
   "execution_count": 33,
   "id": "e1b91f8e",
   "metadata": {},
   "outputs": [
    {
     "data": {
      "text/plain": [
       "array([[0, 0, 0, 0, 0, 0, 0, 0],\n",
       "       [0, 0, 0, 0, 0, 0, 0, 0],\n",
       "       [0, 0, 0, 0, 0, 0, 0, 0],\n",
       "       [0, 0, 0, 0, 0, 0, 0, 0],\n",
       "       [0, 0, 0, 0, 0, 0, 0, 0],\n",
       "       [0, 0, 0, 0, 0, 0, 0, 0],\n",
       "       [0, 0, 0, 0, 0, 0, 0, 0],\n",
       "       [0, 0, 0, 0, 0, 0, 0, 0]])"
      ]
     },
     "execution_count": 33,
     "metadata": {},
     "output_type": "execute_result"
    }
   ],
   "source": [
    "a = np.zeros((8,8),dtype=int)\n",
    "a"
   ]
  },
  {
   "attachments": {
    "image.png": {
     "image/png": "[encoded data removed]"
    }
   },
   "cell_type": "markdown",
   "id": "8a715d83",
   "metadata": {},
   "source": [
    "![image.png](attachment:image.png)"
   ]
  },
  {
   "cell_type": "code",
   "execution_count": 20,
   "id": "160416ac",
   "metadata": {
    "scrolled": true
   },
   "outputs": [
    {
     "data": {
      "text/plain": [
       "array([[0, 1, 0, 1, 0, 1, 0, 1],\n",
       "       [1, 0, 1, 0, 1, 0, 1, 0],\n",
       "       [0, 1, 0, 1, 0, 1, 0, 1],\n",
       "       [1, 0, 1, 0, 1, 0, 1, 0],\n",
       "       [0, 1, 0, 1, 0, 1, 0, 1],\n",
       "       [1, 0, 1, 0, 1, 0, 1, 0],\n",
       "       [0, 1, 0, 1, 0, 1, 0, 1],\n",
       "       [1, 0, 1, 0, 1, 0, 1, 0]])"
      ]
     },
     "execution_count": 20,
     "metadata": {},
     "output_type": "execute_result"
    }
   ],
   "source": [
    "d = np.zeros((8,8),dtype = int)\n",
    "d[1::2,::2], d[::2,1::2] = 1,1\n",
    "d"
   ]
  },
  {
   "cell_type": "code",
   "execution_count": 35,
   "id": "7ee327fb",
   "metadata": {},
   "outputs": [
    {
     "data": {
      "text/plain": [
       "array([[0, 1, 0, 1, 0, 1, 0, 1],\n",
       "       [1, 0, 1, 0, 1, 0, 1, 0],\n",
       "       [0, 1, 0, 1, 0, 1, 0, 1],\n",
       "       [1, 0, 1, 0, 1, 0, 1, 0],\n",
       "       [0, 1, 0, 1, 0, 1, 0, 1],\n",
       "       [1, 0, 1, 0, 1, 0, 1, 0],\n",
       "       [0, 1, 0, 1, 0, 1, 0, 1],\n",
       "       [1, 0, 1, 0, 1, 0, 1, 0]])"
      ]
     },
     "execution_count": 35,
     "metadata": {},
     "output_type": "execute_result"
    }
   ],
   "source": [
    "arr = np.ones((8,8),dtype = int)\n",
    "arr[0::2,::2] = 0\n",
    "arr[1::2,1::2] = 0\n",
    "arr"
   ]
  },
  {
   "cell_type": "markdown",
   "id": "b2c92c26-fa3b-4022-9c71-88a27064ba1b",
   "metadata": {},
   "source": [
    "## Create a checkerboard 8x8 matrix using the tile function"
   ]
  },
  {
   "cell_type": "code",
   "execution_count": 39,
   "id": "5b995dcc",
   "metadata": {},
   "outputs": [
    {
     "name": "stdout",
     "output_type": "stream",
     "text": [
      "[[0 1 0 1 0 1 0 1]\n",
      " [1 0 1 0 1 0 1 0]\n",
      " [0 1 0 1 0 1 0 1]\n",
      " [1 0 1 0 1 0 1 0]\n",
      " [0 1 0 1 0 1 0 1]\n",
      " [1 0 1 0 1 0 1 0]\n",
      " [0 1 0 1 0 1 0 1]\n",
      " [1 0 1 0 1 0 1 0]]\n"
     ]
    }
   ],
   "source": [
    "arr = np.tile(np.array([[0,1],[1,0]]),(4,4))\n",
    "print(arr)"
   ]
  },
  {
   "cell_type": "code",
   "execution_count": 41,
   "id": "badfad8c",
   "metadata": {
    "scrolled": true
   },
   "outputs": [
    {
     "data": {
      "text/plain": [
       "array([[0, 1, 0, 1, 0, 1, 0, 1],\n",
       "       [1, 0, 1, 0, 1, 0, 1, 0],\n",
       "       [0, 1, 0, 1, 0, 1, 0, 1],\n",
       "       [1, 0, 1, 0, 1, 0, 1, 0],\n",
       "       [0, 1, 0, 1, 0, 1, 0, 1],\n",
       "       [1, 0, 1, 0, 1, 0, 1, 0],\n",
       "       [0, 1, 0, 1, 0, 1, 0, 1],\n",
       "       [1, 0, 1, 0, 1, 0, 1, 0]])"
      ]
     },
     "execution_count": 41,
     "metadata": {},
     "output_type": "execute_result"
    }
   ],
   "source": [
    "arr = np.tile(np.array([[0,1,0,1],[1,0,1,0]]),(4,2))\n",
    "arr"
   ]
  },
  {
   "cell_type": "code",
   "execution_count": 42,
   "id": "7d181c0d",
   "metadata": {},
   "outputs": [
    {
     "data": {
      "text/plain": [
       "array([[0, 1, 0, 1, 0, 1, 0, 1],\n",
       "       [1, 0, 1, 0, 1, 0, 1, 0],\n",
       "       [0, 1, 0, 1, 0, 1, 0, 1],\n",
       "       [1, 0, 1, 0, 1, 0, 1, 0],\n",
       "       [0, 1, 0, 1, 0, 1, 0, 1],\n",
       "       [1, 0, 1, 0, 1, 0, 1, 0],\n",
       "       [0, 1, 0, 1, 0, 1, 0, 1],\n",
       "       [1, 0, 1, 0, 1, 0, 1, 0]])"
      ]
     },
     "execution_count": 42,
     "metadata": {},
     "output_type": "execute_result"
    }
   ],
   "source": [
    "a=np.tile(np.array([0,1]),4)\n",
    "b=np.tile(np.array([1,0]),4)\n",
    "np.tile(np.concatenate((a,b)),4).reshape(8,8)"
   ]
  },
  {
   "cell_type": "code",
   "execution_count": 21,
   "id": "4efb7312",
   "metadata": {
    "scrolled": true
   },
   "outputs": [
    {
     "data": {
      "text/plain": [
       "array([[0, 1, 0, 1, 0, 1, 0, 1],\n",
       "       [1, 0, 1, 0, 1, 0, 1, 0],\n",
       "       [0, 1, 0, 1, 0, 1, 0, 1],\n",
       "       [1, 0, 1, 0, 1, 0, 1, 0],\n",
       "       [0, 1, 0, 1, 0, 1, 0, 1],\n",
       "       [1, 0, 1, 0, 1, 0, 1, 0],\n",
       "       [0, 1, 0, 1, 0, 1, 0, 1],\n",
       "       [1, 0, 1, 0, 1, 0, 1, 0]])"
      ]
     },
     "execution_count": 21,
     "metadata": {},
     "output_type": "execute_result"
    }
   ],
   "source": [
    "f = np.zeros((8,8),dtype = int)\n",
    "f[[0,2,4,6]] = np.tile([0,1],4)\n",
    "f[[1,3,5,7]] = np.tile([1,0],4)\n",
    "f"
   ]
  },
  {
   "cell_type": "code",
   "execution_count": 44,
   "id": "6de147ea",
   "metadata": {},
   "outputs": [
    {
     "data": {
      "text/plain": [
       "array([[0, 1, 0, 1, 0, 1, 0, 1],\n",
       "       [1, 0, 1, 0, 1, 0, 1, 0],\n",
       "       [0, 1, 0, 1, 0, 1, 0, 1],\n",
       "       [1, 0, 1, 0, 1, 0, 1, 0],\n",
       "       [0, 1, 0, 1, 0, 1, 0, 1],\n",
       "       [1, 0, 1, 0, 1, 0, 1, 0],\n",
       "       [0, 1, 0, 1, 0, 1, 0, 1],\n",
       "       [1, 0, 1, 0, 1, 0, 1, 0]])"
      ]
     },
     "execution_count": 44,
     "metadata": {},
     "output_type": "execute_result"
    }
   ],
   "source": [
    "c = np.zeros((8,8),dtype=int)\n",
    "c[[0,2,4,6]]= np.tile([0,1],4)\n",
    "c[[1,3,5,7]]= np.tile([1,0],4)\n",
    "c"
   ]
  },
  {
   "cell_type": "code",
   "execution_count": 38,
   "id": "30068564",
   "metadata": {},
   "outputs": [
    {
     "data": {
      "text/plain": [
       "array([[0, 1, 0, 1, 0, 1, 0],\n",
       "       [1, 0, 1, 0, 1, 0, 1],\n",
       "       [0, 1, 0, 1, 0, 1, 0],\n",
       "       [1, 0, 1, 0, 1, 0, 1],\n",
       "       [0, 1, 0, 1, 0, 1, 0],\n",
       "       [1, 0, 1, 0, 1, 0, 1],\n",
       "       [0, 1, 0, 1, 0, 1, 0]])"
      ]
     },
     "execution_count": 38,
     "metadata": {},
     "output_type": "execute_result"
    }
   ],
   "source": [
    "a=np.ones(49,dtype=int)\n",
    "a[::2]=0\n",
    "a.reshape(7,7) # if only it was 7x7 it would've been better"
   ]
  },
  {
   "cell_type": "markdown",
   "id": "7d1e507f-a32d-4ed4-9235-8c1c77b45e90",
   "metadata": {},
   "source": [
    "## Consider a (6,7,8) shape array, what is the index (x,y,z) of the 100th element?"
   ]
  },
  {
   "cell_type": "code",
   "execution_count": 45,
   "id": "d5b646fc",
   "metadata": {},
   "outputs": [
    {
     "data": {
      "text/plain": [
       "336"
      ]
     },
     "execution_count": 45,
     "metadata": {},
     "output_type": "execute_result"
    }
   ],
   "source": [
    "6*7*8"
   ]
  },
  {
   "cell_type": "code",
   "execution_count": 24,
   "id": "d12a2986",
   "metadata": {
    "scrolled": true
   },
   "outputs": [
    {
     "data": {
      "text/plain": [
       "(1, 5, 4)"
      ]
     },
     "execution_count": 24,
     "metadata": {},
     "output_type": "execute_result"
    }
   ],
   "source": [
    "np.unravel_index(100,(6,7,8))"
   ]
  },
  {
   "cell_type": "code",
   "execution_count": 48,
   "id": "c2b42c77",
   "metadata": {},
   "outputs": [
    {
     "data": {
      "text/plain": [
       "(1, 5, 4)"
      ]
     },
     "execution_count": 48,
     "metadata": {},
     "output_type": "execute_result"
    }
   ],
   "source": [
    "m = np.arange(6*7*8).reshape(6, 7, 8)\n",
    "np.unravel_index(100, m.shape)"
   ]
  },
  {
   "cell_type": "code",
   "execution_count": 49,
   "id": "64d2274e",
   "metadata": {},
   "outputs": [
    {
     "name": "stdout",
     "output_type": "stream",
     "text": [
      "1 5 4\n"
     ]
    }
   ],
   "source": [
    "x = (100//(7*8))\n",
    "y = ((100%(7*8)) // 8)\n",
    "z = (100 % 8)\n",
    "print(x,y,z)"
   ]
  },
  {
   "cell_type": "markdown",
   "id": "dcdb4e96",
   "metadata": {},
   "source": [
    "## How can I create an array with dimensions (6, 7, 8) using arange, and find its last element?"
   ]
  },
  {
   "cell_type": "code",
   "execution_count": 50,
   "id": "844deeaf",
   "metadata": {},
   "outputs": [
    {
     "data": {
      "text/plain": [
       "335"
      ]
     },
     "execution_count": 50,
     "metadata": {},
     "output_type": "execute_result"
    }
   ],
   "source": [
    "arr = np.arange(6*7*8).reshape(6,7,8)\n",
    "arr[-1][-1][-1] # or arr[5,6,7] can be writen like this as well"
   ]
  },
  {
   "cell_type": "code",
   "execution_count": 51,
   "id": "22581da2",
   "metadata": {},
   "outputs": [
    {
     "data": {
      "text/plain": [
       "335"
      ]
     },
     "execution_count": 51,
     "metadata": {},
     "output_type": "execute_result"
    }
   ],
   "source": [
    "arr=np.arange(6*7*8).reshape(6,7,8)\n",
    "arr[-1,-1,-1] # or [5,6,7]"
   ]
  },
  {
   "cell_type": "markdown",
   "id": "b1854b8f-fa9e-492e-9d76-8ee86416e163",
   "metadata": {},
   "source": [
    "## 1.18 Given a one-dimensional array, make all elements between 3 and 8 inclusive negative."
   ]
  },
  {
   "cell_type": "code",
   "execution_count": 52,
   "id": "742902b6",
   "metadata": {},
   "outputs": [
    {
     "data": {
      "text/plain": [
       "array([[ 1,  2, -3, -4, -5, -6, -7, -8,  9, 10]])"
      ]
     },
     "execution_count": 52,
     "metadata": {},
     "output_type": "execute_result"
    }
   ],
   "source": [
    "arr = np.array([1, 2, 3, 4, 5, 6, 7, 8, 9, 10])\n",
    "np.where([(arr >= 3) & (arr <= 8)], -arr, arr)"
   ]
  },
  {
   "cell_type": "code",
   "execution_count": 53,
   "id": "3538ba19",
   "metadata": {},
   "outputs": [
    {
     "name": "stdout",
     "output_type": "stream",
     "text": [
      "[89 99 25 93 18 82 66 54 35 80]\n"
     ]
    },
    {
     "data": {
      "text/plain": [
       "array([ 89,  99,  25, -93, -18, -82, -66, -54, -35,  80])"
      ]
     },
     "execution_count": 53,
     "metadata": {},
     "output_type": "execute_result"
    }
   ],
   "source": [
    "arr=np.random.randint(1,100,10)\n",
    "print(arr)\n",
    "arr[3:9]*=-1\n",
    "arr"
   ]
  },
  {
   "cell_type": "code",
   "execution_count": 32,
   "id": "2e9a9b6c",
   "metadata": {},
   "outputs": [
    {
     "data": {
      "text/plain": [
       "array([ 1,  2, -3, -4, -5, -6, -7, -8])"
      ]
     },
     "execution_count": 32,
     "metadata": {},
     "output_type": "execute_result"
    }
   ],
   "source": [
    "arr=np.arange(1,9)\n",
    "\n",
    "arr[2:]=arr[2:]*-1\n",
    "arr"
   ]
  },
  {
   "cell_type": "code",
   "execution_count": 54,
   "id": "b3a6122a",
   "metadata": {},
   "outputs": [
    {
     "name": "stdout",
     "output_type": "stream",
     "text": [
      "[ 0  1  2 -3 -4 -5 -6 -7 -8  9 10 11 12 13 14]\n"
     ]
    }
   ],
   "source": [
    "k = np.arange(15)\n",
    "for i in range(len(k)):\n",
    "    if k[i] >= 3 and k[i] <= 8:\n",
    "        k[i] = -k[i]\n",
    "print(k)"
   ]
  },
  {
   "cell_type": "code",
   "execution_count": 56,
   "id": "8fd42dc9",
   "metadata": {},
   "outputs": [
    {
     "name": "stdout",
     "output_type": "stream",
     "text": [
      "[ 1  4  6  8 10  2  5  7  9  3]\n",
      "[False  True  True  True False False  True  True False  True]\n"
     ]
    },
    {
     "data": {
      "text/plain": [
       "array([ 1, -4, -6, -8, 10,  2, -5, -7,  9, -3])"
      ]
     },
     "execution_count": 56,
     "metadata": {},
     "output_type": "execute_result"
    }
   ],
   "source": [
    "arr = np.array([1, 4, 6, 8, 10, 2, 5, 7, 9, 3]) # if they mean the values\n",
    "print(arr)\n",
    "arr_bool=(arr >= 3) & (arr <= 8)\n",
    "print(arr_bool)\n",
    "arr[arr_bool]*=-1\n",
    "arr\n"
   ]
  },
  {
   "cell_type": "markdown",
   "id": "afc74cce-1589-434f-929e-d4f809eac34d",
   "metadata": {},
   "source": [
    "## Create a 5x5 matrix with row values ranging from 0 to 4"
   ]
  },
  {
   "cell_type": "code",
   "execution_count": 1,
   "id": "522397f4",
   "metadata": {
    "scrolled": false
   },
   "outputs": [
    {
     "name": "stdout",
     "output_type": "stream",
     "text": [
      "[[0 1 2 3 4]\n",
      " [0 1 2 3 4]\n",
      " [0 1 2 3 4]\n",
      " [0 1 2 3 4]\n",
      " [0 1 2 3 4]]\n"
     ]
    }
   ],
   "source": [
    "matrix = np.tile(np.arange(5), (5, 1))\n",
    "print(matrix)"
   ]
  },
  {
   "cell_type": "code",
   "execution_count": 59,
   "id": "de1eda47",
   "metadata": {},
   "outputs": [
    {
     "data": {
      "text/plain": [
       "array([[0, 1, 2, 3, 4],\n",
       "       [0, 1, 2, 3, 4],\n",
       "       [0, 1, 2, 3, 4],\n",
       "       [0, 1, 2, 3, 4],\n",
       "       [0, 1, 2, 3, 4]])"
      ]
     },
     "execution_count": 59,
     "metadata": {},
     "output_type": "execute_result"
    }
   ],
   "source": [
    "np.full((5,5),[0,1,2,3,4])"
   ]
  },
  {
   "cell_type": "code",
   "execution_count": 58,
   "id": "dbfa34c0",
   "metadata": {
    "scrolled": true
   },
   "outputs": [
    {
     "data": {
      "text/plain": [
       "array([[4, 2, 2, 2, 1],\n",
       "       [4, 0, 3, 0, 4],\n",
       "       [3, 4, 2, 3, 2],\n",
       "       [0, 0, 3, 3, 4],\n",
       "       [4, 2, 3, 0, 4]])"
      ]
     },
     "execution_count": 58,
     "metadata": {},
     "output_type": "execute_result"
    }
   ],
   "source": [
    "arr = np.random.randint(0,5,(5,5))\n",
    "arr"
   ]
  },
  {
   "cell_type": "code",
   "execution_count": 60,
   "id": "de90dca3",
   "metadata": {},
   "outputs": [
    {
     "data": {
      "text/plain": [
       "array([[0, 1, 2, 3, 4],\n",
       "       [0, 1, 2, 3, 4],\n",
       "       [0, 1, 2, 3, 4],\n",
       "       [0, 1, 2, 3, 4],\n",
       "       [0, 1, 2, 3, 4]])"
      ]
     },
     "execution_count": 60,
     "metadata": {},
     "output_type": "execute_result"
    }
   ],
   "source": [
    "x = np.zeros((5,5), dtype=int) + np.arange(5)\n",
    "x"
   ]
  },
  {
   "cell_type": "code",
   "execution_count": 61,
   "id": "a30fb61e",
   "metadata": {},
   "outputs": [
    {
     "data": {
      "text/plain": [
       "array([[0., 1., 2., 3., 4.],\n",
       "       [0., 1., 2., 3., 4.],\n",
       "       [0., 1., 2., 3., 4.],\n",
       "       [0., 1., 2., 3., 4.],\n",
       "       [0., 1., 2., 3., 4.]])"
      ]
     },
     "execution_count": 61,
     "metadata": {},
     "output_type": "execute_result"
    }
   ],
   "source": [
    "arr1=np.zeros((5,5))\n",
    "arr1 += np.arange(5)\n",
    "arr1"
   ]
  },
  {
   "cell_type": "markdown",
   "id": "cbea287c-b2ef-4c94-b4bc-e047ee69abd1",
   "metadata": {},
   "source": [
    "## Create a vector of size 12 with values ranging from 0 to 1, both excluded"
   ]
  },
  {
   "cell_type": "code",
   "execution_count": 2,
   "id": "b6caf3c4",
   "metadata": {},
   "outputs": [
    {
     "name": "stdout",
     "output_type": "stream",
     "text": [
      "[0.07142857 0.14285714 0.21428571 0.28571429 0.35714286 0.42857143\n",
      " 0.5        0.57142857 0.64285714 0.71428571 0.78571429 0.85714286]\n"
     ]
    }
   ],
   "source": [
    "vector = np.linspace(0, 1, num=14, endpoint=False)[1:-1]\n",
    "print(vector)"
   ]
  },
  {
   "cell_type": "markdown",
   "id": "1dc7d714-45a5-4bc7-a52e-37abe31bfb1f",
   "metadata": {},
   "source": [
    "## Create a random vector of size 10 and sort it"
   ]
  },
  {
   "cell_type": "code",
   "execution_count": 65,
   "id": "e25c9bfd",
   "metadata": {},
   "outputs": [
    {
     "data": {
      "text/plain": [
       "array([0.09398194, 0.33799516, 0.37558295, 0.50151629, 0.57828014,\n",
       "       0.64996393, 0.70196688, 0.79579267, 0.79829518, 0.89000534])"
      ]
     },
     "execution_count": 65,
     "metadata": {},
     "output_type": "execute_result"
    }
   ],
   "source": [
    "a = np.random.random(10)\n",
    "a.sort() # while using sort, it just stores the new value inside the variable\n",
    "a"
   ]
  },
  {
   "cell_type": "code",
   "execution_count": 3,
   "id": "c0a59fbf",
   "metadata": {
    "scrolled": true
   },
   "outputs": [
    {
     "name": "stdout",
     "output_type": "stream",
     "text": [
      "[0.04856959 0.20609505 0.58517273 0.59833441 0.64248744 0.64808161\n",
      " 0.84888842 0.88758187 0.93813467 0.98533071]\n"
     ]
    }
   ],
   "source": [
    "vector = np.random.rand(10)\n",
    "sorted_vector = np.sort(vector)\n",
    "print(sorted_vector)"
   ]
  },
  {
   "cell_type": "markdown",
   "id": "0d58bab8-cab1-4318-9405-6e54a17ac346",
   "metadata": {},
   "source": [
    "## Consider two random array A anb B, check if they are equal"
   ]
  },
  {
   "cell_type": "code",
   "execution_count": 4,
   "id": "07d21f6d",
   "metadata": {},
   "outputs": [
    {
     "name": "stdout",
     "output_type": "stream",
     "text": [
      "A and B are not equal\n"
     ]
    }
   ],
   "source": [
    "\n",
    "A = np.random.rand(5, 5)\n",
    "B = np.random.rand(5, 5)\n",
    "\n",
    "equal = np.array_equal(A, B)\n",
    "\n",
    "if equal:\n",
    "    print(\"A and B are equal\")\n",
    "else:\n",
    "    print(\"A and B are not equal\")"
   ]
  },
  {
   "cell_type": "code",
   "execution_count": 66,
   "id": "53c8e7d7",
   "metadata": {},
   "outputs": [
    {
     "name": "stdout",
     "output_type": "stream",
     "text": [
      "arrays a and b are not equal\n"
     ]
    }
   ],
   "source": [
    "a = np.random.randint(1,3,3)\n",
    "b = np.random.randint(1,3,3)\n",
    "\n",
    "if np.array_equal(a,b):\n",
    "    print(f\"arrays a and b are equal\")\n",
    "else:\n",
    "    print(f\"arrays a and b are not equal\")"
   ]
  },
  {
   "cell_type": "code",
   "execution_count": 67,
   "id": "991499b7",
   "metadata": {},
   "outputs": [
    {
     "data": {
      "text/plain": [
       "False"
      ]
     },
     "execution_count": 67,
     "metadata": {},
     "output_type": "execute_result"
    }
   ],
   "source": [
    "np.allclose(np.random.randint(1,10,3), np.random.randint(1,10,3))"
   ]
  },
  {
   "cell_type": "markdown",
   "id": "add060d3-6cca-47eb-8a48-2b9f33227130",
   "metadata": {},
   "source": [
    "## Create random vector of size 10 and replace the maximum value by 0"
   ]
  },
  {
   "cell_type": "code",
   "execution_count": 34,
   "id": "6edc3993",
   "metadata": {},
   "outputs": [
    {
     "data": {
      "text/plain": [
       "array([16, 73,  4, 16, 27, 10, 77, 86, 75, 58])"
      ]
     },
     "execution_count": 34,
     "metadata": {},
     "output_type": "execute_result"
    }
   ],
   "source": [
    "a = np.random.randint(1,100,10)\n",
    "a"
   ]
  },
  {
   "cell_type": "code",
   "execution_count": 35,
   "id": "dace586d",
   "metadata": {},
   "outputs": [
    {
     "data": {
      "text/plain": [
       "array([16, 73,  4, 16, 27, 10, 77,  0, 75, 58])"
      ]
     },
     "execution_count": 35,
     "metadata": {},
     "output_type": "execute_result"
    }
   ],
   "source": [
    "a[np.argmax(a)] = 0\n",
    "a"
   ]
  },
  {
   "cell_type": "code",
   "execution_count": 68,
   "id": "ec916e0f",
   "metadata": {},
   "outputs": [
    {
     "data": {
      "text/plain": [
       "array([0.53708243, 0.32665124, 0.827869  , 0.27154292, 0.        ,\n",
       "       0.45726516, 0.84202308, 0.19438003, 0.41135391, 0.69951221])"
      ]
     },
     "execution_count": 68,
     "metadata": {},
     "output_type": "execute_result"
    }
   ],
   "source": [
    "arr2=np.random.random(10)\n",
    "\n",
    "arr2[arr2.argmax()]=0\n",
    "arr2"
   ]
  },
  {
   "cell_type": "code",
   "execution_count": 70,
   "id": "ba90e7cf",
   "metadata": {},
   "outputs": [
    {
     "name": "stdout",
     "output_type": "stream",
     "text": [
      "[6 9 6 9 5 8 9 5 6 6]\n"
     ]
    },
    {
     "data": {
      "text/plain": [
       "array([6, 0, 6, 0, 5, 8, 0, 5, 6, 6])"
      ]
     },
     "execution_count": 70,
     "metadata": {},
     "output_type": "execute_result"
    }
   ],
   "source": [
    "array = np.random.randint(5, 10, 10)\n",
    "print(array)\n",
    "np.where(array==np.max(array),0,array)"
   ]
  },
  {
   "cell_type": "markdown",
   "id": "874129d8-fe2e-41c7-aaa5-6e7578a8d6ad",
   "metadata": {},
   "source": [
    "## How to swap two rows of an array?"
   ]
  },
  {
   "cell_type": "code",
   "execution_count": 37,
   "id": "7ecab924",
   "metadata": {},
   "outputs": [
    {
     "data": {
      "text/plain": [
       "array([[ 0,  1,  2,  3,  4],\n",
       "       [ 5,  6,  7,  8,  9],\n",
       "       [10, 11, 12, 13, 14],\n",
       "       [15, 16, 17, 18, 19],\n",
       "       [20, 21, 22, 23, 24]])"
      ]
     },
     "execution_count": 37,
     "metadata": {},
     "output_type": "execute_result"
    }
   ],
   "source": [
    "ant = np.arange(25).reshape(5,5)\n",
    "ant"
   ]
  },
  {
   "cell_type": "code",
   "execution_count": 38,
   "id": "d5413d84",
   "metadata": {},
   "outputs": [
    {
     "name": "stdout",
     "output_type": "stream",
     "text": [
      "[[10 11 12 13 14]\n",
      " [ 5  6  7  8  9]\n",
      " [ 0  1  2  3  4]\n",
      " [15 16 17 18 19]\n",
      " [20 21 22 23 24]]\n"
     ]
    }
   ],
   "source": [
    "ant[[0,2]] = ant[[2,0]]\n",
    "print(ant)"
   ]
  },
  {
   "cell_type": "markdown",
   "id": "3d99138b-91e6-4d19-9195-1f384a68063b",
   "metadata": {},
   "source": [
    "## How to find the most frequent value in an array?"
   ]
  },
  {
   "cell_type": "code",
   "execution_count": 42,
   "id": "19a6efab",
   "metadata": {},
   "outputs": [
    {
     "data": {
      "text/plain": [
       "4"
      ]
     },
     "execution_count": 42,
     "metadata": {},
     "output_type": "execute_result"
    }
   ],
   "source": [
    "a = np.random.randint(1,100,50)\n",
    "np.bincount(a).max()"
   ]
  },
  {
   "cell_type": "code",
   "execution_count": 55,
   "id": "f6ec7275",
   "metadata": {},
   "outputs": [
    {
     "data": {
      "text/plain": [
       "array([1, 9, 8, 4, 0, 0, 0, 8], dtype=int64)"
      ]
     },
     "execution_count": 55,
     "metadata": {},
     "output_type": "execute_result"
    }
   ],
   "source": [
    "counts"
   ]
  },
  {
   "cell_type": "code",
   "execution_count": 53,
   "id": "7043a7a0",
   "metadata": {},
   "outputs": [],
   "source": [
    "a= np.array([0,1,2,3,1,2,2,2,2,2,1,1,1,1,1,1,1,3,3,3,2,2,7,7,7,7,7,7,7,7])"
   ]
  },
  {
   "cell_type": "code",
   "execution_count": 54,
   "id": "d2a10bfd",
   "metadata": {},
   "outputs": [
    {
     "name": "stdout",
     "output_type": "stream",
     "text": [
      "The most frequent value 1\n",
      "The number of counts 9\n"
     ]
    }
   ],
   "source": [
    "counts = np.bincount(a)\n",
    "print(f\"The most frequent value {np.argmax(counts)}\")\n",
    "print(f\"The number of counts {np.max(counts)}\")"
   ]
  },
  {
   "cell_type": "code",
   "execution_count": 71,
   "id": "0ad2f81a",
   "metadata": {},
   "outputs": [
    {
     "name": "stdout",
     "output_type": "stream",
     "text": [
      "The most frequent value:5 and frequeny:6\n"
     ]
    }
   ],
   "source": [
    "arr=np.array([1,2,3,3,3,4,4,5,5,5,5,5,5,6,6,7,8,2,])\n",
    "print(f\"The most frequent value:{np.bincount(arr).argmax()} and frequeny:{np.bincount(arr).max()}\")"
   ]
  },
  {
   "attachments": {
    "logo.png": {
     "image/png": "[encoded data removed]"
    }
   },
   "cell_type": "markdown",
   "id": "a793f497",
   "metadata": {},
   "source": [
    "![logo.png](attachment:logo.png)"
   ]
  }
 ],
 "metadata": {
  "kernelspec": {
   "display_name": "Python 3 (ipykernel)",
   "language": "python",
   "name": "python3"
  },
  "language_info": {
   "codemirror_mode": {
    "name": "ipython",
    "version": 3
   },
   "file_extension": ".py",
   "mimetype": "text/x-python",
   "name": "python",
   "nbconvert_exporter": "python",
   "pygments_lexer": "ipython3",
   "version": "3.10.9"
  },
  "toc": {
   "base_numbering": 1,
   "nav_menu": {},
   "number_sections": true,
   "sideBar": true,
   "skip_h1_title": false,
   "title_cell": "Table of Contents",
   "title_sidebar": "Contents",
   "toc_cell": false,
   "toc_position": {},
   "toc_section_display": true,
   "toc_window_display": true
  },
  "varInspector": {
   "cols": {
    "lenName": 16,
    "lenType": 16,
    "lenVar": 40
   },
   "kernels_config": {
    "python": {
     "delete_cmd_postfix": "",
     "delete_cmd_prefix": "del ",
     "library": "var_list.py",
     "varRefreshCmd": "print(var_dic_list())"
    },
    "r": {
     "delete_cmd_postfix": ") ",
     "delete_cmd_prefix": "rm(",
     "library": "var_list.r",
     "varRefreshCmd": "cat(var_dic_list()) "
    }
   },
   "types_to_exclude": [
    "module",
    "function",
    "builtin_function_or_method",
    "instance",
    "_Feature"
   ],
   "window_display": false
  }
 },
 "nbformat": 4,
 "nbformat_minor": 5
}
