{
 "cells": [
  {
   "cell_type": "markdown",
   "metadata": {},
   "source": [
    "# Importing Libraries"
   ]
  },
  {
   "cell_type": "markdown",
   "metadata": {},
   "source": [
    "[vectors-matrices](https://www.mathsisfun.com/algebra/matrix-introduction.html)"
   ]
  },
  {
   "cell_type": "markdown",
   "metadata": {},
   "source": [
    "NumPy Python Standard Library içerisinde bulunan bir module değildir.\n",
    "\n",
    "NumPy module'unu import etmek için önce ; NumPy module'unu Python pip aracı ile install etmemiz gerekiyor.\n",
    "\n",
    "\"pip\" aracı bize Standard Library'de bulunmayan module'leri/package'leri dışarıdan install etmeyi sağlar."
   ]
  },
  {
   "cell_type": "code",
   "execution_count": 1,
   "metadata": {
    "ExecuteTime": {
     "end_time": "2023-03-31T23:25:06.469042Z",
     "start_time": "2023-03-31T23:25:06.452038Z"
    }
   },
   "outputs": [],
   "source": [
    "# pip install numpy"
   ]
  },
  {
   "cell_type": "code",
   "execution_count": 2,
   "metadata": {
    "ExecuteTime": {
     "end_time": "2023-03-31T23:25:06.532059Z",
     "start_time": "2023-03-31T23:25:06.473037Z"
    }
   },
   "outputs": [],
   "source": [
    "import numpy as np"
   ]
  },
  {
   "cell_type": "markdown",
   "metadata": {},
   "source": [
    "# Recap-Tekrar"
   ]
  },
  {
   "cell_type": "code",
   "execution_count": 3,
   "metadata": {
    "ExecuteTime": {
     "end_time": "2023-03-31T23:25:06.628056Z",
     "start_time": "2023-03-31T23:25:06.535041Z"
    }
   },
   "outputs": [
    {
     "data": {
      "text/plain": [
       "[1, 2, 3]"
      ]
     },
     "execution_count": 3,
     "metadata": {},
     "output_type": "execute_result"
    }
   ],
   "source": [
    "my_list = [1, 2, 3]\n",
    "my_list"
   ]
  },
  {
   "cell_type": "code",
   "execution_count": 4,
   "metadata": {
    "ExecuteTime": {
     "end_time": "2023-03-31T23:25:06.691036Z",
     "start_time": "2023-03-31T23:25:06.634036Z"
    }
   },
   "outputs": [
    {
     "data": {
      "text/plain": [
       "array([1, 2, 3])"
      ]
     },
     "execution_count": 4,
     "metadata": {},
     "output_type": "execute_result"
    }
   ],
   "source": [
    "np.array(my_list)"
   ]
  },
  {
   "cell_type": "code",
   "execution_count": 5,
   "metadata": {
    "ExecuteTime": {
     "end_time": "2023-03-31T23:25:06.848037Z",
     "start_time": "2023-03-31T23:25:06.695042Z"
    }
   },
   "outputs": [
    {
     "data": {
      "text/plain": [
       "array([1, 2, 3])"
      ]
     },
     "execution_count": 5,
     "metadata": {},
     "output_type": "execute_result"
    }
   ],
   "source": [
    "np.array([1, 2, 3])"
   ]
  },
  {
   "cell_type": "code",
   "execution_count": 1,
   "metadata": {
    "ExecuteTime": {
     "end_time": "2023-03-31T23:25:06.927012Z",
     "start_time": "2023-03-31T23:25:06.852037Z"
    }
   },
   "outputs": [
    {
     "data": {
      "text/plain": [
       "[[1, 2, 3], [4, 5, 6], [7, 8, 9], [10, 11, 12]]"
      ]
     },
     "execution_count": 1,
     "metadata": {},
     "output_type": "execute_result"
    }
   ],
   "source": [
    "my_list2 = [[1, 2, 3], [4, 5, 6], [7, 8, 9], [10, 11, 12]]\n",
    "my_list2"
   ]
  },
  {
   "cell_type": "code",
   "execution_count": 2,
   "metadata": {
    "ExecuteTime": {
     "end_time": "2023-03-31T23:25:07.078986Z",
     "start_time": "2023-03-31T23:25:06.931013Z"
    }
   },
   "outputs": [
    {
     "data": {
      "text/plain": [
       "array([[ 1,  2,  3],\n",
       "       [ 4,  5,  6],\n",
       "       [ 7,  8,  9],\n",
       "       [10, 11, 12]])"
      ]
     },
     "execution_count": 2,
     "metadata": {},
     "output_type": "execute_result"
    }
   ],
   "source": [
    "my_array2 = np.array(my_list2)\n",
    "my_array2"
   ]
  },
  {
   "cell_type": "code",
   "execution_count": 3,
   "metadata": {
    "ExecuteTime": {
     "end_time": "2023-03-31T23:25:07.181638Z",
     "start_time": "2023-03-31T23:25:07.082989Z"
    }
   },
   "outputs": [
    {
     "data": {
      "text/plain": [
       "(4, 3)"
      ]
     },
     "execution_count": 3,
     "metadata": {},
     "output_type": "execute_result"
    }
   ],
   "source": [
    "my_array2.shape"
   ]
  },
  {
   "cell_type": "code",
   "execution_count": 4,
   "metadata": {
    "ExecuteTime": {
     "end_time": "2023-03-31T23:25:07.339639Z",
     "start_time": "2023-03-31T23:25:07.184638Z"
    }
   },
   "outputs": [
    {
     "data": {
      "text/plain": [
       "array([[ 1,  2,  3,  4],\n",
       "       [ 5,  6,  7,  8],\n",
       "       [ 9, 10, 11, 12]])"
      ]
     },
     "execution_count": 4,
     "metadata": {},
     "output_type": "execute_result"
    }
   ],
   "source": [
    "my_array2.reshape(3,4)"
   ]
  },
  {
   "cell_type": "code",
   "execution_count": 6,
   "metadata": {
    "ExecuteTime": {
     "end_time": "2023-03-31T23:25:07.474372Z",
     "start_time": "2023-03-31T23:25:07.346638Z"
    }
   },
   "outputs": [
    {
     "data": {
      "text/plain": [
       "array([ 1,  2,  3,  4,  5,  6,  7,  8,  9, 10, 11, 12])"
      ]
     },
     "execution_count": 6,
     "metadata": {},
     "output_type": "execute_result"
    }
   ],
   "source": [
    "# reshape(-1) ile çok boyutlu bir diziyi 1 boyutlu bir diziye dönüştürebilirsiniz. \n",
    "\n",
    "my_array2.reshape(3, -1).reshape(-1)"
   ]
  },
  {
   "cell_type": "code",
   "execution_count": 11,
   "metadata": {
    "ExecuteTime": {
     "end_time": "2023-03-31T23:25:07.650053Z",
     "start_time": "2023-03-31T23:25:07.474372Z"
    }
   },
   "outputs": [
    {
     "name": "stdout",
     "output_type": "stream",
     "text": [
      "[0, 1, 2, 3, 4, 5, 6, 7, 8, 9, 10, 11, 12, 13, 14, 15, 16, 17, 18, 19, 20, 21, 22, 23, 24, 25, 26, 27, 28, 29, 30, 31, 32, 33, 34, 35, 36, 37, 38, 39, 40, 41, 42, 43, 44, 45, 46, 47]\n"
     ]
    }
   ],
   "source": [
    "myList=list(range(0,48))\n",
    "print(myList)"
   ]
  },
  {
   "cell_type": "code",
   "execution_count": 12,
   "metadata": {
    "ExecuteTime": {
     "end_time": "2023-03-31T23:25:07.822052Z",
     "start_time": "2023-03-31T23:25:07.675055Z"
    }
   },
   "outputs": [
    {
     "data": {
      "text/plain": [
       "array([[[[ 0,  1,  2,  3,  4,  5,  6,  7,  8,  9, 10, 11, 12, 13, 14,\n",
       "          15, 16, 17, 18, 19, 20, 21, 22, 23, 24, 25, 26, 27, 28, 29,\n",
       "          30, 31, 32, 33, 34, 35, 36, 37, 38, 39, 40, 41, 42, 43, 44,\n",
       "          45, 46, 47]]]])"
      ]
     },
     "execution_count": 12,
     "metadata": {},
     "output_type": "execute_result"
    }
   ],
   "source": [
    "myArray=np.array(myList, ndmin=4)\n",
    "myArray"
   ]
  },
  {
   "cell_type": "code",
   "execution_count": 13,
   "metadata": {
    "ExecuteTime": {
     "end_time": "2023-03-31T23:25:07.921648Z",
     "start_time": "2023-03-31T23:25:07.826054Z"
    }
   },
   "outputs": [
    {
     "data": {
      "text/plain": [
       "array([1, 2, 3])"
      ]
     },
     "execution_count": 13,
     "metadata": {},
     "output_type": "execute_result"
    }
   ],
   "source": [
    "my_int = np.array([1, 2, 3])\n",
    "my_int"
   ]
  },
  {
   "cell_type": "code",
   "execution_count": 14,
   "metadata": {
    "ExecuteTime": {
     "end_time": "2023-03-31T23:25:07.999645Z",
     "start_time": "2023-03-31T23:25:07.926649Z"
    }
   },
   "outputs": [
    {
     "data": {
      "text/plain": [
       "dtype('int32')"
      ]
     },
     "execution_count": 14,
     "metadata": {},
     "output_type": "execute_result"
    }
   ],
   "source": [
    "my_int.dtype"
   ]
  },
  {
   "cell_type": "code",
   "execution_count": 15,
   "metadata": {
    "ExecuteTime": {
     "end_time": "2023-03-31T23:25:08.089750Z",
     "start_time": "2023-03-31T23:25:08.003647Z"
    }
   },
   "outputs": [
    {
     "name": "stdout",
     "output_type": "stream",
     "text": [
      "[1. 2.]\n",
      "float64\n"
     ]
    }
   ],
   "source": [
    "x = np.array([1, 2], dtype=np.float64)\n",
    "print(x)        \n",
    "print(x.dtype)  # 1.2, 1.0 - 1."
   ]
  },
  {
   "cell_type": "code",
   "execution_count": 16,
   "metadata": {
    "ExecuteTime": {
     "end_time": "2023-03-31T23:25:08.208686Z",
     "start_time": "2023-03-31T23:25:08.092181Z"
    }
   },
   "outputs": [
    {
     "name": "stdout",
     "output_type": "stream",
     "text": [
      "[False  True  True]\n",
      "bool\n"
     ]
    }
   ],
   "source": [
    "arr = np.array([0, 1, 2])\n",
    "\n",
    "newarr = arr.astype(bool)\n",
    "\n",
    "print(newarr)        \n",
    "print(newarr.dtype) "
   ]
  },
  {
   "cell_type": "markdown",
   "metadata": {},
   "source": [
    "# Create Array Methods"
   ]
  },
  {
   "cell_type": "markdown",
   "metadata": {},
   "source": [
    "[numpy source 01](https://stackabuse.com/numpy-tutorial-a-simple-example-based-guide/),\n",
    "[numpy source 02](https://sparkbyexamples.com/numpy/ways-to-create-numpy-array/),\n",
    "[numpy source 03](https://www.freecodecamp.org/news/the-ultimate-guide-to-the-numpy-scientific-computing-library-for-python/)"
   ]
  },
  {
   "cell_type": "markdown",
   "metadata": {},
   "source": [
    "## From a Python List"
   ]
  },
  {
   "cell_type": "markdown",
   "metadata": {},
   "source": [
    "### resize"
   ]
  },
  {
   "cell_type": "markdown",
   "metadata": {},
   "source": [
    "resize(), ndarray nesnesinin boyutunu yeniden şekillendirmek için kullanılır. \n",
    "\n",
    "Bu yöntem, ndarray nesnesinin boyutunu değiştirir ve yeni boyutlara uygun olarak verileri değiştirir. \n",
    "\n",
    "Yani, ndarray nesnesinin boyutunu değiştirmek ve verilerini yeniden boyutlandırmak istediğinizde, resize yöntemini kullanabilirsiniz. \n",
    "\n",
    "Ancak, bu işlem, orijinal verilerin değiştirilmesine neden olabilir, bu nedenle dikkatli kullanılmalıdır."
   ]
  },
  {
   "cell_type": "code",
   "execution_count": 1,
   "metadata": {},
   "outputs": [],
   "source": [
    "# np.reshape(arr,())\n",
    "# arr.reshape()"
   ]
  },
  {
   "cell_type": "code",
   "execution_count": 2,
   "metadata": {
    "ExecuteTime": {
     "end_time": "2023-03-31T23:25:08.367397Z",
     "start_time": "2023-03-31T23:25:08.212692Z"
    }
   },
   "outputs": [
    {
     "data": {
      "text/plain": [
       "array([[1, 2, 3],\n",
       "       [4, 5, 6]])"
      ]
     },
     "execution_count": 2,
     "metadata": {},
     "output_type": "execute_result"
    }
   ],
   "source": [
    "arr = np.array([[1,2,3], [4,5,6]])\n",
    "arr \n",
    "\n",
    "#reshape eleman sayisina bagli kalmaliyiz. degilse hata verir.\n",
    "#Resize istedigimiz formatta yazdiriyoruz. elemen varsa onlari secer,\n",
    "#  yoksa elemenlari tekrarlatarak gerekli elemen sayisina ulasir."
   ]
  },
  {
   "cell_type": "code",
   "execution_count": 3,
   "metadata": {
    "ExecuteTime": {
     "end_time": "2023-03-31T23:25:08.542242Z",
     "start_time": "2023-03-31T23:25:08.370352Z"
    }
   },
   "outputs": [
    {
     "data": {
      "text/plain": [
       "array([[1, 2, 3],\n",
       "       [4, 5, 6],\n",
       "       [1, 2, 3],\n",
       "       [4, 5, 6],\n",
       "       [1, 2, 3],\n",
       "       [4, 5, 6]])"
      ]
     },
     "execution_count": 3,
     "metadata": {},
     "output_type": "execute_result"
    }
   ],
   "source": [
    "np.resize(arr, (6,3))"
   ]
  },
  {
   "cell_type": "code",
   "execution_count": 5,
   "metadata": {
    "ExecuteTime": {
     "end_time": "2023-03-31T23:25:08.635730Z",
     "start_time": "2023-03-31T23:25:08.546240Z"
    }
   },
   "outputs": [],
   "source": [
    "# np.reshape(arr, (6,3)) boyutlar uygun olmadığından hata verir"
   ]
  },
  {
   "cell_type": "code",
   "execution_count": 4,
   "metadata": {
    "ExecuteTime": {
     "end_time": "2023-03-31T23:25:08.793673Z",
     "start_time": "2023-03-31T23:25:08.641672Z"
    }
   },
   "outputs": [
    {
     "data": {
      "text/plain": [
       "array([[1, 2],\n",
       "       [3, 4]])"
      ]
     },
     "execution_count": 4,
     "metadata": {},
     "output_type": "execute_result"
    }
   ],
   "source": [
    "np.resize(arr, (2,2))"
   ]
  },
  {
   "cell_type": "markdown",
   "metadata": {},
   "source": [
    "### fromiter"
   ]
  },
  {
   "cell_type": "markdown",
   "metadata": {},
   "source": [
    "fromiter(), bir array oluşturmak için bir iterator nesnesinden verileri alır.\n",
    "\n",
    "Verilerin bellekte tutulmasına gerek kalmadan, yineleyiciden elemanları tek tek çekerek NumPy dizisine dönüştürür. \n",
    "\n",
    "Bu özellikle büyük verilerle çalışırken bellek kullanımını azaltmak için yararlıdır."
   ]
  },
  {
   "cell_type": "code",
   "execution_count": 17,
   "metadata": {
    "ExecuteTime": {
     "end_time": "2023-03-31T23:25:08.919101Z",
     "start_time": "2023-03-31T23:25:08.797673Z"
    }
   },
   "outputs": [
    {
     "data": {
      "text/plain": [
       "<generator object <genexpr> at 0x000001DEBDD5C040>"
      ]
     },
     "execution_count": 17,
     "metadata": {},
     "output_type": "execute_result"
    }
   ],
   "source": [
    "my_iter = (i for i in range(5)) # it doesn't store a lot of data inside the memory, it only stores the code, and \n",
    "my_iter # whenever it is called it recalls the formula or code and then it brings the data"
   ]
  },
  {
   "cell_type": "code",
   "execution_count": 18,
   "metadata": {
    "ExecuteTime": {
     "end_time": "2023-03-31T23:25:09.028105Z",
     "start_time": "2023-03-31T23:25:08.925090Z"
    }
   },
   "outputs": [
    {
     "data": {
      "text/plain": [
       "array([0, 1, 2, 3, 4])"
      ]
     },
     "execution_count": 18,
     "metadata": {},
     "output_type": "execute_result"
    }
   ],
   "source": [
    "np.fromiter(my_iter, int)"
   ]
  },
  {
   "cell_type": "markdown",
   "metadata": {},
   "source": [
    "## From Built-in Methods"
   ]
  },
  {
   "cell_type": "markdown",
   "metadata": {},
   "source": [
    "### arange\n",
    "\n",
    "Python’daki range() fonksiyonuna benzer. \n",
    "\n",
    "Belirtilen başlangıç değerinden başlayıp, her seferinde adım sayısı kadar arttırarak ,bitiş değerine kadar olan sayıları bulunduran bir numpy dizisi dödürür.\n",
    "\n",
    "Not: Bitiş değerinin diziye dahil edilmediğine dikkat edelim."
   ]
  },
  {
   "cell_type": "code",
   "execution_count": 20,
   "metadata": {
    "ExecuteTime": {
     "end_time": "2023-03-31T23:25:09.125455Z",
     "start_time": "2023-03-31T23:25:09.031088Z"
    }
   },
   "outputs": [
    {
     "data": {
      "text/plain": [
       "array([0, 1, 2, 3, 4, 5, 6, 7, 8, 9])"
      ]
     },
     "execution_count": 20,
     "metadata": {},
     "output_type": "execute_result"
    }
   ],
   "source": [
    "np.arange(10) # start, stop, step\n",
    "# start = 0, step = 1 automatic"
   ]
  },
  {
   "cell_type": "code",
   "execution_count": 5,
   "metadata": {
    "ExecuteTime": {
     "end_time": "2023-03-31T23:25:09.226028Z",
     "start_time": "2023-03-31T23:25:09.128434Z"
    }
   },
   "outputs": [
    {
     "data": {
      "text/plain": [
       "array([0, 1, 2, 3, 4, 5, 6, 7, 8, 9])"
      ]
     },
     "execution_count": 5,
     "metadata": {},
     "output_type": "execute_result"
    }
   ],
   "source": [
    "np.arange(0, 10)"
   ]
  },
  {
   "cell_type": "code",
   "execution_count": 27,
   "metadata": {},
   "outputs": [
    {
     "data": {
      "text/plain": [
       "range(0, 5)"
      ]
     },
     "execution_count": 27,
     "metadata": {},
     "output_type": "execute_result"
    }
   ],
   "source": [
    "range(5) # remembers the function like iter, we must call it under list or tuple function to extract the values."
   ]
  },
  {
   "cell_type": "code",
   "execution_count": 28,
   "metadata": {},
   "outputs": [
    {
     "data": {
      "text/plain": [
       "[0, 1, 2, 3, 4]"
      ]
     },
     "execution_count": 28,
     "metadata": {},
     "output_type": "execute_result"
    }
   ],
   "source": [
    "list(range(5))"
   ]
  },
  {
   "cell_type": "code",
   "execution_count": 6,
   "metadata": {
    "ExecuteTime": {
     "end_time": "2023-03-31T23:25:09.354700Z",
     "start_time": "2023-03-31T23:25:09.229050Z"
    }
   },
   "outputs": [
    {
     "data": {
      "text/plain": [
       "array([0, 2, 4, 6, 8])"
      ]
     },
     "execution_count": 6,
     "metadata": {},
     "output_type": "execute_result"
    }
   ],
   "source": [
    "np.arange(0, 10, 2)"
   ]
  },
  {
   "cell_type": "code",
   "execution_count": 7,
   "metadata": {
    "ExecuteTime": {
     "end_time": "2023-03-31T23:25:09.427776Z",
     "start_time": "2023-03-31T23:25:09.358680Z"
    }
   },
   "outputs": [
    {
     "data": {
      "text/plain": [
       "array([1, 3, 5, 7, 9])"
      ]
     },
     "execution_count": 7,
     "metadata": {},
     "output_type": "execute_result"
    }
   ],
   "source": [
    "np.arange(1, 10, 2)"
   ]
  },
  {
   "cell_type": "markdown",
   "metadata": {},
   "source": [
    "### linspace"
   ]
  },
  {
   "cell_type": "markdown",
   "metadata": {},
   "source": [
    "Verilen başlangıç ve bitiş değerleri arasında, belirtilen sayıda eşit aralıklı değerlerden oluşan bir numpy dizisi oluşturur.\n",
    "\n",
    "Bu fonksiyon, özellikle grafik çizme ve veri analizi gibi durumlarda yararlıdır.\n"
   ]
  },
  {
   "cell_type": "code",
   "execution_count": 10,
   "metadata": {
    "ExecuteTime": {
     "end_time": "2023-03-31T23:25:09.500768Z",
     "start_time": "2023-03-31T23:25:09.430759Z"
    },
    "scrolled": true
   },
   "outputs": [
    {
     "data": {
      "text/plain": [
       "(array([ 1.        ,  1.3877551 ,  1.7755102 ,  2.16326531,  2.55102041,\n",
       "         2.93877551,  3.32653061,  3.71428571,  4.10204082,  4.48979592,\n",
       "         4.87755102,  5.26530612,  5.65306122,  6.04081633,  6.42857143,\n",
       "         6.81632653,  7.20408163,  7.59183673,  7.97959184,  8.36734694,\n",
       "         8.75510204,  9.14285714,  9.53061224,  9.91836735, 10.30612245,\n",
       "        10.69387755, 11.08163265, 11.46938776, 11.85714286, 12.24489796,\n",
       "        12.63265306, 13.02040816, 13.40816327, 13.79591837, 14.18367347,\n",
       "        14.57142857, 14.95918367, 15.34693878, 15.73469388, 16.12244898,\n",
       "        16.51020408, 16.89795918, 17.28571429, 17.67346939, 18.06122449,\n",
       "        18.44897959, 18.83673469, 19.2244898 , 19.6122449 , 20.        ]),\n",
       " 0.3877551020408163)"
      ]
     },
     "execution_count": 10,
     "metadata": {},
     "output_type": "execute_result"
    }
   ],
   "source": [
    "np.linspace(1, 20, retstep = True)  # Unlike arange, the end parameter is included. Because it has a built in parameter called;\n",
    "# endpoint which by default is True, meaning it also includes the endpoint"
   ]
  },
  {
   "cell_type": "code",
   "execution_count": null,
   "metadata": {},
   "outputs": [],
   "source": [
    "# in linspace and logspace endpoint barameter by default is true"
   ]
  },
  {
   "cell_type": "code",
   "execution_count": 28,
   "metadata": {
    "ExecuteTime": {
     "end_time": "2023-03-31T23:25:09.623315Z",
     "start_time": "2023-03-31T23:25:09.513766Z"
    }
   },
   "outputs": [
    {
     "data": {
      "text/plain": [
       "array([ 1.        ,  3.11111111,  5.22222222,  7.33333333,  9.44444444,\n",
       "       11.55555556, 13.66666667, 15.77777778, 17.88888889, 20.        ])"
      ]
     },
     "execution_count": 28,
     "metadata": {},
     "output_type": "execute_result"
    }
   ],
   "source": [
    "np.linspace(1, 20, 10)"
   ]
  },
  {
   "cell_type": "code",
   "execution_count": 9,
   "metadata": {
    "ExecuteTime": {
     "end_time": "2023-03-31T23:25:09.728791Z",
     "start_time": "2023-03-31T23:25:09.626314Z"
    }
   },
   "outputs": [
    {
     "data": {
      "text/plain": [
       "array([ 1,  3,  5,  7,  9, 11, 13, 15, 17, 20])"
      ]
     },
     "execution_count": 9,
     "metadata": {},
     "output_type": "execute_result"
    }
   ],
   "source": [
    "np.linspace(1, 20, 10, dtype=int)"
   ]
  },
  {
   "cell_type": "code",
   "execution_count": 30,
   "metadata": {
    "ExecuteTime": {
     "end_time": "2023-03-31T23:25:09.797196Z",
     "start_time": "2023-03-31T23:25:09.732796Z"
    }
   },
   "outputs": [
    {
     "data": {
      "text/plain": [
       "0"
      ]
     },
     "execution_count": 30,
     "metadata": {},
     "output_type": "execute_result"
    }
   ],
   "source": [
    "int(0.8)"
   ]
  },
  {
   "cell_type": "code",
   "execution_count": 31,
   "metadata": {
    "ExecuteTime": {
     "end_time": "2023-03-31T23:25:09.920718Z",
     "start_time": "2023-03-31T23:25:09.801202Z"
    }
   },
   "outputs": [
    {
     "data": {
      "text/plain": [
       "1"
      ]
     },
     "execution_count": 31,
     "metadata": {},
     "output_type": "execute_result"
    }
   ],
   "source": [
    "int(1)"
   ]
  },
  {
   "cell_type": "code",
   "execution_count": 32,
   "metadata": {
    "ExecuteTime": {
     "end_time": "2023-03-31T23:25:10.044740Z",
     "start_time": "2023-03-31T23:25:09.924721Z"
    }
   },
   "outputs": [
    {
     "data": {
      "text/plain": [
       "array([ 1. ,  2.9,  4.8,  6.7,  8.6, 10.5, 12.4, 14.3, 16.2, 18.1])"
      ]
     },
     "execution_count": 32,
     "metadata": {},
     "output_type": "execute_result"
    }
   ],
   "source": [
    "np.linspace(1, 20, 10, endpoint=False)"
   ]
  },
  {
   "cell_type": "code",
   "execution_count": 33,
   "metadata": {
    "ExecuteTime": {
     "end_time": "2023-03-31T23:25:10.144414Z",
     "start_time": "2023-03-31T23:25:10.047721Z"
    }
   },
   "outputs": [
    {
     "data": {
      "text/plain": [
       "(array([ 1.        ,  3.11111111,  5.22222222,  7.33333333,  9.44444444,\n",
       "        11.55555556, 13.66666667, 15.77777778, 17.88888889, 20.        ]),\n",
       " 2.111111111111111)"
      ]
     },
     "execution_count": 33,
     "metadata": {},
     "output_type": "execute_result"
    }
   ],
   "source": [
    "np.linspace(1, 20, 10, retstep=True) # equally distanced"
   ]
  },
  {
   "cell_type": "code",
   "execution_count": 34,
   "metadata": {
    "ExecuteTime": {
     "end_time": "2023-03-31T23:25:10.240037Z",
     "start_time": "2023-03-31T23:25:10.144414Z"
    }
   },
   "outputs": [
    {
     "data": {
      "text/plain": [
       "array([[ 0. ,  2.5,  5. ,  7.5, 10. ],\n",
       "       [ 0. ,  5. , 10. , 15. , 20. ]])"
      ]
     },
     "execution_count": 34,
     "metadata": {},
     "output_type": "execute_result"
    }
   ],
   "source": [
    "np.linspace(0, [10,20], 5, axis=1) # we can give lists as start or endpoint in linspace"
   ]
  },
  {
   "cell_type": "code",
   "execution_count": 35,
   "metadata": {
    "ExecuteTime": {
     "end_time": "2023-03-31T23:25:10.364367Z",
     "start_time": "2023-03-31T23:25:10.243039Z"
    }
   },
   "outputs": [
    {
     "data": {
      "text/plain": [
       "array([[ 0. ,  0. ],\n",
       "       [ 2.5,  5. ],\n",
       "       [ 5. , 10. ],\n",
       "       [ 7.5, 15. ],\n",
       "       [10. , 20. ]])"
      ]
     },
     "execution_count": 35,
     "metadata": {},
     "output_type": "execute_result"
    }
   ],
   "source": [
    "np.linspace(0, [10,20], 5, axis=0)"
   ]
  },
  {
   "cell_type": "code",
   "execution_count": 8,
   "metadata": {},
   "outputs": [
    {
     "data": {
      "text/plain": [
       "array([[10. , 15. , 20. , 25. , 30. ],\n",
       "       [20. , 22.5, 25. , 27.5, 30. ]])"
      ]
     },
     "execution_count": 8,
     "metadata": {},
     "output_type": "execute_result"
    }
   ],
   "source": [
    "np.linspace([10,20], 30, 5, axis=1)"
   ]
  },
  {
   "cell_type": "code",
   "execution_count": 9,
   "metadata": {},
   "outputs": [
    {
     "data": {
      "text/plain": [
       "array([[10. , 20. ],\n",
       "       [15. , 22.5],\n",
       "       [20. , 25. ],\n",
       "       [25. , 27.5],\n",
       "       [30. , 30. ]])"
      ]
     },
     "execution_count": 9,
     "metadata": {},
     "output_type": "execute_result"
    }
   ],
   "source": [
    "np.linspace([10,20], 30, 5, axis=0)"
   ]
  },
  {
   "cell_type": "code",
   "execution_count": 10,
   "metadata": {},
   "outputs": [
    {
     "data": {
      "text/plain": [
       "array([ 1.        ,  1.65517241,  2.31034483,  2.96551724,  3.62068966,\n",
       "        4.27586207,  4.93103448,  5.5862069 ,  6.24137931,  6.89655172,\n",
       "        7.55172414,  8.20689655,  8.86206897,  9.51724138, 10.17241379,\n",
       "       10.82758621, 11.48275862, 12.13793103, 12.79310345, 13.44827586,\n",
       "       14.10344828, 14.75862069, 15.4137931 , 16.06896552, 16.72413793,\n",
       "       17.37931034, 18.03448276, 18.68965517, 19.34482759, 20.        ])"
      ]
     },
     "execution_count": 10,
     "metadata": {},
     "output_type": "execute_result"
    }
   ],
   "source": [
    "np.linspace(1, 20, 30)"
   ]
  },
  {
   "cell_type": "code",
   "execution_count": 11,
   "metadata": {
    "ExecuteTime": {
     "end_time": "2023-03-31T23:25:10.476625Z",
     "start_time": "2023-03-31T23:25:10.367346Z"
    }
   },
   "outputs": [
    {
     "data": {
      "text/plain": [
       "array([ 1,  1,  2,  2,  3,  4,  4,  5,  6,  6,  7,  8,  8,  9, 10, 10, 11,\n",
       "       12, 12, 13, 14, 14, 15, 16, 16, 17, 18, 18, 19, 20])"
      ]
     },
     "execution_count": 11,
     "metadata": {},
     "output_type": "execute_result"
    }
   ],
   "source": [
    "np.linspace(1, 20, 30, dtype=int) # dtype=int seçerek integer veri tipinde oluşturdum"
   ]
  },
  {
   "cell_type": "markdown",
   "metadata": {},
   "source": [
    "### logspace"
   ]
  },
  {
   "cell_type": "markdown",
   "metadata": {},
   "source": [
    "logspace() logaritmik aralıklarda bir dizi oluşturur. \n",
    "\n",
    "logspace() fonksiyonu, linspace() fonksiyonuna benzer şekilde çalışır, ancak aralıklar logaritmik olarak hesaplanır.\n",
    "\n",
    "Logspace : Başlangıç değeri 10a ,bitiş değeri değeri 10b olan n elemanlı ve elemanları arasındaki katları eşit olan bir dizi oluşturur.\n"
   ]
  },
  {
   "cell_type": "code",
   "execution_count": null,
   "metadata": {},
   "outputs": [],
   "source": [
    "# start stop (num by default = 50)"
   ]
  },
  {
   "cell_type": "code",
   "execution_count": 11,
   "metadata": {
    "ExecuteTime": {
     "end_time": "2023-03-31T23:25:10.572270Z",
     "start_time": "2023-03-31T23:25:10.481608Z"
    }
   },
   "outputs": [
    {
     "data": {
      "text/plain": [
       "array([ 100.        ,  104.81131342,  109.8541142 ,  115.13953993,\n",
       "        120.67926406,  126.48552169,  132.57113656,  138.94954944,\n",
       "        145.63484775,  152.64179672,  159.98587196,  167.68329368,\n",
       "        175.75106249,  184.20699693,  193.06977289,  202.35896477,\n",
       "        212.09508879,  222.29964825,  232.99518105,  244.20530945,\n",
       "        255.95479227,  268.26957953,  281.1768698 ,  294.70517026,\n",
       "        308.88435965,  323.74575428,  339.32217719,  355.64803062,\n",
       "        372.75937203,  390.69399371,  409.49150624,  429.19342601,\n",
       "        449.8432669 ,  471.48663635,  494.17133613,  517.94746792,\n",
       "        542.86754393,  568.9866029 ,  596.36233166,  625.05519253,\n",
       "        655.12855686,  686.648845  ,  719.685673  ,  754.31200634,\n",
       "        790.60432109,  828.64277285,  868.51137375,  910.29817799,\n",
       "        954.09547635, 1000.        ])"
      ]
     },
     "execution_count": 11,
     "metadata": {},
     "output_type": "execute_result"
    }
   ],
   "source": [
    "np.logspace(2,3) # by default the base is 10, but we can change em, and like linspace by default it brings 50 numbers\n",
    "# btw, it doesn't contain retstep."
   ]
  },
  {
   "cell_type": "code",
   "execution_count": 13,
   "metadata": {
    "ExecuteTime": {
     "end_time": "2023-03-31T23:25:10.657077Z",
     "start_time": "2023-03-31T23:25:10.576264Z"
    },
    "scrolled": true
   },
   "outputs": [
    {
     "data": {
      "text/plain": [
       "array([4.        , 4.32023896, 4.66611616, 5.0396842 , 5.44316   ,\n",
       "       5.87893797, 6.34960421, 6.85795186, 7.4069977 , 8.        ])"
      ]
     },
     "execution_count": 13,
     "metadata": {},
     "output_type": "execute_result"
    }
   ],
   "source": [
    "np.logspace(2,3,num = 10, base=2) # base = taban"
   ]
  },
  {
   "cell_type": "code",
   "execution_count": 14,
   "metadata": {},
   "outputs": [
    {
     "data": {
      "text/plain": [
       "array([ 9.        , 10.16847868, 11.48866206, 12.98024613, 14.665484  ,\n",
       "       16.56951792, 18.72075441, 21.151288  , 23.89738011, 27.        ])"
      ]
     },
     "execution_count": 14,
     "metadata": {},
     "output_type": "execute_result"
    }
   ],
   "source": [
    "np.logspace(2,3,10, base=3)"
   ]
  },
  {
   "cell_type": "code",
   "execution_count": null,
   "metadata": {},
   "outputs": [],
   "source": [
    "start stop step (1,10,2)"
   ]
  },
  {
   "cell_type": "markdown",
   "metadata": {},
   "source": [
    "### zeros\n",
    "Belirtilen satır ve sütuna sahip 0'lardan oluşan bir matris döndürür."
   ]
  },
  {
   "cell_type": "code",
   "execution_count": 20,
   "metadata": {},
   "outputs": [],
   "source": [
    "# float by default"
   ]
  },
  {
   "cell_type": "code",
   "execution_count": 16,
   "metadata": {
    "ExecuteTime": {
     "end_time": "2023-03-31T23:25:10.751880Z",
     "start_time": "2023-03-31T23:25:10.661076Z"
    }
   },
   "outputs": [
    {
     "data": {
      "text/plain": [
       "array([[0., 0., 0.],\n",
       "       [0., 0., 0.],\n",
       "       [0., 0., 0.]])"
      ]
     },
     "execution_count": 16,
     "metadata": {},
     "output_type": "execute_result"
    }
   ],
   "source": [
    "np.zeros([3,3]) # shape has to be given as tuple or list and dtype by default is float"
   ]
  },
  {
   "cell_type": "code",
   "execution_count": 18,
   "metadata": {},
   "outputs": [
    {
     "data": {
      "text/plain": [
       "array([[12., 12., 12.],\n",
       "       [12., 12., 12.],\n",
       "       [12., 12., 12.]])"
      ]
     },
     "execution_count": 18,
     "metadata": {},
     "output_type": "execute_result"
    }
   ],
   "source": [
    "np.zeros((3,3)) + 12"
   ]
  },
  {
   "cell_type": "code",
   "execution_count": 22,
   "metadata": {
    "ExecuteTime": {
     "end_time": "2023-03-31T23:25:10.824210Z",
     "start_time": "2023-03-31T23:25:10.755827Z"
    }
   },
   "outputs": [
    {
     "data": {
      "text/plain": [
       "array([[False, False, False],\n",
       "       [False, False, False],\n",
       "       [False, False, False]])"
      ]
     },
     "execution_count": 22,
     "metadata": {},
     "output_type": "execute_result"
    }
   ],
   "source": [
    "np.zeros([3,3], dtype=bool)"
   ]
  },
  {
   "cell_type": "code",
   "execution_count": 23,
   "metadata": {
    "ExecuteTime": {
     "end_time": "2023-03-31T23:25:10.951580Z",
     "start_time": "2023-03-31T23:25:10.828212Z"
    }
   },
   "outputs": [
    {
     "data": {
      "text/plain": [
       "array([[ 0,  1,  2],\n",
       "       [ 3,  4,  5],\n",
       "       [ 6,  7,  8],\n",
       "       [ 9, 10, 11]])"
      ]
     },
     "execution_count": 23,
     "metadata": {},
     "output_type": "execute_result"
    }
   ],
   "source": [
    "arr = np.arange(12).reshape(4,3)\n",
    "arr"
   ]
  },
  {
   "cell_type": "code",
   "execution_count": 42,
   "metadata": {
    "ExecuteTime": {
     "end_time": "2023-03-31T23:25:11.021028Z",
     "start_time": "2023-03-31T23:25:10.955585Z"
    }
   },
   "outputs": [
    {
     "data": {
      "text/plain": [
       "array([[0, 0, 0],\n",
       "       [0, 0, 0],\n",
       "       [0, 0, 0],\n",
       "       [0, 0, 0]])"
      ]
     },
     "execution_count": 42,
     "metadata": {},
     "output_type": "execute_result"
    }
   ],
   "source": [
    "np.zeros_like(arr)"
   ]
  },
  {
   "cell_type": "code",
   "execution_count": 34,
   "metadata": {},
   "outputs": [
    {
     "data": {
      "text/plain": [
       "array([[ 7, 10],\n",
       "       [13, 16],\n",
       "       [19, 22],\n",
       "       [25, 28]])"
      ]
     },
     "execution_count": 34,
     "metadata": {},
     "output_type": "execute_result"
    }
   ],
   "source": [
    "arr = np.arange(7,30,3).reshape(4,2) # start stop step\n",
    "# linespace ve logspace start stop num\n",
    "arr"
   ]
  },
  {
   "cell_type": "markdown",
   "metadata": {},
   "source": [
    "### ones\n",
    "Belirtilen satır ve sütuna sahip 1'lerdan oluşan bir matris döndürür."
   ]
  },
  {
   "cell_type": "code",
   "execution_count": 24,
   "metadata": {
    "ExecuteTime": {
     "end_time": "2023-03-31T23:25:11.140257Z",
     "start_time": "2023-03-31T23:25:11.026030Z"
    }
   },
   "outputs": [
    {
     "data": {
      "text/plain": [
       "array([[1., 1., 1., 1., 1.],\n",
       "       [1., 1., 1., 1., 1.],\n",
       "       [1., 1., 1., 1., 1.]])"
      ]
     },
     "execution_count": 24,
     "metadata": {},
     "output_type": "execute_result"
    }
   ],
   "source": [
    "np.ones((3,5))"
   ]
  },
  {
   "cell_type": "code",
   "execution_count": 25,
   "metadata": {
    "ExecuteTime": {
     "end_time": "2023-03-31T23:25:11.290721Z",
     "start_time": "2023-03-31T23:25:11.143257Z"
    }
   },
   "outputs": [
    {
     "data": {
      "text/plain": [
       "array([[55., 55., 55., 55., 55.],\n",
       "       [55., 55., 55., 55., 55.],\n",
       "       [55., 55., 55., 55., 55.]])"
      ]
     },
     "execution_count": 25,
     "metadata": {},
     "output_type": "execute_result"
    }
   ],
   "source": [
    "np.ones((3,5)) * 55"
   ]
  },
  {
   "cell_type": "code",
   "execution_count": 26,
   "metadata": {
    "ExecuteTime": {
     "end_time": "2023-03-31T23:25:11.447356Z",
     "start_time": "2023-03-31T23:25:11.294719Z"
    }
   },
   "outputs": [
    {
     "data": {
      "text/plain": [
       "array([[ 0,  1,  2],\n",
       "       [ 3,  4,  5],\n",
       "       [ 6,  7,  8],\n",
       "       [ 9, 10, 11]])"
      ]
     },
     "execution_count": 26,
     "metadata": {},
     "output_type": "execute_result"
    }
   ],
   "source": [
    "arr"
   ]
  },
  {
   "cell_type": "code",
   "execution_count": 27,
   "metadata": {
    "ExecuteTime": {
     "end_time": "2023-03-31T23:25:11.566444Z",
     "start_time": "2023-03-31T23:25:11.447356Z"
    }
   },
   "outputs": [
    {
     "data": {
      "text/plain": [
       "array([[1, 1, 1],\n",
       "       [1, 1, 1],\n",
       "       [1, 1, 1],\n",
       "       [1, 1, 1]])"
      ]
     },
     "execution_count": 27,
     "metadata": {},
     "output_type": "execute_result"
    }
   ],
   "source": [
    "np.ones_like(arr)"
   ]
  },
  {
   "cell_type": "markdown",
   "metadata": {},
   "source": [
    "### eye\n",
    "Belirlenen boyutlarda birim matris oluşturmamızı sağlayan fonksiyon."
   ]
  },
  {
   "cell_type": "code",
   "execution_count": 28,
   "metadata": {
    "ExecuteTime": {
     "end_time": "2023-03-31T23:25:11.697716Z",
     "start_time": "2023-03-31T23:25:11.569419Z"
    }
   },
   "outputs": [
    {
     "data": {
      "text/plain": [
       "array([[1., 0., 0.],\n",
       "       [0., 1., 0.],\n",
       "       [0., 0., 1.]])"
      ]
     },
     "execution_count": 28,
     "metadata": {},
     "output_type": "execute_result"
    }
   ],
   "source": [
    "np.eye(3,3)"
   ]
  },
  {
   "cell_type": "code",
   "execution_count": 30,
   "metadata": {
    "ExecuteTime": {
     "end_time": "2023-03-31T23:25:11.774099Z",
     "start_time": "2023-03-31T23:25:11.701062Z"
    }
   },
   "outputs": [
    {
     "data": {
      "text/plain": [
       "array([[0., 1., 0.],\n",
       "       [0., 0., 1.],\n",
       "       [0., 0., 0.]])"
      ]
     },
     "execution_count": 30,
     "metadata": {},
     "output_type": "execute_result"
    }
   ],
   "source": [
    "np.eye(3, k=1)"
   ]
  },
  {
   "cell_type": "code",
   "execution_count": 37,
   "metadata": {},
   "outputs": [
    {
     "data": {
      "text/plain": [
       "array([[0., 0., 0.],\n",
       "       [1., 0., 0.],\n",
       "       [0., 1., 0.]])"
      ]
     },
     "execution_count": 37,
     "metadata": {},
     "output_type": "execute_result"
    }
   ],
   "source": [
    "np.eye(3, k=-1)"
   ]
  },
  {
   "cell_type": "markdown",
   "metadata": {},
   "source": [
    "### full\n",
    "Sabit sayıdan oluşan matris oluşturur"
   ]
  },
  {
   "cell_type": "code",
   "execution_count": 49,
   "metadata": {
    "ExecuteTime": {
     "end_time": "2023-03-31T23:25:11.922647Z",
     "start_time": "2023-03-31T23:25:11.777098Z"
    },
    "scrolled": true
   },
   "outputs": [
    {
     "data": {
      "text/plain": [
       "array([[10, 10],\n",
       "       [10, 10]])"
      ]
     },
     "execution_count": 49,
     "metadata": {},
     "output_type": "execute_result"
    }
   ],
   "source": [
    "np.full((2,2), 10)"
   ]
  },
  {
   "cell_type": "code",
   "execution_count": 38,
   "metadata": {},
   "outputs": [
    {
     "data": {
      "text/plain": [
       "array([[132, 132],\n",
       "       [132, 132]])"
      ]
     },
     "execution_count": 38,
     "metadata": {},
     "output_type": "execute_result"
    }
   ],
   "source": [
    "np.full((2,2), 132)"
   ]
  },
  {
   "cell_type": "code",
   "execution_count": 31,
   "metadata": {
    "ExecuteTime": {
     "end_time": "2023-03-31T23:25:12.057888Z",
     "start_time": "2023-03-31T23:25:11.926645Z"
    }
   },
   "outputs": [
    {
     "data": {
      "text/plain": [
       "array([[ 0,  1,  2],\n",
       "       [ 3,  4,  5],\n",
       "       [ 6,  7,  8],\n",
       "       [ 9, 10, 11]])"
      ]
     },
     "execution_count": 31,
     "metadata": {},
     "output_type": "execute_result"
    }
   ],
   "source": [
    "arr"
   ]
  },
  {
   "cell_type": "code",
   "execution_count": 51,
   "metadata": {
    "ExecuteTime": {
     "end_time": "2023-03-31T23:25:12.149925Z",
     "start_time": "2023-03-31T23:25:12.061867Z"
    }
   },
   "outputs": [
    {
     "data": {
      "text/plain": [
       "array([[2, 2, 2],\n",
       "       [2, 2, 2],\n",
       "       [2, 2, 2],\n",
       "       [2, 2, 2]])"
      ]
     },
     "execution_count": 51,
     "metadata": {},
     "output_type": "execute_result"
    }
   ],
   "source": [
    "np.full_like(arr, 2)"
   ]
  },
  {
   "cell_type": "markdown",
   "metadata": {},
   "source": [
    "# Various Built-in Methods"
   ]
  },
  {
   "cell_type": "markdown",
   "metadata": {},
   "source": [
    "**ÖNEMLİ !!**\n",
    "\n",
    "random modülündeki rand(), randn() ve randint() randomize değerler ürettiği için kendi notebookunuzda çalışırken derste benim çözümümden farklı değerler alabilirsiniz !! "
   ]
  },
  {
   "cell_type": "markdown",
   "metadata": {},
   "source": [
    "## rand"
   ]
  },
  {
   "cell_type": "markdown",
   "metadata": {},
   "source": [
    "random.rand(), 0 ile 1 arasında, uniform dağılımlı rastgele float sayılardan oluşan bir array oluşturur. \n",
    "\n",
    "Uniform dağılım, belirli bir aralıkta tüm değerlerin olasılık yoğunluğunun eşit olduğu bir olasılık dağılımıdır. Yani, herhangi bir değerin seçilme olasılığı diğer değerlerden farklı değildir. \n",
    "\n",
    "Örneğin; bir zarın her bir yüzünün eşit olasılıkla gelmesi gibi."
   ]
  },
  {
   "cell_type": "code",
   "execution_count": 34,
   "metadata": {
    "ExecuteTime": {
     "end_time": "2023-03-31T23:25:12.270907Z",
     "start_time": "2023-03-31T23:25:12.152866Z"
    }
   },
   "outputs": [
    {
     "data": {
      "text/plain": [
       "array([[0.05284528, 0.47417514, 0.08677369],\n",
       "       [0.09997495, 0.53637201, 0.12216555],\n",
       "       [0.68242233, 0.43365642, 0.99638332]])"
      ]
     },
     "execution_count": 34,
     "metadata": {},
     "output_type": "execute_result"
    }
   ],
   "source": [
    "np.random.rand(3,3) # 0 dan baslayip 1 e kadar giden sayilardan "
   ]
  },
  {
   "cell_type": "code",
   "execution_count": 35,
   "metadata": {
    "ExecuteTime": {
     "end_time": "2023-03-31T23:25:15.767288Z",
     "start_time": "2023-03-31T23:25:12.275904Z"
    }
   },
   "outputs": [],
   "source": [
    "import matplotlib.pyplot as plt"
   ]
  },
  {
   "cell_type": "code",
   "execution_count": 33,
   "metadata": {
    "ExecuteTime": {
     "end_time": "2023-03-31T23:25:16.984754Z",
     "start_time": "2023-03-31T23:25:15.771288Z"
    }
   },
   "outputs": [
    {
     "data": {
      "text/plain": [
       "(array([2497., 2491., 2547., 2483., 2489., 2500., 2619., 2583., 2486.,\n",
       "        2458., 2509., 2405., 2486., 2562., 2480., 2454., 2497., 2511.,\n",
       "        2444., 2499.]),\n",
       " array([7.27838479e-06, 5.00053280e-02, 1.00003378e-01, 1.50001427e-01,\n",
       "        1.99999477e-01, 2.49997526e-01, 2.99995576e-01, 3.49993625e-01,\n",
       "        3.99991675e-01, 4.49989725e-01, 4.99987774e-01, 5.49985824e-01,\n",
       "        5.99983873e-01, 6.49981923e-01, 6.99979973e-01, 7.49978022e-01,\n",
       "        7.99976072e-01, 8.49974121e-01, 8.99972171e-01, 9.49970220e-01,\n",
       "        9.99968270e-01]),\n",
       " <BarContainer object of 20 artists>)"
      ]
     },
     "execution_count": 33,
     "metadata": {},
     "output_type": "execute_result"
    },
    {
     "data": {
      "image/png": "[encoded data removed]",
      "text/plain": [
       "<Figure size 640x480 with 1 Axes>"
      ]
     },
     "metadata": {},
     "output_type": "display_data"
    }
   ],
   "source": [
    "plt.hist(np.random.rand(50000), bins=20)"
   ]
  },
  {
   "cell_type": "markdown",
   "metadata": {},
   "source": [
    "## randn"
   ]
  },
  {
   "cell_type": "markdown",
   "metadata": {},
   "source": [
    "random.randn(), ortalama değeri 0 ve standart sapması 1 olan normal dağılıma sahip rastgele sayılar üretmek için kullanılır. \n",
    "\n",
    "Fonksiyon, normal dağılımdan rastgele sayılar üretir ve bu sayıları NumPy dizisi olarak döndürür."
   ]
  },
  {
   "cell_type": "code",
   "execution_count": 36,
   "metadata": {
    "ExecuteTime": {
     "end_time": "2023-03-31T23:25:17.004438Z",
     "start_time": "2023-03-31T23:25:16.987731Z"
    }
   },
   "outputs": [
    {
     "data": {
      "text/plain": [
       "array([[-0.29879061,  0.98155698, -0.10582216],\n",
       "       [ 0.84571155,  2.03534574, -0.1505707 ],\n",
       "       [ 0.56055781,  0.66615865, -0.75251756]])"
      ]
     },
     "execution_count": 36,
     "metadata": {},
     "output_type": "execute_result"
    }
   ],
   "source": [
    "np.random.randn(3,3)"
   ]
  },
  {
   "cell_type": "markdown",
   "metadata": {},
   "source": [
    "Approximately 68% of the data falls within one standard deviation of the mean.\n",
    "\n",
    "Approximately 95% of the data falls within two standard deviations of the mean.\n",
    "\n",
    "Approximately 99.7% of the data falls within three standard deviations of the mean."
   ]
  },
  {
   "cell_type": "code",
   "execution_count": 37,
   "metadata": {
    "ExecuteTime": {
     "end_time": "2023-03-31T23:25:17.454036Z",
     "start_time": "2023-03-31T23:25:17.011415Z"
    }
   },
   "outputs": [
    {
     "data": {
      "image/png": "[encoded data removed]",
      "text/plain": [
       "<Figure size 640x480 with 1 Axes>"
      ]
     },
     "metadata": {},
     "output_type": "display_data"
    }
   ],
   "source": [
    "plt.hist(np.random.randn(50000), bins=50)\n",
    "plt.show()\n",
    "# mean degerden 1 birim saga ve bir birim sola , verinin ?% bulunuyor, her std gittigimizde "
   ]
  },
  {
   "cell_type": "code",
   "execution_count": 57,
   "metadata": {
    "ExecuteTime": {
     "end_time": "2023-03-31T23:25:17.470035Z",
     "start_time": "2023-03-31T23:25:17.459036Z"
    }
   },
   "outputs": [
    {
     "data": {
      "text/plain": [
       "0.002984532798287653"
      ]
     },
     "execution_count": 57,
     "metadata": {},
     "output_type": "execute_result"
    }
   ],
   "source": [
    "np.random.randn(55555).mean()   # derste yapmadık !!! - bu kod ile ortalamanın sıfıra çok yakın olduğunu görüyoruz"
   ]
  },
  {
   "cell_type": "code",
   "execution_count": 58,
   "metadata": {
    "ExecuteTime": {
     "end_time": "2023-03-31T23:25:17.559022Z",
     "start_time": "2023-03-31T23:25:17.476042Z"
    }
   },
   "outputs": [
    {
     "data": {
      "text/plain": [
       "0.9955915095048001"
      ]
     },
     "execution_count": 58,
     "metadata": {},
     "output_type": "execute_result"
    }
   ],
   "source": [
    "np.random.randn(55555).std()    # derste yapmadık !!! - bu kod ile std'nin bire çok yakın olduğunu görüyoruz"
   ]
  },
  {
   "cell_type": "markdown",
   "metadata": {},
   "source": [
    "## randint"
   ]
  },
  {
   "cell_type": "markdown",
   "metadata": {},
   "source": [
    "random.randint(x), 0-x aralığında integer değerler üretir\n",
    "\n",
    "Bitiş(x) dahil değil"
   ]
  },
  {
   "cell_type": "code",
   "execution_count": 55,
   "metadata": {
    "ExecuteTime": {
     "end_time": "2023-03-31T23:25:17.648968Z",
     "start_time": "2023-03-31T23:25:17.563022Z"
    }
   },
   "outputs": [
    {
     "data": {
      "text/plain": [
       "4"
      ]
     },
     "execution_count": 55,
     "metadata": {},
     "output_type": "execute_result"
    }
   ],
   "source": [
    "np.random.randint(10) # start, stop, num - stop noktasi not included"
   ]
  },
  {
   "cell_type": "code",
   "execution_count": 73,
   "metadata": {},
   "outputs": [
    {
     "data": {
      "text/plain": [
       "98"
      ]
     },
     "execution_count": 73,
     "metadata": {},
     "output_type": "execute_result"
    }
   ],
   "source": [
    "np.random.randint(98,99)\n"
   ]
  },
  {
   "cell_type": "code",
   "execution_count": 58,
   "metadata": {},
   "outputs": [
    {
     "data": {
      "text/plain": [
       "217"
      ]
     },
     "execution_count": 58,
     "metadata": {},
     "output_type": "execute_result"
    }
   ],
   "source": [
    "np.random.randint(1000)"
   ]
  },
  {
   "cell_type": "code",
   "execution_count": 62,
   "metadata": {
    "ExecuteTime": {
     "end_time": "2023-03-31T23:25:17.733991Z",
     "start_time": "2023-03-31T23:25:17.652965Z"
    }
   },
   "outputs": [
    {
     "data": {
      "text/plain": [
       "27"
      ]
     },
     "execution_count": 62,
     "metadata": {},
     "output_type": "execute_result"
    }
   ],
   "source": [
    "np.random.randint(1,100)"
   ]
  },
  {
   "cell_type": "code",
   "execution_count": 64,
   "metadata": {
    "ExecuteTime": {
     "end_time": "2023-03-31T23:25:17.819703Z",
     "start_time": "2023-03-31T23:25:17.740155Z"
    }
   },
   "outputs": [
    {
     "data": {
      "text/plain": [
       "array([48, 88, 69,  3, 24, 76, 41,  1, 98, 17])"
      ]
     },
     "execution_count": 64,
     "metadata": {},
     "output_type": "execute_result"
    }
   ],
   "source": [
    "np.random.randint(1,100,10)"
   ]
  },
  {
   "cell_type": "code",
   "execution_count": 62,
   "metadata": {
    "ExecuteTime": {
     "end_time": "2023-03-31T23:25:17.914196Z",
     "start_time": "2023-03-31T23:25:17.824705Z"
    }
   },
   "outputs": [
    {
     "data": {
      "text/plain": [
       "array([[8, 0, 3, 1],\n",
       "       [6, 6, 2, 5]])"
      ]
     },
     "execution_count": 62,
     "metadata": {},
     "output_type": "execute_result"
    }
   ],
   "source": [
    "np.random.randint(10, size=(2,4))"
   ]
  },
  {
   "cell_type": "markdown",
   "metadata": {},
   "source": [
    "## max & argmax & min & argmin"
   ]
  },
  {
   "cell_type": "markdown",
   "metadata": {},
   "source": [
    "min(), bir dizinin içindeki en küçük değeri döndürür\n",
    "\n",
    "max(), bir dizinin içindeki en büyük değeri döndürür\n",
    "\n",
    "argmin(), bir dizinin içindeki en küçük değerin indeksini döndürür\n",
    "\n",
    "argmax(), bir dizinin içindeki en büyük değerin indeksini döndürür"
   ]
  },
  {
   "cell_type": "code",
   "execution_count": 74,
   "metadata": {
    "ExecuteTime": {
     "end_time": "2023-03-31T23:25:18.020688Z",
     "start_time": "2023-03-31T23:25:17.918198Z"
    }
   },
   "outputs": [
    {
     "data": {
      "text/plain": [
       "array([10,  1, 11, 36, 10, 47, 27, 47,  6, 41])"
      ]
     },
     "execution_count": 74,
     "metadata": {},
     "output_type": "execute_result"
    }
   ],
   "source": [
    "myarr = np.random.randint(0,50,10)\n",
    "myarr"
   ]
  },
  {
   "cell_type": "code",
   "execution_count": 75,
   "metadata": {
    "ExecuteTime": {
     "end_time": "2023-03-31T23:25:18.128689Z",
     "start_time": "2023-03-31T23:25:18.025690Z"
    }
   },
   "outputs": [
    {
     "data": {
      "text/plain": [
       "47"
      ]
     },
     "execution_count": 75,
     "metadata": {},
     "output_type": "execute_result"
    }
   ],
   "source": [
    "myarr.max()"
   ]
  },
  {
   "cell_type": "code",
   "execution_count": 76,
   "metadata": {
    "ExecuteTime": {
     "end_time": "2023-03-31T23:25:18.268214Z",
     "start_time": "2023-03-31T23:25:18.132688Z"
    }
   },
   "outputs": [
    {
     "data": {
      "text/plain": [
       "5"
      ]
     },
     "execution_count": 76,
     "metadata": {},
     "output_type": "execute_result"
    }
   ],
   "source": [
    "myarr.argmax()"
   ]
  },
  {
   "cell_type": "code",
   "execution_count": 77,
   "metadata": {
    "ExecuteTime": {
     "end_time": "2023-03-31T23:25:18.357060Z",
     "start_time": "2023-03-31T23:25:18.272210Z"
    }
   },
   "outputs": [
    {
     "data": {
      "text/plain": [
       "1"
      ]
     },
     "execution_count": 77,
     "metadata": {},
     "output_type": "execute_result"
    }
   ],
   "source": [
    "myarr.min()"
   ]
  },
  {
   "cell_type": "code",
   "execution_count": 78,
   "metadata": {
    "ExecuteTime": {
     "end_time": "2023-03-31T23:25:18.488002Z",
     "start_time": "2023-03-31T23:25:18.361059Z"
    }
   },
   "outputs": [
    {
     "data": {
      "text/plain": [
       "1"
      ]
     },
     "execution_count": 78,
     "metadata": {},
     "output_type": "execute_result"
    }
   ],
   "source": [
    "myarr.argmin()"
   ]
  },
  {
   "cell_type": "markdown",
   "metadata": {
    "ExecuteTime": {
     "end_time": "2023-03-30T01:25:39.211356Z",
     "start_time": "2023-03-30T01:25:39.197336Z"
    }
   },
   "source": [
    "## ndim\n",
    "\n",
    "ndim, NumPy dizisinin boyut sayısını belirtir. "
   ]
  },
  {
   "cell_type": "code",
   "execution_count": 80,
   "metadata": {},
   "outputs": [],
   "source": [
    "mylist = [1,2,3,4]"
   ]
  },
  {
   "cell_type": "code",
   "execution_count": 81,
   "metadata": {},
   "outputs": [],
   "source": [
    "myarray = np.array(mylist, ndmin = 2) # while creating an array from a list we use ndmin"
   ]
  },
  {
   "cell_type": "code",
   "execution_count": 82,
   "metadata": {},
   "outputs": [
    {
     "data": {
      "text/plain": [
       "array([[1, 2, 3, 4]])"
      ]
     },
     "execution_count": 82,
     "metadata": {},
     "output_type": "execute_result"
    }
   ],
   "source": [
    "myarray"
   ]
  },
  {
   "cell_type": "code",
   "execution_count": 85,
   "metadata": {},
   "outputs": [
    {
     "data": {
      "text/plain": [
       "2"
      ]
     },
     "execution_count": 85,
     "metadata": {},
     "output_type": "execute_result"
    }
   ],
   "source": [
    "myarray.ndim"
   ]
  },
  {
   "cell_type": "code",
   "execution_count": 83,
   "metadata": {
    "ExecuteTime": {
     "end_time": "2023-03-31T23:25:18.576338Z",
     "start_time": "2023-03-31T23:25:18.496003Z"
    }
   },
   "outputs": [
    {
     "data": {
      "text/plain": [
       "array([[ 0,  1,  2],\n",
       "       [ 3,  4,  5],\n",
       "       [ 6,  7,  8],\n",
       "       [ 9, 10, 11]])"
      ]
     },
     "execution_count": 83,
     "metadata": {},
     "output_type": "execute_result"
    }
   ],
   "source": [
    "arr"
   ]
  },
  {
   "cell_type": "code",
   "execution_count": 84,
   "metadata": {
    "ExecuteTime": {
     "end_time": "2023-03-31T23:25:18.707154Z",
     "start_time": "2023-03-31T23:25:18.576338Z"
    }
   },
   "outputs": [
    {
     "data": {
      "text/plain": [
       "2"
      ]
     },
     "execution_count": 84,
     "metadata": {},
     "output_type": "execute_result"
    }
   ],
   "source": [
    "arr.ndim # while calling an array we use ndim."
   ]
  },
  {
   "cell_type": "code",
   "execution_count": 70,
   "metadata": {
    "ExecuteTime": {
     "end_time": "2023-03-31T23:25:18.839461Z",
     "start_time": "2023-03-31T23:25:18.712164Z"
    }
   },
   "outputs": [
    {
     "data": {
      "text/plain": [
       "1"
      ]
     },
     "execution_count": 70,
     "metadata": {},
     "output_type": "execute_result"
    }
   ],
   "source": [
    "myarr.ndim"
   ]
  },
  {
   "cell_type": "markdown",
   "metadata": {},
   "source": [
    "arraylarda boyutu olusturmak icin ndmin, boyutu gormek icin ndim kullaniriz"
   ]
  },
  {
   "cell_type": "markdown",
   "metadata": {},
   "source": [
    "## size\n",
    "Bir dizideki toplam eleman sayısı\n",
    "\n",
    "2x3'lük bir matris için size=6"
   ]
  },
  {
   "cell_type": "code",
   "execution_count": 87,
   "metadata": {
    "ExecuteTime": {
     "end_time": "2023-03-31T23:25:18.927259Z",
     "start_time": "2023-03-31T23:25:18.844461Z"
    }
   },
   "outputs": [
    {
     "data": {
      "text/plain": [
       "array([[ 0,  1,  2],\n",
       "       [ 3,  4,  5],\n",
       "       [ 6,  7,  8],\n",
       "       [ 9, 10, 11]])"
      ]
     },
     "execution_count": 87,
     "metadata": {},
     "output_type": "execute_result"
    }
   ],
   "source": [
    "arr"
   ]
  },
  {
   "cell_type": "code",
   "execution_count": 88,
   "metadata": {
    "ExecuteTime": {
     "end_time": "2023-03-31T23:25:19.022332Z",
     "start_time": "2023-03-31T23:25:18.927259Z"
    }
   },
   "outputs": [
    {
     "data": {
      "text/plain": [
       "12"
      ]
     },
     "execution_count": 88,
     "metadata": {},
     "output_type": "execute_result"
    }
   ],
   "source": [
    "arr.size"
   ]
  },
  {
   "cell_type": "code",
   "execution_count": 89,
   "metadata": {
    "ExecuteTime": {
     "end_time": "2023-03-31T23:25:19.125611Z",
     "start_time": "2023-03-31T23:25:19.026332Z"
    }
   },
   "outputs": [
    {
     "data": {
      "text/plain": [
       "(4, 3)"
      ]
     },
     "execution_count": 89,
     "metadata": {},
     "output_type": "execute_result"
    }
   ],
   "source": [
    "arr.shape"
   ]
  },
  {
   "cell_type": "code",
   "execution_count": 90,
   "metadata": {
    "ExecuteTime": {
     "end_time": "2023-03-31T23:25:19.206289Z",
     "start_time": "2023-03-31T23:25:19.127854Z"
    }
   },
   "outputs": [
    {
     "data": {
      "text/plain": [
       "2"
      ]
     },
     "execution_count": 90,
     "metadata": {},
     "output_type": "execute_result"
    }
   ],
   "source": [
    "arr.ndim"
   ]
  },
  {
   "cell_type": "code",
   "execution_count": 91,
   "metadata": {
    "ExecuteTime": {
     "end_time": "2023-03-31T23:25:19.291167Z",
     "start_time": "2023-03-31T23:25:19.211272Z"
    }
   },
   "outputs": [
    {
     "data": {
      "text/plain": [
       "4"
      ]
     },
     "execution_count": 91,
     "metadata": {},
     "output_type": "execute_result"
    }
   ],
   "source": [
    "len(arr)"
   ]
  },
  {
   "cell_type": "markdown",
   "metadata": {},
   "source": [
    "## itemsize"
   ]
  },
  {
   "cell_type": "markdown",
   "metadata": {},
   "source": [
    "itemsize(), NumPy dizisinin her bir elemanının bellekte kaç byte kapladığını gösterir. \n",
    "\n",
    "Bu özellik, NumPy dizisinin veri tipine (dtype) bağlıdır ve bu veri tipinin boyutuna göre değişir.\n",
    "\n",
    "itemsize(), bir NumPy dizisinin bellekte kapladığı toplam alanı hesaplamak için de kullanılabilir. Bu hesaplama, dizinin eleman sayısının itemsize() ile çarpımı ile yapılabilir.\n",
    "\n",
    "float32 tipi 32 bit (4 byte) bellek kullanır ve yaklaşık 7 basamak hassasiyetle ondalık sayıları temsil edebilir. \n",
    "\n",
    "32 bitlik bir sayı, 2^32 farklı sayıyı ifade edebilir.\n",
    "\n",
    "float64 tipi ise 64 bit (8 byte) bellek kullanır ve yaklaşık 15-16 basamak hassasiyetle ondalık sayıları temsil edebilir\n",
    "\n",
    "64 bitlik bir sayı, 2^64 farklı sayıyı ifade edebilir."
   ]
  },
  {
   "cell_type": "code",
   "execution_count": 92,
   "metadata": {
    "ExecuteTime": {
     "end_time": "2023-03-31T23:25:19.482172Z",
     "start_time": "2023-03-31T23:25:19.293451Z"
    }
   },
   "outputs": [
    {
     "data": {
      "text/plain": [
       "array([[ 0,  1,  2],\n",
       "       [ 3,  4,  5],\n",
       "       [ 6,  7,  8],\n",
       "       [ 9, 10, 11]])"
      ]
     },
     "execution_count": 92,
     "metadata": {},
     "output_type": "execute_result"
    }
   ],
   "source": [
    "arr"
   ]
  },
  {
   "cell_type": "code",
   "execution_count": 95,
   "metadata": {
    "ExecuteTime": {
     "end_time": "2023-03-31T23:25:19.576060Z",
     "start_time": "2023-03-31T23:25:19.485183Z"
    }
   },
   "outputs": [
    {
     "data": {
      "text/plain": [
       "dtype('int32')"
      ]
     },
     "execution_count": 95,
     "metadata": {},
     "output_type": "execute_result"
    }
   ],
   "source": [
    "arr.dtype # int 32 bit. 32/8 = 4 Byte"
   ]
  },
  {
   "cell_type": "code",
   "execution_count": 96,
   "metadata": {
    "ExecuteTime": {
     "end_time": "2023-03-31T23:25:19.661216Z",
     "start_time": "2023-03-31T23:25:19.583048Z"
    }
   },
   "outputs": [
    {
     "data": {
      "text/plain": [
       "4"
      ]
     },
     "execution_count": 96,
     "metadata": {},
     "output_type": "execute_result"
    }
   ],
   "source": [
    "arr.itemsize"
   ]
  },
  {
   "cell_type": "code",
   "execution_count": 97,
   "metadata": {
    "ExecuteTime": {
     "end_time": "2023-03-31T23:25:19.772039Z",
     "start_time": "2023-03-31T23:25:19.667219Z"
    }
   },
   "outputs": [
    {
     "data": {
      "text/plain": [
       "48"
      ]
     },
     "execution_count": 97,
     "metadata": {},
     "output_type": "execute_result"
    }
   ],
   "source": [
    "arr.itemsize * arr.size"
   ]
  },
  {
   "cell_type": "markdown",
   "metadata": {},
   "source": [
    "## copy"
   ]
  },
  {
   "cell_type": "markdown",
   "metadata": {},
   "source": [
    "copy(), Numpy dizilerinde bir kopya oluşturmak için kullanılır. \n",
    "\n",
    "Bu fonksiyon, orijinal dizinin aynısını oluşturur ancak bu kopya bağımsızdır. Yani, kopya dizisi üzerinde yapılan herhangi bir değişiklik, orijinal diziyi etkilemez ve orijinal dizi üzerinde yapılan değişiklikler de kopya dizisini etkilemez."
   ]
  },
  {
   "cell_type": "code",
   "execution_count": 101,
   "metadata": {
    "ExecuteTime": {
     "end_time": "2023-03-31T23:25:19.868036Z",
     "start_time": "2023-03-31T23:25:19.777036Z"
    }
   },
   "outputs": [
    {
     "data": {
      "text/plain": [
       "array([[42, 42, 42],\n",
       "       [ 3,  4,  5],\n",
       "       [ 6,  7,  8],\n",
       "       [ 9, 10, 11]])"
      ]
     },
     "execution_count": 101,
     "metadata": {},
     "output_type": "execute_result"
    }
   ],
   "source": [
    "arr"
   ]
  },
  {
   "cell_type": "code",
   "execution_count": 102,
   "metadata": {
    "ExecuteTime": {
     "end_time": "2023-03-31T23:25:19.945548Z",
     "start_time": "2023-03-31T23:25:19.873039Z"
    }
   },
   "outputs": [
    {
     "data": {
      "text/plain": [
       "array([[42, 42, 42],\n",
       "       [ 3,  4,  5],\n",
       "       [ 6,  7,  8],\n",
       "       [ 9, 10, 11]])"
      ]
     },
     "execution_count": 102,
     "metadata": {},
     "output_type": "execute_result"
    }
   ],
   "source": [
    "x = arr.copy()\n",
    "x"
   ]
  },
  {
   "cell_type": "code",
   "execution_count": 103,
   "metadata": {
    "ExecuteTime": {
     "end_time": "2023-03-31T23:25:20.024621Z",
     "start_time": "2023-03-31T23:25:19.979686Z"
    }
   },
   "outputs": [
    {
     "data": {
      "text/plain": [
       "array([[34, 34, 34],\n",
       "       [ 3,  4,  5],\n",
       "       [ 6,  7,  8],\n",
       "       [ 9, 10, 11]])"
      ]
     },
     "execution_count": 103,
     "metadata": {},
     "output_type": "execute_result"
    }
   ],
   "source": [
    "arr[0] = 34\n",
    "arr"
   ]
  },
  {
   "cell_type": "code",
   "execution_count": 104,
   "metadata": {
    "ExecuteTime": {
     "end_time": "2023-03-31T23:25:20.107701Z",
     "start_time": "2023-03-31T23:25:20.029623Z"
    }
   },
   "outputs": [
    {
     "data": {
      "text/plain": [
       "array([[42, 42, 42],\n",
       "       [ 3,  4,  5],\n",
       "       [ 6,  7,  8],\n",
       "       [ 9, 10, 11]])"
      ]
     },
     "execution_count": 104,
     "metadata": {},
     "output_type": "execute_result"
    }
   ],
   "source": [
    "x"
   ]
  },
  {
   "cell_type": "markdown",
   "metadata": {},
   "source": [
    "## transpose"
   ]
  },
  {
   "cell_type": "markdown",
   "metadata": {},
   "source": [
    "transpose() fonksiyonu, NumPy dizilerinin boyutlarını değiştiren bir işlevdir. Özellikle matrislerin transpozunu almak için kullanılır.\n",
    "\n",
    "Bir matrisin transpozunu almak, matrisin satırlarını sütunlarına, sütunlarını da satırlarına dönüştürür."
   ]
  },
  {
   "cell_type": "code",
   "execution_count": 105,
   "metadata": {
    "ExecuteTime": {
     "end_time": "2023-03-31T23:25:20.244181Z",
     "start_time": "2023-03-31T23:25:20.112706Z"
    }
   },
   "outputs": [
    {
     "data": {
      "text/plain": [
       "array([[34, 34, 34],\n",
       "       [ 3,  4,  5],\n",
       "       [ 6,  7,  8],\n",
       "       [ 9, 10, 11]])"
      ]
     },
     "execution_count": 105,
     "metadata": {},
     "output_type": "execute_result"
    }
   ],
   "source": [
    "arr # .T"
   ]
  },
  {
   "cell_type": "code",
   "execution_count": 106,
   "metadata": {
    "ExecuteTime": {
     "end_time": "2023-03-31T23:25:20.342158Z",
     "start_time": "2023-03-31T23:25:20.247188Z"
    }
   },
   "outputs": [
    {
     "data": {
      "text/plain": [
       "array([[34,  3,  6,  9],\n",
       "       [34,  4,  7, 10],\n",
       "       [34,  5,  8, 11]])"
      ]
     },
     "execution_count": 106,
     "metadata": {},
     "output_type": "execute_result"
    }
   ],
   "source": [
    "arr.transpose()"
   ]
  },
  {
   "cell_type": "code",
   "execution_count": null,
   "metadata": {},
   "outputs": [],
   "source": []
  }
 ],
 "metadata": {
  "kernelspec": {
   "display_name": "Python 3 (ipykernel)",
   "language": "python",
   "name": "python3"
  },
  "language_info": {
   "codemirror_mode": {
    "name": "ipython",
    "version": 3
   },
   "file_extension": ".py",
   "mimetype": "text/x-python",
   "name": "python",
   "nbconvert_exporter": "python",
   "pygments_lexer": "ipython3",
   "version": "3.10.9"
  },
  "toc": {
   "base_numbering": 1,
   "nav_menu": {},
   "number_sections": true,
   "sideBar": true,
   "skip_h1_title": false,
   "title_cell": "Table of Contents",
   "title_sidebar": "Contents",
   "toc_cell": false,
   "toc_position": {
    "height": "calc(100% - 180px)",
    "left": "10px",
    "top": "150px",
    "width": "165px"
   },
   "toc_section_display": true,
   "toc_window_display": true
  },
  "varInspector": {
   "cols": {
    "lenName": 16,
    "lenType": 16,
    "lenVar": 40
   },
   "kernels_config": {
    "python": {
     "delete_cmd_postfix": "",
     "delete_cmd_prefix": "del ",
     "library": "var_list.py",
     "varRefreshCmd": "print(var_dic_list())"
    },
    "r": {
     "delete_cmd_postfix": ") ",
     "delete_cmd_prefix": "rm(",
     "library": "var_list.r",
     "varRefreshCmd": "cat(var_dic_list()) "
    }
   },
   "types_to_exclude": [
    "module",
    "function",
    "builtin_function_or_method",
    "instance",
    "_Feature"
   ],
   "window_display": false
  }
 },
 "nbformat": 4,
 "nbformat_minor": 4
}
