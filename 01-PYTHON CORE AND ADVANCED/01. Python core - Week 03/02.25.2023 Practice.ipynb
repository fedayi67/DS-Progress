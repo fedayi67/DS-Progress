{
 "cells": [
  {
   "cell_type": "markdown",
   "id": "e013f805-a54c-44fb-a4b1-9a220bb4a182",
   "metadata": {
    "tags": []
   },
   "source": [
    "help(print)"
   ]
  },
  {
   "cell_type": "code",
   "execution_count": 1,
   "id": "329aee69",
   "metadata": {},
   "outputs": [
    {
     "name": "stdout",
     "output_type": "stream",
     "text": [
      "Help on built-in function print in module builtins:\n",
      "\n",
      "print(*args, sep=' ', end='\\n', file=None, flush=False)\n",
      "    Prints the values to a stream, or to sys.stdout by default.\n",
      "    \n",
      "    sep\n",
      "      string inserted between values, default a space.\n",
      "    end\n",
      "      string appended after the last value, default a newline.\n",
      "    file\n",
      "      a file-like object (stream); defaults to the current sys.stdout.\n",
      "    flush\n",
      "      whether to forcibly flush the stream.\n",
      "\n"
     ]
    }
   ],
   "source": [
    "help(print)"
   ]
  },
  {
   "cell_type": "code",
   "execution_count": 2,
   "id": "fe5a34eb",
   "metadata": {
    "scrolled": true
   },
   "outputs": [
    {
     "name": "stdout",
     "output_type": "stream",
     "text": [
      "Ali Veli Hasan\tAli         Veli         Hasan\n",
      "Benim adım\t Ahmet, Yaşım 35\n",
      "Benim adım\t 35, Yaşım Ahmet\n",
      "Benim adım\t Ahmet, Yaşım 35\n",
      "Benim adım: Ahmet,\n",
      "Yaşım: 35\n"
     ]
    }
   ],
   "source": [
    "print(\"Ali\",\"Veli\",\"Hasan\",end='\\t')\n",
    "print(\"Ali\",\"Veli\",\"Hasan\",sep=\"         \",end=\"\\n\")\n",
    "print(\"Benim adım\\t {}, Yaşım {}\".format(\"Ahmet\",35))\n",
    "print(\"Benim adım\\t {1}, Yaşım {0}\".format(\"Ahmet\",35))\n",
    "print(\"Benim adım\\t {ad}, Yaşım {yas}\".format(ad=\"Ahmet\",yas=35))\n",
    "print(\"Benim adım: {ad},\\nYaşım: {yas}\".format(ad=\"Ahmet\",yas=35))\n"
   ]
  },
  {
   "cell_type": "code",
   "execution_count": 176,
   "id": "c01672e8-a5be-450d-be5e-05050207a43f",
   "metadata": {},
   "outputs": [
    {
     "name": "stdout",
     "output_type": "stream",
     "text": [
      "                       merhaba\n",
      "                        sezzai\n",
      "           merhaba            \n",
      "***********merhaba************\n",
      "----##----\n",
      "100 1234567898765420\n",
      "1234567898765420.000 100.00\n",
      "100 1234567898\n",
      "hel te\n"
     ]
    }
   ],
   "source": [
    "print(\"{0:>30}\".format(\"merhaba\",\"sezzai\")) # 0(index):>30(beraber, 23 bosluk) \n",
    "# merhaba için; > sağda yazar, < solda yazar\n",
    "print(\"{1:>30}\".format(\"merhaba\",\"sezzai\")) # 1(index):>30(beraber, 24 bosluk) \n",
    "# sezai için; > sağda yazar, < solda yazar\n",
    "print(\"{:^30}\".format(\"merhaba\"))  # ortalar\n",
    "print(\"{:*^30}\".format(\"merhaba\"))  # * lar arasında ortalar \n",
    "print((\"#\"*2).center(10,\"-\"))    # 10 - arasında 2# yi ortalar\n",
    "print(\"{0:3} {1:10}\".format(100, 1234567898765420))  # 0:ilk süsülü 100 iin\n",
    "print(\"{1:.3f} {0:.2f}\".format(100, 1234567898765420)) # 0 ile 1 indexler\n",
    "print(\"{0:.3} {1:.10}\".format(str(1000), str(1234567898765420)))\n",
    "print(\"{0:.3} {1:.2}\".format(\"hello\", \"techpro education\"))"
   ]
  },
  {
   "cell_type": "code",
   "execution_count": 8,
   "id": "9a644ca1",
   "metadata": {},
   "outputs": [
    {
     "name": "stdout",
     "output_type": "stream",
     "text": [
      "Hello,Hello,Hello,Hello,Hello,Hello,Hello,Hello,Hello,Hello,Hello,Hello,Hello,Hello,Hello,\n"
     ]
    }
   ],
   "source": [
    "print(\"Hello,\"*15)"
   ]
  },
  {
   "cell_type": "code",
   "execution_count": 9,
   "id": "5e896a7b",
   "metadata": {},
   "outputs": [
    {
     "name": "stdout",
     "output_type": "stream",
     "text": [
      "1212121212\n"
     ]
    }
   ],
   "source": [
    "sayi=\"12\"\n",
    "print(sayi*5)"
   ]
  },
  {
   "cell_type": "code",
   "execution_count": 15,
   "id": "c8f75231",
   "metadata": {},
   "outputs": [
    {
     "data": {
      "text/plain": [
       "5"
      ]
     },
     "execution_count": 15,
     "metadata": {},
     "output_type": "execute_result"
    }
   ],
   "source": [
    "sayi1,sayi2,sayi4 = 5,10,15\n",
    "sayi1"
   ]
  },
  {
   "cell_type": "code",
   "execution_count": 16,
   "id": "640dd5e6",
   "metadata": {},
   "outputs": [
    {
     "data": {
      "text/plain": [
       "10"
      ]
     },
     "execution_count": 16,
     "metadata": {},
     "output_type": "execute_result"
    }
   ],
   "source": [
    "sayi2"
   ]
  },
  {
   "cell_type": "code",
   "execution_count": 18,
   "id": "a868f4f0",
   "metadata": {},
   "outputs": [
    {
     "data": {
      "text/plain": [
       "15"
      ]
     },
     "execution_count": 18,
     "metadata": {},
     "output_type": "execute_result"
    }
   ],
   "source": [
    "sayi4"
   ]
  },
  {
   "cell_type": "code",
   "execution_count": 20,
   "id": "f53b411f",
   "metadata": {},
   "outputs": [
    {
     "data": {
      "text/plain": [
       "3"
      ]
     },
     "execution_count": 20,
     "metadata": {},
     "output_type": "execute_result"
    }
   ],
   "source": [
    "sayi0 = 1; sayi3 = 3 # semikolunun ile de yazabiliriz,\n",
    "# we can also assuiugn variables like this\n",
    "sayi3"
   ]
  },
  {
   "cell_type": "code",
   "execution_count": 21,
   "id": "2d49b79f",
   "metadata": {},
   "outputs": [
    {
     "data": {
      "text/plain": [
       "1"
      ]
     },
     "execution_count": 21,
     "metadata": {},
     "output_type": "execute_result"
    }
   ],
   "source": [
    "sayi0"
   ]
  },
  {
   "cell_type": "code",
   "execution_count": 29,
   "id": "b5601740",
   "metadata": {},
   "outputs": [
    {
     "data": {
      "text/plain": [
       "'Python'"
      ]
     },
     "execution_count": 29,
     "metadata": {},
     "output_type": "execute_result"
    }
   ],
   "source": [
    "st='Python'\n",
    "st"
   ]
  },
  {
   "cell_type": "code",
   "execution_count": 30,
   "id": "a622ac7c",
   "metadata": {},
   "outputs": [
    {
     "name": "stdout",
     "output_type": "stream",
     "text": [
      "PYTHON\n"
     ]
    }
   ],
   "source": [
    "print(st.upper())"
   ]
  },
  {
   "cell_type": "code",
   "execution_count": 31,
   "id": "b16ecf47",
   "metadata": {},
   "outputs": [
    {
     "data": {
      "text/plain": [
       "'Python'"
      ]
     },
     "execution_count": 31,
     "metadata": {},
     "output_type": "execute_result"
    }
   ],
   "source": [
    "st # the function doesn't change the original value"
   ]
  },
  {
   "cell_type": "code",
   "execution_count": 33,
   "id": "4cf54836",
   "metadata": {},
   "outputs": [],
   "source": [
    "st=st.upper() # unless we assign it like this"
   ]
  },
  {
   "cell_type": "code",
   "execution_count": 34,
   "id": "c7ef8c3e-d9e9-461a-806c-46dea4104e50",
   "metadata": {},
   "outputs": [
    {
     "data": {
      "text/plain": [
       "'PYTHON'"
      ]
     },
     "execution_count": 34,
     "metadata": {},
     "output_type": "execute_result"
    }
   ],
   "source": [
    "st"
   ]
  },
  {
   "cell_type": "code",
   "execution_count": 35,
   "id": "026ddb99-5b68-4bc8-b18c-c6c5126dc190",
   "metadata": {},
   "outputs": [
    {
     "data": {
      "text/plain": [
       "'python'"
      ]
     },
     "execution_count": 35,
     "metadata": {},
     "output_type": "execute_result"
    }
   ],
   "source": [
    "st.lower()"
   ]
  },
  {
   "cell_type": "code",
   "execution_count": 36,
   "id": "a6691938-ac5e-4a09-9a9b-c24da21cbb28",
   "metadata": {},
   "outputs": [
    {
     "data": {
      "text/plain": [
       "'PYTHON'"
      ]
     },
     "execution_count": 36,
     "metadata": {},
     "output_type": "execute_result"
    }
   ],
   "source": [
    "st # unless we assign to it's lower, the function does not assign"
   ]
  },
  {
   "cell_type": "code",
   "execution_count": 37,
   "id": "819ce2b8",
   "metadata": {},
   "outputs": [
    {
     "data": {
      "text/plain": [
       "'PYTHON   ders'"
      ]
     },
     "execution_count": 37,
     "metadata": {},
     "output_type": "execute_result"
    }
   ],
   "source": [
    "st=st + \"   ders\"\n",
    "st\n"
   ]
  },
  {
   "cell_type": "code",
   "execution_count": 38,
   "id": "7d2fe98d",
   "metadata": {},
   "outputs": [
    {
     "data": {
      "text/plain": [
       "['PYTHON', 'ders']"
      ]
     },
     "execution_count": 38,
     "metadata": {},
     "output_type": "execute_result"
    }
   ],
   "source": [
    "st.split()"
   ]
  },
  {
   "cell_type": "code",
   "execution_count": 40,
   "id": "669ed8b7-7b25-416d-825e-6ce104bc5f27",
   "metadata": {},
   "outputs": [
    {
     "data": {
      "text/plain": [
       "'PYTHON   ders'"
      ]
     },
     "execution_count": 40,
     "metadata": {},
     "output_type": "execute_result"
    }
   ],
   "source": [
    "st # again, unless we doesn't assign, the function itself doesn't assign"
   ]
  },
  {
   "cell_type": "code",
   "execution_count": 41,
   "id": "643e5011",
   "metadata": {},
   "outputs": [
    {
     "data": {
      "text/plain": [
       "'ALI VELI selLAMI HASAN HÜSEYIN'"
      ]
     },
     "execution_count": 41,
     "metadata": {},
     "output_type": "execute_result"
    }
   ],
   "source": [
    "a=\"ali veli SELlami hasan hüseyin\"\n",
    "a.swapcase()"
   ]
  },
  {
   "cell_type": "code",
   "execution_count": 43,
   "id": "83d4600d-bf55-4b3b-a777-93fe98f6343c",
   "metadata": {},
   "outputs": [
    {
     "data": {
      "text/plain": [
       "'ali veli SELlami hasan hüseyin'"
      ]
     },
     "execution_count": 43,
     "metadata": {},
     "output_type": "execute_result"
    }
   ],
   "source": [
    "a # again, unless we doesn't assign, the function itself doesn't assign"
   ]
  },
  {
   "cell_type": "code",
   "execution_count": 44,
   "id": "84b54910",
   "metadata": {},
   "outputs": [
    {
     "name": "stdout",
     "output_type": "stream",
     "text": [
      "['Pyt', 'on']\n"
     ]
    }
   ],
   "source": [
    "# h harfinden parçalayalım\n",
    "st=\"Python\"  \n",
    "print(st.split(\"h\"))"
   ]
  },
  {
   "cell_type": "code",
   "execution_count": 46,
   "id": "9e023b73",
   "metadata": {},
   "outputs": [
    {
     "name": "stdout",
     "output_type": "stream",
     "text": [
      "['Py', 'hon']\n"
     ]
    },
    {
     "data": {
      "text/plain": [
       "'PythonS'"
      ]
     },
     "execution_count": 46,
     "metadata": {},
     "output_type": "execute_result"
    }
   ],
   "source": [
    "st = 'Python'\n",
    "d = st.split('t') # d is a different variable and f is different\n",
    "print(d) # the value of d does not affect f\n",
    "#st[0]='A'  #\"immutable\"    \n",
    "f = st[0:6]+'S'\n",
    "f"
   ]
  },
  {
   "cell_type": "code",
   "execution_count": 52,
   "id": "07937149",
   "metadata": {},
   "outputs": [
    {
     "name": "stdout",
     "output_type": "stream",
     "text": [
      "['Py', 'hon']\n"
     ]
    },
    {
     "ename": "TypeError",
     "evalue": "'str' object does not support item assignment",
     "output_type": "error",
     "traceback": [
      "\u001b[1;31m---------------------------------------------------------------------------\u001b[0m",
      "\u001b[1;31mTypeError\u001b[0m                                 Traceback (most recent call last)",
      "Cell \u001b[1;32mIn[52], line 6\u001b[0m\n\u001b[0;32m      4\u001b[0m f \u001b[39m=\u001b[39m st[\u001b[39m0\u001b[39m:\u001b[39m6\u001b[39m]\u001b[39m+\u001b[39m\u001b[39m'\u001b[39m\u001b[39mS\u001b[39m\u001b[39m'\u001b[39m\n\u001b[0;32m      5\u001b[0m f\n\u001b[1;32m----> 6\u001b[0m st[\u001b[39m0\u001b[39;49m]\u001b[39m=\u001b[39m\u001b[39m'\u001b[39m\u001b[39mA\u001b[39m\u001b[39m'\u001b[39m  \u001b[39m#\"immutable\"    \u001b[39;00m\n",
      "\u001b[1;31mTypeError\u001b[0m: 'str' object does not support item assignment"
     ]
    }
   ],
   "source": [
    "st = 'Python'\n",
    "d = st.split('t') # d is a different variable and f is different\n",
    "print(d) # the value of d does not affect f\n",
    "st[0]='A'  #\"immutable\"    \n",
    "f = st[0:6]+'S'\n",
    "f"
   ]
  },
  {
   "cell_type": "code",
   "execution_count": 54,
   "id": "b9ed0d02",
   "metadata": {},
   "outputs": [
    {
     "name": "stdout",
     "output_type": "stream",
     "text": [
      "['Py', 'hon']\n"
     ]
    },
    {
     "data": {
      "text/plain": [
       "'PythonS'"
      ]
     },
     "execution_count": 54,
     "metadata": {},
     "output_type": "execute_result"
    }
   ],
   "source": [
    "st = 'Python'\n",
    "d = st.split('t') # d is a different variable and f is different\n",
    "print(d) # the value of d does not affect f\n",
    "# st[0]='A'  #\"immutable\"    \n",
    "f = st[0:6]+'S' # here the 6 is excluded\n",
    "f"
   ]
  },
  {
   "cell_type": "code",
   "execution_count": 48,
   "id": "07dd2b52",
   "metadata": {},
   "outputs": [
    {
     "name": "stdout",
     "output_type": "stream",
     "text": [
      "h e l l o\n"
     ]
    }
   ],
   "source": [
    "print(*\"hello\") # this way we can separate every character with a space"
   ]
  },
  {
   "cell_type": "code",
   "execution_count": 49,
   "id": "9ccc0427",
   "metadata": {},
   "outputs": [
    {
     "name": "stdout",
     "output_type": "stream",
     "text": [
      "merha\n"
     ]
    }
   ],
   "source": [
    "print(\"merha\\ba\")"
   ]
  },
  {
   "cell_type": "code",
   "execution_count": 50,
   "id": "61855e48",
   "metadata": {},
   "outputs": [
    {
     "name": "stdout",
     "output_type": "stream",
     "text": [
      "mer\\haba\n"
     ]
    },
    {
     "data": {
      "text/plain": [
       "[None]"
      ]
     },
     "execution_count": 50,
     "metadata": {},
     "output_type": "execute_result"
    }
   ],
   "source": [
    "[print(r\"mer\\haba\")]"
   ]
  },
  {
   "cell_type": "code",
   "execution_count": 60,
   "id": "b0373c0e",
   "metadata": {},
   "outputs": [
    {
     "name": "stdout",
     "output_type": "stream",
     "text": [
      "PYTHON ÖĞREYNMEK ÇOYK ZEVYKLI\n",
      "python öğreynmek çoyk zevykli\n",
      "['P', 'thon Öğre', 'nmek Çoyk Zevykli']\n",
      "['P', 'thon Öğre', 'nmek Ço', 'k Zevykli']\n",
      "['P', 'thon Öğre', 'nmek Ço', 'k Zev', 'kli']\n"
     ]
    }
   ],
   "source": [
    "st=\"Python Öğreynmek Çoyk Zevykli\"\n",
    "print(st.upper())\n",
    "print(st.lower())\n",
    "print(st.split(sep=\"y\",maxsplit=2)) # divides 2ice and to three parts\n",
    "print(st.split(\"y\",3)) # no need to write sep and maxsplit\n",
    "print(st.split(sep=\"y\"))\n",
    "# the split funciton takes two arguments, first sep second maxsplit"
   ]
  },
  {
   "cell_type": "code",
   "execution_count": 58,
   "id": "32eac0a4",
   "metadata": {},
   "outputs": [
    {
     "name": "stdout",
     "output_type": "stream",
     "text": [
      "True False False\n",
      "<class 'bool'>-<class 'bool'>-<class 'str'>\n"
     ]
    }
   ],
   "source": [
    "a = True\n",
    "x = False\n",
    "zz = \"False\"\n",
    "print(a,x,zz)\n",
    "print(type(a),type(x),type(zz),sep=\"-\")"
   ]
  },
  {
   "cell_type": "code",
   "execution_count": 61,
   "id": "9f177515",
   "metadata": {},
   "outputs": [
    {
     "name": "stdout",
     "output_type": "stream",
     "text": [
      "False\n",
      "True\n",
      "True\n"
     ]
    }
   ],
   "source": [
    "x = 10; y = 20\n",
    "x,y = 10,20\n",
    "# x=y=z=t=k=l=30\n",
    "print(x == y)\n",
    "print(x!= y)\n",
    "print(not x == y)"
   ]
  },
  {
   "cell_type": "code",
   "execution_count": 63,
   "id": "8212bb53",
   "metadata": {},
   "outputs": [
    {
     "name": "stdout",
     "output_type": "stream",
     "text": [
      "['2', '5', 'a', 5, 's', 'c', 'h', 'h', 5]\n",
      "['a', 'b', '2', '5', 3, 'a', 5, 's', 'c', 'h', 'h', 5, 3]\n",
      "['a', 'b', 'a', 5, 's', 'c', 'h', 'h', 5, 3]\n",
      "['a', 'b', 'a', 's', 'c', 'h', 5, 3]\n"
     ]
    }
   ],
   "source": [
    "Liste = [\"2\",\"5\",\"a\",5,\"s\",\"c\",\"h\",\"h\",5]\n",
    "print(Liste)\n",
    "Liste = [\"a\",\"b\"]+Liste\n",
    "Liste.insert(4,3)    # 4. indexin yerine yazılır. Harf sağa kayar\n",
    "Liste.append(3)     # listenin sonuna ekler\n",
    "print(Liste)\n",
    "del Liste[2:5]\n",
    "print(Liste)\n",
    "del Liste[3],Liste[5]\n",
    "print(Liste)"
   ]
  },
  {
   "cell_type": "code",
   "execution_count": 64,
   "id": "d325acef",
   "metadata": {},
   "outputs": [
    {
     "name": "stdout",
     "output_type": "stream",
     "text": [
      "['2', '5', 'a', 5, 's', 'c', 'h', 'h', 3]\n"
     ]
    }
   ],
   "source": [
    "Liste=[\"2\",\"5\",\"a\",5,\"s\",\"c\",\"h\",\"h\"]\n",
    "Liste.append(3)\n",
    "print(Liste)"
   ]
  },
  {
   "cell_type": "code",
   "execution_count": 70,
   "id": "0ba24c9b",
   "metadata": {},
   "outputs": [
    {
     "data": {
      "text/plain": [
       "['2', '5', 's', 'c']"
      ]
     },
     "execution_count": 70,
     "metadata": {},
     "output_type": "execute_result"
    }
   ],
   "source": [
    "a=Liste.pop()  # değer yazılmazsa son elemanı siler \n",
    "Liste"
   ]
  },
  {
   "cell_type": "code",
   "execution_count": 71,
   "id": "375df092",
   "metadata": {},
   "outputs": [
    {
     "data": {
      "text/plain": [
       "'h'"
      ]
     },
     "execution_count": 71,
     "metadata": {},
     "output_type": "execute_result"
    }
   ],
   "source": [
    "a"
   ]
  },
  {
   "cell_type": "code",
   "execution_count": 72,
   "id": "006686e5",
   "metadata": {},
   "outputs": [
    {
     "data": {
      "text/plain": [
       "['2', '5', 's', 'c']"
      ]
     },
     "execution_count": 72,
     "metadata": {},
     "output_type": "execute_result"
    }
   ],
   "source": [
    "Liste"
   ]
  },
  {
   "cell_type": "code",
   "execution_count": 73,
   "id": "fbcae1fe",
   "metadata": {
    "scrolled": true
   },
   "outputs": [
    {
     "data": {
      "text/plain": [
       "'s'"
      ]
     },
     "execution_count": 73,
     "metadata": {},
     "output_type": "execute_result"
    }
   ],
   "source": [
    "Liste.pop(2) # index 2"
   ]
  },
  {
   "cell_type": "code",
   "execution_count": 74,
   "id": "3c6975c8",
   "metadata": {},
   "outputs": [
    {
     "data": {
      "text/plain": [
       "['2', '5', 'c']"
      ]
     },
     "execution_count": 74,
     "metadata": {},
     "output_type": "execute_result"
    }
   ],
   "source": [
    "Liste"
   ]
  },
  {
   "cell_type": "code",
   "execution_count": 75,
   "id": "95434889",
   "metadata": {},
   "outputs": [],
   "source": [
    "Liste.remove(\"2\")"
   ]
  },
  {
   "cell_type": "code",
   "execution_count": 76,
   "id": "6e65fe8a",
   "metadata": {},
   "outputs": [
    {
     "data": {
      "text/plain": [
       "['5', 'c']"
      ]
     },
     "execution_count": 76,
     "metadata": {},
     "output_type": "execute_result"
    }
   ],
   "source": [
    "Liste"
   ]
  },
  {
   "cell_type": "code",
   "execution_count": 78,
   "id": "86401939",
   "metadata": {},
   "outputs": [
    {
     "ename": "ValueError",
     "evalue": "list.remove(x): x not in list",
     "output_type": "error",
     "traceback": [
      "\u001b[1;31m---------------------------------------------------------------------------\u001b[0m",
      "\u001b[1;31mValueError\u001b[0m                                Traceback (most recent call last)",
      "Cell \u001b[1;32mIn[78], line 1\u001b[0m\n\u001b[1;32m----> 1\u001b[0m Liste\u001b[39m.\u001b[39;49mremove(\u001b[39m2\u001b[39;49m) \u001b[39m# if the element is inside the list it removes, otherwise \u001b[39;00m\n\u001b[0;32m      2\u001b[0m \u001b[39m# gives an error\u001b[39;00m\n",
      "\u001b[1;31mValueError\u001b[0m: list.remove(x): x not in list"
     ]
    }
   ],
   "source": [
    "Liste.remove(2) # if the element is inside the list it removes, otherwise \n",
    "# gives an error"
   ]
  },
  {
   "cell_type": "code",
   "execution_count": 82,
   "id": "e8315b0f",
   "metadata": {},
   "outputs": [
    {
     "data": {
      "text/plain": [
       "49"
      ]
     },
     "execution_count": 82,
     "metadata": {},
     "output_type": "execute_result"
    }
   ],
   "source": [
    "Liste=['5',\"50\",'1','aaa', 'c', 'h']\n",
    "Liste.sort()\n",
    "Liste\n",
    "ord(\"1\")"
   ]
  },
  {
   "cell_type": "code",
   "execution_count": 80,
   "id": "b28cc157",
   "metadata": {},
   "outputs": [
    {
     "name": "stdout",
     "output_type": "stream",
     "text": [
      "['1', '5', '50', 'c', 'h']\n",
      "aaa\n"
     ]
    },
    {
     "data": {
      "text/plain": [
       "97"
      ]
     },
     "execution_count": 80,
     "metadata": {},
     "output_type": "execute_result"
    }
   ],
   "source": [
    "a=Liste.pop(3)\n",
    "print(Liste)\n",
    "print(a)\n",
    "ord(\"a\")"
   ]
  },
  {
   "cell_type": "code",
   "execution_count": 81,
   "id": "3cb63ed2",
   "metadata": {},
   "outputs": [
    {
     "data": {
      "text/plain": [
       "'a'"
      ]
     },
     "execution_count": 81,
     "metadata": {},
     "output_type": "execute_result"
    }
   ],
   "source": [
    "chr(97)"
   ]
  },
  {
   "cell_type": "code",
   "execution_count": 89,
   "id": "731e3256",
   "metadata": {},
   "outputs": [
    {
     "data": {
      "text/plain": [
       "[2, 4, 4, 5, 5, 6, 25, 78]"
      ]
     },
     "execution_count": 89,
     "metadata": {},
     "output_type": "execute_result"
    }
   ],
   "source": [
    "Liste=[2, 5,6,25, 5,4,78,4] # List de tekrarlayan eleman olabilir.\n",
    "Liste.sort()    # sort: set ve tuple de kullanılmaz\n",
    "Liste"
   ]
  },
  {
   "cell_type": "code",
   "execution_count": 90,
   "id": "ae542d6c",
   "metadata": {},
   "outputs": [
    {
     "data": {
      "text/plain": [
       "[78, 25, 6, 5, 5, 4, 4, 2]"
      ]
     },
     "execution_count": 90,
     "metadata": {},
     "output_type": "execute_result"
    }
   ],
   "source": [
    "Liste=[2, 5,6,25, 5,4,78,4]\n",
    "Liste.sort(reverse=True)  # veya sort(reverse=True)\n",
    "Liste"
   ]
  },
  {
   "cell_type": "code",
   "execution_count": 91,
   "id": "ad585bfd",
   "metadata": {},
   "outputs": [
    {
     "data": {
      "text/plain": [
       "[78, 25, 6, 5, 5, 4, 4, 2]"
      ]
     },
     "execution_count": 91,
     "metadata": {},
     "output_type": "execute_result"
    }
   ],
   "source": [
    "Liste=[2, 5,6,25, 5,4,78,4]\n",
    "Liste.sort(reverse=1)  # veya sort(reverse=True)\n",
    "Liste"
   ]
  },
  {
   "cell_type": "code",
   "execution_count": 92,
   "id": "05c50801",
   "metadata": {},
   "outputs": [
    {
     "data": {
      "text/plain": [
       "[4, 78, 4, 5, 25, 6, 5, 2]"
      ]
     },
     "execution_count": 92,
     "metadata": {},
     "output_type": "execute_result"
    }
   ],
   "source": [
    "Liste=[2, 5,6,25, 5,4,78,4]\n",
    "Liste.reverse()  # veya sort(reverse=True)\n",
    "Liste"
   ]
  },
  {
   "cell_type": "code",
   "execution_count": 98,
   "id": "a7572501",
   "metadata": {},
   "outputs": [
    {
     "data": {
      "text/plain": [
       "[4, 78, 4, 5, 25, 6, True, 'e', 'hello', 5, 2]"
      ]
     },
     "execution_count": 98,
     "metadata": {},
     "output_type": "execute_result"
    }
   ],
   "source": [
    "Liste=[2, 5,\"hello\",\"e\",True,6,25, 5,4,78,4]\n",
    "Liste.reverse()  # veya sort(reverse=True)\n",
    "Liste"
   ]
  },
  {
   "cell_type": "code",
   "execution_count": 96,
   "id": "7ffde62c",
   "metadata": {},
   "outputs": [
    {
     "data": {
      "text/plain": [
       "[4, 78, 4, 5, 25, 6, 5, 2]"
      ]
     },
     "execution_count": 96,
     "metadata": {},
     "output_type": "execute_result"
    }
   ],
   "source": [
    "[2, 5,6,25, 5,4,78,4][::-1] # same as reverse function written in the upper code block"
   ]
  },
  {
   "cell_type": "code",
   "execution_count": 86,
   "id": "8f5cd1e0",
   "metadata": {},
   "outputs": [
    {
     "data": {
      "text/plain": [
       "[False, 1, 2.0]"
      ]
     },
     "execution_count": 86,
     "metadata": {},
     "output_type": "execute_result"
    }
   ],
   "source": [
    "aa = [1,2.0,False] # does not sort string with integer \n",
    "aa.sort()\n",
    "aa\n"
   ]
  },
  {
   "cell_type": "code",
   "execution_count": 88,
   "id": "221ceeaa",
   "metadata": {},
   "outputs": [
    {
     "name": "stdout",
     "output_type": "stream",
     "text": [
      "None\n"
     ]
    }
   ],
   "source": [
    "bb = [1,2.0,False]\n",
    "print(bb.sort()) # it does the print first"
   ]
  },
  {
   "cell_type": "code",
   "execution_count": 99,
   "id": "6c8f57f1",
   "metadata": {},
   "outputs": [
    {
     "ename": "TypeError",
     "evalue": "'<' not supported between instances of 'str' and 'int'",
     "output_type": "error",
     "traceback": [
      "\u001b[1;31m---------------------------------------------------------------------------\u001b[0m",
      "\u001b[1;31mTypeError\u001b[0m                                 Traceback (most recent call last)",
      "Cell \u001b[1;32mIn[99], line 2\u001b[0m\n\u001b[0;32m      1\u001b[0m bb \u001b[39m=\u001b[39m [\u001b[39m1\u001b[39m,\u001b[39m2.0\u001b[39m,\u001b[39mFalse\u001b[39;00m,\u001b[39m\"\u001b[39m\u001b[39mTechpro\u001b[39m\u001b[39m\"\u001b[39m]\n\u001b[1;32m----> 2\u001b[0m \u001b[39mprint\u001b[39m(bb\u001b[39m.\u001b[39;49msort())\n",
      "\u001b[1;31mTypeError\u001b[0m: '<' not supported between instances of 'str' and 'int'"
     ]
    }
   ],
   "source": [
    "bb = [1,2.0,False,\"Techpro\"]\n",
    "print(bb.sort())"
   ]
  },
  {
   "cell_type": "code",
   "execution_count": 102,
   "id": "82b095e4",
   "metadata": {},
   "outputs": [
    {
     "data": {
      "text/plain": [
       "[4, 78, 4, 5, 25, 6, True, 'e', 'hello', 5, 2]"
      ]
     },
     "execution_count": 102,
     "metadata": {},
     "output_type": "execute_result"
    }
   ],
   "source": [
    "Liste"
   ]
  },
  {
   "cell_type": "code",
   "execution_count": 103,
   "id": "1084a00a",
   "metadata": {},
   "outputs": [
    {
     "data": {
      "text/plain": [
       "set"
      ]
     },
     "execution_count": 103,
     "metadata": {},
     "output_type": "execute_result"
    }
   ],
   "source": [
    "A = set(Liste) \n",
    "type(A)"
   ]
  },
  {
   "cell_type": "code",
   "execution_count": 104,
   "id": "bb080f91-bad5-4269-8840-5c491d7faed9",
   "metadata": {},
   "outputs": [
    {
     "data": {
      "text/plain": [
       "{2, 25, 4, 5, 6, 78, True, 'e', 'hello'}"
      ]
     },
     "execution_count": 104,
     "metadata": {},
     "output_type": "execute_result"
    }
   ],
   "source": [
    "A"
   ]
  },
  {
   "cell_type": "code",
   "execution_count": 105,
   "id": "9eb5333d",
   "metadata": {},
   "outputs": [
    {
     "name": "stdout",
     "output_type": "stream",
     "text": [
      "{True, 2, 4, 5, 6, 78, 'hello', 'e', 25}\n"
     ]
    }
   ],
   "source": [
    "print(A)"
   ]
  },
  {
   "cell_type": "code",
   "execution_count": 106,
   "id": "4d1dcff3-0654-4e2b-a594-5ed7cf25fcda",
   "metadata": {},
   "outputs": [
    {
     "data": {
      "text/plain": [
       "{3, 5, 6, 8, 10}"
      ]
     },
     "execution_count": 106,
     "metadata": {},
     "output_type": "execute_result"
    }
   ],
   "source": [
    "b = {3,5,6,6,8,10,10}  \n",
    "b                      # Tekrarlayan elemanlar çıkarıldı"
   ]
  },
  {
   "cell_type": "code",
   "execution_count": 108,
   "id": "77434d7e",
   "metadata": {},
   "outputs": [
    {
     "data": {
      "text/plain": [
       "set"
      ]
     },
     "execution_count": 108,
     "metadata": {},
     "output_type": "execute_result"
    }
   ],
   "source": [
    "a = type(set()) # in order to create empty set\n",
    "a"
   ]
  },
  {
   "cell_type": "code",
   "execution_count": 111,
   "id": "3b9f0347",
   "metadata": {},
   "outputs": [
    {
     "data": {
      "text/plain": [
       "{}"
      ]
     },
     "execution_count": 111,
     "metadata": {},
     "output_type": "execute_result"
    }
   ],
   "source": [
    "b = {}\n",
    "b # to create empty dictionary"
   ]
  },
  {
   "cell_type": "code",
   "execution_count": 110,
   "id": "20d17e8f",
   "metadata": {},
   "outputs": [
    {
     "data": {
      "text/plain": [
       "dict"
      ]
     },
     "execution_count": 110,
     "metadata": {},
     "output_type": "execute_result"
    }
   ],
   "source": [
    "type(b)"
   ]
  },
  {
   "cell_type": "code",
   "execution_count": 112,
   "id": "850461e8",
   "metadata": {},
   "outputs": [
    {
     "data": {
      "text/plain": [
       "[1, 2, 3, 4, 55, 6, 7, 8, 9, 10, 1]"
      ]
     },
     "execution_count": 112,
     "metadata": {},
     "output_type": "execute_result"
    }
   ],
   "source": [
    "Liste=[1,2,3,4,5,6,7,8,9,10,1]\n",
    "Tuple=(1,2,3,4,5,6,7,8,9,10,1)\n",
    "Liste[4]=55 # change the 4th indexed element with 55\n",
    "Liste"
   ]
  },
  {
   "cell_type": "code",
   "execution_count": 115,
   "id": "5120c78f",
   "metadata": {},
   "outputs": [
    {
     "ename": "TypeError",
     "evalue": "'tuple' object does not support item assignment",
     "output_type": "error",
     "traceback": [
      "\u001b[1;31m---------------------------------------------------------------------------\u001b[0m",
      "\u001b[1;31mTypeError\u001b[0m                                 Traceback (most recent call last)",
      "Cell \u001b[1;32mIn[115], line 3\u001b[0m\n\u001b[0;32m      1\u001b[0m Liste\u001b[39m=\u001b[39m[\u001b[39m1\u001b[39m,\u001b[39m2\u001b[39m,\u001b[39m3\u001b[39m,\u001b[39m4\u001b[39m,\u001b[39m5\u001b[39m,\u001b[39m6\u001b[39m,\u001b[39m7\u001b[39m,\u001b[39m8\u001b[39m,\u001b[39m9\u001b[39m,\u001b[39m10\u001b[39m,\u001b[39m1\u001b[39m]\n\u001b[0;32m      2\u001b[0m Tuple\u001b[39m=\u001b[39m(\u001b[39m1\u001b[39m,\u001b[39m2\u001b[39m,\u001b[39m3\u001b[39m,\u001b[39m4\u001b[39m,\u001b[39m5\u001b[39m,\u001b[39m6\u001b[39m,\u001b[39m7\u001b[39m,\u001b[39m8\u001b[39m,\u001b[39m9\u001b[39m,\u001b[39m10\u001b[39m,\u001b[39m1\u001b[39m)\n\u001b[1;32m----> 3\u001b[0m Tuple[\u001b[39m4\u001b[39;49m]\u001b[39m=\u001b[39m\u001b[39m55\u001b[39m \u001b[39m# tuples are immutable, cannot be indexed\u001b[39;00m\n\u001b[0;32m      4\u001b[0m Liste\n",
      "\u001b[1;31mTypeError\u001b[0m: 'tuple' object does not support item assignment"
     ]
    }
   ],
   "source": [
    "Liste=[1,2,3,4,5,6,7,8,9,10,1]\n",
    "Tuple=(1,2,3,4,5,6,7,8,9,10,1)\n",
    "Tuple[4]=55 # tuples are immutable, cannot be indexed\n",
    "Liste"
   ]
  },
  {
   "cell_type": "code",
   "execution_count": 116,
   "id": "211ace63-e0ad-4962-83d0-54fdfef20a55",
   "metadata": {},
   "outputs": [
    {
     "data": {
      "text/plain": [
       "tuple"
      ]
     },
     "execution_count": 116,
     "metadata": {},
     "output_type": "execute_result"
    }
   ],
   "source": [
    "T = 1,5,6,8,10\n",
    "type(T)"
   ]
  },
  {
   "cell_type": "code",
   "execution_count": 118,
   "id": "f8335961",
   "metadata": {},
   "outputs": [
    {
     "data": {
      "text/plain": [
       "type"
      ]
     },
     "execution_count": 118,
     "metadata": {},
     "output_type": "execute_result"
    }
   ],
   "source": [
    "c = (\"hello\")\n",
    "type"
   ]
  },
  {
   "cell_type": "code",
   "execution_count": 120,
   "id": "9b5900a5",
   "metadata": {},
   "outputs": [
    {
     "data": {
      "text/plain": [
       "tuple"
      ]
     },
     "execution_count": 120,
     "metadata": {},
     "output_type": "execute_result"
    }
   ],
   "source": [
    "c = (\"hello\",)\n",
    "type(c)"
   ]
  },
  {
   "cell_type": "code",
   "execution_count": 121,
   "id": "f8f82364",
   "metadata": {},
   "outputs": [
    {
     "data": {
      "text/plain": [
       "tuple"
      ]
     },
     "execution_count": 121,
     "metadata": {},
     "output_type": "execute_result"
    }
   ],
   "source": [
    "Liste = [1,2,3,4,5,6,7,8,9,10,10]\n",
    "Tuple = (1,2,3,4,5,6,7,8,9,10,10)\n",
    "# Tuple[4]=55\n",
    "type(Tuple)"
   ]
  },
  {
   "cell_type": "code",
   "execution_count": 122,
   "id": "b25c7309-4d5c-40ef-ba95-cdeae3859d5b",
   "metadata": {},
   "outputs": [
    {
     "data": {
      "text/plain": [
       "[1, 2, 3, 3, 2, 4, 5, 6, 1]"
      ]
     },
     "execution_count": 122,
     "metadata": {},
     "output_type": "execute_result"
    }
   ],
   "source": [
    "l1 = [1, 2, 3, 3]\n",
    "l2 = [2, 4, 5, 6, 1]\n",
    "l1.extend(l2)\n",
    "l1"
   ]
  },
  {
   "cell_type": "code",
   "execution_count": 124,
   "id": "adaf9b48",
   "metadata": {},
   "outputs": [
    {
     "data": {
      "text/plain": [
       "[1, 2, 3, 3, [2, 4, 5, 6, 1]]"
      ]
     },
     "execution_count": 124,
     "metadata": {},
     "output_type": "execute_result"
    }
   ],
   "source": [
    "l1 = [1, 2, 3, 3]\n",
    "l2 = [2, 4, 5, 6, 1]\n",
    "l1.append(l2) \n",
    "l1 # appended list is added as one element"
   ]
  },
  {
   "cell_type": "code",
   "execution_count": 126,
   "id": "dab3a515",
   "metadata": {},
   "outputs": [
    {
     "ename": "TypeError",
     "evalue": "list.append() takes exactly one argument (2 given)",
     "output_type": "error",
     "traceback": [
      "\u001b[1;31m---------------------------------------------------------------------------\u001b[0m",
      "\u001b[1;31mTypeError\u001b[0m                                 Traceback (most recent call last)",
      "Cell \u001b[1;32mIn[126], line 3\u001b[0m\n\u001b[0;32m      1\u001b[0m l1 \u001b[39m=\u001b[39m [\u001b[39m1\u001b[39m, \u001b[39m2\u001b[39m, \u001b[39m3\u001b[39m, \u001b[39m3\u001b[39m]\n\u001b[0;32m      2\u001b[0m l2 \u001b[39m=\u001b[39m [\u001b[39m2\u001b[39m, \u001b[39m4\u001b[39m, \u001b[39m5\u001b[39m, \u001b[39m6\u001b[39m, \u001b[39m1\u001b[39m] \u001b[39m# takes donly one argument, so we cannot \u001b[39;00m\n\u001b[1;32m----> 3\u001b[0m l1\u001b[39m.\u001b[39;49mappend(l2,\u001b[39m\"\u001b[39;49m\u001b[39ma\u001b[39;49m\u001b[39m\"\u001b[39;49m) \u001b[39m# takes donly one argument, so we cannot \u001b[39;00m\n\u001b[0;32m      4\u001b[0m l1 \u001b[39m# append list,dict, tuple,set can be added with it, but can be as one argument\u001b[39;00m\n",
      "\u001b[1;31mTypeError\u001b[0m: list.append() takes exactly one argument (2 given)"
     ]
    }
   ],
   "source": [
    "l1 = [1, 2, 3, 3]\n",
    "l2 = [2, 4, 5, 6, 1] # takes donly one argument, so we cannot \n",
    "l1.append(l2,\"a\") # takes donly one argument, so we cannot \n",
    "l1 # append list,dict, tuple,set can be added with it, but can be as one argument"
   ]
  },
  {
   "cell_type": "code",
   "execution_count": 128,
   "id": "b2e7ab81",
   "metadata": {},
   "outputs": [
    {
     "data": {
      "text/plain": [
       "[1, 2, 3, 3, {'key': 'value'}]"
      ]
     },
     "execution_count": 128,
     "metadata": {},
     "output_type": "execute_result"
    }
   ],
   "source": [
    "l1 = [1, 2, 3, 3]\n",
    "l2 = [2, 4, 5, 6, 1]\n",
    "l1.append({\"key\":\"value\"}) \n",
    "l1"
   ]
  },
  {
   "cell_type": "markdown",
   "id": "badc8dd1-1997-41d7-aa2d-12dc84ad2504",
   "metadata": {},
   "source": [
    "# count"
   ]
  },
  {
   "cell_type": "code",
   "execution_count": 127,
   "id": "e6ba7bf1-0897-4861-8794-1932ac03446c",
   "metadata": {},
   "outputs": [
    {
     "data": {
      "text/plain": [
       "3"
      ]
     },
     "execution_count": 127,
     "metadata": {},
     "output_type": "execute_result"
    }
   ],
   "source": [
    "ali = (1,5,\"a\",4,\"a\",5,'a')\n",
    "ali.count(\"a\")"
   ]
  },
  {
   "cell_type": "code",
   "execution_count": 130,
   "id": "bf6caaf3",
   "metadata": {},
   "outputs": [
    {
     "data": {
      "text/plain": [
       "4"
      ]
     },
     "execution_count": 130,
     "metadata": {},
     "output_type": "execute_result"
    }
   ],
   "source": [
    "ali.index(\"a\",3,6)  #ilk bulduğu değerin indexini döndürür between 3 and 6"
   ]
  },
  {
   "cell_type": "code",
   "execution_count": 131,
   "id": "025b18ea",
   "metadata": {},
   "outputs": [
    {
     "ename": "ValueError",
     "evalue": "tuple.index(x): x not in tuple",
     "output_type": "error",
     "traceback": [
      "\u001b[1;31m---------------------------------------------------------------------------\u001b[0m",
      "\u001b[1;31mValueError\u001b[0m                                Traceback (most recent call last)",
      "Cell \u001b[1;32mIn[131], line 1\u001b[0m\n\u001b[1;32m----> 1\u001b[0m ali\u001b[39m.\u001b[39;49mindex(\u001b[39m\"\u001b[39;49m\u001b[39mf\u001b[39;49m\u001b[39m\"\u001b[39;49m)  \u001b[39m# yoksa hata döndürür\u001b[39;00m\n",
      "\u001b[1;31mValueError\u001b[0m: tuple.index(x): x not in tuple"
     ]
    }
   ],
   "source": [
    "ali.index(\"f\")  # yoksa hata döndürür"
   ]
  },
  {
   "cell_type": "code",
   "execution_count": 132,
   "id": "02543fa3",
   "metadata": {},
   "outputs": [
    {
     "data": {
      "text/plain": [
       "{'ad': 'Ahmet', 'Soyad': 'Ağa', 'Yas': 35}"
      ]
     },
     "execution_count": 132,
     "metadata": {},
     "output_type": "execute_result"
    }
   ],
   "source": [
    "dicti={'ad':'Ahmet','Soyad':'Ağa','Yas':35}\n",
    "dicti"
   ]
  },
  {
   "cell_type": "code",
   "execution_count": 134,
   "id": "bc639ed5",
   "metadata": {},
   "outputs": [
    {
     "data": {
      "text/plain": [
       "dict_items([('ad', 'Ahmet'), ('Soyad', 'Ağa'), ('Yas', 35)])"
      ]
     },
     "execution_count": 134,
     "metadata": {},
     "output_type": "execute_result"
    }
   ],
   "source": [
    "dicti.items() # every element containing a key and value is an item"
   ]
  },
  {
   "cell_type": "code",
   "execution_count": 135,
   "id": "3a591527",
   "metadata": {},
   "outputs": [
    {
     "data": {
      "text/plain": [
       "dict_keys(['ad', 'Soyad', 'Yas'])"
      ]
     },
     "execution_count": 135,
     "metadata": {},
     "output_type": "execute_result"
    }
   ],
   "source": [
    "dicti.keys()"
   ]
  },
  {
   "cell_type": "code",
   "execution_count": 136,
   "id": "e9f3c705",
   "metadata": {},
   "outputs": [
    {
     "data": {
      "text/plain": [
       "dict_values(['Ahmet', 'Ağa', 35])"
      ]
     },
     "execution_count": 136,
     "metadata": {},
     "output_type": "execute_result"
    }
   ],
   "source": [
    "dicti.values()"
   ]
  },
  {
   "cell_type": "code",
   "execution_count": 138,
   "id": "b1262fb2",
   "metadata": {},
   "outputs": [
    {
     "data": {
      "text/plain": [
       "<function dict.values>"
      ]
     },
     "execution_count": 138,
     "metadata": {},
     "output_type": "execute_result"
    }
   ],
   "source": [
    "dicti.values # cagirmak icin () eklememiz lazim"
   ]
  },
  {
   "cell_type": "code",
   "execution_count": 139,
   "id": "81012dd9",
   "metadata": {},
   "outputs": [],
   "source": [
    "dicti={ # daha anlasilir olmasi icin\n",
    "    'ad'   : 'Ahmet',\n",
    "    'Soyad': 'Ağa',\n",
    "    'Yas'  :  35}"
   ]
  },
  {
   "cell_type": "code",
   "execution_count": 140,
   "id": "e8cfdd0f",
   "metadata": {},
   "outputs": [
    {
     "data": {
      "text/plain": [
       "{'ad': 'Ahmet', 'Soyad': 'Ağa', 'Yas': 35}"
      ]
     },
     "execution_count": 140,
     "metadata": {},
     "output_type": "execute_result"
    }
   ],
   "source": [
    "dicti"
   ]
  },
  {
   "cell_type": "code",
   "execution_count": 141,
   "id": "9d77671f",
   "metadata": {},
   "outputs": [
    {
     "data": {
      "text/plain": [
       "'Ahmet'"
      ]
     },
     "execution_count": 141,
     "metadata": {},
     "output_type": "execute_result"
    }
   ],
   "source": [
    "dicti['ad']   # [ ] yerine get komutu da kullanılır."
   ]
  },
  {
   "cell_type": "code",
   "execution_count": 143,
   "id": "6518422e",
   "metadata": {},
   "outputs": [],
   "source": [
    "# dictionary lerde indexleme key lerle olur"
   ]
  },
  {
   "cell_type": "code",
   "execution_count": 142,
   "id": "b51c470c-7c73-479f-bf71-2450fe705c2a",
   "metadata": {},
   "outputs": [
    {
     "data": {
      "text/plain": [
       "'Ahmet'"
      ]
     },
     "execution_count": 142,
     "metadata": {},
     "output_type": "execute_result"
    }
   ],
   "source": [
    "dicti.get('ad')"
   ]
  },
  {
   "cell_type": "code",
   "execution_count": 144,
   "id": "2eaf78bc-7ffb-4217-9974-7948031d9222",
   "metadata": {},
   "outputs": [
    {
     "data": {
      "text/plain": [
       "dict"
      ]
     },
     "execution_count": 144,
     "metadata": {},
     "output_type": "execute_result"
    }
   ],
   "source": [
    "type(dicti)"
   ]
  },
  {
   "cell_type": "code",
   "execution_count": 145,
   "id": "ba347cc4",
   "metadata": {},
   "outputs": [
    {
     "data": {
      "text/plain": [
       "{'name': 'John', 'country': 'ABD', 'favorite_number': [7, 42, 92, 8]}"
      ]
     },
     "execution_count": 145,
     "metadata": {},
     "output_type": "execute_result"
    }
   ],
   "source": [
    "participant={\n",
    "    'name'           :'John',\n",
    "    'country'        :'ABD',\n",
    "    'favorite_number':[7,42,92,8]\n",
    "}\n",
    "participant"
   ]
  },
  {
   "cell_type": "code",
   "execution_count": 146,
   "id": "0d4974a5",
   "metadata": {},
   "outputs": [
    {
     "name": "stdout",
     "output_type": "stream",
     "text": [
      "[7, 42, 92, 8]\n"
     ]
    }
   ],
   "source": [
    "print(participant['favorite_number'])"
   ]
  },
  {
   "cell_type": "code",
   "execution_count": 147,
   "id": "64d07ba9-16d7-4c2f-97ee-42604c25be24",
   "metadata": {},
   "outputs": [
    {
     "data": {
      "text/plain": [
       "'John'"
      ]
     },
     "execution_count": 147,
     "metadata": {},
     "output_type": "execute_result"
    }
   ],
   "source": [
    "participant.get(\"name\")"
   ]
  },
  {
   "cell_type": "code",
   "execution_count": 152,
   "id": "3883cad6",
   "metadata": {},
   "outputs": [],
   "source": [
    "participant['favorite_language']='Python' # ekleme yapiyor, list gibi atama yapmiyor\n",
    "# ayni eklemeyi kac kere run yapsak bile olmaz"
   ]
  },
  {
   "cell_type": "code",
   "execution_count": 153,
   "id": "bfdb6cff",
   "metadata": {},
   "outputs": [
    {
     "data": {
      "text/plain": [
       "{'name': 'John',\n",
       " 'country': 'ABD',\n",
       " 'favorite_number': [7, 42, 92, 8],\n",
       " 'favorite_language': 'Python'}"
      ]
     },
     "execution_count": 153,
     "metadata": {},
     "output_type": "execute_result"
    }
   ],
   "source": [
    "participant"
   ]
  },
  {
   "cell_type": "code",
   "execution_count": 154,
   "id": "63b7f129",
   "metadata": {},
   "outputs": [
    {
     "data": {
      "text/plain": [
       "4"
      ]
     },
     "execution_count": 154,
     "metadata": {},
     "output_type": "execute_result"
    }
   ],
   "source": [
    "len(participant)"
   ]
  },
  {
   "cell_type": "code",
   "execution_count": 155,
   "id": "8c9ed7c0-14f0-4599-8952-499599127c59",
   "metadata": {},
   "outputs": [
    {
     "data": {
      "text/plain": [
       "{'name': 'John',\n",
       " 'country': 'ABD',\n",
       " 'favorite_number': [7, 42, 92, 8],\n",
       " 'favorite_language': 'Python'}"
      ]
     },
     "execution_count": 155,
     "metadata": {},
     "output_type": "execute_result"
    }
   ],
   "source": [
    "participant"
   ]
  },
  {
   "cell_type": "code",
   "execution_count": 156,
   "id": "d4c6ad6a",
   "metadata": {},
   "outputs": [],
   "source": [
    "del participant['name']  #bunu calıştırdıktan sonra tekrar run edersen hata verir."
   ]
  },
  {
   "cell_type": "code",
   "execution_count": 157,
   "id": "b08e7239",
   "metadata": {},
   "outputs": [
    {
     "data": {
      "text/plain": [
       "{'country': 'ABD',\n",
       " 'favorite_number': [7, 42, 92, 8],\n",
       " 'favorite_language': 'Python'}"
      ]
     },
     "execution_count": 157,
     "metadata": {},
     "output_type": "execute_result"
    }
   ],
   "source": [
    "participant"
   ]
  },
  {
   "cell_type": "code",
   "execution_count": 158,
   "id": "be235475-a85c-4ea0-b27e-48b80955248d",
   "metadata": {},
   "outputs": [],
   "source": [
    "set1 = {1,2,3,4,5,6}"
   ]
  },
  {
   "cell_type": "code",
   "execution_count": 159,
   "id": "35535e75-8d50-4eed-b11a-dddb3e120dfe",
   "metadata": {},
   "outputs": [],
   "source": [
    "set2 = {1,2,7,8,9,9}"
   ]
  },
  {
   "cell_type": "code",
   "execution_count": 160,
   "id": "1d2bf944-a248-481e-9f03-1f5b1996c01d",
   "metadata": {},
   "outputs": [],
   "source": [
    "t = set1.union(set2)"
   ]
  },
  {
   "cell_type": "code",
   "execution_count": 161,
   "id": "0ea7fe64-efd5-41bc-aaf6-afb731c92a2a",
   "metadata": {},
   "outputs": [
    {
     "data": {
      "text/plain": [
       "{1, 2, 3, 4, 5, 6, 7, 8, 9}"
      ]
     },
     "execution_count": 161,
     "metadata": {},
     "output_type": "execute_result"
    }
   ],
   "source": [
    "t"
   ]
  },
  {
   "cell_type": "code",
   "execution_count": 162,
   "id": "143260bc",
   "metadata": {},
   "outputs": [
    {
     "data": {
      "text/plain": [
       "{1, 2, 3, 4, 5, 6, 7, 8, 9}"
      ]
     },
     "execution_count": 162,
     "metadata": {},
     "output_type": "execute_result"
    }
   ],
   "source": [
    "set1 | set2"
   ]
  },
  {
   "cell_type": "code",
   "execution_count": 163,
   "id": "ab317360-b31b-4a62-9baa-7ca71d004ee5",
   "metadata": {},
   "outputs": [],
   "source": [
    "set1.update(set2)"
   ]
  },
  {
   "cell_type": "code",
   "execution_count": 164,
   "id": "6e15bd27-48d4-4f9e-b886-a4792503a5b7",
   "metadata": {},
   "outputs": [
    {
     "data": {
      "text/plain": [
       "{1, 2, 3, 4, 5, 6, 7, 8, 9}"
      ]
     },
     "execution_count": 164,
     "metadata": {},
     "output_type": "execute_result"
    }
   ],
   "source": [
    "set1"
   ]
  },
  {
   "cell_type": "code",
   "execution_count": 165,
   "id": "b3d3fe49-7828-499d-b2b0-6789ff2eff1c",
   "metadata": {},
   "outputs": [],
   "source": [
    "set1.add(99)"
   ]
  },
  {
   "cell_type": "code",
   "execution_count": 166,
   "id": "5b9ce6d0-8ac2-402c-b4ce-19aa4895ba7d",
   "metadata": {},
   "outputs": [
    {
     "data": {
      "text/plain": [
       "{1, 2, 3, 4, 5, 6, 7, 8, 9, 99}"
      ]
     },
     "execution_count": 166,
     "metadata": {},
     "output_type": "execute_result"
    }
   ],
   "source": [
    "set1"
   ]
  },
  {
   "cell_type": "code",
   "execution_count": 167,
   "id": "c04c0309",
   "metadata": {},
   "outputs": [
    {
     "data": {
      "text/plain": [
       "{3, 4, 5, 6, 99}"
      ]
     },
     "execution_count": 167,
     "metadata": {},
     "output_type": "execute_result"
    }
   ],
   "source": [
    "set1.difference(set2)"
   ]
  },
  {
   "cell_type": "code",
   "execution_count": 168,
   "id": "2ff714b6",
   "metadata": {},
   "outputs": [
    {
     "data": {
      "text/plain": [
       "{1, 2, 3, 4, 5, 6, 7, 8, 9, 99}"
      ]
     },
     "execution_count": 168,
     "metadata": {},
     "output_type": "execute_result"
    }
   ],
   "source": [
    "set1"
   ]
  },
  {
   "cell_type": "code",
   "execution_count": 169,
   "id": "d76dbecb",
   "metadata": {},
   "outputs": [],
   "source": [
    "set1.difference_update(set2)"
   ]
  },
  {
   "cell_type": "code",
   "execution_count": 170,
   "id": "cccf2666",
   "metadata": {},
   "outputs": [
    {
     "data": {
      "text/plain": [
       "{3, 4, 5, 6, 99}"
      ]
     },
     "execution_count": 170,
     "metadata": {},
     "output_type": "execute_result"
    }
   ],
   "source": [
    "set1"
   ]
  },
  {
   "cell_type": "code",
   "execution_count": 171,
   "id": "cd08f4ec-a0b1-48ed-ad8a-e8e019b4406c",
   "metadata": {},
   "outputs": [
    {
     "ename": "AttributeError",
     "evalue": "'set' object has no attribute 'sort'",
     "output_type": "error",
     "traceback": [
      "\u001b[1;31m---------------------------------------------------------------------------\u001b[0m",
      "\u001b[1;31mAttributeError\u001b[0m                            Traceback (most recent call last)",
      "Cell \u001b[1;32mIn[171], line 1\u001b[0m\n\u001b[1;32m----> 1\u001b[0m set1\u001b[39m.\u001b[39;49msort()  \u001b[39m# sıralama yok, indexlenmez\u001b[39;00m\n",
      "\u001b[1;31mAttributeError\u001b[0m: 'set' object has no attribute 'sort'"
     ]
    }
   ],
   "source": [
    "set1.sort()  # sıralama yok, indexlenmez"
   ]
  },
  {
   "cell_type": "code",
   "execution_count": 5,
   "id": "4467de5f-0323-4de6-b82f-e05f7fe7ea46",
   "metadata": {},
   "outputs": [
    {
     "name": "stdout",
     "output_type": "stream",
     "text": [
      "{'T': 1, 'e': 4, 'c': 2, 'h': 2, 'p': 1, 'r': 1, 'o': 2, ' ': 4, 'd': 1, 'u': 1, 'a': 1, 't': 3, 'i': 2, 'n': 1, 's': 2, 'b': 1}\n"
     ]
    }
   ],
   "source": [
    "aa = \"Techpro education is the best\"\n",
    "\n",
    "index = 0\n",
    "my_dict = {}\n",
    "while index < len(aa):\n",
    "    if aa[index] in  my_dict:\n",
    "        my_dict[aa[index]] += 1\n",
    "    else:\n",
    "        my_dict[aa[index]] = 1\n",
    "    index += 1\n",
    "print(my_dict)\n"
   ]
  },
  {
   "cell_type": "code",
   "execution_count": null,
   "id": "bf3f1f42",
   "metadata": {},
   "outputs": [],
   "source": []
  }
 ],
 "metadata": {
  "kernelspec": {
   "display_name": "Python 3",
   "language": "python",
   "name": "python3"
  },
  "language_info": {
   "codemirror_mode": {
    "name": "ipython",
    "version": 3
   },
   "file_extension": ".py",
   "mimetype": "text/x-python",
   "name": "python",
   "nbconvert_exporter": "python",
   "pygments_lexer": "ipython3",
   "version": "3.11.1"
  },
  "vscode": {
   "interpreter": {
    "hash": "968820a3b983eb7005df49aeeaf73007353c9cb3d103916a2baacfe454d17933"
   }
  }
 },
 "nbformat": 4,
 "nbformat_minor": 5
}
