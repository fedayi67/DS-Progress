{
 "cells": [
  {
   "cell_type": "code",
   "execution_count": 10,
   "metadata": {},
   "outputs": [
    {
     "name": "stdout",
     "output_type": "stream",
     "text": [
      "8765 toplam 2 saat, 26 dakika ve 5 saniye yapar\n",
      "8765 saniye; 2 saat 26 dakika ve 5 saniye eder\n"
     ]
    },
    {
     "ename": "IndexError",
     "evalue": "Replacement index 3 out of range for positional args tuple",
     "output_type": "error",
     "traceback": [
      "\u001b[1;31m---------------------------------------------------------------------------\u001b[0m",
      "\u001b[1;31mIndexError\u001b[0m                                Traceback (most recent call last)",
      "Cell \u001b[1;32mIn[10], line 9\u001b[0m\n\u001b[0;32m      6\u001b[0m \u001b[39mprint\u001b[39m(\u001b[39mf\u001b[39m\u001b[39m\"\u001b[39m\u001b[39m8765 toplam \u001b[39m\u001b[39m{\u001b[39;00msaat\u001b[39m}\u001b[39;00m\u001b[39m saat, \u001b[39m\u001b[39m{\u001b[39;00mdakika\u001b[39m}\u001b[39;00m\u001b[39m dakika ve \u001b[39m\u001b[39m{\u001b[39;00msaniye\u001b[39m}\u001b[39;00m\u001b[39m saniye yapar\u001b[39m\u001b[39m\"\u001b[39m)\n\u001b[0;32m      8\u001b[0m \u001b[39mprint\u001b[39m(\u001b[39m\"\u001b[39m\u001b[39m{}\u001b[39;00m\u001b[39m saniye; \u001b[39m\u001b[39m{}\u001b[39;00m\u001b[39m saat \u001b[39m\u001b[39m{}\u001b[39;00m\u001b[39m dakika ve \u001b[39m\u001b[39m{}\u001b[39;00m\u001b[39m saniye eder\u001b[39m\u001b[39m\"\u001b[39m\u001b[39m.\u001b[39mformat(a,saat,dakika,saniye))\n\u001b[1;32m----> 9\u001b[0m \u001b[39mprint\u001b[39m(\u001b[39m\"\u001b[39;49m\u001b[39m{}\u001b[39;49;00m\u001b[39m \u001b[39;49m\u001b[39m{}\u001b[39;49;00m\u001b[39m \u001b[39;49m\u001b[39m{}\u001b[39;49;00m\u001b[39m \u001b[39;49m\u001b[39m{}\u001b[39;49;00m\u001b[39m\"\u001b[39;49m\u001b[39m.\u001b[39;49mformat(a,a,a)) \u001b[39m# paramthese gore, dort tane varsa format da 4 olmasi lazim\u001b[39;00m\n",
      "\u001b[1;31mIndexError\u001b[0m: Replacement index 3 out of range for positional args tuple"
     ]
    }
   ],
   "source": [
    "a = 8765\n",
    "saat = a // 3600\n",
    "dakika = (a % 3600) // 60\n",
    "saniye = (a % 3600) % 60\n",
    "saniye\n",
    "print(f\"8765 toplam {saat} saat, {dakika} dakika ve {saniye} saniye yapar\")\n",
    "\n",
    "print(\"{} saniye; {} saat {} dakika ve {} saniye eder\".format(a,saat,dakika,saniye))\n",
    "print(\"{} {} {} {}\".format(a,a,a)) # paramthese gore, dort tane varsa format da 4 olmasi lazim"
   ]
  },
  {
   "cell_type": "code",
   "execution_count": 3,
   "metadata": {},
   "outputs": [
    {
     "name": "stdout",
     "output_type": "stream",
     "text": [
      "8765 saniye =  2 saat 26 dakika 5 saniye yapar\n"
     ]
    }
   ],
   "source": [
    "print(a, \"saniye = \", saat, \"saat\", dakika, \"dakika\",saniye,\"saniye yapar\")"
   ]
  },
  {
   "cell_type": "code",
   "execution_count": 4,
   "metadata": {},
   "outputs": [
    {
     "name": "stdout",
     "output_type": "stream",
     "text": [
      "None or 1\n"
     ]
    }
   ],
   "source": [
    "print(\"None or 1\")"
   ]
  },
  {
   "cell_type": "code",
   "execution_count": 5,
   "metadata": {},
   "outputs": [
    {
     "name": "stdout",
     "output_type": "stream",
     "text": [
      "1\n"
     ]
    }
   ],
   "source": [
    "print(None or 1)"
   ]
  },
  {
   "cell_type": "code",
   "execution_count": 6,
   "metadata": {},
   "outputs": [
    {
     "name": "stdout",
     "output_type": "stream",
     "text": [
      "None\n"
     ]
    }
   ],
   "source": [
    "print(None and 1)"
   ]
  },
  {
   "cell_type": "markdown",
   "metadata": {},
   "source": [
    "#### len()"
   ]
  },
  {
   "cell_type": "code",
   "execution_count": 11,
   "metadata": {},
   "outputs": [
    {
     "data": {
      "text/plain": [
       "7"
      ]
     },
     "execution_count": 11,
     "metadata": {},
     "output_type": "execute_result"
    }
   ],
   "source": [
    "len(\"Techpro\")"
   ]
  },
  {
   "cell_type": "code",
   "execution_count": 14,
   "metadata": {},
   "outputs": [
    {
     "data": {
      "text/plain": [
       "3.0"
      ]
     },
     "execution_count": 14,
     "metadata": {},
     "output_type": "execute_result"
    }
   ],
   "source": [
    "len(\"Mehmet\")/2"
   ]
  },
  {
   "cell_type": "code",
   "execution_count": 20,
   "metadata": {},
   "outputs": [
    {
     "data": {
      "text/plain": [
       "'Ah'"
      ]
     },
     "execution_count": 20,
     "metadata": {},
     "output_type": "execute_result"
    }
   ],
   "source": [
    "\"Ahmad\"[:(len(\"Ahmad\") // 2)] # Floor division"
   ]
  },
  {
   "cell_type": "code",
   "execution_count": 21,
   "metadata": {},
   "outputs": [
    {
     "data": {
      "text/plain": [
       "'mad'"
      ]
     },
     "execution_count": 21,
     "metadata": {},
     "output_type": "execute_result"
    }
   ],
   "source": [
    "\"Ahmad\"[(len(\"Ahmad\") // 2):] # Floor division"
   ]
  },
  {
   "cell_type": "code",
   "execution_count": 31,
   "metadata": {},
   "outputs": [
    {
     "data": {
      "text/plain": [
       "'saMehmetri'"
      ]
     },
     "execution_count": 31,
     "metadata": {},
     "output_type": "execute_result"
    }
   ],
   "source": [
    "str1 = \"sari\"\n",
    "str2 = \"Mehmet\"\n",
    "str1[:len(str1)//2]+str2+str1[len(str1)//2:]\n"
   ]
  },
  {
   "attachments": {},
   "cell_type": "markdown",
   "metadata": {},
   "source": [
    "## If - Elif - Else"
   ]
  },
  {
   "cell_type": "code",
   "execution_count": 1,
   "metadata": {},
   "outputs": [
    {
     "name": "stdout",
     "output_type": "stream",
     "text": [
      "5, is bigger than four\n"
     ]
    }
   ],
   "source": [
    "if 5 > 4:\n",
    "    print(\"5, is bigger than four\")\n",
    "\n"
   ]
  },
  {
   "cell_type": "code",
   "execution_count": 2,
   "metadata": {},
   "outputs": [
    {
     "name": "stdout",
     "output_type": "stream",
     "text": [
      "bes buyuktur 4\n"
     ]
    }
   ],
   "source": [
    "if 5<4:\n",
    "    print(\"bes kucuktur dort\")\n",
    "elif 5>4:\n",
    "    print(\"bes buyuktur 4\")"
   ]
  },
  {
   "cell_type": "code",
   "execution_count": 3,
   "metadata": {},
   "outputs": [
    {
     "name": "stdout",
     "output_type": "stream",
     "text": [
      "5 dorde ne esi ne ondan kucuktur\n"
     ]
    }
   ],
   "source": [
    "if 5 < 4:\n",
    "    print(\"5, 4 ten kucuktur\")\n",
    "elif 5 ==4:\n",
    "    print(\"5 4 e esittir\")\n",
    "else:\n",
    "    print(\"5 dorde ne esi ne ondan kucuktur\")"
   ]
  },
  {
   "cell_type": "code",
   "execution_count": 8,
   "metadata": {},
   "outputs": [
    {
     "name": "stdout",
     "output_type": "stream",
     "text": [
      "Lutfen puani 0 ile 100 arasi bir rakam ile yaziniz\n"
     ]
    }
   ],
   "source": [
    "puan = int(input(\"Sinavdan aldiginiz notu yaziniz\"))\n",
    "if puan >= 90 and puan <=100:\n",
    "    print(\"aldiginiz puan A notuna esittir\")\n",
    "elif 90> puan >= 75:\n",
    "    print(\"Aldiginiz puan B notuna esittir\")\n",
    "elif 75 > puan >= 60:\n",
    "    print(\"Aldiginiz puan C notuna esittir\")\n",
    "elif 60 > puan >= 45:\n",
    "    print(\"Aldiginiz puan D notuna esittir\")\n",
    "elif puan < 45:\n",
    "    print(\"Aldiginiz puan F notuna esittir\")\n",
    "else: \n",
    "    print(\"Lutfen puani 0 ile 100 arasi bir rakam ile yaziniz\")"
   ]
  },
  {
   "cell_type": "code",
   "execution_count": 6,
   "metadata": {},
   "outputs": [
    {
     "name": "stdout",
     "output_type": "stream",
     "text": [
      "Sinavdan aldiginiz not F harfine denk gelmektedir\n"
     ]
    }
   ],
   "source": [
    "sinav_notu = int(input(\"Aldiginiz notu girin.(0 ile 100 arasinda)\"))\n",
    "if 0 < sinav_notu <= 100:\n",
    "    if sinav_notu >=90: # bir kelimeyi secip ctrl+shift+L basinca hepsini seciyot\n",
    "        harfnotu = \"A\"\n",
    "    elif sinav_notu >= 75:\n",
    "        harfnotu = \"B\"\n",
    "    elif sinav_notu >= 60:\n",
    "        harfnotu = \"C\"\n",
    "    elif sinav_notu >= 45:\n",
    "        harfnotu = \"D\"\n",
    "    else:\n",
    "        harfnotu = \"F\"\n",
    "    print(f\"Sinavdan aldiginiz not {harfnotu} harfine denk gelmektedir\")\n",
    "else:\n",
    "    print(\"hatali giris yaptiniz\")"
   ]
  },
  {
   "cell_type": "code",
   "execution_count": 9,
   "metadata": {},
   "outputs": [],
   "source": [
    "# tab for indentation to right, shift+tab for indentation to left"
   ]
  },
  {
   "cell_type": "code",
   "execution_count": null,
   "metadata": {},
   "outputs": [],
   "source": []
  }
 ],
 "metadata": {
  "kernelspec": {
   "display_name": "Python 3",
   "language": "python",
   "name": "python3"
  },
  "language_info": {
   "codemirror_mode": {
    "name": "ipython",
    "version": 3
   },
   "file_extension": ".py",
   "mimetype": "text/x-python",
   "name": "python",
   "nbconvert_exporter": "python",
   "pygments_lexer": "ipython3",
   "version": "3.11.1"
  },
  "orig_nbformat": 4,
  "vscode": {
   "interpreter": {
    "hash": "968820a3b983eb7005df49aeeaf73007353c9cb3d103916a2baacfe454d17933"
   }
  }
 },
 "nbformat": 4,
 "nbformat_minor": 2
}
