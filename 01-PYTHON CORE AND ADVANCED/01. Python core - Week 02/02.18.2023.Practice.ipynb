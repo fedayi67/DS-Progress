{
 "cells": [
  {
   "cell_type": "markdown",
   "metadata": {},
   "source": [
    "<img src=\"merhaba.png\">"
   ]
  },
  {
   "cell_type": "code",
   "execution_count": 3,
   "metadata": {},
   "outputs": [
    {
     "name": "stdout",
     "output_type": "stream",
     "text": [
      "Sayinizin toplami 70 eder\n"
     ]
    }
   ],
   "source": [
    "birincisayi = int(input(\"toplamak istediginiz birinci sayiyi yaziniz.\"))\n",
    "ikincisayi = int(input(\"Toplamak istediginiz ikinci sayiyi yaziniz.\"))\n",
    "toplam = birincisayi + ikincisayi\n",
    "print(f\"Sayinizin toplami {toplam} eder\")\n"
   ]
  },
  {
   "cell_type": "code",
   "execution_count": 1,
   "metadata": {},
   "outputs": [
    {
     "name": "stdout",
     "output_type": "stream",
     "text": [
      "Sayıların toplamı 100.0 dir.\n"
     ]
    }
   ],
   "source": [
    "m=int(input(\"Birinci sayıyı giriniz.\"))\n",
    "n=int(input(\"İkinci sayıyı giriniz.\"))\n",
    "print(f\"Sayıların toplamı {float(m+n)} dir.\")"
   ]
  },
  {
   "cell_type": "code",
   "execution_count": 2,
   "metadata": {},
   "outputs": [
    {
     "name": "stdout",
     "output_type": "stream",
     "text": [
      "toplam : 70.0\n"
     ]
    }
   ],
   "source": [
    "x = int(input(\"bir sayı giriniz\"))\n",
    "y = int(input(\"bir sayı giriniz\"))\n",
    "print(\"toplam : {:.1f}\".format(x + y))"
   ]
  },
  {
   "cell_type": "code",
   "execution_count": 4,
   "metadata": {},
   "outputs": [
    {
     "name": "stdout",
     "output_type": "stream",
     "text": [
      "toplam  : 120.0\n"
     ]
    }
   ],
   "source": [
    "sayi_1 = int(input(\"Sayi-1:\"))\n",
    "sayi_2 = int(input(\"Sayi-2:\"))\n",
    "\n",
    "toplam = float(sayi_1 + sayi_2)\n",
    "print(\"toplam  : {}\".format(toplam))"
   ]
  },
  {
   "cell_type": "code",
   "execution_count": 7,
   "metadata": {},
   "outputs": [
    {
     "data": {
      "text/plain": [
       "'I have 54.00 Ruppes!'"
      ]
     },
     "execution_count": 7,
     "metadata": {},
     "output_type": "execute_result"
    }
   ],
   "source": [
    "txt = \"I have {:.2f} Ruppes!\".format(54)\n",
    "txt"
   ]
  },
  {
   "cell_type": "code",
   "execution_count": 8,
   "metadata": {},
   "outputs": [
    {
     "name": "stdout",
     "output_type": "stream",
     "text": [
      "129.0\n",
      "top  : 129.0\n"
     ]
    }
   ],
   "source": [
    "sayi_1 = float(input(\"Bir sayi giriniz: \" ))\n",
    "sayi_2 = float(input(\"Bir sayi giriniz: \" ))\n",
    "top = sayi_1 + sayi_2\n",
    "print(top)\n",
    "print(\"top  : {}\".format(top))"
   ]
  },
  {
   "cell_type": "code",
   "execution_count": 13,
   "metadata": {},
   "outputs": [
    {
     "name": "stdout",
     "output_type": "stream",
     "text": [
      "girilen sayi 78.0,45.0\n"
     ]
    }
   ],
   "source": [
    "num1 = float(input(\"first\"))\n",
    "num2 = float(input(\"second\"))\n",
    "print(\"girilen sayi {1},{0}\".format(num1,num2)) # we can also use index in {}"
   ]
  },
  {
   "cell_type": "code",
   "execution_count": 14,
   "metadata": {},
   "outputs": [
    {
     "name": "stdout",
     "output_type": "stream",
     "text": [
      "numbers 15 20\n"
     ]
    }
   ],
   "source": [
    "a = 15\n",
    "b = 20\n",
    "print(\"numbers {} {}\".format(a,b))"
   ]
  },
  {
   "cell_type": "code",
   "execution_count": 15,
   "metadata": {},
   "outputs": [
    {
     "name": "stdout",
     "output_type": "stream",
     "text": [
      "numbers 20 15\n"
     ]
    }
   ],
   "source": [
    "a = 15\n",
    "b = 20\n",
    "print(\"numbers {1} {0}\".format(a,b))"
   ]
  },
  {
   "cell_type": "code",
   "execution_count": 18,
   "metadata": {},
   "outputs": [
    {
     "ename": "ValueError",
     "evalue": "cannot switch from manual field specification to automatic field numbering",
     "output_type": "error",
     "traceback": [
      "\u001b[1;31m---------------------------------------------------------------------------\u001b[0m",
      "\u001b[1;31mValueError\u001b[0m                                Traceback (most recent call last)",
      "Cell \u001b[1;32mIn[18], line 3\u001b[0m\n\u001b[0;32m      1\u001b[0m a \u001b[39m=\u001b[39m \u001b[39m15\u001b[39m\n\u001b[0;32m      2\u001b[0m b \u001b[39m=\u001b[39m \u001b[39m20\u001b[39m\n\u001b[1;32m----> 3\u001b[0m \u001b[39mprint\u001b[39m(\u001b[39m\"\u001b[39;49m\u001b[39mnumbers \u001b[39;49m\u001b[39m{1}\u001b[39;49;00m\u001b[39m \u001b[39;49m\u001b[39m{}\u001b[39;49;00m\u001b[39m\"\u001b[39;49m\u001b[39m.\u001b[39;49mformat(a,b))\n",
      "\u001b[1;31mValueError\u001b[0m: cannot switch from manual field specification to automatic field numbering"
     ]
    }
   ],
   "source": [
    "a = 15\n",
    "b = 20\n",
    "print(\"numbers {1} {}\".format(a,b))"
   ]
  },
  {
   "cell_type": "markdown",
   "metadata": {},
   "source": [
    "##### soru2"
   ]
  },
  {
   "cell_type": "code",
   "execution_count": 24,
   "metadata": {},
   "outputs": [
    {
     "name": "stdout",
     "output_type": "stream",
     "text": [
      "carpim: 9.0\n"
     ]
    }
   ],
   "source": [
    "sayi1 = float(input(\"birnici sayiyi girin\"))\n",
    "sayi2 = float(input(\"ikinci sayiyi girin\"))\n",
    "toplam = sayi1+sayi2\n",
    "subtract = sayi1-sayi2\n",
    "product = sayi1**2-sayi2**2\n",
    "if product < 0:\n",
    "    productyeni = product * (-1)\n",
    "    print(f\"carpim: {productyeni}\")\n",
    "else:\n",
    "    print(f\"Carpim:{product}\")"
   ]
  },
  {
   "cell_type": "code",
   "execution_count": 25,
   "metadata": {},
   "outputs": [],
   "source": [
    "# soru 3\n"
   ]
  },
  {
   "cell_type": "code",
   "execution_count": 40,
   "metadata": {},
   "outputs": [
    {
     "name": "stdout",
     "output_type": "stream",
     "text": [
      "alabileceginiz tane: 11 kalan paraniz 2\n"
     ]
    }
   ],
   "source": [
    "param = 200\n",
    "alabilecek = 200 // 18\n",
    "kalan = 200 % 18\n",
    "print(\"alabileceginiz tane: {} kalan paraniz {}\".format(alabilecek,kalan))"
   ]
  },
  {
   "cell_type": "code",
   "execution_count": 41,
   "metadata": {},
   "outputs": [
    {
     "name": "stdout",
     "output_type": "stream",
     "text": [
      "5\n",
      "4\n"
     ]
    }
   ],
   "source": [
    "a = int(input(\"say bir girin\"))\n",
    "b = int(input(\"ikinci sayi girin\"))\n",
    "c = a\n",
    "a = b\n",
    "b = c\n",
    "print(a)\n",
    "print(b)"
   ]
  },
  {
   "cell_type": "code",
   "execution_count": 42,
   "metadata": {},
   "outputs": [
    {
     "name": "stdout",
     "output_type": "stream",
     "text": [
      "birinci sayi: 5, ikinci sayi: 4\n"
     ]
    }
   ],
   "source": [
    "a = int(input(\"say bir girin\"))\n",
    "b = int(input(\"ikinci sayi girin\"))\n",
    "print(\"birinci sayi: {}, ikinci sayi: {}\".format(b,a))"
   ]
  },
  {
   "cell_type": "code",
   "execution_count": 43,
   "metadata": {},
   "outputs": [
    {
     "name": "stdout",
     "output_type": "stream",
     "text": [
      "8\n",
      "5\n"
     ]
    }
   ],
   "source": [
    "a = int(input(\"say bir girin\"))\n",
    "b = int(input(\"ikinci sayi girin\"))\n",
    "a,b = b,a # or (x,y) = (y,x)\n",
    "print(a)\n",
    "print(b)"
   ]
  },
  {
   "cell_type": "code",
   "execution_count": 44,
   "metadata": {},
   "outputs": [
    {
     "name": "stdout",
     "output_type": "stream",
     "text": [
      "4\n",
      "5\n"
     ]
    }
   ],
   "source": [
    "x = int(input(\"Enter a number\")) # x = 30\n",
    "y = int(input(\"Enter a number\")) # y = 20\n",
    "x = x+y # 30+20 = 50\n",
    "y = x-y # 50-20 = 30\n",
    "x = x-y # 50-30 = 20\n",
    "print(x) # 20\n",
    "print(y) # 30"
   ]
  },
  {
   "cell_type": "code",
   "execution_count": 50,
   "metadata": {},
   "outputs": [
    {
     "name": "stdout",
     "output_type": "stream",
     "text": [
      "ciktiniz: SelamSelamSelamSelamSelam\n"
     ]
    }
   ],
   "source": [
    "Stringimiz = input(\"Bir string girin\")\n",
    "sayimiz = int(input(\"Yazdiginiz stringin uzunlugundan kucuk tam bir sayi girin\"))\n",
    "OP1 = Stringimiz[-sayimiz:]*sayimiz\n",
    "print(f\"ciktiniz: {OP1}\")\n"
   ]
  },
  {
   "cell_type": "code",
   "execution_count": 60,
   "metadata": {},
   "outputs": [
    {
     "name": "stdout",
     "output_type": "stream",
     "text": [
      "Merhaba:)Merhaba:)Merhaba\n"
     ]
    }
   ],
   "source": [
    "yazi = input(\"bir kelime girin\")\n",
    "s = input(\"Kelimeleri ayirmak istediginiz notationi girin\")\n",
    "sayi = int(input(\"kac kere tekrar yapmak istediginiz sayiyi girin\"))\n",
    "print(((yazi+s)*sayi).rstrip(s))"
   ]
  },
  {
   "cell_type": "code",
   "execution_count": 62,
   "metadata": {},
   "outputs": [
    {
     "name": "stdout",
     "output_type": "stream",
     "text": [
      "merhaba:)merhaba:)merhaba\n"
     ]
    }
   ],
   "source": [
    "kelime = input(\"Bir kelime giriniz: \")\n",
    "sepp = input(\"Bir seperator giriniz: \")\n",
    "tekrar_sayisi= int(input(\"Bir sayi giriniz: \"))\n",
    "kelime_sep_birlikte = kelime+sepp\n",
    "sonuca_dogru= kelime_sep_birlikte *tekrar_sayisi\n",
    "aa = list(sonuca_dogru)\n",
    "aa=aa[:-len(sepp)]\n",
    "son=\"\".join(aa)\n",
    "print(son)"
   ]
  },
  {
   "cell_type": "code",
   "execution_count": 63,
   "metadata": {},
   "outputs": [
    {
     "name": "stdout",
     "output_type": "stream",
     "text": [
      "Techpro:)Techpro:)Techpro\n"
     ]
    }
   ],
   "source": [
    "word = input(\"enter a word\")\n",
    "sep =input(\"Enter a sep\")\n",
    "num=int(input(\"Enter a number\"))\n",
    "print(sep.join([word]*num))"
   ]
  },
  {
   "cell_type": "code",
   "execution_count": 65,
   "metadata": {},
   "outputs": [
    {
     "data": {
      "text/plain": [
       "'MERHABA:)MERHABA:)MERHABA'"
      ]
     },
     "execution_count": 65,
     "metadata": {},
     "output_type": "execute_result"
    }
   ],
   "source": [
    "\":)MERHABA:)MERHABA:)MERHABA:)\".strip(\":)\") # en bas ve en son\n",
    "# rstrip En sagdaki, lstrip en soldaki"
   ]
  },
  {
   "cell_type": "code",
   "execution_count": 67,
   "metadata": {},
   "outputs": [
    {
     "data": {
      "text/plain": [
       "['bunu yazdir']"
      ]
     },
     "execution_count": 67,
     "metadata": {},
     "output_type": "execute_result"
    }
   ],
   "source": [
    "[not 0 and \"bunu yazdir\"] # NOT negatifi positife cevirir\n",
    "# AND ilk false ya da son true, OR da ilk true ya da son false cikti verir\n"
   ]
  },
  {
   "cell_type": "code",
   "execution_count": 70,
   "metadata": {},
   "outputs": [
    {
     "name": "stdout",
     "output_type": "stream",
     "text": [
      "False\n"
     ]
    }
   ],
   "source": [
    "a = int(input(\"birinci sayi girin\"))\n",
    "b = int(input(\"ikinci sayi girin\"))\n",
    "if a==b or (a-b)%5==0:\n",
    "    print(True)\n",
    "else:\n",
    "    print(False)"
   ]
  },
  {
   "cell_type": "code",
   "execution_count": 74,
   "metadata": {},
   "outputs": [
    {
     "data": {
      "text/plain": [
       "<function abs(x, /)>"
      ]
     },
     "execution_count": 74,
     "metadata": {},
     "output_type": "execute_result"
    }
   ],
   "source": [
    "abs # absolute value of something"
   ]
  },
  {
   "cell_type": "code",
   "execution_count": 78,
   "metadata": {},
   "outputs": [
    {
     "name": "stdout",
     "output_type": "stream",
     "text": [
      "False\n"
     ]
    }
   ],
   "source": [
    "a = int(input(\"birinci sayi girin\"))\n",
    "b = int(input(\"ikinci sayi girin\"))\n",
    "print(a==b or abs(a-b)%5==0)#cunku printin icindeki true ya da false op verir"
   ]
  },
  {
   "cell_type": "code",
   "execution_count": 79,
   "metadata": {},
   "outputs": [
    {
     "data": {
      "text/plain": [
       "3"
      ]
     },
     "execution_count": 79,
     "metadata": {},
     "output_type": "execute_result"
    }
   ],
   "source": [
    "3 % 5"
   ]
  },
  {
   "cell_type": "code",
   "execution_count": 80,
   "metadata": {},
   "outputs": [
    {
     "data": {
      "text/plain": [
       "2"
      ]
     },
     "execution_count": 80,
     "metadata": {},
     "output_type": "execute_result"
    }
   ],
   "source": [
    "-3 % 5"
   ]
  },
  {
   "cell_type": "code",
   "execution_count": null,
   "metadata": {},
   "outputs": [],
   "source": []
  }
 ],
 "metadata": {
  "kernelspec": {
   "display_name": "Python 3",
   "language": "python",
   "name": "python3"
  },
  "language_info": {
   "codemirror_mode": {
    "name": "ipython",
    "version": 3
   },
   "file_extension": ".py",
   "mimetype": "text/x-python",
   "name": "python",
   "nbconvert_exporter": "python",
   "pygments_lexer": "ipython3",
   "version": "3.11.1"
  },
  "orig_nbformat": 4,
  "vscode": {
   "interpreter": {
    "hash": "968820a3b983eb7005df49aeeaf73007353c9cb3d103916a2baacfe454d17933"
   }
  }
 },
 "nbformat": 4,
 "nbformat_minor": 2
}
