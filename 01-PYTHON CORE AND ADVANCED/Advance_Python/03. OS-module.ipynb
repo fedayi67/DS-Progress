{
 "cells": [
  {
   "cell_type": "code",
   "execution_count": 2,
   "metadata": {},
   "outputs": [
    {
     "name": "stdout",
     "output_type": "stream",
     "text": [
      "Requirement already satisfied: django in c:\\users\\jawed\\appdata\\local\\programs\\python\\python311\\lib\\site-packages (4.2)CPU times: total: 0 ns\n",
      "Wall time: 2.07 s\n",
      "\n",
      "Requirement already satisfied: asgiref<4,>=3.6.0 in c:\\users\\jawed\\appdata\\local\\programs\\python\\python311\\lib\\site-packages (from django) (3.6.0)\n",
      "Requirement already satisfied: sqlparse>=0.3.1 in c:\\users\\jawed\\appdata\\local\\programs\\python\\python311\\lib\\site-packages (from django) (0.4.4)\n",
      "Requirement already satisfied: tzdata in c:\\users\\jawed\\appdata\\local\\programs\\python\\python311\\lib\\site-packages (from django) (2023.3)\n"
     ]
    },
    {
     "name": "stderr",
     "output_type": "stream",
     "text": [
      "\n",
      "[notice] A new release of pip is available: 23.0.1 -> 23.1.1\n",
      "[notice] To update, run: python.exe -m pip install --upgrade pip\n"
     ]
    }
   ],
   "source": [
    "%%time\n",
    "!pip install django"
   ]
  },
  {
   "attachments": {},
   "cell_type": "markdown",
   "metadata": {},
   "source": [
    "### OS (Operating System) Modul"
   ]
  },
  {
   "cell_type": "code",
   "execution_count": 3,
   "metadata": {},
   "outputs": [],
   "source": [
    "# \"c://Users/desktop.ini\" or r\"c://\""
   ]
  },
  {
   "cell_type": "code",
   "execution_count": 4,
   "metadata": {},
   "outputs": [],
   "source": [
    "import os"
   ]
  },
  {
   "cell_type": "code",
   "execution_count": 12,
   "metadata": {},
   "outputs": [
    {
     "name": "stdout",
     "output_type": "stream",
     "text": [
      "c:\\Users\\jawed\\Desktop\\B150\\Advance_Python\n"
     ]
    }
   ],
   "source": [
    "print(os.getcwd())"
   ]
  },
  {
   "cell_type": "code",
   "execution_count": 21,
   "metadata": {},
   "outputs": [
    {
     "name": "stdout",
     "output_type": "stream",
     "text": [
      "c:\\Users\\jawed\\Desktop\\B150\\Advance_Python\n"
     ]
    }
   ],
   "source": [
    "# os dizin degistirme\n",
    "os.chdir(\"/Users/jawed/Desktop/B150/Advance_Python\") # absolute path\n",
    "print(os.getcwd())"
   ]
  },
  {
   "cell_type": "code",
   "execution_count": 22,
   "metadata": {},
   "outputs": [
    {
     "name": "stdout",
     "output_type": "stream",
     "text": [
      "[WinError 2] The system cannot find the file specified: 'dizin-os # another way to go to another address inside the same folder'\n",
      "c:\\Users\\jawed\\Desktop\\B150\\Advance_Python\\dizin-os\n"
     ]
    }
   ],
   "source": [
    "%cd \"dizin-os\" # another way to go to another address inside the same folder"
   ]
  },
  {
   "cell_type": "code",
   "execution_count": 23,
   "metadata": {},
   "outputs": [
    {
     "name": "stdout",
     "output_type": "stream",
     "text": [
      "c:\\Users\\jawed\\Desktop\\B150\\Advance_Python\n"
     ]
    }
   ],
   "source": [
    "print(os.getcwd())"
   ]
  },
  {
   "cell_type": "code",
   "execution_count": 24,
   "metadata": {},
   "outputs": [
    {
     "name": "stdout",
     "output_type": "stream",
     "text": [
      "c:\\Users\\jawed\\Desktop\\B150\n"
     ]
    }
   ],
   "source": [
    "%cd .."
   ]
  },
  {
   "cell_type": "code",
   "execution_count": 25,
   "metadata": {},
   "outputs": [
    {
     "data": {
      "text/plain": [
       "'c:\\\\Users\\\\jawed\\\\Desktop\\\\B150'"
      ]
     },
     "execution_count": 25,
     "metadata": {},
     "output_type": "execute_result"
    }
   ],
   "source": [
    "os.getcwd()"
   ]
  },
  {
   "cell_type": "code",
   "execution_count": 26,
   "metadata": {},
   "outputs": [
    {
     "name": "stdout",
     "output_type": "stream",
     "text": [
      "c:\\Users\\jawed\\Desktop\\B150\\Advance_Python\n"
     ]
    }
   ],
   "source": [
    "os.chdir(\"/Users/jawed/Desktop/B150/Advance_Python\") # absolute path\n",
    "print(os.getcwd())"
   ]
  },
  {
   "cell_type": "code",
   "execution_count": 28,
   "metadata": {},
   "outputs": [],
   "source": [
    "dosya_listesi = os.listdir()"
   ]
  },
  {
   "cell_type": "code",
   "execution_count": 29,
   "metadata": {},
   "outputs": [
    {
     "data": {
      "text/plain": [
       "['.ipynb_checkpoints',\n",
       " 'dizin-os',\n",
       " 'Hata-yakalama.ipynb',\n",
       " 'list-comprehension.ipynb',\n",
       " 'os-module.ipynb']"
      ]
     },
     "execution_count": 29,
     "metadata": {},
     "output_type": "execute_result"
    }
   ],
   "source": [
    "dosya_listesi"
   ]
  },
  {
   "cell_type": "code",
   "execution_count": 31,
   "metadata": {},
   "outputs": [
    {
     "data": {
      "text/plain": [
       "['.ipynb_checkpoints', 'Hata-yakalama.ipynb', 'os-module.ipynb']"
      ]
     },
     "execution_count": 31,
     "metadata": {},
     "output_type": "execute_result"
    }
   ],
   "source": [
    "dosya_listesi[0::2]"
   ]
  },
  {
   "cell_type": "code",
   "execution_count": 32,
   "metadata": {},
   "outputs": [
    {
     "name": "stdout",
     "output_type": "stream",
     "text": [
      ".ipynb_checkpoints\n",
      "dizin-os\n",
      "Hata-yakalama.ipynb\n",
      "list-comprehension.ipynb\n",
      "os-module.ipynb\n"
     ]
    }
   ],
   "source": [
    "for i in dosya_listesi:\n",
    "    print(i)"
   ]
  },
  {
   "cell_type": "code",
   "execution_count": 45,
   "metadata": {},
   "outputs": [
    {
     "data": {
      "text/plain": [
       "['os-test.txt']"
      ]
     },
     "execution_count": 45,
     "metadata": {},
     "output_type": "execute_result"
    }
   ],
   "source": [
    "os.listdir(\"/Users/jawed/Desktop/B150/Advance_Python/dizin-os\")"
   ]
  },
  {
   "cell_type": "code",
   "execution_count": 43,
   "metadata": {},
   "outputs": [],
   "source": [
    "os.mkdir(\"/Users/jawed/Desktop/B150/Advance_Python/dizin2-os/\")"
   ]
  },
  {
   "cell_type": "code",
   "execution_count": 46,
   "metadata": {},
   "outputs": [
    {
     "data": {
      "text/plain": [
       "['os-test.txt']"
      ]
     },
     "execution_count": 46,
     "metadata": {},
     "output_type": "execute_result"
    }
   ],
   "source": [
    "os.listdir(\"dizin-os\")"
   ]
  },
  {
   "cell_type": "code",
   "execution_count": 47,
   "metadata": {},
   "outputs": [],
   "source": [
    "os.makedirs(\"test/test2/test3\")"
   ]
  },
  {
   "cell_type": "code",
   "execution_count": 52,
   "metadata": {},
   "outputs": [
    {
     "name": "stdout",
     "output_type": "stream",
     "text": [
      "Folder address:  /Users/jawed/Desktop/B150/Advance_Python\n",
      "Folders:  ['.ipynb_checkpoints', 'dizin-os', 'dizin2-os', 'test']\n",
      "files:  ['Hata-yakalama.ipynb', 'list-comprehension.ipynb', 'os-module.ipynb']\n",
      "Folder address:  /Users/jawed/Desktop/B150/Advance_Python\\.ipynb_checkpoints\n",
      "Folders:  []\n",
      "files:  ['Hata-yakalama-checkpoint.ipynb', 'list-comprehension-checkpoint.ipynb']\n",
      "Folder address:  /Users/jawed/Desktop/B150/Advance_Python\\dizin-os\n",
      "Folders:  []\n",
      "files:  ['os-test.txt']\n",
      "Folder address:  /Users/jawed/Desktop/B150/Advance_Python\\dizin2-os\n",
      "Folders:  []\n",
      "files:  []\n",
      "Folder address:  /Users/jawed/Desktop/B150/Advance_Python\\test\n",
      "Folders:  ['test2']\n",
      "files:  []\n",
      "Folder address:  /Users/jawed/Desktop/B150/Advance_Python\\test\\test2\n",
      "Folders:  ['test3']\n",
      "files:  []\n",
      "Folder address:  /Users/jawed/Desktop/B150/Advance_Python\\test\\test2\\test3\n",
      "Folders:  []\n",
      "files:  []\n"
     ]
    }
   ],
   "source": [
    "for i in os.walk(\"/Users/jawed/Desktop/B150/Advance_Python\"):\n",
    "    print(\"Folder address: \",i[0])\n",
    "    print(\"Folders: \",i[1])\n",
    "    print(\"files: \",i[2])"
   ]
  },
  {
   "cell_type": "code",
   "execution_count": null,
   "metadata": {},
   "outputs": [],
   "source": []
  }
 ],
 "metadata": {
  "kernelspec": {
   "display_name": "Python 3",
   "language": "python",
   "name": "python3"
  },
  "language_info": {
   "codemirror_mode": {
    "name": "ipython",
    "version": 3
   },
   "file_extension": ".py",
   "mimetype": "text/x-python",
   "name": "python",
   "nbconvert_exporter": "python",
   "pygments_lexer": "ipython3",
   "version": "3.11.1"
  },
  "orig_nbformat": 4
 },
 "nbformat": 4,
 "nbformat_minor": 2
}
