{
 "cells": [
  {
   "attachments": {},
   "cell_type": "markdown",
   "metadata": {},
   "source": [
    "### Nesne Yonelimli Programlama\n"
   ]
  },
  {
   "cell_type": "code",
   "execution_count": 1,
   "metadata": {},
   "outputs": [],
   "source": [
    "class MyFirstClass: # while creating class, we do not include ()\n",
    "    pass"
   ]
  },
  {
   "cell_type": "code",
   "execution_count": 2,
   "metadata": {},
   "outputs": [
    {
     "name": "stdout",
     "output_type": "stream",
     "text": [
      "<class 'type'>\n"
     ]
    }
   ],
   "source": [
    "print(type(MyFirstClass))"
   ]
  },
  {
   "cell_type": "code",
   "execution_count": 6,
   "metadata": {},
   "outputs": [
    {
     "name": "stdout",
     "output_type": "stream",
     "text": [
      "<class 'int'>\n",
      "<class 'str'>\n",
      "<class 'list'>\n",
      "<class '__main__.MyFirstClass'>\n"
     ]
    }
   ],
   "source": [
    "print(int)\n",
    "print(str)\n",
    "print(list)\n",
    "print(MyFirstClass) # main here is built-in"
   ]
  },
  {
   "cell_type": "code",
   "execution_count": 7,
   "metadata": {},
   "outputs": [],
   "source": [
    "class MyFirstClass:\n",
    "    pass"
   ]
  },
  {
   "cell_type": "code",
   "execution_count": 8,
   "metadata": {},
   "outputs": [],
   "source": [
    "my_class = MyFirstClass()"
   ]
  },
  {
   "cell_type": "code",
   "execution_count": 9,
   "metadata": {},
   "outputs": [
    {
     "data": {
      "text/plain": [
       "<__main__.MyFirstClass at 0x239f2be8e10>"
      ]
     },
     "execution_count": 9,
     "metadata": {},
     "output_type": "execute_result"
    }
   ],
   "source": [
    "my_class"
   ]
  },
  {
   "cell_type": "code",
   "execution_count": 27,
   "metadata": {},
   "outputs": [
    {
     "name": "stdout",
     "output_type": "stream",
     "text": [
      "<__main__.Person object at 0x00000239F415F890>\n",
      "<__main__.Person object at 0x00000239F4182AD0>\n"
     ]
    }
   ],
   "source": [
    "class Person:\n",
    "    pass\n",
    "p1 = Person()\n",
    "print(p1)\n",
    "p2 = Person()\n",
    "print(p2)\n",
    "p3 = Person()"
   ]
  },
  {
   "cell_type": "code",
   "execution_count": 12,
   "metadata": {},
   "outputs": [
    {
     "name": "stdout",
     "output_type": "stream",
     "text": [
      "<class '__main__.Person'>\n"
     ]
    }
   ],
   "source": [
    "print(type(p1))"
   ]
  },
  {
   "cell_type": "code",
   "execution_count": 13,
   "metadata": {},
   "outputs": [],
   "source": [
    "p1.name = \"Ahmet\"\n",
    "p1.surname = \"Yilmaz\"\n",
    "p1.age = 25\n",
    "p1.job = \"Engineer\""
   ]
  },
  {
   "cell_type": "code",
   "execution_count": 28,
   "metadata": {},
   "outputs": [],
   "source": [
    "p2 = Person()\n",
    "\n",
    "p2.name = \"Mehmet\"\n",
    "p2.surname = \"Yilmaz\"\n",
    "p2.age = 35\n",
    "p2.job = \"Teacher\"\n",
    "p2.country = \"Turkiye\""
   ]
  },
  {
   "cell_type": "code",
   "execution_count": 19,
   "metadata": {},
   "outputs": [
    {
     "name": "stdout",
     "output_type": "stream",
     "text": [
      "Ahmet Yilmaz 25 Engineer\n"
     ]
    }
   ],
   "source": [
    "print(p1.name,p1.surname,p1.age,p1.job)"
   ]
  },
  {
   "cell_type": "code",
   "execution_count": 23,
   "metadata": {},
   "outputs": [
    {
     "data": {
      "text/plain": [
       "'Ahmet'"
      ]
     },
     "execution_count": 23,
     "metadata": {},
     "output_type": "execute_result"
    }
   ],
   "source": [
    "p1.name"
   ]
  },
  {
   "cell_type": "code",
   "execution_count": 21,
   "metadata": {},
   "outputs": [
    {
     "data": {
      "text/plain": [
       "str"
      ]
     },
     "execution_count": 21,
     "metadata": {},
     "output_type": "execute_result"
    }
   ],
   "source": [
    "type(p1.name)"
   ]
  },
  {
   "cell_type": "code",
   "execution_count": 24,
   "metadata": {},
   "outputs": [
    {
     "data": {
      "text/plain": [
       "25"
      ]
     },
     "execution_count": 24,
     "metadata": {},
     "output_type": "execute_result"
    }
   ],
   "source": [
    "p1.age"
   ]
  },
  {
   "cell_type": "code",
   "execution_count": 22,
   "metadata": {},
   "outputs": [
    {
     "data": {
      "text/plain": [
       "int"
      ]
     },
     "execution_count": 22,
     "metadata": {},
     "output_type": "execute_result"
    }
   ],
   "source": [
    "type(p1.age)"
   ]
  },
  {
   "cell_type": "code",
   "execution_count": 29,
   "metadata": {},
   "outputs": [
    {
     "name": "stdout",
     "output_type": "stream",
     "text": [
      "Mehmet Yilmaz 35 Turkiye\n"
     ]
    }
   ],
   "source": [
    "print(p2.name,p2.surname,p2.age,p2.country)"
   ]
  },
  {
   "cell_type": "code",
   "execution_count": 30,
   "metadata": {},
   "outputs": [],
   "source": [
    "class Person:\n",
    "    def __init__(self):\n",
    "        self.name = \"No name\"\n",
    "        self.surname = \"No Surname\"\n",
    "        self.age = \"No age\"\n",
    "        self.job = \"No job\""
   ]
  },
  {
   "cell_type": "code",
   "execution_count": 31,
   "metadata": {},
   "outputs": [],
   "source": [
    "p1 = Person()"
   ]
  },
  {
   "cell_type": "code",
   "execution_count": 32,
   "metadata": {},
   "outputs": [
    {
     "data": {
      "text/plain": [
       "'No name'"
      ]
     },
     "execution_count": 32,
     "metadata": {},
     "output_type": "execute_result"
    }
   ],
   "source": [
    "p1.name"
   ]
  },
  {
   "cell_type": "code",
   "execution_count": 33,
   "metadata": {},
   "outputs": [
    {
     "data": {
      "text/plain": [
       "('No Surname', 'No age', 'No job')"
      ]
     },
     "execution_count": 33,
     "metadata": {},
     "output_type": "execute_result"
    }
   ],
   "source": [
    "p1.surname,p1.age,p1.job"
   ]
  },
  {
   "cell_type": "code",
   "execution_count": 34,
   "metadata": {},
   "outputs": [
    {
     "name": "stdout",
     "output_type": "stream",
     "text": [
      "No Surname\n",
      "No name\n"
     ]
    }
   ],
   "source": [
    "print(p1.surname)\n",
    "print(p1.name)"
   ]
  },
  {
   "cell_type": "code",
   "execution_count": 35,
   "metadata": {},
   "outputs": [],
   "source": [
    "p100 = Person()"
   ]
  },
  {
   "cell_type": "code",
   "execution_count": 36,
   "metadata": {},
   "outputs": [
    {
     "data": {
      "text/plain": [
       "'No name'"
      ]
     },
     "execution_count": 36,
     "metadata": {},
     "output_type": "execute_result"
    }
   ],
   "source": [
    "p100.name"
   ]
  },
  {
   "cell_type": "code",
   "execution_count": 37,
   "metadata": {},
   "outputs": [
    {
     "data": {
      "text/plain": [
       "'No Surname'"
      ]
     },
     "execution_count": 37,
     "metadata": {},
     "output_type": "execute_result"
    }
   ],
   "source": [
    "p100.surname"
   ]
  },
  {
   "cell_type": "code",
   "execution_count": 38,
   "metadata": {},
   "outputs": [
    {
     "data": {
      "text/plain": [
       "'No age'"
      ]
     },
     "execution_count": 38,
     "metadata": {},
     "output_type": "execute_result"
    }
   ],
   "source": [
    "p100.age"
   ]
  },
  {
   "cell_type": "code",
   "execution_count": 39,
   "metadata": {},
   "outputs": [
    {
     "ename": "AttributeError",
     "evalue": "'Person' object has no attribute 'country'",
     "output_type": "error",
     "traceback": [
      "\u001b[1;31m---------------------------------------------------------------------------\u001b[0m",
      "\u001b[1;31mAttributeError\u001b[0m                            Traceback (most recent call last)",
      "Cell \u001b[1;32mIn[39], line 1\u001b[0m\n\u001b[1;32m----> 1\u001b[0m p100\u001b[39m.\u001b[39;49mcountry\n",
      "\u001b[1;31mAttributeError\u001b[0m: 'Person' object has no attribute 'country'"
     ]
    }
   ],
   "source": [
    "p100.country"
   ]
  },
  {
   "cell_type": "code",
   "execution_count": 44,
   "metadata": {},
   "outputs": [],
   "source": [
    "class Person:\n",
    "    def __init__(self):\n",
    "        kendim.name = \"No name\"\n",
    "        kendim.surname = \"No Surname\"\n",
    "        kendim.age = \"No age\"\n",
    "        kendim.job = \"No job\"\n",
    "    # __init__ fonksiyonu icerisine verilen parametre uzerinden attribute tanimlamaliyiz"
   ]
  },
  {
   "cell_type": "code",
   "execution_count": 41,
   "metadata": {},
   "outputs": [
    {
     "ename": "NameError",
     "evalue": "name 'kendim' is not defined",
     "output_type": "error",
     "traceback": [
      "\u001b[1;31m---------------------------------------------------------------------------\u001b[0m",
      "\u001b[1;31mNameError\u001b[0m                                 Traceback (most recent call last)",
      "Cell \u001b[1;32mIn[41], line 1\u001b[0m\n\u001b[1;32m----> 1\u001b[0m p100 \u001b[39m=\u001b[39m Person()\n",
      "Cell \u001b[1;32mIn[40], line 3\u001b[0m, in \u001b[0;36mPerson.__init__\u001b[1;34m(self)\u001b[0m\n\u001b[0;32m      2\u001b[0m \u001b[39mdef\u001b[39;00m \u001b[39m__init__\u001b[39m(\u001b[39mself\u001b[39m):\n\u001b[1;32m----> 3\u001b[0m     kendim\u001b[39m.\u001b[39mname \u001b[39m=\u001b[39m \u001b[39m\"\u001b[39m\u001b[39mNo name\u001b[39m\u001b[39m\"\u001b[39m\n\u001b[0;32m      4\u001b[0m     kendim\u001b[39m.\u001b[39msurname \u001b[39m=\u001b[39m \u001b[39m\"\u001b[39m\u001b[39mNo Surname\u001b[39m\u001b[39m\"\u001b[39m\n\u001b[0;32m      5\u001b[0m     kendim\u001b[39m.\u001b[39mage \u001b[39m=\u001b[39m \u001b[39m\"\u001b[39m\u001b[39mNo age\u001b[39m\u001b[39m\"\u001b[39m\n",
      "\u001b[1;31mNameError\u001b[0m: name 'kendim' is not defined"
     ]
    }
   ],
   "source": [
    "p100 = Person()"
   ]
  },
  {
   "cell_type": "code",
   "execution_count": 45,
   "metadata": {},
   "outputs": [],
   "source": [
    "class Person:\n",
    "    def __init__(kendim):\n",
    "        kendim.name = \"No name\"\n",
    "        kendim.surname = \"No Surname\"\n",
    "        kendim.age = \"No age\"\n",
    "        kendim.job = \"No job\""
   ]
  },
  {
   "cell_type": "code",
   "execution_count": 46,
   "metadata": {},
   "outputs": [],
   "source": [
    "p100 = Person()"
   ]
  },
  {
   "cell_type": "code",
   "execution_count": 47,
   "metadata": {},
   "outputs": [],
   "source": [
    "class Person:\n",
    "    def __init__(self):\n",
    "        self.name = \"No name\"\n",
    "        self.surname = \"No Surname\"\n",
    "        self.age = \"No age\"\n",
    "        self.job = \"No job\""
   ]
  },
  {
   "cell_type": "code",
   "execution_count": 48,
   "metadata": {},
   "outputs": [
    {
     "name": "stdout",
     "output_type": "stream",
     "text": [
      "No name\n",
      "Ahmet\n"
     ]
    }
   ],
   "source": [
    "p1 = Person()\n",
    "print(p1.name)\n",
    "p1.name = \"Ahmet\"\n",
    "print(p1.name)"
   ]
  },
  {
   "cell_type": "code",
   "execution_count": 49,
   "metadata": {},
   "outputs": [],
   "source": [
    "class Person:\n",
    "    def __init__(self,name,surname,age,job):\n",
    "        self.name = name\n",
    "        self.surname = surname\n",
    "        self.age = age\n",
    "        self.job = job"
   ]
  },
  {
   "cell_type": "code",
   "execution_count": 50,
   "metadata": {},
   "outputs": [
    {
     "data": {
      "text/plain": [
       "4"
      ]
     },
     "execution_count": 50,
     "metadata": {},
     "output_type": "execute_result"
    }
   ],
   "source": [
    "def topla(x,y):\n",
    "    return x+y\n",
    "topla(2,2)"
   ]
  },
  {
   "cell_type": "code",
   "execution_count": 52,
   "metadata": {},
   "outputs": [
    {
     "ename": "TypeError",
     "evalue": "Person.__init__() missing 4 required positional arguments: 'name', 'surname', 'age', and 'job'",
     "output_type": "error",
     "traceback": [
      "\u001b[1;31m---------------------------------------------------------------------------\u001b[0m",
      "\u001b[1;31mTypeError\u001b[0m                                 Traceback (most recent call last)",
      "Cell \u001b[1;32mIn[52], line 1\u001b[0m\n\u001b[1;32m----> 1\u001b[0m p1 \u001b[39m=\u001b[39m Person()\n",
      "\u001b[1;31mTypeError\u001b[0m: Person.__init__() missing 4 required positional arguments: 'name', 'surname', 'age', and 'job'"
     ]
    }
   ],
   "source": [
    "p1 = Person()"
   ]
  },
  {
   "cell_type": "code",
   "execution_count": 53,
   "metadata": {},
   "outputs": [],
   "source": [
    "p1 = Person(\"Ali\",\"Veli\",30,\"IT\")"
   ]
  },
  {
   "cell_type": "code",
   "execution_count": 54,
   "metadata": {},
   "outputs": [
    {
     "name": "stdout",
     "output_type": "stream",
     "text": [
      "Ali\n",
      "Veli\n",
      "30\n",
      "IT\n"
     ]
    }
   ],
   "source": [
    "print(p1.name)\n",
    "print(p1.surname)\n",
    "print(p1.age)\n",
    "print(p1.job)\n"
   ]
  },
  {
   "cell_type": "code",
   "execution_count": 55,
   "metadata": {},
   "outputs": [
    {
     "name": "stdout",
     "output_type": "stream",
     "text": [
      "<class 'str'>\n",
      "<class 'int'>\n"
     ]
    }
   ],
   "source": [
    "print(type(p1.surname))\n",
    "print(type(p1.age))"
   ]
  },
  {
   "cell_type": "code",
   "execution_count": 56,
   "metadata": {},
   "outputs": [],
   "source": [
    "p2 = Person(10,20,\"Serdar\",100)"
   ]
  },
  {
   "cell_type": "code",
   "execution_count": 57,
   "metadata": {},
   "outputs": [
    {
     "name": "stdout",
     "output_type": "stream",
     "text": [
      "10\n",
      "20\n",
      "Serdar\n",
      "100\n"
     ]
    }
   ],
   "source": [
    "print(p2.name)\n",
    "print(p2.surname)\n",
    "print(p2.age)\n",
    "print(p2.job)"
   ]
  },
  {
   "cell_type": "code",
   "execution_count": null,
   "metadata": {},
   "outputs": [],
   "source": [
    "def bolme(bolunen, bolen):\n",
    "    return bolunen / bolen\n",
    "def bolme2(a/b):\n",
    "    return a / b"
   ]
  },
  {
   "cell_type": "code",
   "execution_count": 58,
   "metadata": {},
   "outputs": [],
   "source": [
    "class Person:\n",
    "    def __init__(self,a,b,c,d):\n",
    "        self.name = a\n",
    "        self.surname = b\n",
    "        self.age = c\n",
    "        self.job = d"
   ]
  },
  {
   "cell_type": "code",
   "execution_count": 59,
   "metadata": {},
   "outputs": [],
   "source": [
    "p3 = Person(\"Ali\",\"Veli\",30,[\"Yazilimci\",\"Pazarlamaci\",\"Teacher\"])"
   ]
  },
  {
   "cell_type": "code",
   "execution_count": 60,
   "metadata": {},
   "outputs": [
    {
     "data": {
      "text/plain": [
       "['Yazilimci', 'Pazarlamaci', 'Teacher']"
      ]
     },
     "execution_count": 60,
     "metadata": {},
     "output_type": "execute_result"
    }
   ],
   "source": [
    "p3.job"
   ]
  },
  {
   "cell_type": "code",
   "execution_count": 61,
   "metadata": {},
   "outputs": [],
   "source": [
    "# class Person:\n",
    "  #   def __init__(self, name: str, age: int):\n",
    "    #     self.name = str(name)\n",
    "      #  self.age = age\n",
    "# bu şekilde yapabilirsiniz "
   ]
  },
  {
   "cell_type": "code",
   "execution_count": 64,
   "metadata": {},
   "outputs": [],
   "source": [
    "class Person:\n",
    "    def __init__(self,name,surname,age,job):\n",
    "        self.name = str(name)\n",
    "        self.surname = str(surname)\n",
    "        self.age = int(age)\n",
    "        self.job = str(job)\n",
    "    def fullname(self):\n",
    "        return f\"isim: {self.name} soyisim: {self.surname}\""
   ]
  },
  {
   "cell_type": "code",
   "execution_count": 67,
   "metadata": {},
   "outputs": [
    {
     "name": "stdout",
     "output_type": "stream",
     "text": [
      "isim: Ali soyisim: Veli\n"
     ]
    }
   ],
   "source": [
    "p1 = Person(\"Ali\",\"Veli\",\"30\",\"Ogretmen\")\n",
    "print(p1.fullname())"
   ]
  },
  {
   "cell_type": "code",
   "execution_count": 69,
   "metadata": {},
   "outputs": [],
   "source": [
    "class Person:\n",
    "    def __init__(self,name,surname,age,job):\n",
    "        self.name = str(name)\n",
    "        self.surname = str(surname)\n",
    "        self.age = int(age)\n",
    "        self.job = str(job)\n",
    "    def fullname(self):\n",
    "        return f\"isim: {self.name} soyisim: {self.surname}\"\n",
    "    def info(self):\n",
    "        return f\"name: {self.name} surname: {self.surname} age: {self.age}\""
   ]
  },
  {
   "cell_type": "code",
   "execution_count": 70,
   "metadata": {},
   "outputs": [
    {
     "name": "stdout",
     "output_type": "stream",
     "text": [
      "isim: Ali soyisim: Veli\n"
     ]
    }
   ],
   "source": [
    "p1 = Person(\"Ali\",\"Veli\",\"30\",\"Ogretmen\")\n",
    "print(p1.fullname())"
   ]
  },
  {
   "cell_type": "code",
   "execution_count": 71,
   "metadata": {},
   "outputs": [
    {
     "name": "stdout",
     "output_type": "stream",
     "text": [
      "name: Ali surname: Veli age: 30\n"
     ]
    }
   ],
   "source": [
    "print(p1.info())"
   ]
  },
  {
   "cell_type": "code",
   "execution_count": 91,
   "metadata": {},
   "outputs": [],
   "source": [
    "class Employee:\n",
    "    \"\"\"Employee Class: name,surname,pay\"\"\"\n",
    "    raise_amount = 1.2 # class attribute\n",
    "    def __init__(self,name,surname,pay):\n",
    "        self.name = name # instance attribute\n",
    "        self.surname = surname\n",
    "        self.pay = pay\n",
    "    def fullname(self): \n",
    "        print(self.name,self.surname)\n",
    "    def pay_raise(self): # instance method\n",
    "        self.pay = int(self.pay * self.raise_amount)\n",
    "        return self.pay\n",
    "\n"
   ]
  },
  {
   "cell_type": "code",
   "execution_count": 92,
   "metadata": {},
   "outputs": [],
   "source": [
    "e1 = Employee(\"Ahmet\", \"Yilmaz\",5000)\n",
    "e2 = Employee(\"mehmet\",\"erdemir\",5000)"
   ]
  },
  {
   "cell_type": "code",
   "execution_count": 74,
   "metadata": {},
   "outputs": [
    {
     "data": {
      "text/plain": [
       "{'name': 'Ahmet', 'surname': 'Yilmaz', 'pay': 5000}"
      ]
     },
     "execution_count": 74,
     "metadata": {},
     "output_type": "execute_result"
    }
   ],
   "source": [
    "e1.__dict__"
   ]
  },
  {
   "cell_type": "code",
   "execution_count": 75,
   "metadata": {},
   "outputs": [
    {
     "data": {
      "text/plain": [
       "{'name': 'mehmet', 'surname': 'erdemir', 'pay': 5000}"
      ]
     },
     "execution_count": 75,
     "metadata": {},
     "output_type": "execute_result"
    }
   ],
   "source": [
    "e2.__dict__"
   ]
  },
  {
   "cell_type": "code",
   "execution_count": 77,
   "metadata": {},
   "outputs": [
    {
     "name": "stdout",
     "output_type": "stream",
     "text": [
      "Ahmet Yilmaz\n"
     ]
    }
   ],
   "source": [
    "e1.fullname()"
   ]
  },
  {
   "cell_type": "code",
   "execution_count": 93,
   "metadata": {},
   "outputs": [
    {
     "data": {
      "text/plain": [
       "6000"
      ]
     },
     "execution_count": 93,
     "metadata": {},
     "output_type": "execute_result"
    }
   ],
   "source": [
    "e1.pay_raise()"
   ]
  },
  {
   "cell_type": "code",
   "execution_count": 84,
   "metadata": {},
   "outputs": [
    {
     "data": {
      "text/plain": [
       "1.2"
      ]
     },
     "execution_count": 84,
     "metadata": {},
     "output_type": "execute_result"
    }
   ],
   "source": [
    "Employee.raise_amount "
   ]
  },
  {
   "cell_type": "code",
   "execution_count": 86,
   "metadata": {},
   "outputs": [
    {
     "ename": "TypeError",
     "evalue": "Employee.fullname() missing 1 required positional argument: 'self'",
     "output_type": "error",
     "traceback": [
      "\u001b[1;31m---------------------------------------------------------------------------\u001b[0m",
      "\u001b[1;31mTypeError\u001b[0m                                 Traceback (most recent call last)",
      "Cell \u001b[1;32mIn[86], line 1\u001b[0m\n\u001b[1;32m----> 1\u001b[0m Employee\u001b[39m.\u001b[39;49mfullname() \u001b[39m# fullname belongs to instance, or self, or e1, but raise_amount is an \u001b[39;00m\n\u001b[0;32m      2\u001b[0m \u001b[39m# attribute of employee itself\u001b[39;00m\n",
      "\u001b[1;31mTypeError\u001b[0m: Employee.fullname() missing 1 required positional argument: 'self'"
     ]
    }
   ],
   "source": [
    "Employee.fullname() # fullname belongs to instance, or self, or e1, but raise_amount is an \n",
    "# attribute of employee itself"
   ]
  },
  {
   "cell_type": "code",
   "execution_count": 85,
   "metadata": {},
   "outputs": [
    {
     "name": "stdout",
     "output_type": "stream",
     "text": [
      "Ahmet Yilmaz\n"
     ]
    }
   ],
   "source": [
    "Employee.fullname(e1) # yaygin olmayan bir kullanim"
   ]
  },
  {
   "cell_type": "code",
   "execution_count": 87,
   "metadata": {},
   "outputs": [
    {
     "data": {
      "text/plain": [
       "1.2"
      ]
     },
     "execution_count": 87,
     "metadata": {},
     "output_type": "execute_result"
    }
   ],
   "source": [
    "e1.raise_amount"
   ]
  },
  {
   "cell_type": "code",
   "execution_count": 88,
   "metadata": {},
   "outputs": [
    {
     "data": {
      "text/plain": [
       "{'name': 'Ahmet', 'surname': 'Yilmaz', 'pay': 5000}"
      ]
     },
     "execution_count": 88,
     "metadata": {},
     "output_type": "execute_result"
    }
   ],
   "source": [
    "e1.__dict__"
   ]
  },
  {
   "cell_type": "code",
   "execution_count": 95,
   "metadata": {},
   "outputs": [
    {
     "data": {
      "text/plain": [
       "6000"
      ]
     },
     "execution_count": 95,
     "metadata": {},
     "output_type": "execute_result"
    }
   ],
   "source": [
    "e2.pay_raise()"
   ]
  },
  {
   "cell_type": "code",
   "execution_count": 101,
   "metadata": {},
   "outputs": [],
   "source": [
    "e2 = Employee(\"Mehmet\",\"Demir\",5000)"
   ]
  },
  {
   "cell_type": "code",
   "execution_count": 104,
   "metadata": {},
   "outputs": [],
   "source": [
    "e3 = Employee(\"veli\",\"Erdemir\",5000)"
   ]
  },
  {
   "cell_type": "code",
   "execution_count": 105,
   "metadata": {},
   "outputs": [
    {
     "data": {
      "text/plain": [
       "5000"
      ]
     },
     "execution_count": 105,
     "metadata": {},
     "output_type": "execute_result"
    }
   ],
   "source": [
    "e3.pay"
   ]
  },
  {
   "cell_type": "code",
   "execution_count": 106,
   "metadata": {},
   "outputs": [
    {
     "data": {
      "text/plain": [
       "{'name': 'veli', 'surname': 'Erdemir', 'pay': 5000}"
      ]
     },
     "execution_count": 106,
     "metadata": {},
     "output_type": "execute_result"
    }
   ],
   "source": [
    "e3.__dict__"
   ]
  },
  {
   "cell_type": "code",
   "execution_count": 107,
   "metadata": {},
   "outputs": [
    {
     "data": {
      "text/plain": [
       "{'name': 'Ahmet', 'surname': 'Yilmaz', 'pay': 6000}"
      ]
     },
     "execution_count": 107,
     "metadata": {},
     "output_type": "execute_result"
    }
   ],
   "source": [
    "e1.__dict__"
   ]
  },
  {
   "cell_type": "code",
   "execution_count": 108,
   "metadata": {},
   "outputs": [
    {
     "data": {
      "text/plain": [
       "{'name': 'Mehmet', 'surname': 'Demir', 'pay': 5000}"
      ]
     },
     "execution_count": 108,
     "metadata": {},
     "output_type": "execute_result"
    }
   ],
   "source": [
    "e2.__dict__"
   ]
  },
  {
   "cell_type": "code",
   "execution_count": 109,
   "metadata": {},
   "outputs": [
    {
     "data": {
      "text/plain": [
       "(6000, 5000, 5000)"
      ]
     },
     "execution_count": 109,
     "metadata": {},
     "output_type": "execute_result"
    }
   ],
   "source": [
    "e1.pay,e2.pay,e3.pay"
   ]
  },
  {
   "cell_type": "code",
   "execution_count": 110,
   "metadata": {},
   "outputs": [],
   "source": [
    "e3.raise_amount = 2"
   ]
  },
  {
   "cell_type": "code",
   "execution_count": 112,
   "metadata": {},
   "outputs": [
    {
     "data": {
      "text/plain": [
       "10000"
      ]
     },
     "execution_count": 112,
     "metadata": {},
     "output_type": "execute_result"
    }
   ],
   "source": [
    "e3.pay_raise()"
   ]
  },
  {
   "cell_type": "code",
   "execution_count": 115,
   "metadata": {},
   "outputs": [
    {
     "data": {
      "text/plain": [
       "{'name': 'veli', 'surname': 'Erdemir', 'pay': 10000, 'raise_amount': 2}"
      ]
     },
     "execution_count": 115,
     "metadata": {},
     "output_type": "execute_result"
    }
   ],
   "source": [
    "e3.__dict__ # here the raise amount is e3's attribute"
   ]
  },
  {
   "cell_type": "code",
   "execution_count": 113,
   "metadata": {},
   "outputs": [
    {
     "data": {
      "text/plain": [
       "{'name': 'Mehmet', 'surname': 'Demir', 'pay': 5000}"
      ]
     },
     "execution_count": 113,
     "metadata": {},
     "output_type": "execute_result"
    }
   ],
   "source": [
    "e2.__dict__"
   ]
  },
  {
   "cell_type": "code",
   "execution_count": 114,
   "metadata": {},
   "outputs": [
    {
     "data": {
      "text/plain": [
       "{'name': 'Ahmet', 'surname': 'Yilmaz', 'pay': 6000}"
      ]
     },
     "execution_count": 114,
     "metadata": {},
     "output_type": "execute_result"
    }
   ],
   "source": [
    "e1.__dict__"
   ]
  },
  {
   "cell_type": "code",
   "execution_count": 116,
   "metadata": {},
   "outputs": [
    {
     "data": {
      "text/plain": [
       "6000"
      ]
     },
     "execution_count": 116,
     "metadata": {},
     "output_type": "execute_result"
    }
   ],
   "source": [
    "e2.pay_raise()"
   ]
  },
  {
   "cell_type": "code",
   "execution_count": 117,
   "metadata": {},
   "outputs": [
    {
     "data": {
      "text/plain": [
       "{'name': 'Mehmet', 'surname': 'Demir', 'pay': 6000}"
      ]
     },
     "execution_count": 117,
     "metadata": {},
     "output_type": "execute_result"
    }
   ],
   "source": [
    "e2.__dict__"
   ]
  },
  {
   "cell_type": "code",
   "execution_count": 118,
   "metadata": {},
   "outputs": [
    {
     "data": {
      "text/plain": [
       "1.2"
      ]
     },
     "execution_count": 118,
     "metadata": {},
     "output_type": "execute_result"
    }
   ],
   "source": [
    "e2.raise_amount"
   ]
  },
  {
   "cell_type": "code",
   "execution_count": 119,
   "metadata": {},
   "outputs": [
    {
     "data": {
      "text/plain": [
       "1.2"
      ]
     },
     "execution_count": 119,
     "metadata": {},
     "output_type": "execute_result"
    }
   ],
   "source": [
    "e1.raise_amount"
   ]
  },
  {
   "cell_type": "code",
   "execution_count": 120,
   "metadata": {},
   "outputs": [
    {
     "data": {
      "text/plain": [
       "2"
      ]
     },
     "execution_count": 120,
     "metadata": {},
     "output_type": "execute_result"
    }
   ],
   "source": [
    "e3.raise_amount"
   ]
  },
  {
   "cell_type": "code",
   "execution_count": 121,
   "metadata": {},
   "outputs": [],
   "source": [
    "class Employee:\n",
    "    \"\"\"Employee Class: name,surname,pay\"\"\"\n",
    "    raise_amount = 1.2 # class attribute\n",
    "    def __init__(self,name,surname,pay):\n",
    "        self.name = name # instance attribute\n",
    "        self.surname = surname\n",
    "        self.pay = pay\n",
    "    def fullname(self): \n",
    "        print(self.name,self.surname)\n",
    "    def pay_raise(self): # instance method\n",
    "        self.pay = int(self.pay * Employee.raise_amount) # now even if we give a raise amount to \n",
    "        # instances like e3, it'll always get the one under the Employee\n",
    "        return self.pay\n"
   ]
  },
  {
   "cell_type": "code",
   "execution_count": 122,
   "metadata": {},
   "outputs": [],
   "source": [
    "class Employee:\n",
    "    \"\"\"Employee Class: name,surname,pay\"\"\"\n",
    "    employee_count = 0\n",
    "    def __init__(self,name,surname,pay):\n",
    "        self.name = name # instance attribute\n",
    "        self.surname = surname\n",
    "        self.pay = pay\n",
    "        Employee.employee_count += 1"
   ]
  },
  {
   "cell_type": "code",
   "execution_count": 123,
   "metadata": {},
   "outputs": [
    {
     "data": {
      "text/plain": [
       "0"
      ]
     },
     "execution_count": 123,
     "metadata": {},
     "output_type": "execute_result"
    }
   ],
   "source": [
    "Employee.employee_count"
   ]
  },
  {
   "cell_type": "code",
   "execution_count": 124,
   "metadata": {},
   "outputs": [
    {
     "data": {
      "text/plain": [
       "1"
      ]
     },
     "execution_count": 124,
     "metadata": {},
     "output_type": "execute_result"
    }
   ],
   "source": [
    "e1 = Employee(\"Ali\",\"Veli\",5000)\n",
    "Employee.employee_count"
   ]
  },
  {
   "cell_type": "code",
   "execution_count": 125,
   "metadata": {},
   "outputs": [
    {
     "data": {
      "text/plain": [
       "2"
      ]
     },
     "execution_count": 125,
     "metadata": {},
     "output_type": "execute_result"
    }
   ],
   "source": [
    "e2 = Employee(\"Niyazi\",\"Demir\",5000)\n",
    "Employee.employee_count"
   ]
  },
  {
   "cell_type": "code",
   "execution_count": 127,
   "metadata": {},
   "outputs": [
    {
     "data": {
      "text/plain": [
       "4"
      ]
     },
     "execution_count": 127,
     "metadata": {},
     "output_type": "execute_result"
    }
   ],
   "source": [
    "Erdi = Employee(\"Erdi\",\"Kahraman\",5000)\n",
    "Employee.employee_count"
   ]
  },
  {
   "cell_type": "markdown",
   "metadata": {},
   "source": [
    "### Class Method & Instance Method"
   ]
  },
  {
   "cell_type": "code",
   "execution_count": 128,
   "metadata": {},
   "outputs": [],
   "source": [
    "class Person:\n",
    "\n",
    "    def __init__(self,name,surname,age):\n",
    "        self.name = name # instance attribute\n",
    "        self.surname = surname\n",
    "        self.age = age\n",
    "    def fullname(self): \n",
    "        print(self.name,self.surname)\n",
    "    def info(self):\n",
    "        return f\"name: {self.name} surname: {self.surname} age: {self.age}\""
   ]
  },
  {
   "cell_type": "code",
   "execution_count": 129,
   "metadata": {},
   "outputs": [],
   "source": [
    "p1 = Person(\"Ahmet\",\"Yilmaz\",18)"
   ]
  },
  {
   "cell_type": "code",
   "execution_count": 130,
   "metadata": {},
   "outputs": [
    {
     "data": {
      "text/plain": [
       "'name: Ahmet surname: Yilmaz age: 18'"
      ]
     },
     "execution_count": 130,
     "metadata": {},
     "output_type": "execute_result"
    }
   ],
   "source": [
    "p1.info()"
   ]
  },
  {
   "cell_type": "code",
   "execution_count": 131,
   "metadata": {},
   "outputs": [
    {
     "ename": "TypeError",
     "evalue": "Person.info() missing 1 required positional argument: 'self'",
     "output_type": "error",
     "traceback": [
      "\u001b[1;31m---------------------------------------------------------------------------\u001b[0m",
      "\u001b[1;31mTypeError\u001b[0m                                 Traceback (most recent call last)",
      "Cell \u001b[1;32mIn[131], line 1\u001b[0m\n\u001b[1;32m----> 1\u001b[0m Person\u001b[39m.\u001b[39;49minfo()\n",
      "\u001b[1;31mTypeError\u001b[0m: Person.info() missing 1 required positional argument: 'self'"
     ]
    }
   ],
   "source": [
    "Person.info()"
   ]
  },
  {
   "cell_type": "code",
   "execution_count": 132,
   "metadata": {},
   "outputs": [],
   "source": [
    "# class method tanımlayalım\n",
    "class Person:\n",
    "        employee_count = 0 # class attribute\n",
    "        \n",
    "        def __init__(self, name, surname, age):\n",
    "            self.name = name\n",
    "            self.surname = surname\n",
    "            self.age = age\n",
    "            Person.employee_count += 1 # class variable, instance oluşturulduğunda artacak, # self kullanmadık. Çünkü class variable\n",
    "            \n",
    "        def fullname(self): # instance method\n",
    "            return f\"{self.name} {self.surname}\"\n",
    "        \n",
    "        def info(self): # instance method\n",
    "            return f\"name: {self.name} surname: {self.surname} nage: {self.age}\"\n",
    "        \n",
    "        \n",
    "        \n",
    "        @classmethod # class method\n",
    "        def number_of_employee(cls):\n",
    "            return f\"Number of employee: {cls.employee_count}\""
   ]
  },
  {
   "cell_type": "code",
   "execution_count": 133,
   "metadata": {},
   "outputs": [
    {
     "name": "stdout",
     "output_type": "stream",
     "text": [
      "Encapsulation (Kapsülleme): Sınıf içindeki değişkenlerin ve fonksiyonların sınıfın dışındaki etkilere karşı korunması anlamına gelir.\n",
      "Inheritance (Kalıtım): Bir sınıfın özelliklerinin ve davranışlarının başka bir sınıfa aktarılması anlamına gelir. Böylece kod tekrarından kaçınılır ve kodun yeniden kullanılabilirliği artar.\n",
      "Polymorphism (Çok biçimlilik): Aynı isimli metodların, farklı sınıflarda farklı şekillerde tanımlanabilmesi anlamına gelir. Bu sayede farklı nesneler aynı işlevi farklı şekillerde yerine getirebilir.\n",
      "Abstraction (Soyutlama): Karmaşık bir sistem veya nesne hakkında sadece gerekli olan bilginin kullanıcılara sunulması anlamına gelir. Bu sayede kullanıcıların gereksiz detaylarla uğraşması engellenir ve daha anlaşılır bir arayüz sağlanır.\n"
     ]
    }
   ],
   "source": [
    "print(\"\"\"Encapsulation (Kapsülleme): Sınıf içindeki değişkenlerin ve fonksiyonların sınıfın dışındaki etkilere karşı korunması anlamına gelir.\n",
    "Inheritance (Kalıtım): Bir sınıfın özelliklerinin ve davranışlarının başka bir sınıfa aktarılması anlamına gelir. Böylece kod tekrarından kaçınılır ve kodun yeniden kullanılabilirliği artar.\n",
    "Polymorphism (Çok biçimlilik): Aynı isimli metodların, farklı sınıflarda farklı şekillerde tanımlanabilmesi anlamına gelir. Bu sayede farklı nesneler aynı işlevi farklı şekillerde yerine getirebilir.\n",
    "Abstraction (Soyutlama): Karmaşık bir sistem veya nesne hakkında sadece gerekli olan bilginin kullanıcılara sunulması anlamına gelir. Bu sayede kullanıcıların gereksiz detaylarla uğraşması engellenir ve daha anlaşılır bir arayüz sağlanır.\"\"\")"
   ]
  },
  {
   "cell_type": "code",
   "execution_count": null,
   "metadata": {},
   "outputs": [],
   "source": []
  },
  {
   "cell_type": "code",
   "execution_count": 134,
   "metadata": {},
   "outputs": [],
   "source": [
    "p1 = Person(\"Ahmet\",\"Yilmaz\",18)\n",
    "p2 = Person(\"Ayse\",\"Sahin\",30)"
   ]
  },
  {
   "cell_type": "code",
   "execution_count": 135,
   "metadata": {},
   "outputs": [
    {
     "data": {
      "text/plain": [
       "'Number of employee: 2'"
      ]
     },
     "execution_count": 135,
     "metadata": {},
     "output_type": "execute_result"
    }
   ],
   "source": [
    "Person.number_of_employee()"
   ]
  },
  {
   "cell_type": "code",
   "execution_count": 136,
   "metadata": {},
   "outputs": [],
   "source": [
    "# to make it zero, rerun the code\n",
    "# class method tanımlayalım\n",
    "class Person:\n",
    "        employee_count = 0 # class attribute\n",
    "        \n",
    "        def __init__(self, name, surname, age):\n",
    "            self.name = name\n",
    "            self.surname = surname\n",
    "            self.age = age\n",
    "            Person.employee_count += 1 # class variable, instance oluşturulduğunda artacak, # self kullanmadık. Çünkü class variable\n",
    "            \n",
    "        def fullname(self): # instance method\n",
    "            return f\"{self.name} {self.surname}\"\n",
    "        \n",
    "        def info(self): # instance method\n",
    "            return f\"name: {self.name} surname: {self.surname} nage: {self.age}\"\n",
    "        \n",
    "        \n",
    "        \n",
    "        @classmethod # class method\n",
    "        def number_of_employee(cls):\n",
    "            return f\"Number of employee: {cls.employee_count}\""
   ]
  },
  {
   "cell_type": "code",
   "execution_count": 137,
   "metadata": {},
   "outputs": [
    {
     "data": {
      "text/plain": [
       "'Number of employee: 0'"
      ]
     },
     "execution_count": 137,
     "metadata": {},
     "output_type": "execute_result"
    }
   ],
   "source": [
    "Person.number_of_employee()"
   ]
  },
  {
   "cell_type": "code",
   "execution_count": 138,
   "metadata": {},
   "outputs": [],
   "source": [
    "# şimdi bunu class method tanımlayalım\n",
    "class Person:\n",
    "        employee_count = 0 # class attribute\n",
    "        def __init__(self, name, surname, age):\n",
    "            self.name = name\n",
    "            self.surname = surname\n",
    "            self.age = age\n",
    "        @classmethod # class method\n",
    "        def from_string(cls, string):\n",
    "            name, surname, age = string.split(\"-\")\n",
    "            return cls(name, surname, age)"
   ]
  },
  {
   "cell_type": "code",
   "execution_count": 139,
   "metadata": {},
   "outputs": [],
   "source": [
    "p1 = Person.from_string(\"Ahmet - Yilmaz - 25\")"
   ]
  },
  {
   "cell_type": "code",
   "execution_count": 140,
   "metadata": {},
   "outputs": [
    {
     "data": {
      "text/plain": [
       "'Ahmet '"
      ]
     },
     "execution_count": 140,
     "metadata": {},
     "output_type": "execute_result"
    }
   ],
   "source": [
    "p1.name"
   ]
  },
  {
   "cell_type": "code",
   "execution_count": 141,
   "metadata": {},
   "outputs": [],
   "source": [
    "p1 = Person(\"Ahmet\", \"yilmaz\",25)"
   ]
  },
  {
   "cell_type": "code",
   "execution_count": 142,
   "metadata": {},
   "outputs": [
    {
     "data": {
      "text/plain": [
       "{'name': 'Ahmet', 'surname': 'yilmaz', 'age': 25}"
      ]
     },
     "execution_count": 142,
     "metadata": {},
     "output_type": "execute_result"
    }
   ],
   "source": [
    "p1.__dict__"
   ]
  },
  {
   "cell_type": "code",
   "execution_count": null,
   "metadata": {},
   "outputs": [],
   "source": []
  }
 ],
 "metadata": {
  "kernelspec": {
   "display_name": "Python 3",
   "language": "python",
   "name": "python3"
  },
  "language_info": {
   "codemirror_mode": {
    "name": "ipython",
    "version": 3
   },
   "file_extension": ".py",
   "mimetype": "text/x-python",
   "name": "python",
   "nbconvert_exporter": "python",
   "pygments_lexer": "ipython3",
   "version": "3.11.1"
  },
  "orig_nbformat": 4
 },
 "nbformat": 4,
 "nbformat_minor": 2
}
