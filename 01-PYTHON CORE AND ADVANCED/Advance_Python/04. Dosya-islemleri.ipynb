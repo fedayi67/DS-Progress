{
 "cells": [
  {
   "cell_type": "code",
   "execution_count": 1,
   "metadata": {},
   "outputs": [
    {
     "name": "stdout",
     "output_type": "stream",
     "text": [
      "c:\\Users\\jawed\\Desktop\\B150\\Advance_Python\n"
     ]
    }
   ],
   "source": [
    "import os\n",
    "print(os.getcwd())"
   ]
  },
  {
   "cell_type": "code",
   "execution_count": 2,
   "metadata": {},
   "outputs": [
    {
     "data": {
      "text/plain": [
       "['.ipynb_checkpoints',\n",
       " '01. list-comprehension.ipynb',\n",
       " '02. Hata-yakalama.ipynb',\n",
       " '03. os-module.ipynb',\n",
       " '04. dosya-islemleri.ipynb',\n",
       " 'Advantage of Python.txt',\n",
       " 'dizin-os',\n",
       " 'dizin2-os',\n",
       " 'test']"
      ]
     },
     "execution_count": 2,
     "metadata": {},
     "output_type": "execute_result"
    }
   ],
   "source": [
    "os.listdir()"
   ]
  },
  {
   "cell_type": "code",
   "execution_count": 7,
   "metadata": {},
   "outputs": [],
   "source": [
    "f = open('Advantage of Python.txt',mode = \"r\")"
   ]
  },
  {
   "cell_type": "code",
   "execution_count": 8,
   "metadata": {},
   "outputs": [
    {
     "name": "stdout",
     "output_type": "stream",
     "text": [
      "Kolay Okunabilirlik ve Sadelik\n",
      "Python, okunmasÄ± ve anlaÅŸÄ±lmasÄ± kolay olan bir dildir. Bu dil, insan diline yakÄ±n bir sÃ¶z dizimine sahiptir ve aÃ§Ä±k bir yapÄ±ya sahiptir. Yani, baÅŸka bir Python programcÄ±sÄ±nÄ±n yazdÄ±ÄŸÄ± kodlarÄ± kolayca anlayabilirsiniz.\n",
      "AyrÄ±ca, Python'un basit ve sade sÃ¶z dizimi, programcÄ±larÄ±n hÄ±zlÄ± bir ÅŸekilde kod yazmalarÄ±nÄ± saÄŸlar. Kodun anlaÅŸÄ±lmasÄ± ve yazÄ±lmasÄ± daha kolay olduÄŸundan, programcÄ±lar daha az zaman harcayarak daha fazla iÅŸ yapabilirler.\n",
      "Ã‡ok YÃ¶nlÃ¼lÃ¼k\n",
      "Python, birÃ§ok farklÄ± alanda kullanÄ±labilen bir dil olarak tanÄ±nÄ±r. Veri bilimi, yapay zeka, makine Ã¶ÄŸrenmesi, web geliÅŸtirme, otomasyon ve daha pek Ã§ok alanda kullanÄ±labilir.\n",
      "Python, Ã§eÅŸitli kÃ¼tÃ¼phaneleri ve modÃ¼lleri ile birlikte gelir. Bu kÃ¼tÃ¼phaneler, birÃ§ok farklÄ± alanda kullanÄ±labilecek araÃ§lar sunar ve Python'u daha da Ã§ok yÃ¶nlÃ¼ bir hale getirir.\n",
      "BÃ¼yÃ¼k Topluluk ve KapsamlÄ± Belgelendirme\n",
      "Python'un en bÃ¼yÃ¼k avantajlarÄ±ndan biri, dÃ¼nya Ã§apÄ±nda bÃ¼yÃ¼k bir topluluÄŸa sahip olmasÄ±dÄ±r. Bu topluluk, Python'u kullanan programcÄ±lara yardÄ±mcÄ± olmak iÃ§in birÃ§ok kaynak sunar. AyrÄ±ca, Python'un kapsamlÄ± bir belgelendirmesi vardÄ±r ve programcÄ±lar, ihtiyaÃ§ duyduklarÄ± herhangi bir konuda bilgi edinmek iÃ§in belgelendirmeyi kullanabilirler.\n",
      "Ãœcretsiz ve AÃ§Ä±k KaynaklÄ±\n",
      "Python, Ã¼cretsiz ve aÃ§Ä±k kaynaklÄ± bir dildir. Bu, programcÄ±larÄ±n Python'u kullanarak projelerine baÅŸlamalarÄ± iÃ§in herhangi bir Ã¼cret Ã¶demelerine gerek olmadÄ±ÄŸÄ± anlamÄ±na gelir. Python, tÃ¼m dÃ¼nyadaki programcÄ±lar tarafÄ±ndan geliÅŸtirilmeye aÃ§Ä±ktÄ±r ve bu da Python topluluÄŸunun bÃ¼yÃ¼mesine ve geliÅŸmesine katkÄ±da bulunur.\n",
      "SonuÃ§\n",
      "Python, kolay okunabilirlik, Ã§ok yÃ¶nlÃ¼lÃ¼k, bÃ¼yÃ¼k topluluk ve kapsamlÄ± belgelendirme, Ã¼cretsiz ve aÃ§Ä±k kaynaklÄ± olma gibi birÃ§ok avantajÄ±yla Ã¶ne Ã§Ä±kar. Bu nedenle, Python son yÄ±llarda birÃ§ok farklÄ± alanda kullanÄ±lan en popÃ¼ler dillerden biri haline gelmiÅŸtir.\n"
     ]
    }
   ],
   "source": [
    "icerik =f.read()\n",
    "print(icerik)"
   ]
  },
  {
   "cell_type": "code",
   "execution_count": 9,
   "metadata": {},
   "outputs": [
    {
     "data": {
      "text/plain": [
       "<function TextIOWrapper.read(size=-1, /)>"
      ]
     },
     "execution_count": 9,
     "metadata": {},
     "output_type": "execute_result"
    }
   ],
   "source": [
    "f.read"
   ]
  },
  {
   "cell_type": "code",
   "execution_count": 10,
   "metadata": {},
   "outputs": [
    {
     "data": {
      "text/plain": [
       "str"
      ]
     },
     "execution_count": 10,
     "metadata": {},
     "output_type": "execute_result"
    }
   ],
   "source": [
    "type(icerik)"
   ]
  },
  {
   "cell_type": "code",
   "execution_count": 11,
   "metadata": {},
   "outputs": [
    {
     "data": {
      "text/plain": [
       "builtin_function_or_method"
      ]
     },
     "execution_count": 11,
     "metadata": {},
     "output_type": "execute_result"
    }
   ],
   "source": [
    "type(f.read)"
   ]
  },
  {
   "cell_type": "code",
   "execution_count": 12,
   "metadata": {},
   "outputs": [
    {
     "data": {
      "text/plain": [
       "str"
      ]
     },
     "execution_count": 12,
     "metadata": {},
     "output_type": "execute_result"
    }
   ],
   "source": [
    "type(f.read())"
   ]
  },
  {
   "cell_type": "code",
   "execution_count": 15,
   "metadata": {},
   "outputs": [
    {
     "name": "stdout",
     "output_type": "stream",
     "text": [
      "Kolay Okunabilirlik ve Sadelik\n",
      "Python, okunmasÄ± ve anlaÅŸÄ±lmasÄ± kolay olan bir dildir. Bu dil, in\n"
     ]
    }
   ],
   "source": [
    "f = open('Advantage of Python.txt',mode = \"r\")\n",
    "print(f.read()[:100])"
   ]
  },
  {
   "cell_type": "code",
   "execution_count": 16,
   "metadata": {},
   "outputs": [],
   "source": [
    "f.close() # actigimiz baglantilari ram tuketmemesi icin isimiz bitince kapatiyoruz"
   ]
  },
  {
   "cell_type": "code",
   "execution_count": 17,
   "metadata": {},
   "outputs": [],
   "source": [
    "# f = open('Advantage of Python.txt',mode = \"r\")\n",
    "# mode = \"r\" dosyayi okuma modunda acar\n",
    "# mode = \"w\" yazmak icin dosya olusturur\n",
    "# mode = \"a\" append\n",
    "# mode = 'r' open for reading (default)\n",
    "# mode = 'w' open for writing, truncating the file first\n",
    "# mode = 'x' create a new file and open it for writing\n",
    "# mode = 'a' open for writing, appending to the end of the file if it exists\n",
    "# mode = 'b' binary mode\n",
    "# mode = 't' text mode (default)\n",
    "# mode = '+' open a disk file for updating (reading and writing)\n",
    "# mode = 'U' universal newline mode (deprecated)\n",
    "# mode = \"r+\"\n",
    "# mode = \"w+\""
   ]
  },
  {
   "cell_type": "code",
   "execution_count": 18,
   "metadata": {},
   "outputs": [],
   "source": [
    "f = open('Advantage of Python.txt',mode = \"r\",encoding = \"utf8\")\n",
    "icerik = f.read()\n"
   ]
  },
  {
   "cell_type": "code",
   "execution_count": 19,
   "metadata": {},
   "outputs": [
    {
     "data": {
      "text/plain": [
       "'Kolay Okunabilirlik ve Sadelik\\nPython, okunması ve anlaşılması kolay olan bir dildir. Bu dil, insan diline yakın bir söz dizimine sahiptir ve açık bir'"
      ]
     },
     "execution_count": 19,
     "metadata": {},
     "output_type": "execute_result"
    }
   ],
   "source": [
    "icerik[:150]"
   ]
  },
  {
   "cell_type": "code",
   "execution_count": 20,
   "metadata": {},
   "outputs": [
    {
     "name": "stdout",
     "output_type": "stream",
     "text": [
      "Kolay Okunabilirlik ve Sadelik\n",
      "Python, okunmasÄ± ve anlaÅÄ±lmasÄ± kolay olan bir dildir. Bu dil, insan diline yakÄ±n bir sÃ¶z dizimine sahiptir ve aÃ§Ä±k bir yapÄ±ya sahiptir. Yani, baÅka bir Python programcÄ±sÄ±nÄ±n yazdÄ±ÄÄ± kodlarÄ± kolayca anlayabilirsiniz.\n",
      "AyrÄ±ca, Python'un basit ve sade sÃ¶z dizimi, programcÄ±larÄ±n hÄ±zlÄ± bir Åekilde kod yazmalarÄ±nÄ± saÄlar. Kodun anlaÅÄ±lmasÄ± ve yazÄ±lmasÄ± daha kolay olduÄundan, programcÄ±lar daha az zaman harcayarak daha fazla iÅ yapabilirler.\n",
      "Ãok YÃ¶nlÃ¼lÃ¼k\n",
      "Python, birÃ§ok farklÄ± alanda kullanÄ±labilen bir dil olarak tanÄ±nÄ±r. Veri bilimi, yapay zeka, makine Ã¶Ärenmesi, web geliÅtirme, otomasyon ve daha pek Ã§ok alanda kullanÄ±labilir.\n",
      "Python, Ã§eÅitli kÃ¼tÃ¼phaneleri ve modÃ¼lleri ile birlikte gelir. Bu kÃ¼tÃ¼phaneler, birÃ§ok farklÄ± alanda kullanÄ±labilecek araÃ§lar sunar ve Python'u daha da Ã§ok yÃ¶nlÃ¼ bir hale getirir.\n",
      "BÃ¼yÃ¼k Topluluk ve KapsamlÄ± Belgelendirme\n",
      "Python'un en bÃ¼yÃ¼k avantajlarÄ±ndan biri, dÃ¼nya Ã§apÄ±nda bÃ¼yÃ¼k bir topluluÄa sahip olmasÄ±dÄ±r. Bu topluluk, Python'u kullanan programcÄ±lara yardÄ±mcÄ± olmak iÃ§in birÃ§ok kaynak sunar. AyrÄ±ca, Python'un kapsamlÄ± bir belgelendirmesi vardÄ±r ve programcÄ±lar, ihtiyaÃ§ duyduklarÄ± herhangi bir konuda bilgi edinmek iÃ§in belgelendirmeyi kullanabilirler.\n",
      "Ãcretsiz ve AÃ§Ä±k KaynaklÄ±\n",
      "Python, Ã¼cretsiz ve aÃ§Ä±k kaynaklÄ± bir dildir. Bu, programcÄ±larÄ±n Python'u kullanarak projelerine baÅlamalarÄ± iÃ§in herhangi bir Ã¼cret Ã¶demelerine gerek olmadÄ±ÄÄ± anlamÄ±na gelir. Python, tÃ¼m dÃ¼nyadaki programcÄ±lar tarafÄ±ndan geliÅtirilmeye aÃ§Ä±ktÄ±r ve bu da Python topluluÄunun bÃ¼yÃ¼mesine ve geliÅmesine katkÄ±da bulunur.\n",
      "SonuÃ§\n",
      "Python, kolay okunabilirlik, Ã§ok yÃ¶nlÃ¼lÃ¼k, bÃ¼yÃ¼k topluluk ve kapsamlÄ± belgelendirme, Ã¼cretsiz ve aÃ§Ä±k kaynaklÄ± olma gibi birÃ§ok avantajÄ±yla Ã¶ne Ã§Ä±kar. Bu nedenle, Python son yÄ±llarda birÃ§ok farklÄ± alanda kullanÄ±lan en popÃ¼ler dillerden biri haline gelmiÅtir.\n"
     ]
    }
   ],
   "source": [
    "f = open('Advantage of Python.txt',mode = \"r\",encoding = \"latin-1\")\n",
    "icerik = f.read()\n",
    "f.close()\n",
    "print(icerik)"
   ]
  },
  {
   "cell_type": "code",
   "execution_count": 21,
   "metadata": {},
   "outputs": [
    {
     "name": "stdout",
     "output_type": "stream",
     "text": [
      "Kolay Okunabilirlik ve Sadelik\n",
      "Python, okunması ve anlaşılması kolay olan bir dildir. Bu dil, insan \n"
     ]
    }
   ],
   "source": [
    "f = open('Advantage of Python.txt',mode = \"r\",encoding = \"utf-8\")\n",
    "icerik = f.read()\n",
    "f.close()\n",
    "print(icerik[:100])"
   ]
  },
  {
   "cell_type": "code",
   "execution_count": 22,
   "metadata": {},
   "outputs": [],
   "source": [
    "# while reading a file, don't forget to check it's size first"
   ]
  },
  {
   "cell_type": "code",
   "execution_count": 23,
   "metadata": {},
   "outputs": [],
   "source": [
    "f = open('Advantage of Python.txt',mode = \"r\",encoding = \"utf-8\")\n",
    "icerik1 = f.read(100)\n",
    "icerik2 = f.read(100)\n",
    "icerik3 = f.read(100)\n",
    "f.close()"
   ]
  },
  {
   "cell_type": "code",
   "execution_count": 24,
   "metadata": {},
   "outputs": [
    {
     "name": "stdout",
     "output_type": "stream",
     "text": [
      "Kolay Okunabilirlik ve Sadelik\n",
      "Python, okunması ve anlaşılması kolay olan bir dildir. Bu dil, insan \n"
     ]
    }
   ],
   "source": [
    "print(icerik1)"
   ]
  },
  {
   "cell_type": "code",
   "execution_count": 25,
   "metadata": {},
   "outputs": [
    {
     "name": "stdout",
     "output_type": "stream",
     "text": [
      "diline yakın bir söz dizimine sahiptir ve açık bir yapıya sahiptir. Yani, başka bir Python programcı\n"
     ]
    }
   ],
   "source": [
    "print(icerik2)"
   ]
  },
  {
   "cell_type": "code",
   "execution_count": 26,
   "metadata": {},
   "outputs": [
    {
     "name": "stdout",
     "output_type": "stream",
     "text": [
      "sının yazdığı kodları kolayca anlayabilirsiniz.\n",
      "Ayrıca, Python'un basit ve sade söz dizimi, programc\n"
     ]
    }
   ],
   "source": [
    "print(icerik3)"
   ]
  },
  {
   "cell_type": "code",
   "execution_count": 27,
   "metadata": {},
   "outputs": [
    {
     "name": "stdout",
     "output_type": "stream",
     "text": [
      "Kolay Okunabilirlik ve Sadelik\n",
      "Python, okunması ve anlaşılması kolay olan bir dildir. Bu dil, insan diline yakın bir söz dizimine sahiptir ve açık bir yapıya sahiptir. Yani, başka bir Python programcısının yazdığı kodları kolayca anlayabilirsiniz.\n",
      "Ayrıca, Python'un basit ve sade söz dizimi, programc\n"
     ]
    }
   ],
   "source": [
    "print(icerik1+icerik2+icerik3)"
   ]
  },
  {
   "cell_type": "code",
   "execution_count": 28,
   "metadata": {},
   "outputs": [
    {
     "data": {
      "text/plain": [
       "300"
      ]
     },
     "execution_count": 28,
     "metadata": {},
     "output_type": "execute_result"
    }
   ],
   "source": [
    "icerik = icerik1+icerik2+icerik3\n",
    "len(icerik)"
   ]
  },
  {
   "cell_type": "code",
   "execution_count": 41,
   "metadata": {},
   "outputs": [
    {
     "name": "stdout",
     "output_type": "stream",
     "text": [
      "Kolay Okun\n"
     ]
    },
    {
     "data": {
      "text/plain": [
       "True"
      ]
     },
     "execution_count": 41,
     "metadata": {},
     "output_type": "execute_result"
    }
   ],
   "source": [
    "with open('Advantage of Python.txt',mode = \"r\",encoding = \"utf-8\") as f:\n",
    "    metin = f.read()\n",
    "print(metin[:10])\n",
    "f.closed"
   ]
  },
  {
   "cell_type": "code",
   "execution_count": 43,
   "metadata": {},
   "outputs": [
    {
     "name": "stdout",
     "output_type": "stream",
     "text": [
      "dosya durumu:  False\n",
      "dosya durumu:  True\n"
     ]
    }
   ],
   "source": [
    "f = open('Advantage of Python.txt',mode = \"r\",encoding = \"utf-8\")\n",
    "icerik1 = f.read(100)\n",
    "icerik2 = f.read(100)\n",
    "icerik3 = f.read(100)\n",
    "print(\"dosya durumu: \",f.closed)\n",
    "f.close()\n",
    "print(\"dosya durumu: \",f.closed)"
   ]
  },
  {
   "cell_type": "code",
   "execution_count": 45,
   "metadata": {},
   "outputs": [
    {
     "name": "stdout",
     "output_type": "stream",
     "text": [
      "['Kolay Okunabilirlik ve Sadelik\\n', 'Python, okunması ve anlaşılması kolay olan bir dildir. Bu dil, insan diline yakın bir söz dizimine sahiptir ve açık bir yapıya sahiptir. Yani, başka bir Python programcısının yazdığı kodları kolayca anlayabilirsiniz.\\n', \"Ayrıca, Python'un basit ve sade söz dizimi, programcıların hızlı bir şekilde kod yazmalarını sağlar. Kodun anlaşılması ve yazılması daha kolay olduğundan, programcılar daha az zaman harcayarak daha fazla iş yapabilirler.\\n\", 'Çok Yönlülük\\n', 'Python, birçok farklı alanda kullanılabilen bir dil olarak tanınır. Veri bilimi, yapay zeka, makine öğrenmesi, web geliştirme, otomasyon ve daha pek çok alanda kullanılabilir.\\n', \"Python, çeşitli kütüphaneleri ve modülleri ile birlikte gelir. Bu kütüphaneler, birçok farklı alanda kullanılabilecek araçlar sunar ve Python'u daha da çok yönlü bir hale getirir.\\n\", 'Büyük Topluluk ve Kapsamlı Belgelendirme\\n', \"Python'un en büyük avantajlarından biri, dünya çapında büyük bir topluluğa sahip olmasıdır. Bu topluluk, Python'u kullanan programcılara yardımcı olmak için birçok kaynak sunar. Ayrıca, Python'un kapsamlı bir belgelendirmesi vardır ve programcılar, ihtiyaç duydukları herhangi bir konuda bilgi edinmek için belgelendirmeyi kullanabilirler.\\n\", 'Ücretsiz ve Açık Kaynaklı\\n', \"Python, ücretsiz ve açık kaynaklı bir dildir. Bu, programcıların Python'u kullanarak projelerine başlamaları için herhangi bir ücret ödemelerine gerek olmadığı anlamına gelir. Python, tüm dünyadaki programcılar tarafından geliştirilmeye açıktır ve bu da Python topluluğunun büyümesine ve gelişmesine katkıda bulunur.\\n\"]\n",
      "\n"
     ]
    },
    {
     "data": {
      "text/plain": [
       "True"
      ]
     },
     "execution_count": 45,
     "metadata": {},
     "output_type": "execute_result"
    }
   ],
   "source": [
    "with open('Advantage of Python.txt',mode = \"r\",encoding = \"utf-8\") as f:\n",
    "    metin = f.readlines()\n",
    "print(metin[:10])\n",
    "print()\n",
    "f.closed"
   ]
  },
  {
   "cell_type": "code",
   "execution_count": 47,
   "metadata": {},
   "outputs": [
    {
     "data": {
      "text/plain": [
       "'Kolay Okunabilirlik ve Sadelik\\n'"
      ]
     },
     "execution_count": 47,
     "metadata": {},
     "output_type": "execute_result"
    }
   ],
   "source": [
    "metin[0] # because we stored as lines"
   ]
  },
  {
   "cell_type": "code",
   "execution_count": 49,
   "metadata": {},
   "outputs": [
    {
     "data": {
      "text/plain": [
       "list"
      ]
     },
     "execution_count": 49,
     "metadata": {},
     "output_type": "execute_result"
    }
   ],
   "source": [
    "type(metin[0:3])"
   ]
  },
  {
   "cell_type": "code",
   "execution_count": 50,
   "metadata": {},
   "outputs": [
    {
     "data": {
      "text/plain": [
       "\"Kolay Okunabilirlik ve Sadelik Python, okunması ve anlaşılması kolay olan bir dildir. Bu dil, insan diline yakın bir söz dizimine sahiptir ve açık bir yapıya sahiptir. Yani, başka bir Python programcısının yazdığı kodları kolayca anlayabilirsiniz. Ayrıca, Python'un basit ve sade söz dizimi, programcıların hızlı bir şekilde kod yazmalarını sağlar. Kodun anlaşılması ve yazılması daha kolay olduğundan, programcılar daha az zaman harcayarak daha fazla iş yapabilirler.\""
      ]
     },
     "execution_count": 50,
     "metadata": {},
     "output_type": "execute_result"
    }
   ],
   "source": [
    "\" \".join(metin[0:3]).replace(\"\\n\",\"\")"
   ]
  },
  {
   "cell_type": "code",
   "execution_count": 51,
   "metadata": {},
   "outputs": [
    {
     "data": {
      "text/plain": [
       "list"
      ]
     },
     "execution_count": 51,
     "metadata": {},
     "output_type": "execute_result"
    }
   ],
   "source": [
    "type(metin[0:3])"
   ]
  },
  {
   "cell_type": "code",
   "execution_count": 53,
   "metadata": {},
   "outputs": [
    {
     "name": "stdout",
     "output_type": "stream",
     "text": [
      "Kolay Okunabilirlik ve Sadelik\n",
      "\n"
     ]
    }
   ],
   "source": [
    "with open('Advantage of Python.txt',mode = \"r\",encoding = \"utf-8\") as f:\n",
    "    for i in f:\n",
    "        print(i)\n",
    "        break"
   ]
  },
  {
   "cell_type": "code",
   "execution_count": 54,
   "metadata": {},
   "outputs": [
    {
     "name": "stdout",
     "output_type": "stream",
     "text": [
      "Kolay Okunabilirlik ve Sadelik\n",
      "\n"
     ]
    }
   ],
   "source": [
    "with open('Advantage of Python.txt',mode = \"r\",encoding = \"utf-8\") as f:\n",
    "    metin = f.readline()\n",
    "\n",
    "print(metin)"
   ]
  },
  {
   "cell_type": "code",
   "execution_count": 55,
   "metadata": {},
   "outputs": [
    {
     "name": "stdout",
     "output_type": "stream",
     "text": [
      "Kolay Okunabilirlik ve Sadelik\n",
      "\n",
      "Python, okunması ve anlaşılması kolay olan bir dildir. Bu dil, insan diline yakın bir söz dizimine sahiptir ve açık bir yapıya sahiptir. Yani, başka bir Python programcısının yazdığı kodları kolayca anlayabilirsiniz.\n",
      "\n",
      "Ayrıca, Python'un basit ve sade söz dizimi, programcıların hızlı bir şekilde kod yazmalarını sağlar. Kodun anlaşılması ve yazılması daha kolay olduğundan, programcılar daha az zaman harcayarak daha fazla iş yapabilirler.\n",
      "\n"
     ]
    }
   ],
   "source": [
    "with open('Advantage of Python.txt',mode = \"r\",encoding = \"utf-8\") as f:\n",
    "    satir = 0\n",
    "    for i in f:\n",
    "        print(i)\n",
    "        satir += 1\n",
    "        if satir ==3:\n",
    "            break"
   ]
  },
  {
   "cell_type": "code",
   "execution_count": 56,
   "metadata": {},
   "outputs": [
    {
     "name": "stdout",
     "output_type": "stream",
     "text": [
      "Kolay Okunabilirlik ve Sadelik\n",
      "\n",
      "Python, okunması ve anlaşılması kolay olan bir dildir. Bu dil, insan diline yakın bir söz dizimine sahiptir ve açık bir yapıya sahiptir. Yani, başka bir Python programcısının yazdığı kodları kolayca anlayabilirsiniz.\n",
      "\n",
      "Ayrıca, Python'un basit ve sade söz dizimi, programcıların hızlı bir şekilde kod yazmalarını sağlar. Kodun anlaşılması ve yazılması daha kolay olduğundan, programcılar daha az zaman harcayarak daha fazla iş yapabilirler.\n",
      "\n"
     ]
    }
   ],
   "source": [
    "with open('Advantage of Python.txt', mode = \"r\", encoding = \"utf-8\") as f:\n",
    "    for i in range(3):\n",
    "        print(f.readline())"
   ]
  },
  {
   "cell_type": "code",
   "execution_count": 57,
   "metadata": {},
   "outputs": [
    {
     "name": "stdout",
     "output_type": "stream",
     "text": [
      "10\n",
      "20\n"
     ]
    }
   ],
   "source": [
    "f = open('Advantage of Python.txt', encoding = \"utf-8\")\n",
    "metin = f.read(10)\n",
    "\n",
    "print(f.tell())\n",
    "\n",
    "metin += f.read(10)\n",
    "\n",
    "print(f.tell())"
   ]
  },
  {
   "cell_type": "markdown",
   "metadata": {},
   "source": [
    "## dosya olusturma ve dosya yazma"
   ]
  },
  {
   "cell_type": "code",
   "execution_count": 59,
   "metadata": {},
   "outputs": [
    {
     "name": "stdout",
     "output_type": "stream",
     "text": [
      "c:\\Users\\jawed\\Desktop\\B150\\Advance_Python\n"
     ]
    }
   ],
   "source": [
    "# mode = \"w\"\n",
    "print(os.getcwd())"
   ]
  },
  {
   "cell_type": "code",
   "execution_count": 60,
   "metadata": {},
   "outputs": [
    {
     "name": "stdout",
     "output_type": "stream",
     "text": [
      "c:\\Users\\jawed\\Desktop\\B150\\Advance_Python\\files\n"
     ]
    }
   ],
   "source": [
    "os.mkdir(\"files\")\n",
    "os.chdir('files')\n",
    "print(os.getcwd())"
   ]
  },
  {
   "cell_type": "code",
   "execution_count": 64,
   "metadata": {},
   "outputs": [],
   "source": [
    "with open(\"test.txt\", mode = \"w\", encoding=\"utf-8\") as f:\n",
    "    f.write(\"Merhaba Dunya\") # creates a text file with the given name, if it finds another\n",
    "    # file with the same name, it'll delete and recreate "
   ]
  },
  {
   "cell_type": "code",
   "execution_count": 65,
   "metadata": {},
   "outputs": [],
   "source": [
    "with open(\"test.txt\", mode = \"w\", encoding=\"utf-8\") as f:\n",
    "    f.write(\"Tum veriler silindi! Dosya yeniden olusturuldu\")"
   ]
  },
  {
   "cell_type": "code",
   "execution_count": 67,
   "metadata": {},
   "outputs": [],
   "source": [
    "with open(\"test.txt\", mode = \"a\", encoding=\"utf-8\") as f:\n",
    "    f.write(\" mode a olarak belirlendi. Dosyanin sonuna bilgiler eklendi.\")\n",
    "# as long as we keep running this code blog it'll keep appending"
   ]
  },
  {
   "cell_type": "code",
   "execution_count": 82,
   "metadata": {},
   "outputs": [],
   "source": [
    "with open(\"test.txt\", mode = \"r+\", encoding=\"utf-8\") as f:\n",
    "    metin = f.read(100)"
   ]
  },
  {
   "cell_type": "code",
   "execution_count": 83,
   "metadata": {},
   "outputs": [
    {
     "data": {
      "text/plain": [
       "'Tum veriler silindi! Dosya yeniden olusturuldumode a olarak belirlendi. Dosyanin sonuna bilgiler ekl'"
      ]
     },
     "execution_count": 83,
     "metadata": {},
     "output_type": "execute_result"
    }
   ],
   "source": [
    "metin"
   ]
  },
  {
   "cell_type": "code",
   "execution_count": null,
   "metadata": {},
   "outputs": [],
   "source": []
  }
 ],
 "metadata": {
  "kernelspec": {
   "display_name": "Python 3",
   "language": "python",
   "name": "python3"
  },
  "language_info": {
   "codemirror_mode": {
    "name": "ipython",
    "version": 3
   },
   "file_extension": ".py",
   "mimetype": "text/x-python",
   "name": "python",
   "nbconvert_exporter": "python",
   "pygments_lexer": "ipython3",
   "version": "3.11.1"
  },
  "orig_nbformat": 4
 },
 "nbformat": 4,
 "nbformat_minor": 2
}
