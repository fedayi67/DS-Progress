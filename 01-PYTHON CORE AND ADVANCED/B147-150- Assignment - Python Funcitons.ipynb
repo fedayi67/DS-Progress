{
 "cells": [
  {
   "cell_type": "markdown",
   "id": "386239ff",
   "metadata": {},
   "source": [
    "___\n",
    "\n",
    "<p style=\"text-align: center;\"><img src=\"https://techproeducation.com/wp-content/uploads/2022/01/Calisma-Yuzeyi-1-kopya-5-1-768x126.png\" class=\"img-fluid\" alt=\"TECHPRO\"></p>\n",
    "\n",
    "___"
   ]
  },
  {
   "cell_type": "markdown",
   "id": "aa93b12c",
   "metadata": {},
   "source": [
    "# Python Functions Assignment"
   ]
  },
  {
   "cell_type": "markdown",
   "id": "57c9c596",
   "metadata": {},
   "source": [
    "## 1. Write a Python function to find the maximum of three numbers."
   ]
  },
  {
   "cell_type": "code",
   "execution_count": 1,
   "id": "9655e704",
   "metadata": {},
   "outputs": [],
   "source": [
    "def maximum_of_three(num1, num2, num3):\n",
    "    return max(num1, num2, num3)"
   ]
  },
  {
   "cell_type": "code",
   "execution_count": 2,
   "id": "e1424bd7",
   "metadata": {},
   "outputs": [
    {
     "data": {
      "text/plain": [
       "5"
      ]
     },
     "execution_count": 2,
     "metadata": {},
     "output_type": "execute_result"
    }
   ],
   "source": [
    "maximum_of_three(5,2,-9)"
   ]
  },
  {
   "cell_type": "markdown",
   "id": "d6d0667d",
   "metadata": {},
   "source": [
    "## 2. Write a Python function to sum all the numbers in a list.\n",
    "\n",
    "## Sample List : (8, 2, 3, 0, 7)\n",
    "\n",
    "## Expected Output : 20"
   ]
  },
  {
   "cell_type": "code",
   "execution_count": 41,
   "id": "28fb6939",
   "metadata": {},
   "outputs": [],
   "source": [
    "def sum_list(numbers):\n",
    "    sum = 0\n",
    "    for i in numbers:\n",
    "        sum += i\n",
    "    return sum"
   ]
  },
  {
   "cell_type": "code",
   "execution_count": 42,
   "id": "9259f50d",
   "metadata": {},
   "outputs": [
    {
     "data": {
      "text/plain": [
       "20"
      ]
     },
     "execution_count": 42,
     "metadata": {},
     "output_type": "execute_result"
    }
   ],
   "source": [
    "sum_list([8,2,3,0,7])"
   ]
  },
  {
   "cell_type": "markdown",
   "id": "8991e3fe",
   "metadata": {},
   "source": [
    "## 3. Write a Python function to multiply all the numbers in a list.\n",
    "## Sample List : (8, 2, 3, -1, 7)\n",
    "## Expected Output : -336\n"
   ]
  },
  {
   "cell_type": "code",
   "execution_count": 5,
   "id": "325e7de4",
   "metadata": {},
   "outputs": [],
   "source": [
    "def multiply_list(numbers):\n",
    "    multiplied = 1\n",
    "    for num in numbers:\n",
    "        multiplied *= num\n",
    "    return multiplied"
   ]
  },
  {
   "cell_type": "code",
   "execution_count": 6,
   "id": "07916622",
   "metadata": {},
   "outputs": [
    {
     "data": {
      "text/plain": [
       "-336"
      ]
     },
     "execution_count": 6,
     "metadata": {},
     "output_type": "execute_result"
    }
   ],
   "source": [
    "multiply_list([8,2,3,-1,7])"
   ]
  },
  {
   "cell_type": "markdown",
   "id": "d0397d6a",
   "metadata": {},
   "source": [
    "## 4. Write a Python program to reverse a string.\n",
    "## Sample String : \"1234abcd\"\n",
    "## Expected Output : \"dcba4321\""
   ]
  },
  {
   "cell_type": "code",
   "execution_count": 7,
   "id": "e6a79379",
   "metadata": {},
   "outputs": [],
   "source": [
    "def reverse_string(string):\n",
    "    return string[::-1]"
   ]
  },
  {
   "cell_type": "code",
   "execution_count": 8,
   "id": "95c48391",
   "metadata": {},
   "outputs": [
    {
     "data": {
      "text/plain": [
       "'dcba4321'"
      ]
     },
     "execution_count": 8,
     "metadata": {},
     "output_type": "execute_result"
    }
   ],
   "source": [
    "reverse_string(\"1234abcd\")"
   ]
  },
  {
   "cell_type": "markdown",
   "id": "c7a633ba",
   "metadata": {},
   "source": [
    "## 5. Write a Python function to calculate the factorial of a number (a non-negative integer). The function accepts the number as an argument."
   ]
  },
  {
   "cell_type": "code",
   "execution_count": 11,
   "id": "29d849d6",
   "metadata": {},
   "outputs": [],
   "source": [
    "def factorial(num):\n",
    "    fact = 1\n",
    "    for i in range(1, num+1):\n",
    "        fact *= i\n",
    "    return fact"
   ]
  },
  {
   "cell_type": "code",
   "execution_count": 12,
   "id": "855b4894",
   "metadata": {},
   "outputs": [
    {
     "data": {
      "text/plain": [
       "120"
      ]
     },
     "execution_count": 12,
     "metadata": {},
     "output_type": "execute_result"
    }
   ],
   "source": [
    "factorial(5)"
   ]
  },
  {
   "cell_type": "markdown",
   "id": "81f0c3d5",
   "metadata": {},
   "source": [
    "## 6. Write a Python function to check whether a number falls within a given range."
   ]
  },
  {
   "cell_type": "code",
   "execution_count": 43,
   "id": "bf393352",
   "metadata": {},
   "outputs": [],
   "source": [
    "# if we want to include both upper and lower bounds\n",
    "def in_range(sayi, lower, upper):\n",
    "    if sayi >= lower and sayi <= upper:\n",
    "        return True\n",
    "    else:\n",
    "        return False"
   ]
  },
  {
   "cell_type": "code",
   "execution_count": 44,
   "id": "f07414f7",
   "metadata": {},
   "outputs": [
    {
     "data": {
      "text/plain": [
       "True"
      ]
     },
     "execution_count": 44,
     "metadata": {},
     "output_type": "execute_result"
    }
   ],
   "source": [
    "in_range(5,2,8)"
   ]
  },
  {
   "cell_type": "code",
   "execution_count": 45,
   "id": "d73c3755",
   "metadata": {},
   "outputs": [
    {
     "data": {
      "text/plain": [
       "True"
      ]
     },
     "execution_count": 45,
     "metadata": {},
     "output_type": "execute_result"
    }
   ],
   "source": [
    "in_range(5,2,5)"
   ]
  },
  {
   "cell_type": "code",
   "execution_count": 17,
   "id": "ba36eec8",
   "metadata": {},
   "outputs": [],
   "source": [
    "# if we want to exclude both upper and lower bounds\n",
    "def in_range2(num, lower, upper):\n",
    "    if num > lower and num < upper:\n",
    "        return True\n",
    "    else:\n",
    "        return False"
   ]
  },
  {
   "cell_type": "code",
   "execution_count": 18,
   "id": "58298602",
   "metadata": {},
   "outputs": [
    {
     "data": {
      "text/plain": [
       "False"
      ]
     },
     "execution_count": 18,
     "metadata": {},
     "output_type": "execute_result"
    }
   ],
   "source": [
    "in_range2(5,2,5)"
   ]
  },
  {
   "cell_type": "code",
   "execution_count": 19,
   "id": "d75b5d5a",
   "metadata": {},
   "outputs": [
    {
     "data": {
      "text/plain": [
       "False"
      ]
     },
     "execution_count": 19,
     "metadata": {},
     "output_type": "execute_result"
    }
   ],
   "source": [
    "in_range2(2,2,5)"
   ]
  },
  {
   "cell_type": "code",
   "execution_count": 21,
   "id": "893ec122",
   "metadata": {},
   "outputs": [],
   "source": [
    "# if we want to include lowerbound but exclude the  upperbound, as it is with the ranges\n",
    "def in_range3(num, lower, upper):\n",
    "    if num >= lower and num <= upper:\n",
    "        return True\n",
    "    else:\n",
    "        return False"
   ]
  },
  {
   "cell_type": "code",
   "execution_count": 22,
   "id": "5fb08723",
   "metadata": {},
   "outputs": [
    {
     "data": {
      "text/plain": [
       "True"
      ]
     },
     "execution_count": 22,
     "metadata": {},
     "output_type": "execute_result"
    }
   ],
   "source": [
    "in_range3(2,2,5)"
   ]
  },
  {
   "cell_type": "code",
   "execution_count": 23,
   "id": "d24eb3ac",
   "metadata": {},
   "outputs": [
    {
     "data": {
      "text/plain": [
       "True"
      ]
     },
     "execution_count": 23,
     "metadata": {},
     "output_type": "execute_result"
    }
   ],
   "source": [
    "in_range3(5,2,5)"
   ]
  },
  {
   "cell_type": "markdown",
   "id": "46d9792b",
   "metadata": {},
   "source": [
    "## 7. Write a Python function that accepts a string and counts the number of upper and lower case letters.\n",
    "## Sample String : 'The quick Brow Fox'\n",
    "## Expected Output :\n",
    "### No. of Upper case characters : 3\n",
    "### No. of Lower case Characters : 12"
   ]
  },
  {
   "cell_type": "code",
   "execution_count": 46,
   "id": "195a965b",
   "metadata": {},
   "outputs": [],
   "source": [
    "def count_upper_lower(string):\n",
    "    upper_count = 0\n",
    "    lower_count = 0\n",
    "    for letter in string:\n",
    "        if letter.isupper():\n",
    "            upper_count += 1\n",
    "        elif letter.islower():\n",
    "            lower_count += 1\n",
    "    print(f\"No. of Upper case characters:{upper_count}\\nNo. of Lower case characters:{lower_count}\") \n",
    "    # burada return yamamiz daha iyi olurda, cunku sonradan cagirabilirdik. ama verildigi ornege benzemesi acisindan print kullanmak zorunda kaldim"
   ]
  },
  {
   "cell_type": "code",
   "execution_count": 47,
   "id": "796fef0d",
   "metadata": {},
   "outputs": [
    {
     "name": "stdout",
     "output_type": "stream",
     "text": [
      "No. of Upper case characters:3\n",
      "No. of Lower case characters:12\n"
     ]
    }
   ],
   "source": [
    "count_upper_lower(\"The quick Brow Fox\")"
   ]
  },
  {
   "cell_type": "markdown",
   "id": "be714b42",
   "metadata": {},
   "source": [
    "## 8. Write a Python function that takes a list and returns a new list with distinct elements from the first list.\n",
    "### Sample List : [1,2,3,3,3,3,4,5]\n",
    "### Unique List : [1, 2, 3, 4, 5]"
   ]
  },
  {
   "cell_type": "code",
   "execution_count": 48,
   "id": "4f2a7f66",
   "metadata": {},
   "outputs": [],
   "source": [
    "def distinct_elements(lst):\n",
    "    distinct_lst = []\n",
    "    for element in lst:\n",
    "        if element not in distinct_lst:\n",
    "            distinct_lst.append(element) # burada return yamamiz daha iyi olurda, cunku sonradan cagirabilirdik. ama verildigi ornege benzemesi acisindan print kullanmak zorunda kaldim\n",
    "    print(f\"Unique List:{distinct_lst}\")"
   ]
  },
  {
   "cell_type": "code",
   "execution_count": 49,
   "id": "de45effe",
   "metadata": {},
   "outputs": [
    {
     "name": "stdout",
     "output_type": "stream",
     "text": [
      "Unique List:[1, 2, 3, 4, 5]\n"
     ]
    }
   ],
   "source": [
    "distinct_elements([1,2,3,3,3,3,4,5])"
   ]
  },
  {
   "cell_type": "markdown",
   "id": "b3400547",
   "metadata": {},
   "source": [
    "## 9. Write a Python function that takes a number as a parameter and checks whether the number is prime or not.\n",
    "### Note : A prime number (or a prime) is a natural number greater than 1 and that has no positive divisors other than 1 and itself."
   ]
  },
  {
   "cell_type": "code",
   "execution_count": 56,
   "id": "0f06c891",
   "metadata": {},
   "outputs": [],
   "source": [
    "## internet yardimiyla"
   ]
  },
  {
   "cell_type": "code",
   "execution_count": 55,
   "id": "9179b32b",
   "metadata": {},
   "outputs": [],
   "source": [
    "def is_prime(n):\n",
    "    # Handle the special cases of 0, 1, and negative numbers ve negatif sayilari dislamamiz lazim\n",
    "    if n <= 1:\n",
    "        return False\n",
    "    \n",
    "    # Check for factors up to the square root of the number\n",
    "    for i in range(2, int(n**0.5) + 1):\n",
    "        if n % i == 0:\n",
    "            return False\n",
    "    \n",
    "    # If no factors are found, the number is prime\n",
    "    return True"
   ]
  },
  {
   "cell_type": "code",
   "execution_count": 57,
   "id": "dd56f42f",
   "metadata": {},
   "outputs": [
    {
     "data": {
      "text/plain": [
       "False"
      ]
     },
     "execution_count": 57,
     "metadata": {},
     "output_type": "execute_result"
    }
   ],
   "source": [
    "is_prime(8)"
   ]
  },
  {
   "cell_type": "markdown",
   "id": "9743a8c3",
   "metadata": {},
   "source": [
    "## 10. Write a Python program to print the even numbers from a given list.\n",
    "### Sample List : [1, 2, 3, 4, 5, 6, 7, 8, 9]\n",
    "### Expected Result : [2, 4, 6, 8]"
   ]
  },
  {
   "cell_type": "code",
   "execution_count": 2,
   "id": "039185d2",
   "metadata": {},
   "outputs": [],
   "source": [
    "def print_even_numbers(lst):\n",
    "    for num in lst:\n",
    "        if num % 2 == 0:\n",
    "            print(num)"
   ]
  },
  {
   "cell_type": "code",
   "execution_count": 4,
   "id": "f93c15e1",
   "metadata": {},
   "outputs": [
    {
     "name": "stdout",
     "output_type": "stream",
     "text": [
      "2\n",
      "4\n",
      "6\n",
      "8\n"
     ]
    }
   ],
   "source": [
    "print_even_numbers([1,2,3,4,5,6,7,8,9])"
   ]
  },
  {
   "cell_type": "markdown",
   "id": "6c80fb99",
   "metadata": {},
   "source": [
    "## 11. Write a Python function to check whether a number is \"Perfect\" or not.\n",
    "### According to Wikipedia : In number theory, a perfect number is a positive integer that is equal to the sum of its proper positive divisors, that is, the sum of its positive divisors excluding the number itself (also known as its aliquot sum). Equivalently, a perfect number is a number that is half the sum of all of its positive divisors (including itself).\n",
    "### Example : The first perfect number is 6, because 1, 2, and 3 are its proper positive divisors, and 1 + 2 + 3 = 6. Equivalently, the number 6 is equal to half the sum of all its positive divisors: ( 1 + 2 + 3 + 6 ) / 2 = 6. The next perfect number is 28 = 1 + 2 + 4 + 7 + 14. This is followed by the perfect numbers 496 and 8128."
   ]
  },
  {
   "cell_type": "code",
   "execution_count": 58,
   "id": "d16be23c",
   "metadata": {},
   "outputs": [],
   "source": [
    "## internet yardimiyla"
   ]
  },
  {
   "cell_type": "code",
   "execution_count": 5,
   "id": "39ffa501",
   "metadata": {},
   "outputs": [],
   "source": [
    "def is_perfect_number(n):\n",
    "    if n == 1:\n",
    "        return False\n",
    "    divisors_sum = 1\n",
    "    for i in range(2, int(n**0.5) + 1):\n",
    "        if n % i == 0:\n",
    "            divisors_sum += i\n",
    "            if i != n // i:\n",
    "                divisors_sum += n // i\n",
    "    \n",
    "    return divisors_sum == n"
   ]
  },
  {
   "cell_type": "code",
   "execution_count": 9,
   "id": "deb6e5e2",
   "metadata": {},
   "outputs": [
    {
     "data": {
      "text/plain": [
       "True"
      ]
     },
     "execution_count": 9,
     "metadata": {},
     "output_type": "execute_result"
    }
   ],
   "source": [
    "is_perfect_number(28)"
   ]
  },
  {
   "cell_type": "code",
   "execution_count": 8,
   "id": "9613b485",
   "metadata": {},
   "outputs": [
    {
     "data": {
      "text/plain": [
       "False"
      ]
     },
     "execution_count": 8,
     "metadata": {},
     "output_type": "execute_result"
    }
   ],
   "source": [
    "is_perfect_number(14)"
   ]
  },
  {
   "cell_type": "markdown",
   "id": "795dc6b0",
   "metadata": {},
   "source": [
    "## 12. Write a Python function that checks whether a passed string is a palindrome or not.\n",
    "### Note: A palindrome is a word, phrase, or sequence that reads the same backward as forward, e.g., madam or nurses run."
   ]
  },
  {
   "cell_type": "code",
   "execution_count": 10,
   "id": "dd3ceb6f",
   "metadata": {},
   "outputs": [],
   "source": [
    "def is_palindrome(string):\n",
    "    string = ''.join(char.lower() for char in string if char.isalnum())\n",
    "    \n",
    "    return string == string[::-1]"
   ]
  },
  {
   "cell_type": "code",
   "execution_count": 11,
   "id": "d6bac88c",
   "metadata": {},
   "outputs": [
    {
     "data": {
      "text/plain": [
       "True"
      ]
     },
     "execution_count": 11,
     "metadata": {},
     "output_type": "execute_result"
    }
   ],
   "source": [
    "is_palindrome(\"kayak\")"
   ]
  },
  {
   "cell_type": "code",
   "execution_count": 12,
   "id": "c6c58f42",
   "metadata": {},
   "outputs": [
    {
     "data": {
      "text/plain": [
       "False"
      ]
     },
     "execution_count": 12,
     "metadata": {},
     "output_type": "execute_result"
    }
   ],
   "source": [
    "is_palindrome(\"merhaba\")"
   ]
  },
  {
   "cell_type": "markdown",
   "id": "1e155158",
   "metadata": {},
   "source": [
    "## 13. Write a Python function that prints out the first n rows of Pascal's triangle.\n",
    "### Note : Pascal's triangle is an arithmetic and geometric figure first imagined by Blaise Pascal.\n",
    "### Sample Pascal's triangle :\n",
    "### Each number is the two numbers above it added together"
   ]
  },
  {
   "cell_type": "code",
   "execution_count": 63,
   "id": "353ffc64",
   "metadata": {},
   "outputs": [],
   "source": [
    "def pascals_triangle(n):\n",
    "    row = [1]\n",
    "    \n",
    "    for i in range(n):\n",
    "        # birinci satiri gorelim\n",
    "        print(row)\n",
    "        \n",
    "        # bir sonraki satiri hesapla\n",
    "        next_row = [1]\n",
    "        for j in range(len(row) - 1):\n",
    "            next_row.append(row[j] + row[j + 1])\n",
    "        next_row.append(1)\n",
    "        \n",
    "        row = next_row"
   ]
  },
  {
   "cell_type": "code",
   "execution_count": 64,
   "id": "6e723863",
   "metadata": {},
   "outputs": [
    {
     "name": "stdout",
     "output_type": "stream",
     "text": [
      "[1]\n",
      "[1, 1]\n",
      "[1, 2, 1]\n",
      "[1, 3, 3, 1]\n",
      "[1, 4, 6, 4, 1]\n",
      "[1, 5, 10, 10, 5, 1]\n",
      "[1, 6, 15, 20, 15, 6, 1]\n",
      "[1, 7, 21, 35, 35, 21, 7, 1]\n"
     ]
    }
   ],
   "source": [
    "pascals_triangle(8)"
   ]
  },
  {
   "cell_type": "markdown",
   "id": "b89febf6",
   "metadata": {},
   "source": [
    "## 14. Write a Python function to check whether a string is a pangram or not.\n",
    "### Note : Pangrams are words or sentences containing every letter of the alphabet at least once.\n",
    "### For example : \"The quick brown fox jumps over the lazy dog\""
   ]
  },
  {
   "cell_type": "code",
   "execution_count": 39,
   "id": "ac77026d",
   "metadata": {},
   "outputs": [],
   "source": [
    "import string\n",
    "\n",
    "def is_pangram(sentence):\n",
    "    # Convert the sentence to lowercase\n",
    "    sentence = sentence.lower()\n",
    "    \n",
    "    # Create a set of all the letters in the alphabet\n",
    "    alphabet = set(string.ascii_lowercase)\n",
    "    \n",
    "    # Check if the sentence contains each letter of the alphabet\n",
    "    return set(sentence) >= alphabet"
   ]
  },
  {
   "cell_type": "code",
   "execution_count": 37,
   "id": "399db24e",
   "metadata": {},
   "outputs": [
    {
     "name": "stdout",
     "output_type": "stream",
     "text": [
      "True\n"
     ]
    }
   ],
   "source": [
    "print(is_pangram(\"The quick brown fox jumps over the lazy dog.\"))\n"
   ]
  },
  {
   "cell_type": "code",
   "execution_count": 38,
   "id": "cbda0cc3",
   "metadata": {},
   "outputs": [
    {
     "name": "stdout",
     "output_type": "stream",
     "text": [
      "False\n"
     ]
    }
   ],
   "source": [
    "print(is_pangram(\"This is not a pangram.\"))"
   ]
  },
  {
   "cell_type": "markdown",
   "id": "d45e3b07",
   "metadata": {},
   "source": [
    "## 15. Write a Python program that accepts a hyphen-separated sequence of words as input and prints the words in a hyphen-separated sequence after sorting them alphabetically.\n",
    "### Sample Items : green-red-yellow-black-white\n",
    "### Expected Result : black-green-red-white-yellow"
   ]
  },
  {
   "cell_type": "code",
   "execution_count": 18,
   "id": "131ce2fd",
   "metadata": {},
   "outputs": [
    {
     "name": "stdout",
     "output_type": "stream",
     "text": [
      "black-green-red-white-yellow\n"
     ]
    }
   ],
   "source": [
    "input_str = input(\"Enter hyphen-separated sequence of words: \")\n",
    "\n",
    "words_list = input_str.split(\"-\")\n",
    "\n",
    "words_list.sort()\n",
    "\n",
    "sorted_str = \"-\".join(words_list)\n",
    "print(sorted_str)"
   ]
  },
  {
   "cell_type": "markdown",
   "id": "12d7472a",
   "metadata": {},
   "source": [
    "## 16. Write a Python function to create and print a list where the values are the squares of numbers between 1 and 30 (both included)."
   ]
  },
  {
   "cell_type": "code",
   "execution_count": 19,
   "id": "76dfd6cd",
   "metadata": {},
   "outputs": [],
   "source": [
    "def square_list():\n",
    "    squares_list = []\n",
    "\n",
    "    for i in range(1, 31):\n",
    "        squares_list.append(i ** 2)\n",
    "\n",
    "    print(squares_list)"
   ]
  },
  {
   "cell_type": "code",
   "execution_count": 20,
   "id": "1aa0a91a",
   "metadata": {},
   "outputs": [
    {
     "name": "stdout",
     "output_type": "stream",
     "text": [
      "[1, 4, 9, 16, 25, 36, 49, 64, 81, 100, 121, 144, 169, 196, 225, 256, 289, 324, 361, 400, 441, 484, 529, 576, 625, 676, 729, 784, 841, 900]\n"
     ]
    }
   ],
   "source": [
    "square_list()"
   ]
  },
  {
   "cell_type": "markdown",
   "id": "5f116f5d",
   "metadata": {},
   "source": [
    "## 17. Write a Python program to create a chain of function decorators (bold, italic, underline etc.).\n"
   ]
  },
  {
   "cell_type": "code",
   "execution_count": 35,
   "id": "8a605261",
   "metadata": {},
   "outputs": [],
   "source": [
    "## internet'ten aldim. Ogrenmeye calisiyorum."
   ]
  },
  {
   "cell_type": "code",
   "execution_count": 33,
   "id": "17ad2f2a",
   "metadata": {},
   "outputs": [
    {
     "name": "stdout",
     "output_type": "stream",
     "text": [
      "<b><i><u>Hello, World!</u></i></b>\n"
     ]
    }
   ],
   "source": [
    "def bold_decorator(func):\n",
    "    def wrapper():\n",
    "        return \"<b>\" + func() + \"</b>\"\n",
    "    return wrapper\n",
    "\n",
    "def italic_decorator(func):\n",
    "    def wrapper():\n",
    "        return \"<i>\" + func() + \"</i>\"\n",
    "    return wrapper\n",
    "\n",
    "def underline_decorator(func):\n",
    "    def wrapper():\n",
    "        return \"<u>\" + func() + \"</u>\"\n",
    "    return wrapper\n",
    "\n",
    "@bold_decorator\n",
    "@italic_decorator\n",
    "@underline_decorator\n",
    "def my_function():\n",
    "    return \"Hello, World!\"\n",
    "\n",
    "# Call the decorated function\n",
    "result = my_function()\n",
    "\n",
    "# Print the result\n",
    "print(result)"
   ]
  },
  {
   "cell_type": "markdown",
   "id": "e44f734a",
   "metadata": {},
   "source": [
    "## 18. Write a Python program to execute a string containing Python code."
   ]
  },
  {
   "cell_type": "code",
   "execution_count": 34,
   "id": "a635119a",
   "metadata": {},
   "outputs": [
    {
     "name": "stdout",
     "output_type": "stream",
     "text": [
      "Hello, World!\n"
     ]
    }
   ],
   "source": [
    "code_str = \"print('Hello, World!')\"\n",
    "\n",
    "exec(code_str)\n",
    "## internet  yardimiyla ama exec funtionini bilmiyordum sadece onu arastirdim"
   ]
  },
  {
   "cell_type": "markdown",
   "id": "323501dc",
   "metadata": {},
   "source": [
    "## 19. Write a Python program to access a function inside a function."
   ]
  },
  {
   "cell_type": "code",
   "execution_count": 24,
   "id": "9272d6d6",
   "metadata": {},
   "outputs": [
    {
     "name": "stdout",
     "output_type": "stream",
     "text": [
      "Here is the Outer function.\n",
      "Here is the Inner function.\n"
     ]
    }
   ],
   "source": [
    "def outer_function():\n",
    "    print(\"Here is the Outer function.\")\n",
    "    \n",
    "    def inner_function():\n",
    "        print(\"Here is the Inner function.\")\n",
    "        \n",
    "    inner_function()\n",
    "\n",
    "outer_function()"
   ]
  },
  {
   "cell_type": "code",
   "execution_count": 25,
   "id": "e8270c1a",
   "metadata": {},
   "outputs": [
    {
     "name": "stdout",
     "output_type": "stream",
     "text": [
      "Here is the Outer function.\n",
      "Here is the Inner function.\n"
     ]
    }
   ],
   "source": [
    "outer_function()"
   ]
  },
  {
   "cell_type": "code",
   "execution_count": 27,
   "id": "21994273",
   "metadata": {},
   "outputs": [
    {
     "ename": "NameError",
     "evalue": "name 'inner_function' is not defined",
     "output_type": "error",
     "traceback": [
      "\u001b[1;31m---------------------------------------------------------------------------\u001b[0m",
      "\u001b[1;31mNameError\u001b[0m                                 Traceback (most recent call last)",
      "Cell \u001b[1;32mIn[27], line 1\u001b[0m\n\u001b[1;32m----> 1\u001b[0m inner_function() \u001b[39m# sadece outer function icinde calisir\u001b[39;00m\n",
      "\u001b[1;31mNameError\u001b[0m: name 'inner_function' is not defined"
     ]
    }
   ],
   "source": [
    "inner_function() # sadece outer function icinde calisir"
   ]
  },
  {
   "cell_type": "markdown",
   "id": "ad42d26f",
   "metadata": {},
   "source": [
    "## 20. Write a Python program to detect the number of local variables declared in a function.\n",
    "### Sample Output:\n",
    "### 3"
   ]
  },
  {
   "cell_type": "code",
   "execution_count": 30,
   "id": "d7fff293",
   "metadata": {},
   "outputs": [
    {
     "name": "stdout",
     "output_type": "stream",
     "text": [
      "Number of local variables: 4\n"
     ]
    }
   ],
   "source": [
    "def my_function():\n",
    "    a = 10\n",
    "    b = \"hello\"\n",
    "    c = [1, 2, 3]\n",
    "    d = {\"key\": \"value\"}\n",
    "    \n",
    "    print(\"Number of local variables:\", len(locals()))\n",
    "\n",
    "my_function()"
   ]
  },
  {
   "cell_type": "markdown",
   "id": "d9df7ef3",
   "metadata": {},
   "source": [
    "## 21. Write a Python program that invokes a function after a specified period of time.\n",
    "### Sample Output:\n",
    "### Square root after specific miliseconds:\n",
    "### 4.0\n",
    "### 10.0\n",
    "### 158.42979517754858 (edited) "
   ]
  },
  {
   "cell_type": "code",
   "execution_count": 32,
   "id": "5750e2dc",
   "metadata": {},
   "outputs": [],
   "source": [
    "# Internet yardimiyla"
   ]
  },
  {
   "cell_type": "code",
   "execution_count": 31,
   "id": "34f77a91",
   "metadata": {},
   "outputs": [
    {
     "name": "stdout",
     "output_type": "stream",
     "text": [
      "Delayed function is executing.\n"
     ]
    }
   ],
   "source": [
    "import time\n",
    "import threading\n",
    "\n",
    "def delayed_function():\n",
    "    print(\"Delayed function is executing.\")\n",
    "\n",
    "timer = threading.Timer(5.0, delayed_function)\n",
    "timer.start()\n",
    "\n",
    "time.sleep(6)\n",
    "\n",
    "timer.cancel()"
   ]
  },
  {
   "cell_type": "markdown",
   "id": "49c0309b",
   "metadata": {},
   "source": [
    "___\n",
    "\n",
    "<p style=\"text-align: center;\"><img src=\"https://techproeducation.com/wp-content/uploads/2022/01/Calisma-Yuzeyi-1-kopya-5-1-768x126.png\" class=\"img-fluid\" alt=\"TECHPRO\"></p>\n",
    "\n",
    "___"
   ]
  }
 ],
 "metadata": {
  "kernelspec": {
   "display_name": "Python 3",
   "language": "python",
   "name": "python3"
  },
  "language_info": {
   "codemirror_mode": {
    "name": "ipython",
    "version": 3
   },
   "file_extension": ".py",
   "mimetype": "text/x-python",
   "name": "python",
   "nbconvert_exporter": "python",
   "pygments_lexer": "ipython3",
   "version": "3.11.1"
  }
 },
 "nbformat": 4,
 "nbformat_minor": 5
}
