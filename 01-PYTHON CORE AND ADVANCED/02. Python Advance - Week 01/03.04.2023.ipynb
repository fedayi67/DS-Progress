{
 "cells": [
  {
   "attachments": {},
   "cell_type": "markdown",
   "metadata": {},
   "source": [
    "### Exception handling (Try, Except)"
   ]
  },
  {
   "cell_type": "code",
   "execution_count": 1,
   "metadata": {},
   "outputs": [
    {
     "ename": "TypeError",
     "evalue": "can only concatenate str (not \"int\") to str",
     "output_type": "error",
     "traceback": [
      "\u001b[1;31m---------------------------------------------------------------------------\u001b[0m",
      "\u001b[1;31mTypeError\u001b[0m                                 Traceback (most recent call last)",
      "Cell \u001b[1;32mIn[1], line 1\u001b[0m\n\u001b[1;32m----> 1\u001b[0m \u001b[39m\"\u001b[39;49m\u001b[39m4\u001b[39;49m\u001b[39m\"\u001b[39;49m \u001b[39m+\u001b[39;49m \u001b[39m5\u001b[39;49m\n",
      "\u001b[1;31mTypeError\u001b[0m: can only concatenate str (not \"int\") to str"
     ]
    }
   ],
   "source": [
    "\"4\" + 5"
   ]
  },
  {
   "cell_type": "code",
   "execution_count": 3,
   "metadata": {},
   "outputs": [
    {
     "name": "stdout",
     "output_type": "stream",
     "text": [
      "hatayi gosterme calismaya devam et\n"
     ]
    }
   ],
   "source": [
    "try:\n",
    "    \"4\" + 5\n",
    "except:\n",
    "    print(\"hatayi gosterme calismaya devam et\")"
   ]
  },
  {
   "cell_type": "code",
   "execution_count": 5,
   "metadata": {},
   "outputs": [
    {
     "name": "stdout",
     "output_type": "stream",
     "text": [
      "16\n"
     ]
    }
   ],
   "source": [
    "try:\n",
    "   print(4**2)\n",
    "except:\n",
    "    print(\"hatali cikmasin nolur\")"
   ]
  },
  {
   "cell_type": "code",
   "execution_count": 6,
   "metadata": {},
   "outputs": [
    {
     "ename": "SyntaxError",
     "evalue": "'return' outside function (3806275795.py, line 2)",
     "output_type": "error",
     "traceback": [
      "\u001b[1;36m  Cell \u001b[1;32mIn[6], line 2\u001b[1;36m\u001b[0m\n\u001b[1;33m    return 4**2\u001b[0m\n\u001b[1;37m    ^\u001b[0m\n\u001b[1;31mSyntaxError\u001b[0m\u001b[1;31m:\u001b[0m 'return' outside function\n"
     ]
    }
   ],
   "source": [
    "try:\n",
    "   return 4**2\n",
    "except:\n",
    "    print(\"hatali cikmasin nolur\")"
   ]
  },
  {
   "cell_type": "code",
   "execution_count": 7,
   "metadata": {},
   "outputs": [
    {
     "name": "stdout",
     "output_type": "stream",
     "text": [
      "16\n"
     ]
    }
   ],
   "source": [
    "try:\n",
    "   print(4**2)\n",
    "except:\n",
    "    print(\"hatali cikmasin nolur\")"
   ]
  },
  {
   "attachments": {},
   "cell_type": "markdown",
   "metadata": {},
   "source": [
    "#### If we don't iddentify the type of error, it solve regardless of type but if we identify an error type it checks only thagt type and if it sees theat type of error inside the code it solves otherwise again gives error"
   ]
  },
  {
   "cell_type": "code",
   "execution_count": 8,
   "metadata": {},
   "outputs": [
    {
     "name": "stdout",
     "output_type": "stream",
     "text": [
      "hatayi gosterme calismaya devam et\n"
     ]
    }
   ],
   "source": [
    "try:\n",
    "    \"4\" + 5\n",
    "except TypeError:\n",
    "    print(\"hatayi gosterme calismaya devam et\")"
   ]
  },
  {
   "cell_type": "code",
   "execution_count": 10,
   "metadata": {},
   "outputs": [
    {
     "ename": "TypeError",
     "evalue": "can only concatenate str (not \"int\") to str",
     "output_type": "error",
     "traceback": [
      "\u001b[1;31m---------------------------------------------------------------------------\u001b[0m",
      "\u001b[1;31mTypeError\u001b[0m                                 Traceback (most recent call last)",
      "Cell \u001b[1;32mIn[10], line 2\u001b[0m\n\u001b[0;32m      1\u001b[0m \u001b[39mtry\u001b[39;00m:\n\u001b[1;32m----> 2\u001b[0m     \u001b[39m\"\u001b[39;49m\u001b[39m4\u001b[39;49m\u001b[39m\"\u001b[39;49m \u001b[39m+\u001b[39;49m \u001b[39m5\u001b[39;49m\n\u001b[0;32m      3\u001b[0m \u001b[39mexcept\u001b[39;00m \u001b[39mNameError\u001b[39;00m: \u001b[39m# since it was a type error, and python doesn't see a\u001b[39;00m\n\u001b[0;32m      4\u001b[0m     \u001b[39m#name error hence it gives a TypeError\u001b[39;00m\n\u001b[0;32m      5\u001b[0m     \u001b[39mprint\u001b[39m(\u001b[39m\"\u001b[39m\u001b[39mhatayi gosterme calismaya devam et\u001b[39m\u001b[39m\"\u001b[39m)\n",
      "\u001b[1;31mTypeError\u001b[0m: can only concatenate str (not \"int\") to str"
     ]
    }
   ],
   "source": [
    "try:\n",
    "    \"4\" + 5\n",
    "except NameError: # since it was a type error, and python doesn't see a\n",
    "    #name error hence it gives a TypeError\n",
    "    print(\"hatayi gosterme calismaya devam et\")"
   ]
  },
  {
   "cell_type": "code",
   "execution_count": 12,
   "metadata": {},
   "outputs": [
    {
     "ename": "ValueError",
     "evalue": "invalid literal for int() with base 10: 'sekiz'",
     "output_type": "error",
     "traceback": [
      "\u001b[1;31m---------------------------------------------------------------------------\u001b[0m",
      "\u001b[1;31mValueError\u001b[0m                                Traceback (most recent call last)",
      "Cell \u001b[1;32mIn[12], line 1\u001b[0m\n\u001b[1;32m----> 1\u001b[0m x \u001b[39m=\u001b[39m \u001b[39mint\u001b[39;49m(\u001b[39minput\u001b[39;49m(\u001b[39m\"\u001b[39;49m\u001b[39mbir sayi girin\u001b[39;49m\u001b[39m\"\u001b[39;49m))\n\u001b[0;32m      2\u001b[0m y \u001b[39m=\u001b[39m \u001b[39mint\u001b[39m(\u001b[39minput\u001b[39m(\u001b[39m\"\u001b[39m\u001b[39mbir sayi girin\u001b[39m\u001b[39m\"\u001b[39m))\n\u001b[0;32m      3\u001b[0m \u001b[39mtry\u001b[39;00m:\n",
      "\u001b[1;31mValueError\u001b[0m: invalid literal for int() with base 10: 'sekiz'"
     ]
    }
   ],
   "source": [
    "x = int(input(\"bir sayi girin\")) # since it sees the error at the beginning\n",
    "y = int(input(\"bir sayi girin\")) # it didn't even try taking another input\n",
    "try: # or didn't even proceed with the code\n",
    "    a = print(x/y)\n",
    "except: \n",
    "    print(\"Bu yaziyi goruyorsaniz bi girdiginiz sayilarda hata var demektir\")"
   ]
  },
  {
   "cell_type": "code",
   "execution_count": 17,
   "metadata": {},
   "outputs": [
    {
     "name": "stdout",
     "output_type": "stream",
     "text": [
      "2.0\n"
     ]
    }
   ],
   "source": [
    "x = input(\"bir sayi girin\")\n",
    "y = input(\"bir sayi girin\") \n",
    "try: \n",
    "    a = print(int(x)/int(y))\n",
    "except: \n",
    "    print(\"Bu yaziyi goruyorsaniz girdiginiz sayilarda hata var demektir\")"
   ]
  },
  {
   "cell_type": "code",
   "execution_count": 16,
   "metadata": {},
   "outputs": [
    {
     "name": "stdout",
     "output_type": "stream",
     "text": [
      "Bu yaziyi goruyorsaniz girdiginiz sayilarda hata var demektir\n"
     ]
    }
   ],
   "source": [
    "x = input(\"bir sayi girin\")\n",
    "y = input(\"bir sayi girin\") \n",
    "try: \n",
    "    a = print(int(x)/int(y))\n",
    "except ValueError: \n",
    "    print(\"Bu yaziyi goruyorsaniz girdiginiz sayilarda hata var demektir\")"
   ]
  },
  {
   "cell_type": "code",
   "execution_count": 18,
   "metadata": {},
   "outputs": [
    {
     "ename": "ZeroDivisionError",
     "evalue": "division by zero",
     "output_type": "error",
     "traceback": [
      "\u001b[1;31m---------------------------------------------------------------------------\u001b[0m",
      "\u001b[1;31mZeroDivisionError\u001b[0m                         Traceback (most recent call last)",
      "Cell \u001b[1;32mIn[18], line 4\u001b[0m\n\u001b[0;32m      2\u001b[0m y \u001b[39m=\u001b[39m \u001b[39minput\u001b[39m(\u001b[39m\"\u001b[39m\u001b[39mbir sayi girin\u001b[39m\u001b[39m\"\u001b[39m) \u001b[39m# value error\u001b[39;00m\n\u001b[0;32m      3\u001b[0m \u001b[39mtry\u001b[39;00m: \n\u001b[1;32m----> 4\u001b[0m     a \u001b[39m=\u001b[39m \u001b[39mprint\u001b[39m(\u001b[39mint\u001b[39;49m(x)\u001b[39m/\u001b[39;49m\u001b[39mint\u001b[39;49m(y))\n\u001b[0;32m      5\u001b[0m \u001b[39mexcept\u001b[39;00m \u001b[39mValueError\u001b[39;00m: \n\u001b[0;32m      6\u001b[0m     \u001b[39mprint\u001b[39m(\u001b[39m\"\u001b[39m\u001b[39mBu yaziyi goruyorsaniz girdiginiz sayilarda hata var demektir\u001b[39m\u001b[39m\"\u001b[39m)\n",
      "\u001b[1;31mZeroDivisionError\u001b[0m: division by zero"
     ]
    }
   ],
   "source": [
    "x = input(\"bir sayi girin\") # what if we divide by 0, which is not a \n",
    "y = input(\"bir sayi girin\") # value error\n",
    "try: \n",
    "    a = print(int(x)/int(y))\n",
    "except ValueError: \n",
    "    print(\"Bu yaziyi goruyorsaniz girdiginiz sayilarda hata var demektir\")"
   ]
  },
  {
   "cell_type": "code",
   "execution_count": 26,
   "metadata": {},
   "outputs": [
    {
     "name": "stdout",
     "output_type": "stream",
     "text": [
      "Bu yaziyi goruyorsaniz girdiginiz ikinci sayi sifirdir ve bir \n",
      "    sayi sifira bolunemez\n"
     ]
    }
   ],
   "source": [
    "x = input(\"bir sayi girin\") # 8 ilk hata value error olacagi icin ilk except calisir\n",
    "y = input(\"bir sayi girin\") #(0) ikinci hata ile except kosulu ayni oldugu icin de ikinci\n",
    "try: # except ile proceed yapar\n",
    "    a = print(int(x)/int(y))\n",
    "except ValueError: \n",
    "    print(\"Bu yaziyi goruyorsaniz girdiginiz sayilarda hata var demektir\")\n",
    "except ZeroDivisionError:\n",
    "    print(\"\"\"Bu yaziyi goruyorsaniz girdiginiz ikinci sayi sifirdir ve bir \n",
    "    sayi sifira bolunemez\"\"\")"
   ]
  },
  {
   "cell_type": "code",
   "execution_count": 23,
   "metadata": {},
   "outputs": [
    {
     "name": "stdout",
     "output_type": "stream",
     "text": [
      "16.0\n"
     ]
    }
   ],
   "source": [
    "x = input(\"bir sayi girin\") \n",
    "y = input(\"bir sayi girin\") \n",
    "try: # if try works, it directly goes ti else\n",
    "    a = int(x)/int(y)\n",
    "except ValueError: \n",
    "    print(\"Bu yaziyi goruyorsaniz girdiginiz sayilarda hata var demektir\")\n",
    "except ZeroDivisionError:\n",
    "    print(\"\"\"Bu yaziyi goruyorsaniz girdiginiz ikinci sayi sifirdir ve bir \n",
    "    sayi sifira bolunemez\"\"\")\n",
    "else:\n",
    "    print(a ** 2)"
   ]
  },
  {
   "cell_type": "code",
   "execution_count": 27,
   "metadata": {},
   "outputs": [
    {
     "name": "stdout",
     "output_type": "stream",
     "text": [
      "300\n"
     ]
    }
   ],
   "source": [
    "x = input(\"bir sayi girin\") \n",
    "y = input(\"bir sayi girin\") \n",
    "try: \n",
    "    a = int(x)*int(y)\n",
    "    print(a)\n",
    "except (ValueError,ZeroDivisionError): \n",
    "    print(\"odulunuz 100 birim\")\n"
   ]
  },
  {
   "cell_type": "code",
   "execution_count": 28,
   "metadata": {},
   "outputs": [
    {
     "name": "stdout",
     "output_type": "stream",
     "text": [
      "odulunuz 100 birim\n"
     ]
    }
   ],
   "source": [
    "x = input(\"bir sayi girin\") \n",
    "y = input(\"bir sayi girin\") \n",
    "try: \n",
    "    a = int(x)*int(y)\n",
    "    print(a)\n",
    "except (ValueError,ZeroDivisionError): \n",
    "    print(\"odulunuz 100 birim\")"
   ]
  },
  {
   "cell_type": "code",
   "execution_count": 31,
   "metadata": {},
   "outputs": [
    {
     "name": "stdout",
     "output_type": "stream",
     "text": [
      "15\n",
      "45\n",
      "48\n"
     ]
    }
   ],
   "source": [
    "liste = [\"15\",\"aa15\",\"45\",\"asdeddcds\",\"48\"]\n",
    "\n",
    "for i in liste:\n",
    "    try:\n",
    "        type(int(i)) == int\n",
    "        print(i)\n",
    "    except:\n",
    "        continue"
   ]
  },
  {
   "cell_type": "code",
   "execution_count": 35,
   "metadata": {},
   "outputs": [
    {
     "name": "stdout",
     "output_type": "stream",
     "text": [
      "sayilari dogu girdiginizden emin olun\n",
      "sayilari dogu girdiginizden emin olun\n",
      "Girilen iki sayinin bolumu:  1.25\n"
     ]
    }
   ],
   "source": [
    "while True:\n",
    "    x = input(\"bir sayi girin\") \n",
    "    y = input(\"bir sayi girin\") \n",
    "    try: \n",
    "        a = int(x)/int(y)\n",
    "        print(\"Girilen iki sayinin bolumu: \",a)\n",
    "        break\n",
    "    except (ValueError,ZeroDivisionError): \n",
    "        print(\"sayilari dogu girdiginizden emin olun\")"
   ]
  },
  {
   "cell_type": "code",
   "execution_count": 36,
   "metadata": {},
   "outputs": [
    {
     "ename": "ZeroDivisionError",
     "evalue": "division by zero",
     "output_type": "error",
     "traceback": [
      "\u001b[1;31m---------------------------------------------------------------------------\u001b[0m",
      "\u001b[1;31mZeroDivisionError\u001b[0m                         Traceback (most recent call last)",
      "Cell \u001b[1;32mIn[36], line 4\u001b[0m\n\u001b[0;32m      2\u001b[0m y \u001b[39m=\u001b[39m \u001b[39minput\u001b[39m(\u001b[39m\"\u001b[39m\u001b[39mbir sayi girin\u001b[39m\u001b[39m\"\u001b[39m) \n\u001b[0;32m      3\u001b[0m \u001b[39mtry\u001b[39;00m: \u001b[39m# if try works, it directly goes ti else\u001b[39;00m\n\u001b[1;32m----> 4\u001b[0m     a \u001b[39m=\u001b[39m \u001b[39mint\u001b[39;49m(x)\u001b[39m/\u001b[39;49m\u001b[39mint\u001b[39;49m(y)\n\u001b[0;32m      5\u001b[0m \u001b[39mexcept\u001b[39;00m \u001b[39mValueError\u001b[39;00m: \n\u001b[0;32m      6\u001b[0m     \u001b[39mprint\u001b[39m(\u001b[39m\"\u001b[39m\u001b[39mBu yaziyi goruyorsaniz girdiginiz sayilarda hata var demektir\u001b[39m\u001b[39m\"\u001b[39m)\n",
      "\u001b[1;31mZeroDivisionError\u001b[0m: division by zero"
     ]
    }
   ],
   "source": [
    "x = input(\"bir sayi girin\") \n",
    "y = input(\"bir sayi girin\") \n",
    "try: # if try works, it directly goes ti else\n",
    "    a = int(x)/int(y)\n",
    "except ValueError: \n",
    "    print(\"Bu yaziyi goruyorsaniz girdiginiz sayilarda hata var demektir\")\n",
    "#except ZeroDivisionError:\n",
    " #   print(\"\"\"Bu yaziyi goruyorsaniz girdiginiz ikinci sayi sifirdir ve bir \n",
    "  #  sayi sifira bolunemez\"\"\")\n",
    "else:\n",
    "    print(a ** 2)"
   ]
  },
  {
   "cell_type": "code",
   "execution_count": 38,
   "metadata": {},
   "outputs": [
    {
     "name": "stdout",
     "output_type": "stream",
     "text": [
      "Hadi baslayali\n",
      "64\n",
      "Bu yaziyi goruyorsaniz girdiginiz ikinci sayi sifirdir ve bir \n",
      "    sayi sifira bolunemez\n"
     ]
    }
   ],
   "source": [
    "x = input(\"bir sayi girin\")\n",
    "y = input(\"bir sayi girin\") \n",
    "try:\n",
    "    print(\"Hadi baslayali\")\n",
    "    print(4**3)\n",
    "    a = int(x)/int(y)\n",
    "except ValueError: \n",
    "    print(\"Bu yaziyi goruyorsaniz girdiginiz sayilarda hata var demektir\")\n",
    "except ZeroDivisionError:\n",
    "    print(\"\"\"Bu yaziyi goruyorsaniz girdiginiz ikinci sayi sifirdir ve bir \n",
    "    sayi sifira bolunemez\"\"\")\n",
    "else:\n",
    "    print(a ** 2)"
   ]
  },
  {
   "cell_type": "code",
   "execution_count": 39,
   "metadata": {},
   "outputs": [
    {
     "name": "stdout",
     "output_type": "stream",
     "text": [
      "Hadi baslayali\n",
      "64\n",
      "Bu yaziyi goruyorsaniz girdiginiz ikinci sayi sifirdir ve bir \n",
      "    sayi sifira bolunemez\n",
      "Beni kimse durduramaz. Her halukarda calisirim ben\n"
     ]
    }
   ],
   "source": [
    "x = input(\"bir sayi girin\")\n",
    "y = input(\"bir sayi girin\") \n",
    "try:\n",
    "    print(\"Hadi baslayali\")\n",
    "    print(4**3)\n",
    "    a = int(x)/int(y)\n",
    "except ValueError: \n",
    "    print(\"Bu yaziyi goruyorsaniz girdiginiz sayilarda hata var demektir\")\n",
    "except ZeroDivisionError:\n",
    "    print(\"\"\"Bu yaziyi goruyorsaniz girdiginiz ikinci sayi sifirdir ve bir \n",
    "    sayi sifira bolunemez\"\"\")\n",
    "else:\n",
    "    print(a ** 2)\n",
    "finally:\n",
    "    print(\"Beni kimse durduramaz. Her halukarda calisirim ben\")\n",
    "    # it will work regrardless of the rest\n"
   ]
  },
  {
   "cell_type": "code",
   "execution_count": 40,
   "metadata": {},
   "outputs": [
    {
     "name": "stdout",
     "output_type": "stream",
     "text": [
      "Hadi baslayali\n",
      "64\n",
      "4.0\n",
      "Beni kimse durduramaz. Her halukarda calisirim ben\n"
     ]
    }
   ],
   "source": [
    "x = input(\"bir sayi girin\")\n",
    "y = input(\"bir sayi girin\") \n",
    "try:\n",
    "    print(\"Hadi baslayali\")\n",
    "    print(4**3)\n",
    "    a = int(x)/int(y)\n",
    "except ValueError: \n",
    "    print(\"Bu yaziyi goruyorsaniz girdiginiz sayilarda hata var demektir\")\n",
    "except ZeroDivisionError:\n",
    "    print(\"\"\"Bu yaziyi goruyorsaniz girdiginiz ikinci sayi sifirdir ve bir \n",
    "    sayi sifira bolunemez\"\"\")\n",
    "else:\n",
    "    print(a ** 2)\n",
    "finally:\n",
    "    print(\"Beni kimse durduramaz. Her halukarda calisirim ben\")\n",
    "    # it will work regrardless of the rest"
   ]
  },
  {
   "cell_type": "code",
   "execution_count": 41,
   "metadata": {},
   "outputs": [
    {
     "name": "stdout",
     "output_type": "stream",
     "text": [
      "Hadi baslayali\n",
      "64\n",
      "Bu yaziyi goruyorsaniz girdiginiz sayilarda hata var demektir\n",
      "Beni kimse durduramaz. Her halukarda calisirim ben\n"
     ]
    }
   ],
   "source": [
    "x = input(\"bir sayi girin\")\n",
    "y = input(\"bir sayi girin\") \n",
    "try:\n",
    "    print(\"Hadi baslayali\")\n",
    "    print(4**3)\n",
    "    a = int(x)/int(y)\n",
    "except ValueError: \n",
    "    print(\"Bu yaziyi goruyorsaniz girdiginiz sayilarda hata var demektir\")\n",
    "except:\n",
    "    print(\"\"\"Bu yaziyi goruyorsaniz girdiginiz ikinci sayi sifirdir ve bir \n",
    "    sayi sifira bolunemez\"\"\")\n",
    "else:\n",
    "    print(a ** 2)\n",
    "finally:\n",
    "    print(\"Beni kimse durduramaz. Her halukarda calisirim ben\")"
   ]
  },
  {
   "cell_type": "code",
   "execution_count": 42,
   "metadata": {},
   "outputs": [
    {
     "name": "stdout",
     "output_type": "stream",
     "text": [
      "Hadi baslayali\n",
      "64\n",
      "Bu yaziyi goruyorsaniz girdiginiz ikinci sayi sifirdir ve bir \n",
      "    sayi sifira bolunemez\n",
      "Beni kimse durduramaz. Her halukarda calisirim ben\n"
     ]
    }
   ],
   "source": [
    "x = input(\"bir sayi girin\")\n",
    "y = input(\"bir sayi girin\") \n",
    "try:\n",
    "    print(\"Hadi baslayali\")\n",
    "    print(4**3)\n",
    "    a = int(x)/int(y)\n",
    "except ValueError: \n",
    "    print(\"Bu yaziyi goruyorsaniz girdiginiz sayilarda hata var demektir\")\n",
    "except:\n",
    "    print(\"\"\"Bu yaziyi goruyorsaniz girdiginiz ikinci sayi sifirdir ve bir \n",
    "    sayi sifira bolunemez\"\"\")\n",
    "else:\n",
    "    print(a ** 2)\n",
    "finally:\n",
    "    print(\"Beni kimse durduramaz. Her halukarda calisirim ben\")"
   ]
  },
  {
   "attachments": {},
   "cell_type": "markdown",
   "metadata": {},
   "source": [
    "## Modules"
   ]
  },
  {
   "cell_type": "code",
   "execution_count": 43,
   "metadata": {},
   "outputs": [],
   "source": [
    "import random"
   ]
  },
  {
   "cell_type": "code",
   "execution_count": 48,
   "metadata": {},
   "outputs": [
    {
     "data": {
      "text/plain": [
       "4"
      ]
     },
     "execution_count": 48,
     "metadata": {},
     "output_type": "execute_result"
    }
   ],
   "source": [
    "random.choice([1,2,3,4,5,6,7,8,9]) # chooses a random element from a sequence"
   ]
  },
  {
   "cell_type": "code",
   "execution_count": 50,
   "metadata": {},
   "outputs": [
    {
     "data": {
      "text/plain": [
       "['15', 'aa15', '45', 'asdeddcds', '48']"
      ]
     },
     "execution_count": 50,
     "metadata": {},
     "output_type": "execute_result"
    }
   ],
   "source": [
    "liste\n"
   ]
  },
  {
   "cell_type": "code",
   "execution_count": 55,
   "metadata": {},
   "outputs": [],
   "source": [
    "random.shuffle(liste)"
   ]
  },
  {
   "cell_type": "code",
   "execution_count": 56,
   "metadata": {},
   "outputs": [
    {
     "data": {
      "text/plain": [
       "['15', '45', 'aa15', '48', 'asdeddcds']"
      ]
     },
     "execution_count": 56,
     "metadata": {},
     "output_type": "execute_result"
    }
   ],
   "source": [
    "liste"
   ]
  },
  {
   "cell_type": "code",
   "execution_count": 57,
   "metadata": {},
   "outputs": [],
   "source": [
    "liste1 = [1,2,3,4,5,6,7,8,9]"
   ]
  },
  {
   "cell_type": "code",
   "execution_count": 66,
   "metadata": {},
   "outputs": [
    {
     "data": {
      "text/plain": [
       "[8, 4, 9, 2, 5, 6, 1, 7, 3]"
      ]
     },
     "execution_count": 66,
     "metadata": {},
     "output_type": "execute_result"
    }
   ],
   "source": [
    "random.shuffle(liste1)\n",
    "liste1"
   ]
  },
  {
   "cell_type": "code",
   "execution_count": 68,
   "metadata": {},
   "outputs": [],
   "source": [
    "import string"
   ]
  },
  {
   "cell_type": "code",
   "execution_count": 70,
   "metadata": {},
   "outputs": [
    {
     "data": {
      "text/plain": [
       "'!\"#$%&\\'()*+,-./:;<=>?@[\\\\]^_`{|}~'"
      ]
     },
     "execution_count": 70,
     "metadata": {},
     "output_type": "execute_result"
    }
   ],
   "source": [
    "string.punctuation # it is not a function hence we write without parenthes"
   ]
  },
  {
   "cell_type": "code",
   "execution_count": 71,
   "metadata": {},
   "outputs": [
    {
     "ename": "TypeError",
     "evalue": "'str' object is not callable",
     "output_type": "error",
     "traceback": [
      "\u001b[1;31m---------------------------------------------------------------------------\u001b[0m",
      "\u001b[1;31mTypeError\u001b[0m                                 Traceback (most recent call last)",
      "Cell \u001b[1;32mIn[71], line 1\u001b[0m\n\u001b[1;32m----> 1\u001b[0m string\u001b[39m.\u001b[39;49mpunctuation()\n",
      "\u001b[1;31mTypeError\u001b[0m: 'str' object is not callable"
     ]
    }
   ],
   "source": [
    "string.punctuation()"
   ]
  },
  {
   "cell_type": "code",
   "execution_count": 72,
   "metadata": {},
   "outputs": [
    {
     "data": {
      "text/plain": [
       "'abcdefghijklmnopqrstuvwxyzABCDEFGHIJKLMNOPQRSTUVWXYZ'"
      ]
     },
     "execution_count": 72,
     "metadata": {},
     "output_type": "execute_result"
    }
   ],
   "source": [
    "string.ascii_letters"
   ]
  },
  {
   "cell_type": "code",
   "execution_count": 73,
   "metadata": {},
   "outputs": [
    {
     "data": {
      "text/plain": [
       "'abcdefghijklmnopqrstuvwxyz'"
      ]
     },
     "execution_count": 73,
     "metadata": {},
     "output_type": "execute_result"
    }
   ],
   "source": [
    "string.ascii_lowercase"
   ]
  },
  {
   "cell_type": "code",
   "execution_count": 74,
   "metadata": {},
   "outputs": [
    {
     "data": {
      "text/plain": [
       "'ABCDEFGHIJKLMNOPQRSTUVWXYZ'"
      ]
     },
     "execution_count": 74,
     "metadata": {},
     "output_type": "execute_result"
    }
   ],
   "source": [
    "string.ascii_uppercase"
   ]
  },
  {
   "cell_type": "code",
   "execution_count": 75,
   "metadata": {},
   "outputs": [
    {
     "data": {
      "text/plain": [
       "'0123456789abcdefABCDEF'"
      ]
     },
     "execution_count": 75,
     "metadata": {},
     "output_type": "execute_result"
    }
   ],
   "source": [
    "string.hexdigits"
   ]
  },
  {
   "cell_type": "code",
   "execution_count": 76,
   "metadata": {},
   "outputs": [
    {
     "data": {
      "text/plain": [
       "'01234567'"
      ]
     },
     "execution_count": 76,
     "metadata": {},
     "output_type": "execute_result"
    }
   ],
   "source": [
    "string.octdigits"
   ]
  },
  {
   "cell_type": "code",
   "execution_count": 77,
   "metadata": {},
   "outputs": [
    {
     "data": {
      "text/plain": [
       "'0123456789abcdefghijklmnopqrstuvwxyzABCDEFGHIJKLMNOPQRSTUVWXYZ!\"#$%&\\'()*+,-./:;<=>?@[\\\\]^_`{|}~ \\t\\n\\r\\x0b\\x0c'"
      ]
     },
     "execution_count": 77,
     "metadata": {},
     "output_type": "execute_result"
    }
   ],
   "source": [
    "string.printable"
   ]
  },
  {
   "cell_type": "code",
   "execution_count": 80,
   "metadata": {},
   "outputs": [
    {
     "data": {
      "text/plain": [
       "' \\t\\n\\r\\x0b\\x0c'"
      ]
     },
     "execution_count": 80,
     "metadata": {},
     "output_type": "execute_result"
    }
   ],
   "source": [
    "string.whitespace"
   ]
  },
  {
   "cell_type": "code",
   "execution_count": 88,
   "metadata": {},
   "outputs": [
    {
     "ename": "NameError",
     "evalue": "name 'random' is not defined",
     "output_type": "error",
     "traceback": [
      "\u001b[1;31m---------------------------------------------------------------------------\u001b[0m",
      "\u001b[1;31mNameError\u001b[0m                                 Traceback (most recent call last)",
      "Cell \u001b[1;32mIn[88], line 1\u001b[0m\n\u001b[1;32m----> 1\u001b[0m \u001b[39mdel\u001b[39;00m random\n",
      "\u001b[1;31mNameError\u001b[0m: name 'random' is not defined"
     ]
    }
   ],
   "source": [
    "del random"
   ]
  },
  {
   "cell_type": "code",
   "execution_count": 89,
   "metadata": {},
   "outputs": [
    {
     "ename": "NameError",
     "evalue": "name 'random' is not defined",
     "output_type": "error",
     "traceback": [
      "\u001b[1;31m---------------------------------------------------------------------------\u001b[0m",
      "\u001b[1;31mNameError\u001b[0m                                 Traceback (most recent call last)",
      "Cell \u001b[1;32mIn[89], line 1\u001b[0m\n\u001b[1;32m----> 1\u001b[0m random\u001b[39m.\u001b[39mrandom\n",
      "\u001b[1;31mNameError\u001b[0m: name 'random' is not defined"
     ]
    }
   ],
   "source": [
    "random.random"
   ]
  },
  {
   "cell_type": "code",
   "execution_count": 90,
   "metadata": {},
   "outputs": [],
   "source": [
    "import random"
   ]
  },
  {
   "cell_type": "code",
   "execution_count": 91,
   "metadata": {},
   "outputs": [
    {
     "data": {
      "text/plain": [
       "<function Random.random()>"
      ]
     },
     "execution_count": 91,
     "metadata": {},
     "output_type": "execute_result"
    }
   ],
   "source": [
    "random.random"
   ]
  },
  {
   "cell_type": "code",
   "execution_count": 92,
   "metadata": {},
   "outputs": [
    {
     "ename": "NameError",
     "evalue": "name 'pyautogui' is not defined",
     "output_type": "error",
     "traceback": [
      "\u001b[1;31m---------------------------------------------------------------------------\u001b[0m",
      "\u001b[1;31mNameError\u001b[0m                                 Traceback (most recent call last)",
      "Cell \u001b[1;32mIn[92], line 1\u001b[0m\n\u001b[1;32m----> 1\u001b[0m pyautogui\u001b[39m.\u001b[39mclick()\n",
      "\u001b[1;31mNameError\u001b[0m: name 'pyautogui' is not defined"
     ]
    }
   ],
   "source": [
    "pyautogui.click()"
   ]
  },
  {
   "cell_type": "code",
   "execution_count": 95,
   "metadata": {},
   "outputs": [
    {
     "ename": "ModuleNotFoundError",
     "evalue": "No module named 'pyautogui'",
     "output_type": "error",
     "traceback": [
      "\u001b[1;31m---------------------------------------------------------------------------\u001b[0m",
      "\u001b[1;31mModuleNotFoundError\u001b[0m                       Traceback (most recent call last)",
      "Cell \u001b[1;32mIn[95], line 1\u001b[0m\n\u001b[1;32m----> 1\u001b[0m \u001b[39mimport\u001b[39;00m \u001b[39mpyautogui\u001b[39;00m\n",
      "\u001b[1;31mModuleNotFoundError\u001b[0m: No module named 'pyautogui'"
     ]
    }
   ],
   "source": [
    "import pyautogui"
   ]
  },
  {
   "cell_type": "code",
   "execution_count": 99,
   "metadata": {},
   "outputs": [
    {
     "name": "stdout",
     "output_type": "stream",
     "text": [
      "Requirement already satisfied: pyautogui in c:\\users\\jawed\\appdata\\local\\programs\\python\\python311\\lib\\site-packages (0.9.53)\n",
      "Requirement already satisfied: pymsgbox in c:\\users\\jawed\\appdata\\local\\programs\\python\\python311\\lib\\site-packages (from pyautogui) (1.0.9)\n",
      "Requirement already satisfied: PyTweening>=1.0.1 in c:\\users\\jawed\\appdata\\local\\programs\\python\\python311\\lib\\site-packages (from pyautogui) (1.0.4)\n",
      "Requirement already satisfied: pyscreeze>=0.1.21 in c:\\users\\jawed\\appdata\\local\\programs\\python\\python311\\lib\\site-packages (from pyautogui) (0.1.28)\n",
      "Requirement already satisfied: pygetwindow>=0.0.5 in c:\\users\\jawed\\appdata\\local\\programs\\python\\python311\\lib\\site-packages (from pyautogui) (0.0.9)\n",
      "Requirement already satisfied: mouseinfo in c:\\users\\jawed\\appdata\\local\\programs\\python\\python311\\lib\\site-packages (from pyautogui) (0.1.3)\n",
      "Requirement already satisfied: pyrect in c:\\users\\jawed\\appdata\\local\\programs\\python\\python311\\lib\\site-packages (from pygetwindow>=0.0.5->pyautogui) (0.2.0)\n",
      "Requirement already satisfied: pyperclip in c:\\users\\jawed\\appdata\\local\\programs\\python\\python311\\lib\\site-packages (from mouseinfo->pyautogui) (1.8.2)\n",
      "Note: you may need to restart the kernel to use updated packages.\n"
     ]
    },
    {
     "name": "stderr",
     "output_type": "stream",
     "text": [
      "\n",
      "[notice] A new release of pip available: 22.3.1 -> 23.0.1\n",
      "[notice] To update, run: python.exe -m pip install --upgrade pip\n"
     ]
    }
   ],
   "source": [
    "%pip install pyautogui"
   ]
  },
  {
   "cell_type": "code",
   "execution_count": 100,
   "metadata": {},
   "outputs": [],
   "source": [
    "import pyautogui"
   ]
  },
  {
   "attachments": {},
   "cell_type": "markdown",
   "metadata": {},
   "source": [
    "### Create Module"
   ]
  },
  {
   "cell_type": "code",
   "execution_count": 102,
   "metadata": {},
   "outputs": [
    {
     "data": {
      "text/plain": [
       "'f:\\\\Data Science Bootcamp\\\\B150\\\\02. Python Advance - Week 01'"
      ]
     },
     "execution_count": 102,
     "metadata": {},
     "output_type": "execute_result"
    }
   ],
   "source": [
    "pwd"
   ]
  },
  {
   "cell_type": "code",
   "execution_count": 103,
   "metadata": {},
   "outputs": [],
   "source": [
    "from My_Modules import My_math"
   ]
  },
  {
   "cell_type": "code",
   "execution_count": 104,
   "metadata": {},
   "outputs": [
    {
     "data": {
      "text/plain": [
       "120"
      ]
     },
     "execution_count": 104,
     "metadata": {},
     "output_type": "execute_result"
    }
   ],
   "source": [
    "My_math.find_fact(5)"
   ]
  },
  {
   "cell_type": "code",
   "execution_count": 105,
   "metadata": {},
   "outputs": [
    {
     "data": {
      "text/plain": [
       "13.0"
      ]
     },
     "execution_count": 105,
     "metadata": {},
     "output_type": "execute_result"
    }
   ],
   "source": [
    "My_math.find_hypo(5,12)"
   ]
  },
  {
   "cell_type": "code",
   "execution_count": 106,
   "metadata": {},
   "outputs": [
    {
     "data": {
      "text/plain": [
       "3.14"
      ]
     },
     "execution_count": 106,
     "metadata": {},
     "output_type": "execute_result"
    }
   ],
   "source": [
    "My_math.pi"
   ]
  },
  {
   "cell_type": "code",
   "execution_count": 108,
   "metadata": {},
   "outputs": [
    {
     "ename": "TypeError",
     "evalue": "'float' object is not callable",
     "output_type": "error",
     "traceback": [
      "\u001b[1;31m---------------------------------------------------------------------------\u001b[0m",
      "\u001b[1;31mTypeError\u001b[0m                                 Traceback (most recent call last)",
      "Cell \u001b[1;32mIn[108], line 1\u001b[0m\n\u001b[1;32m----> 1\u001b[0m My_math\u001b[39m.\u001b[39;49mpi() \u001b[39m# pi was not a function, it was a floating point\u001b[39;00m\n",
      "\u001b[1;31mTypeError\u001b[0m: 'float' object is not callable"
     ]
    }
   ],
   "source": [
    "My_math.pi() # pi was not a function, it was a floating point"
   ]
  },
  {
   "cell_type": "code",
   "execution_count": null,
   "metadata": {},
   "outputs": [],
   "source": []
  }
 ],
 "metadata": {
  "kernelspec": {
   "display_name": "Python 3",
   "language": "python",
   "name": "python3"
  },
  "language_info": {
   "codemirror_mode": {
    "name": "ipython",
    "version": 3
   },
   "file_extension": ".py",
   "mimetype": "text/x-python",
   "name": "python",
   "nbconvert_exporter": "python",
   "pygments_lexer": "ipython3",
   "version": "3.11.1"
  },
  "orig_nbformat": 4
 },
 "nbformat": 4,
 "nbformat_minor": 2
}
