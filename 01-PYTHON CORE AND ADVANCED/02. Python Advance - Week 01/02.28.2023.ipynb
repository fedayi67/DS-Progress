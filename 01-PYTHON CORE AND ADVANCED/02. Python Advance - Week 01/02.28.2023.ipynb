{
 "cells": [
  {
   "cell_type": "code",
   "execution_count": 1,
   "metadata": {},
   "outputs": [],
   "source": [
    "a = [\"apple\",\"orange\",\"banana\"]\n",
    "b = [1,2,3]"
   ]
  },
  {
   "cell_type": "code",
   "execution_count": 2,
   "metadata": {},
   "outputs": [
    {
     "data": {
      "text/plain": [
       "<zip at 0x1261460ed40>"
      ]
     },
     "execution_count": 2,
     "metadata": {},
     "output_type": "execute_result"
    }
   ],
   "source": [
    "zip(a,b)"
   ]
  },
  {
   "cell_type": "code",
   "execution_count": 3,
   "metadata": {},
   "outputs": [
    {
     "data": {
      "text/plain": [
       "[('apple', 1), ('orange', 2), ('banana', 3)]"
      ]
     },
     "execution_count": 3,
     "metadata": {},
     "output_type": "execute_result"
    }
   ],
   "source": [
    "list(zip(a,b))"
   ]
  },
  {
   "cell_type": "code",
   "execution_count": 4,
   "metadata": {},
   "outputs": [],
   "source": [
    "x = \"techpro\"\n",
    "y = \"sedat\"\n",
    "z = \"ali\""
   ]
  },
  {
   "cell_type": "code",
   "execution_count": 5,
   "metadata": {},
   "outputs": [
    {
     "data": {
      "text/plain": [
       "[('t', 's', 'a'), ('e', 'e', 'l'), ('c', 'd', 'i')]"
      ]
     },
     "execution_count": 5,
     "metadata": {},
     "output_type": "execute_result"
    }
   ],
   "source": [
    "list(zip(x,y,z))"
   ]
  },
  {
   "cell_type": "code",
   "execution_count": 6,
   "metadata": {},
   "outputs": [
    {
     "data": {
      "text/plain": [
       "[]"
      ]
     },
     "execution_count": 6,
     "metadata": {},
     "output_type": "execute_result"
    }
   ],
   "source": [
    "list(zip(\"techpro\",[],(1,2,3)))"
   ]
  },
  {
   "cell_type": "code",
   "execution_count": 7,
   "metadata": {},
   "outputs": [
    {
     "data": {
      "text/plain": [
       "[('t', (1, 2, 3), 1), ('e', (4, 5, 6), 2), ('c', (7, 8, 9), 3)]"
      ]
     },
     "execution_count": 7,
     "metadata": {},
     "output_type": "execute_result"
    }
   ],
   "source": [
    "list(zip(\"techpro\",[(1,2,3),(4,5,6),(7,8,9)],(1,2,3)))"
   ]
  },
  {
   "attachments": {},
   "cell_type": "markdown",
   "metadata": {},
   "source": [
    "## enumerate"
   ]
  },
  {
   "cell_type": "code",
   "execution_count": 8,
   "metadata": {},
   "outputs": [],
   "source": [
    "# like zip"
   ]
  },
  {
   "cell_type": "code",
   "execution_count": 9,
   "metadata": {},
   "outputs": [
    {
     "data": {
      "text/plain": [
       "['apple', 'orange', 'banana']"
      ]
     },
     "execution_count": 9,
     "metadata": {},
     "output_type": "execute_result"
    }
   ],
   "source": [
    "a"
   ]
  },
  {
   "cell_type": "code",
   "execution_count": 10,
   "metadata": {},
   "outputs": [
    {
     "data": {
      "text/plain": [
       "[1, 2, 3]"
      ]
     },
     "execution_count": 10,
     "metadata": {},
     "output_type": "execute_result"
    }
   ],
   "source": [
    "b"
   ]
  },
  {
   "cell_type": "code",
   "execution_count": 11,
   "metadata": {},
   "outputs": [
    {
     "data": {
      "text/plain": [
       "<enumerate at 0x126147084f0>"
      ]
     },
     "execution_count": 11,
     "metadata": {},
     "output_type": "execute_result"
    }
   ],
   "source": [
    "enumerate(a)"
   ]
  },
  {
   "cell_type": "code",
   "execution_count": 13,
   "metadata": {},
   "outputs": [
    {
     "data": {
      "text/plain": [
       "[(0, 'apple'), (1, 'orange'), (2, 'banana')]"
      ]
     },
     "execution_count": 13,
     "metadata": {},
     "output_type": "execute_result"
    }
   ],
   "source": [
    "list(enumerate(a))"
   ]
  },
  {
   "cell_type": "code",
   "execution_count": 14,
   "metadata": {},
   "outputs": [
    {
     "data": {
      "text/plain": [
       "((0, 'apple'), (1, 'orange'), (2, 'banana'))"
      ]
     },
     "execution_count": 14,
     "metadata": {},
     "output_type": "execute_result"
    }
   ],
   "source": [
    "tuple(enumerate(a))"
   ]
  },
  {
   "cell_type": "code",
   "execution_count": 15,
   "metadata": {},
   "outputs": [],
   "source": [
    "# if we don't give a start point, it automatically starts with 0"
   ]
  },
  {
   "cell_type": "code",
   "execution_count": 17,
   "metadata": {},
   "outputs": [
    {
     "data": {
      "text/plain": [
       "[(100, 'apple'), (101, 'orange'), (102, 'banana')]"
      ]
     },
     "execution_count": 17,
     "metadata": {},
     "output_type": "execute_result"
    }
   ],
   "source": [
    "list(enumerate(a,100)) # 100 is the start point"
   ]
  },
  {
   "cell_type": "code",
   "execution_count": 29,
   "metadata": {},
   "outputs": [
    {
     "data": {
      "text/plain": [
       "[8, 12, 14, 23, 25, 31, 32, 38, 40, 43, 49]"
      ]
     },
     "execution_count": 29,
     "metadata": {},
     "output_type": "execute_result"
    }
   ],
   "source": [
    "num = [48, 10, 11, 21, 36, 5, 6, 52, 28, 29,\n",
    "       53, 54, 45, 19, 20, 47, 55, 39, 41, 7,\n",
    "       9, 17, 26, 27, 42, 22, 37, 51, 46, 18,\n",
    "       44, 30, 34, 13, 15, 35, 33, 16, 50, 24]\n",
    "emptylist = []\n",
    "for i in range(min(num),max(num)+1):\n",
    "       if i not in num:\n",
    "              emptylist.append(i)\n",
    "emptylist"
   ]
  },
  {
   "cell_type": "code",
   "execution_count": 19,
   "metadata": {},
   "outputs": [
    {
     "name": "stdout",
     "output_type": "stream",
     "text": [
      "[48, 10, 11, 21, 36, 5, 6, 52, 28, 29, 53, 54, 45, 19, 20, 47, 55, 39, 41, 7, 9, 17, 26, 27, 42, 22, 37, 51, 46, 18, 44, 30, 34, 13, 15, 35, 33, 16, 50, 24]\n"
     ]
    }
   ],
   "source": [
    "print(num)"
   ]
  },
  {
   "cell_type": "code",
   "execution_count": 20,
   "metadata": {},
   "outputs": [
    {
     "data": {
      "text/plain": [
       "5"
      ]
     },
     "execution_count": 20,
     "metadata": {},
     "output_type": "execute_result"
    }
   ],
   "source": [
    "min(num)"
   ]
  },
  {
   "cell_type": "code",
   "execution_count": 21,
   "metadata": {},
   "outputs": [
    {
     "data": {
      "text/plain": [
       "55"
      ]
     },
     "execution_count": 21,
     "metadata": {},
     "output_type": "execute_result"
    }
   ],
   "source": [
    "max(num)"
   ]
  },
  {
   "cell_type": "code",
   "execution_count": 22,
   "metadata": {},
   "outputs": [
    {
     "data": {
      "text/plain": [
       "40"
      ]
     },
     "execution_count": 22,
     "metadata": {},
     "output_type": "execute_result"
    }
   ],
   "source": [
    "len(num)"
   ]
  },
  {
   "cell_type": "code",
   "execution_count": 23,
   "metadata": {},
   "outputs": [
    {
     "name": "stdout",
     "output_type": "stream",
     "text": [
      "range(5, 56)\n"
     ]
    }
   ],
   "source": [
    "print(range(5,56))"
   ]
  },
  {
   "cell_type": "code",
   "execution_count": 24,
   "metadata": {},
   "outputs": [
    {
     "data": {
      "text/plain": [
       "{8, 12, 14, 23, 25, 31, 32, 38, 40, 43, 49}"
      ]
     },
     "execution_count": 24,
     "metadata": {},
     "output_type": "execute_result"
    }
   ],
   "source": [
    "set(range(5,56)) - set(num)"
   ]
  },
  {
   "cell_type": "code",
   "execution_count": 30,
   "metadata": {},
   "outputs": [
    {
     "data": {
      "text/plain": [
       "[8, 12, 14, 23, 25, 31, 32, 38, 40, 43, 49]"
      ]
     },
     "execution_count": 30,
     "metadata": {},
     "output_type": "execute_result"
    }
   ],
   "source": [
    "num = [48, 10, 11, 21, 36, 5, 6, 52, 28, 29,\n",
    "       53, 54, 45, 19, 20, 47, 55, 39, 41, 7,\n",
    "       9, 17, 26, 27, 42, 22, 37, 51, 46, 18,\n",
    "       44, 30, 34, 13, 15, 35, 33, 16, 50, 24]\n",
    "emptylist = []\n",
    "for i in range(min(num),max(num)+1):\n",
    "       if i in num:\n",
    "              continue\n",
    "       emptylist.append(i)\n",
    "emptylist"
   ]
  },
  {
   "cell_type": "code",
   "execution_count": 32,
   "metadata": {},
   "outputs": [
    {
     "name": "stdout",
     "output_type": "stream",
     "text": [
      "[48, 10, 11, 21, 36, 5, 6, 52, 28, 29, 53, 54, 45, 19, 20, 47, 55, 39, 41, 7, 9, 17, 26, 27, 42, 22, 37, 51, 46, 18, 44, 30, 34, 13, 15, 35, 33, 16, 50, 24]\n"
     ]
    }
   ],
   "source": [
    "print(num)"
   ]
  },
  {
   "cell_type": "code",
   "execution_count": 35,
   "metadata": {},
   "outputs": [
    {
     "name": "stdout",
     "output_type": "stream",
     "text": [
      "[10, 11, 5, 52, 28, 29, 53, 19, 20, 47, 55, 41, 7, 17, 26, 22, 37, 46, 44, 34, 13, 35, 16, 50]\n"
     ]
    }
   ],
   "source": [
    "a = []\n",
    "for i in num:\n",
    "    if i % 3 != 0:\n",
    "        a.append(i)\n",
    "print(a)"
   ]
  },
  {
   "cell_type": "code",
   "execution_count": 36,
   "metadata": {},
   "outputs": [
    {
     "name": "stdout",
     "output_type": "stream",
     "text": [
      "[10, 11, 5, 52, 28, 29, 53, 19, 20, 47, 55, 41, 7, 17, 26, 22, 37, 46, 44, 34, 13, 35, 16, 50]\n"
     ]
    }
   ],
   "source": [
    "num = [48, 10, 11, 21, 36, 5, 6, 52, 28, 29,\n",
    "       53, 54, 45, 19, 20, 47, 55, 39, 41, 7,\n",
    "       9, 17, 26, 27, 42, 22, 37, 51, 46, 18,\n",
    "       44, 30, 34, 13, 15, 35, 33, 16, 50, 24]\n",
    "uce_bolunemeyen = []\n",
    "for i in num:\n",
    "    if i % 3 != 0:\n",
    "     uce_bolunemeyen.append(i)\n",
    "\n",
    "print(uce_bolunemeyen)"
   ]
  },
  {
   "cell_type": "code",
   "execution_count": 38,
   "metadata": {},
   "outputs": [
    {
     "name": "stdout",
     "output_type": "stream",
     "text": [
      "[10, 11, 5, 52, 28, 29, 53, 19, 20, 47, 55, 41, 7, 17, 26, 22, 37, 46, 44, 34, 13, 35, 16, 50]\n"
     ]
    }
   ],
   "source": [
    "a = []\n",
    "for i in num:\n",
    "    if i % 3 == 0:\n",
    "        continue\n",
    "    a.append(i)\n",
    "print(a)"
   ]
  },
  {
   "attachments": {},
   "cell_type": "markdown",
   "metadata": {},
   "source": [
    "### List Comprehension"
   ]
  },
  {
   "cell_type": "code",
   "execution_count": 42,
   "metadata": {},
   "outputs": [],
   "source": [
    "liste1 = [1,2,3,4,5]\n",
    "emptyliste = []"
   ]
  },
  {
   "cell_type": "code",
   "execution_count": 43,
   "metadata": {},
   "outputs": [
    {
     "name": "stdout",
     "output_type": "stream",
     "text": [
      "[1, 4, 9, 16, 25]\n"
     ]
    }
   ],
   "source": [
    "for i in liste1:\n",
    "    emptyliste.append(i**2)\n",
    "print(emptyliste)"
   ]
  },
  {
   "cell_type": "code",
   "execution_count": 46,
   "metadata": {},
   "outputs": [
    {
     "data": {
      "text/plain": [
       "[1, 4, 9, 16, 25]"
      ]
     },
     "execution_count": 46,
     "metadata": {},
     "output_type": "execute_result"
    }
   ],
   "source": [
    "[ i**2    for i in liste1 ] # here we did all in a line\n",
    "# this is called list comprehension"
   ]
  },
  {
   "attachments": {},
   "cell_type": "markdown",
   "metadata": {},
   "source": [
    "#### what if there are if and else in ?"
   ]
  },
  {
   "cell_type": "code",
   "execution_count": 47,
   "metadata": {},
   "outputs": [],
   "source": [
    "liste2 = [1,4,8,25,96,88,44,75,36,25,24,15]"
   ]
  },
  {
   "cell_type": "code",
   "execution_count": 49,
   "metadata": {},
   "outputs": [],
   "source": [
    "evens = []\n",
    "odds = []\n",
    "for i in liste2:\n",
    "    if i % 2 == 0:\n",
    "        evens.append(i)\n",
    "    else:\n",
    "        odds.append(i)\n"
   ]
  },
  {
   "cell_type": "code",
   "execution_count": 50,
   "metadata": {},
   "outputs": [
    {
     "data": {
      "text/plain": [
       "[4, 8, 96, 88, 44, 36, 24]"
      ]
     },
     "execution_count": 50,
     "metadata": {},
     "output_type": "execute_result"
    }
   ],
   "source": [
    "evens"
   ]
  },
  {
   "cell_type": "code",
   "execution_count": 52,
   "metadata": {},
   "outputs": [
    {
     "data": {
      "text/plain": [
       "[4, 8, 96, 88, 44, 36, 24]"
      ]
     },
     "execution_count": 52,
     "metadata": {},
     "output_type": "execute_result"
    }
   ],
   "source": [
    "[  i for i in liste2 if i % 2 == 0 ]"
   ]
  },
  {
   "cell_type": "code",
   "execution_count": 51,
   "metadata": {},
   "outputs": [
    {
     "data": {
      "text/plain": [
       "[1, 25, 75, 25, 15]"
      ]
     },
     "execution_count": 51,
     "metadata": {},
     "output_type": "execute_result"
    }
   ],
   "source": [
    "odds"
   ]
  },
  {
   "cell_type": "code",
   "execution_count": 53,
   "metadata": {},
   "outputs": [
    {
     "data": {
      "text/plain": [
       "[1, 25, 75, 25, 15]"
      ]
     },
     "execution_count": 53,
     "metadata": {},
     "output_type": "execute_result"
    }
   ],
   "source": [
    "[  i for i in liste2 if i % 2 != 0 ]"
   ]
  },
  {
   "cell_type": "code",
   "execution_count": 54,
   "metadata": {},
   "outputs": [
    {
     "data": {
      "text/plain": [
       "[1, 25, 75, 25, 15]"
      ]
     },
     "execution_count": 54,
     "metadata": {},
     "output_type": "execute_result"
    }
   ],
   "source": [
    "[  i for i in liste2 if i % 2 ]"
   ]
  },
  {
   "cell_type": "code",
   "execution_count": 57,
   "metadata": {},
   "outputs": [
    {
     "data": {
      "text/plain": [
       "1"
      ]
     },
     "execution_count": 57,
     "metadata": {},
     "output_type": "execute_result"
    }
   ],
   "source": [
    "3 % 2 # since in the upper example the answer is 1, python think of it as True"
   ]
  },
  {
   "cell_type": "code",
   "execution_count": 58,
   "metadata": {},
   "outputs": [
    {
     "name": "stdout",
     "output_type": "stream",
     "text": [
      "merhaba\n"
     ]
    }
   ],
   "source": [
    "if 1:\n",
    "    print(\"merhaba\")"
   ]
  },
  {
   "cell_type": "code",
   "execution_count": 59,
   "metadata": {},
   "outputs": [],
   "source": [
    "if 0:\n",
    "    print(\"merhaba\")\n"
   ]
  },
  {
   "cell_type": "code",
   "execution_count": 60,
   "metadata": {},
   "outputs": [
    {
     "name": "stdout",
     "output_type": "stream",
     "text": [
      "merhaba\n"
     ]
    }
   ],
   "source": [
    "if \"0\":\n",
    "    print(\"merhaba\")"
   ]
  },
  {
   "cell_type": "code",
   "execution_count": 61,
   "metadata": {},
   "outputs": [],
   "source": [
    "liste3 = [1,2,3,4,5,6,7,8,9]"
   ]
  },
  {
   "cell_type": "code",
   "execution_count": 62,
   "metadata": {},
   "outputs": [],
   "source": [
    "empty_list = []\n",
    "for i in liste3:\n",
    "    if i % 2:\n",
    "        empty_list.append(i)\n",
    "    else:\n",
    "        empty_list.append(i**2)"
   ]
  },
  {
   "cell_type": "code",
   "execution_count": 63,
   "metadata": {},
   "outputs": [
    {
     "data": {
      "text/plain": [
       "[1, 4, 3, 16, 5, 36, 7, 64, 9]"
      ]
     },
     "execution_count": 63,
     "metadata": {},
     "output_type": "execute_result"
    }
   ],
   "source": [
    "empty_list"
   ]
  },
  {
   "cell_type": "code",
   "execution_count": 64,
   "metadata": {},
   "outputs": [
    {
     "data": {
      "text/plain": [
       "[1, 4, 3, 16, 5, 36, 7, 64, 9]"
      ]
     },
     "execution_count": 64,
     "metadata": {},
     "output_type": "execute_result"
    }
   ],
   "source": [
    "[   i  if i % 2 == 1  else i ** 2     for i in liste3   ] # if we use only if, it comes to the right, if we use if and else"
   ]
  },
  {
   "cell_type": "code",
   "execution_count": 67,
   "metadata": {},
   "outputs": [
    {
     "data": {
      "text/plain": [
       "['merhaba', 'selam', 'selamaleykum', 'assalam', 'assalam']"
      ]
     },
     "execution_count": 67,
     "metadata": {},
     "output_type": "execute_result"
    }
   ],
   "source": [
    "l = [1, 2, 3, 4, 5]\n",
    "['merhaba' if v == 1 else 'selam' if v == 2 else 'selamaleykum' if v==3 else \"assalam\"   for v in l]"
   ]
  },
  {
   "cell_type": "code",
   "execution_count": 66,
   "metadata": {},
   "outputs": [
    {
     "data": {
      "text/plain": [
       "['yes', 'no', 'merhaba', 'merhaba', 'merhaba']"
      ]
     },
     "execution_count": 66,
     "metadata": {},
     "output_type": "execute_result"
    }
   ],
   "source": [
    "l = [1, 2, 3, 4, 5]\n",
    "['yes' if v == 1 else 'no' if v == 2 else 'merhaba' for v in l]\n"
   ]
  },
  {
   "cell_type": "code",
   "execution_count": 70,
   "metadata": {},
   "outputs": [],
   "source": [
    "liste4 = [\"renault?!\",\"fiat?!\",\"ford?!\"]"
   ]
  },
  {
   "cell_type": "code",
   "execution_count": 69,
   "metadata": {},
   "outputs": [
    {
     "data": {
      "text/plain": [
       "['renault?', 'fiat?', 'ford?']"
      ]
     },
     "execution_count": 69,
     "metadata": {},
     "output_type": "execute_result"
    }
   ],
   "source": [
    "liste4"
   ]
  },
  {
   "cell_type": "code",
   "execution_count": 71,
   "metadata": {},
   "outputs": [
    {
     "data": {
      "text/plain": [
       "['renault', 'fiat', 'ford']"
      ]
     },
     "execution_count": 71,
     "metadata": {},
     "output_type": "execute_result"
    }
   ],
   "source": [
    "[i.replace(\"?\",\"\").replace(\"!\",\"\")  for i in liste4]"
   ]
  },
  {
   "attachments": {},
   "cell_type": "markdown",
   "metadata": {},
   "source": [
    "### nested loop"
   ]
  },
  {
   "cell_type": "code",
   "execution_count": 72,
   "metadata": {},
   "outputs": [
    {
     "name": "stdout",
     "output_type": "stream",
     "text": [
      "Murat 1\n",
      "Murat 2\n",
      "Murat 3\n",
      "Murat 4\n",
      "Filiz 1\n",
      "Filiz 2\n",
      "Filiz 3\n",
      "Filiz 4\n",
      "Techpro 1\n",
      "Techpro 2\n",
      "Techpro 3\n",
      "Techpro 4\n"
     ]
    }
   ],
   "source": [
    "for i in [\"Murat\", \"Filiz\", \"Techpro\"]:\n",
    "    for j in [1,2,3,4,]:\n",
    "        print(i,j)\n"
   ]
  },
  {
   "cell_type": "code",
   "execution_count": 73,
   "metadata": {},
   "outputs": [
    {
     "name": "stdout",
     "output_type": "stream",
     "text": [
      "1 Murat\n",
      "1 Filiz\n",
      "1 Techpro\n",
      "2 Murat\n",
      "2 Filiz\n",
      "2 Techpro\n",
      "3 Murat\n",
      "3 Filiz\n",
      "3 Techpro\n",
      "4 Murat\n",
      "4 Filiz\n",
      "4 Techpro\n"
     ]
    }
   ],
   "source": [
    "for i in [1,2,3,4,]:\n",
    "    for j in [\"Murat\", \"Filiz\", \"Techpro\"]:\n",
    "        print(i,j)"
   ]
  },
  {
   "cell_type": "code",
   "execution_count": 74,
   "metadata": {},
   "outputs": [
    {
     "name": "stdout",
     "output_type": "stream",
     "text": [
      "1 5 9\n",
      "1 6 9\n",
      "1 7 9\n",
      "1 8 9\n",
      "2 5 9\n",
      "2 6 9\n",
      "2 7 9\n",
      "2 8 9\n",
      "3 5 9\n",
      "3 6 9\n",
      "3 7 9\n",
      "3 8 9\n",
      "4 5 9\n",
      "4 6 9\n",
      "4 7 9\n",
      "4 8 9\n"
     ]
    }
   ],
   "source": [
    "for i in [1,2,3,4]:\n",
    "    for j in [5,6,7,8]:\n",
    "        for z in [9]:\n",
    "            print(i,j,z)"
   ]
  },
  {
   "cell_type": "code",
   "execution_count": 75,
   "metadata": {},
   "outputs": [
    {
     "name": "stdout",
     "output_type": "stream",
     "text": [
      "1 5 9\n",
      "1 5 0\n",
      "1 6 9\n",
      "1 6 0\n",
      "1 7 9\n",
      "1 7 0\n",
      "1 8 9\n",
      "1 8 0\n",
      "2 5 9\n",
      "2 5 0\n",
      "2 6 9\n",
      "2 6 0\n",
      "2 7 9\n",
      "2 7 0\n",
      "2 8 9\n",
      "2 8 0\n",
      "3 5 9\n",
      "3 5 0\n",
      "3 6 9\n",
      "3 6 0\n",
      "3 7 9\n",
      "3 7 0\n",
      "3 8 9\n",
      "3 8 0\n",
      "4 5 9\n",
      "4 5 0\n",
      "4 6 9\n",
      "4 6 0\n",
      "4 7 9\n",
      "4 7 0\n",
      "4 8 9\n",
      "4 8 0\n"
     ]
    }
   ],
   "source": [
    "for i in [1,2,3,4]:\n",
    "    for j in [5,6,7,8]:\n",
    "        for z in [9,0]:\n",
    "            print(i,j,z)"
   ]
  },
  {
   "cell_type": "code",
   "execution_count": 77,
   "metadata": {},
   "outputs": [
    {
     "name": "stdout",
     "output_type": "stream",
     "text": [
      "1 x 0 = 0\n",
      "1 x 1 = 1\n",
      "1 x 2 = 2\n",
      "1 x 3 = 3\n",
      "1 x 4 = 4\n",
      "1 x 5 = 5\n",
      "1 x 6 = 6\n",
      "1 x 7 = 7\n",
      "1 x 8 = 8\n",
      "1 x 9 = 9\n"
     ]
    }
   ],
   "source": [
    "for i in range(1,2):\n",
    "    for j in range(10):\n",
    "        print(f\"{i} x {j} = {i*j}\")"
   ]
  },
  {
   "cell_type": "code",
   "execution_count": 88,
   "metadata": {},
   "outputs": [
    {
     "name": "stdout",
     "output_type": "stream",
     "text": [
      "girdiginiz sayi 407 bir armstrong sayisi\n"
     ]
    }
   ],
   "source": [
    "x = input(\"\"\"Armstrong sayisini belirleyen programimiza hos geldiniz,\n",
    "              kac basamakli bir sayi giriniz\"\"\")\n",
    "power = len(x)\n",
    "sayi = 0\n",
    "for i in x: # a = sum([int(i)**power  for i in x])\n",
    "    sayi += int(i)**power\n",
    "if int(x) == sayi:\n",
    "    print(f\"girdiginiz sayi {int(x)} bir armstrong sayisi\")\n",
    "else:\n",
    "    print(f\"girdiginiz sayi {int(x)} armstrong sayisi degil\")\n"
   ]
  },
  {
   "cell_type": "code",
   "execution_count": 89,
   "metadata": {},
   "outputs": [
    {
     "name": "stdout",
     "output_type": "stream",
     "text": [
      "girdiginiz sayi 407 bir armstrong sayisi\n"
     ]
    }
   ],
   "source": [
    "x = input(\"\"\"Armstrong sayisini belirleyen programimiza hos geldiniz,\n",
    "              kac basamakli bir sayi giriniz\"\"\")\n",
    "power = len(x)\n",
    "sayi = 0\n",
    "a = sum([int(i)**power  for i in x])\n",
    "if int(x) == a:\n",
    "    print(f\"girdiginiz sayi {int(x)} bir armstrong sayisi\")\n",
    "else:\n",
    "    print(f\"girdiginiz sayi {int(x)} armstrong sayisi degil\")"
   ]
  },
  {
   "attachments": {},
   "cell_type": "markdown",
   "metadata": {},
   "source": [
    "### 10 ile 10000 arasindaki armstrong sayilari bulur"
   ]
  },
  {
   "cell_type": "code",
   "execution_count": 92,
   "metadata": {},
   "outputs": [
    {
     "data": {
      "text/plain": [
       "[153, 370, 371, 407, 1634, 8208, 9474]"
      ]
     },
     "execution_count": 92,
     "metadata": {},
     "output_type": "execute_result"
    }
   ],
   "source": [
    "\n",
    "bosliste = []\n",
    "for x in range(10,10001):\n",
    "    power = len(str(x))\n",
    "    toplam = 0\n",
    "    for i in str(x): # here i is a string, just be cautious\n",
    "        toplam += int(i)**power\n",
    "    if int(x) == toplam:\n",
    "        bosliste.append(x)\n",
    "bosliste"
   ]
  },
  {
   "cell_type": "code",
   "execution_count": 95,
   "metadata": {},
   "outputs": [
    {
     "data": {
      "text/plain": [
       "[153, 370, 371, 407, 1634, 8208, 9474]"
      ]
     },
     "execution_count": 95,
     "metadata": {},
     "output_type": "execute_result"
    }
   ],
   "source": [
    "bosliste = []\n",
    "for x in range(10,10001):\n",
    "    power = len(str(x))\n",
    "    toplam = 0\n",
    "    for i in str(x):\n",
    "        toplam += int(i)**power\n",
    "    if int(x) == toplam:\n",
    "        bosliste.append(x)\n",
    "bosliste"
   ]
  },
  {
   "cell_type": "code",
   "execution_count": 101,
   "metadata": {},
   "outputs": [
    {
     "data": {
      "text/plain": [
       "[153, 370, 371, 407, 1634, 8208, 9474]"
      ]
     },
     "execution_count": 101,
     "metadata": {},
     "output_type": "execute_result"
    }
   ],
   "source": [
    "empty_list_1 = []\n",
    "for x in range(10,10001):\n",
    "    uzunluk = len(str(x))\n",
    "\n",
    "    toplam = sum([int(i) ** uzunluk for i in str(x)])\n",
    "    \n",
    "    if toplam == int(x):\n",
    "        empty_list_1.append(x)\n",
    "\n",
    "empty_list_1"
   ]
  },
  {
   "cell_type": "code",
   "execution_count": null,
   "metadata": {},
   "outputs": [],
   "source": []
  }
 ],
 "metadata": {
  "kernelspec": {
   "display_name": "Python 3",
   "language": "python",
   "name": "python3"
  },
  "language_info": {
   "codemirror_mode": {
    "name": "ipython",
    "version": 3
   },
   "file_extension": ".py",
   "mimetype": "text/x-python",
   "name": "python",
   "nbconvert_exporter": "python",
   "pygments_lexer": "ipython3",
   "version": "3.11.1"
  },
  "orig_nbformat": 4,
  "vscode": {
   "interpreter": {
    "hash": "968820a3b983eb7005df49aeeaf73007353c9cb3d103916a2baacfe454d17933"
   }
  }
 },
 "nbformat": 4,
 "nbformat_minor": 2
}
